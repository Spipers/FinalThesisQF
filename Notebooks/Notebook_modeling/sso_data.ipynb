{
 "cells": [
  {
   "cell_type": "code",
   "execution_count": 2,
   "metadata": {},
   "outputs": [
    {
     "data": {
      "application/javascript": "(function(root) {\n  function now() {\n    return new Date();\n  }\n\n  var force = true;\n  var py_version = '3.3.3'.replace('rc', '-rc.').replace('.dev', '-dev.');\n  var reloading = false;\n  var Bokeh = root.Bokeh;\n\n  if (typeof (root._bokeh_timeout) === \"undefined\" || force) {\n    root._bokeh_timeout = Date.now() + 5000;\n    root._bokeh_failed_load = false;\n  }\n\n  function run_callbacks() {\n    try {\n      root._bokeh_onload_callbacks.forEach(function(callback) {\n        if (callback != null)\n          callback();\n      });\n    } finally {\n      delete root._bokeh_onload_callbacks;\n    }\n    console.debug(\"Bokeh: all callbacks have finished\");\n  }\n\n  function load_libs(css_urls, js_urls, js_modules, js_exports, callback) {\n    if (css_urls == null) css_urls = [];\n    if (js_urls == null) js_urls = [];\n    if (js_modules == null) js_modules = [];\n    if (js_exports == null) js_exports = {};\n\n    root._bokeh_onload_callbacks.push(callback);\n\n    if (root._bokeh_is_loading > 0) {\n      console.debug(\"Bokeh: BokehJS is being loaded, scheduling callback at\", now());\n      return null;\n    }\n    if (js_urls.length === 0 && js_modules.length === 0 && Object.keys(js_exports).length === 0) {\n      run_callbacks();\n      return null;\n    }\n    if (!reloading) {\n      console.debug(\"Bokeh: BokehJS not loaded, scheduling load and callback at\", now());\n    }\n\n    function on_load() {\n      root._bokeh_is_loading--;\n      if (root._bokeh_is_loading === 0) {\n        console.debug(\"Bokeh: all BokehJS libraries/stylesheets loaded\");\n        run_callbacks()\n      }\n    }\n    window._bokeh_on_load = on_load\n\n    function on_error() {\n      console.error(\"failed to load \" + url);\n    }\n\n    var skip = [];\n    if (window.requirejs) {\n      window.requirejs.config({'packages': {}, 'paths': {'jspanel': 'https://cdn.jsdelivr.net/npm/jspanel4@4.12.0/dist/jspanel', 'jspanel-modal': 'https://cdn.jsdelivr.net/npm/jspanel4@4.12.0/dist/extensions/modal/jspanel.modal', 'jspanel-tooltip': 'https://cdn.jsdelivr.net/npm/jspanel4@4.12.0/dist/extensions/tooltip/jspanel.tooltip', 'jspanel-hint': 'https://cdn.jsdelivr.net/npm/jspanel4@4.12.0/dist/extensions/hint/jspanel.hint', 'jspanel-layout': 'https://cdn.jsdelivr.net/npm/jspanel4@4.12.0/dist/extensions/layout/jspanel.layout', 'jspanel-contextmenu': 'https://cdn.jsdelivr.net/npm/jspanel4@4.12.0/dist/extensions/contextmenu/jspanel.contextmenu', 'jspanel-dock': 'https://cdn.jsdelivr.net/npm/jspanel4@4.12.0/dist/extensions/dock/jspanel.dock', 'gridstack': 'https://cdn.jsdelivr.net/npm/gridstack@7.2.3/dist/gridstack-all', 'notyf': 'https://cdn.jsdelivr.net/npm/notyf@3/notyf.min'}, 'shim': {'jspanel': {'exports': 'jsPanel'}, 'gridstack': {'exports': 'GridStack'}}});\n      require([\"jspanel\"], function(jsPanel) {\n\twindow.jsPanel = jsPanel\n\ton_load()\n      })\n      require([\"jspanel-modal\"], function() {\n\ton_load()\n      })\n      require([\"jspanel-tooltip\"], function() {\n\ton_load()\n      })\n      require([\"jspanel-hint\"], function() {\n\ton_load()\n      })\n      require([\"jspanel-layout\"], function() {\n\ton_load()\n      })\n      require([\"jspanel-contextmenu\"], function() {\n\ton_load()\n      })\n      require([\"jspanel-dock\"], function() {\n\ton_load()\n      })\n      require([\"gridstack\"], function(GridStack) {\n\twindow.GridStack = GridStack\n\ton_load()\n      })\n      require([\"notyf\"], function() {\n\ton_load()\n      })\n      root._bokeh_is_loading = css_urls.length + 9;\n    } else {\n      root._bokeh_is_loading = css_urls.length + js_urls.length + js_modules.length + Object.keys(js_exports).length;\n    }\n\n    var existing_stylesheets = []\n    var links = document.getElementsByTagName('link')\n    for (var i = 0; i < links.length; i++) {\n      var link = links[i]\n      if (link.href != null) {\n\texisting_stylesheets.push(link.href)\n      }\n    }\n    for (var i = 0; i < css_urls.length; i++) {\n      var url = css_urls[i];\n      if (existing_stylesheets.indexOf(url) !== -1) {\n\ton_load()\n\tcontinue;\n      }\n      const element = document.createElement(\"link\");\n      element.onload = on_load;\n      element.onerror = on_error;\n      element.rel = \"stylesheet\";\n      element.type = \"text/css\";\n      element.href = url;\n      console.debug(\"Bokeh: injecting link tag for BokehJS stylesheet: \", url);\n      document.body.appendChild(element);\n    }    if (((window['jsPanel'] !== undefined) && (!(window['jsPanel'] instanceof HTMLElement))) || window.requirejs) {\n      var urls = ['https://cdn.holoviz.org/panel/1.3.6/dist/bundled/floatpanel/jspanel4@4.12.0/dist/jspanel.js', 'https://cdn.holoviz.org/panel/1.3.6/dist/bundled/floatpanel/jspanel4@4.12.0/dist/extensions/modal/jspanel.modal.js', 'https://cdn.holoviz.org/panel/1.3.6/dist/bundled/floatpanel/jspanel4@4.12.0/dist/extensions/tooltip/jspanel.tooltip.js', 'https://cdn.holoviz.org/panel/1.3.6/dist/bundled/floatpanel/jspanel4@4.12.0/dist/extensions/hint/jspanel.hint.js', 'https://cdn.holoviz.org/panel/1.3.6/dist/bundled/floatpanel/jspanel4@4.12.0/dist/extensions/layout/jspanel.layout.js', 'https://cdn.holoviz.org/panel/1.3.6/dist/bundled/floatpanel/jspanel4@4.12.0/dist/extensions/contextmenu/jspanel.contextmenu.js', 'https://cdn.holoviz.org/panel/1.3.6/dist/bundled/floatpanel/jspanel4@4.12.0/dist/extensions/dock/jspanel.dock.js'];\n      for (var i = 0; i < urls.length; i++) {\n        skip.push(urls[i])\n      }\n    }    if (((window['GridStack'] !== undefined) && (!(window['GridStack'] instanceof HTMLElement))) || window.requirejs) {\n      var urls = ['https://cdn.holoviz.org/panel/1.3.6/dist/bundled/gridstack/gridstack@7.2.3/dist/gridstack-all.js'];\n      for (var i = 0; i < urls.length; i++) {\n        skip.push(urls[i])\n      }\n    }    if (((window['Notyf'] !== undefined) && (!(window['Notyf'] instanceof HTMLElement))) || window.requirejs) {\n      var urls = ['https://cdn.holoviz.org/panel/1.3.6/dist/bundled/notificationarea/notyf@3/notyf.min.js'];\n      for (var i = 0; i < urls.length; i++) {\n        skip.push(urls[i])\n      }\n    }    var existing_scripts = []\n    var scripts = document.getElementsByTagName('script')\n    for (var i = 0; i < scripts.length; i++) {\n      var script = scripts[i]\n      if (script.src != null) {\n\texisting_scripts.push(script.src)\n      }\n    }\n    for (var i = 0; i < js_urls.length; i++) {\n      var url = js_urls[i];\n      if (skip.indexOf(url) !== -1 || existing_scripts.indexOf(url) !== -1) {\n\tif (!window.requirejs) {\n\t  on_load();\n\t}\n\tcontinue;\n      }\n      var element = document.createElement('script');\n      element.onload = on_load;\n      element.onerror = on_error;\n      element.async = false;\n      element.src = url;\n      console.debug(\"Bokeh: injecting script tag for BokehJS library: \", url);\n      document.head.appendChild(element);\n    }\n    for (var i = 0; i < js_modules.length; i++) {\n      var url = js_modules[i];\n      if (skip.indexOf(url) !== -1 || existing_scripts.indexOf(url) !== -1) {\n\tif (!window.requirejs) {\n\t  on_load();\n\t}\n\tcontinue;\n      }\n      var element = document.createElement('script');\n      element.onload = on_load;\n      element.onerror = on_error;\n      element.async = false;\n      element.src = url;\n      element.type = \"module\";\n      console.debug(\"Bokeh: injecting script tag for BokehJS library: \", url);\n      document.head.appendChild(element);\n    }\n    for (const name in js_exports) {\n      var url = js_exports[name];\n      if (skip.indexOf(url) >= 0 || root[name] != null) {\n\tif (!window.requirejs) {\n\t  on_load();\n\t}\n\tcontinue;\n      }\n      var element = document.createElement('script');\n      element.onerror = on_error;\n      element.async = false;\n      element.type = \"module\";\n      console.debug(\"Bokeh: injecting script tag for BokehJS library: \", url);\n      element.textContent = `\n      import ${name} from \"${url}\"\n      window.${name} = ${name}\n      window._bokeh_on_load()\n      `\n      document.head.appendChild(element);\n    }\n    if (!js_urls.length && !js_modules.length) {\n      on_load()\n    }\n  };\n\n  function inject_raw_css(css) {\n    const element = document.createElement(\"style\");\n    element.appendChild(document.createTextNode(css));\n    document.body.appendChild(element);\n  }\n\n  var js_urls = [\"https://cdn.bokeh.org/bokeh/release/bokeh-3.3.3.min.js\", \"https://cdn.bokeh.org/bokeh/release/bokeh-gl-3.3.3.min.js\", \"https://cdn.bokeh.org/bokeh/release/bokeh-widgets-3.3.3.min.js\", \"https://cdn.bokeh.org/bokeh/release/bokeh-tables-3.3.3.min.js\", \"https://cdn.holoviz.org/panel/1.3.6/dist/panel.min.js\"];\n  var js_modules = [];\n  var js_exports = {};\n  var css_urls = [];\n  var inline_js = [    function(Bokeh) {\n      Bokeh.set_log_level(\"info\");\n    },\nfunction(Bokeh) {} // ensure no trailing comma for IE\n  ];\n\n  function run_inline_js() {\n    if ((root.Bokeh !== undefined) || (force === true)) {\n      for (var i = 0; i < inline_js.length; i++) {\n\ttry {\n          inline_js[i].call(root, root.Bokeh);\n\t} catch(e) {\n\t  if (!reloading) {\n\t    throw e;\n\t  }\n\t}\n      }\n      // Cache old bokeh versions\n      if (Bokeh != undefined && !reloading) {\n\tvar NewBokeh = root.Bokeh;\n\tif (Bokeh.versions === undefined) {\n\t  Bokeh.versions = new Map();\n\t}\n\tif (NewBokeh.version !== Bokeh.version) {\n\t  Bokeh.versions.set(NewBokeh.version, NewBokeh)\n\t}\n\troot.Bokeh = Bokeh;\n      }} else if (Date.now() < root._bokeh_timeout) {\n      setTimeout(run_inline_js, 100);\n    } else if (!root._bokeh_failed_load) {\n      console.log(\"Bokeh: BokehJS failed to load within specified timeout.\");\n      root._bokeh_failed_load = true;\n    }\n    root._bokeh_is_initializing = false\n  }\n\n  function load_or_wait() {\n    // Implement a backoff loop that tries to ensure we do not load multiple\n    // versions of Bokeh and its dependencies at the same time.\n    // In recent versions we use the root._bokeh_is_initializing flag\n    // to determine whether there is an ongoing attempt to initialize\n    // bokeh, however for backward compatibility we also try to ensure\n    // that we do not start loading a newer (Panel>=1.0 and Bokeh>3) version\n    // before older versions are fully initialized.\n    if (root._bokeh_is_initializing && Date.now() > root._bokeh_timeout) {\n      root._bokeh_is_initializing = false;\n      root._bokeh_onload_callbacks = undefined;\n      console.log(\"Bokeh: BokehJS was loaded multiple times but one version failed to initialize.\");\n      load_or_wait();\n    } else if (root._bokeh_is_initializing || (typeof root._bokeh_is_initializing === \"undefined\" && root._bokeh_onload_callbacks !== undefined)) {\n      setTimeout(load_or_wait, 100);\n    } else {\n      root._bokeh_is_initializing = true\n      root._bokeh_onload_callbacks = []\n      var bokeh_loaded = Bokeh != null && (Bokeh.version === py_version || (Bokeh.versions !== undefined && Bokeh.versions.has(py_version)));\n      if (!reloading && !bokeh_loaded) {\n\troot.Bokeh = undefined;\n      }\n      load_libs(css_urls, js_urls, js_modules, js_exports, function() {\n\tconsole.debug(\"Bokeh: BokehJS plotting callback run at\", now());\n\trun_inline_js();\n      });\n    }\n  }\n  // Give older versions of the autoload script a head-start to ensure\n  // they initialize before we start loading newer version.\n  setTimeout(load_or_wait, 100)\n}(window));",
      "application/vnd.holoviews_load.v0+json": ""
     },
     "metadata": {},
     "output_type": "display_data"
    },
    {
     "data": {
      "application/javascript": "\nif ((window.PyViz === undefined) || (window.PyViz instanceof HTMLElement)) {\n  window.PyViz = {comms: {}, comm_status:{}, kernels:{}, receivers: {}, plot_index: []}\n}\n\n\n    function JupyterCommManager() {\n    }\n\n    JupyterCommManager.prototype.register_target = function(plot_id, comm_id, msg_handler) {\n      if (window.comm_manager || ((window.Jupyter !== undefined) && (Jupyter.notebook.kernel != null))) {\n        var comm_manager = window.comm_manager || Jupyter.notebook.kernel.comm_manager;\n        comm_manager.register_target(comm_id, function(comm) {\n          comm.on_msg(msg_handler);\n        });\n      } else if ((plot_id in window.PyViz.kernels) && (window.PyViz.kernels[plot_id])) {\n        window.PyViz.kernels[plot_id].registerCommTarget(comm_id, function(comm) {\n          comm.onMsg = msg_handler;\n        });\n      } else if (typeof google != 'undefined' && google.colab.kernel != null) {\n        google.colab.kernel.comms.registerTarget(comm_id, (comm) => {\n          var messages = comm.messages[Symbol.asyncIterator]();\n          function processIteratorResult(result) {\n            var message = result.value;\n            console.log(message)\n            var content = {data: message.data, comm_id};\n            var buffers = []\n            for (var buffer of message.buffers || []) {\n              buffers.push(new DataView(buffer))\n            }\n            var metadata = message.metadata || {};\n            var msg = {content, buffers, metadata}\n            msg_handler(msg);\n            return messages.next().then(processIteratorResult);\n          }\n          return messages.next().then(processIteratorResult);\n        })\n      }\n    }\n\n    JupyterCommManager.prototype.get_client_comm = function(plot_id, comm_id, msg_handler) {\n      if (comm_id in window.PyViz.comms) {\n        return window.PyViz.comms[comm_id];\n      } else if (window.comm_manager || ((window.Jupyter !== undefined) && (Jupyter.notebook.kernel != null))) {\n        var comm_manager = window.comm_manager || Jupyter.notebook.kernel.comm_manager;\n        var comm = comm_manager.new_comm(comm_id, {}, {}, {}, comm_id);\n        if (msg_handler) {\n          comm.on_msg(msg_handler);\n        }\n      } else if ((plot_id in window.PyViz.kernels) && (window.PyViz.kernels[plot_id])) {\n        var comm = window.PyViz.kernels[plot_id].connectToComm(comm_id);\n        comm.open();\n        if (msg_handler) {\n          comm.onMsg = msg_handler;\n        }\n      } else if (typeof google != 'undefined' && google.colab.kernel != null) {\n        var comm_promise = google.colab.kernel.comms.open(comm_id)\n        comm_promise.then((comm) => {\n          window.PyViz.comms[comm_id] = comm;\n          if (msg_handler) {\n            var messages = comm.messages[Symbol.asyncIterator]();\n            function processIteratorResult(result) {\n              var message = result.value;\n              var content = {data: message.data};\n              var metadata = message.metadata || {comm_id};\n              var msg = {content, metadata}\n              msg_handler(msg);\n              return messages.next().then(processIteratorResult);\n            }\n            return messages.next().then(processIteratorResult);\n          }\n        }) \n        var sendClosure = (data, metadata, buffers, disposeOnDone) => {\n          return comm_promise.then((comm) => {\n            comm.send(data, metadata, buffers, disposeOnDone);\n          });\n        };\n        var comm = {\n          send: sendClosure\n        };\n      }\n      window.PyViz.comms[comm_id] = comm;\n      return comm;\n    }\n    window.PyViz.comm_manager = new JupyterCommManager();\n    \n\n\nvar JS_MIME_TYPE = 'application/javascript';\nvar HTML_MIME_TYPE = 'text/html';\nvar EXEC_MIME_TYPE = 'application/vnd.holoviews_exec.v0+json';\nvar CLASS_NAME = 'output';\n\n/**\n * Render data to the DOM node\n */\nfunction render(props, node) {\n  var div = document.createElement(\"div\");\n  var script = document.createElement(\"script\");\n  node.appendChild(div);\n  node.appendChild(script);\n}\n\n/**\n * Handle when a new output is added\n */\nfunction handle_add_output(event, handle) {\n  var output_area = handle.output_area;\n  var output = handle.output;\n  if ((output.data == undefined) || (!output.data.hasOwnProperty(EXEC_MIME_TYPE))) {\n    return\n  }\n  var id = output.metadata[EXEC_MIME_TYPE][\"id\"];\n  var toinsert = output_area.element.find(\".\" + CLASS_NAME.split(' ')[0]);\n  if (id !== undefined) {\n    var nchildren = toinsert.length;\n    var html_node = toinsert[nchildren-1].children[0];\n    html_node.innerHTML = output.data[HTML_MIME_TYPE];\n    var scripts = [];\n    var nodelist = html_node.querySelectorAll(\"script\");\n    for (var i in nodelist) {\n      if (nodelist.hasOwnProperty(i)) {\n        scripts.push(nodelist[i])\n      }\n    }\n\n    scripts.forEach( function (oldScript) {\n      var newScript = document.createElement(\"script\");\n      var attrs = [];\n      var nodemap = oldScript.attributes;\n      for (var j in nodemap) {\n        if (nodemap.hasOwnProperty(j)) {\n          attrs.push(nodemap[j])\n        }\n      }\n      attrs.forEach(function(attr) { newScript.setAttribute(attr.name, attr.value) });\n      newScript.appendChild(document.createTextNode(oldScript.innerHTML));\n      oldScript.parentNode.replaceChild(newScript, oldScript);\n    });\n    if (JS_MIME_TYPE in output.data) {\n      toinsert[nchildren-1].children[1].textContent = output.data[JS_MIME_TYPE];\n    }\n    output_area._hv_plot_id = id;\n    if ((window.Bokeh !== undefined) && (id in Bokeh.index)) {\n      window.PyViz.plot_index[id] = Bokeh.index[id];\n    } else {\n      window.PyViz.plot_index[id] = null;\n    }\n  } else if (output.metadata[EXEC_MIME_TYPE][\"server_id\"] !== undefined) {\n    var bk_div = document.createElement(\"div\");\n    bk_div.innerHTML = output.data[HTML_MIME_TYPE];\n    var script_attrs = bk_div.children[0].attributes;\n    for (var i = 0; i < script_attrs.length; i++) {\n      toinsert[toinsert.length - 1].childNodes[1].setAttribute(script_attrs[i].name, script_attrs[i].value);\n    }\n    // store reference to server id on output_area\n    output_area._bokeh_server_id = output.metadata[EXEC_MIME_TYPE][\"server_id\"];\n  }\n}\n\n/**\n * Handle when an output is cleared or removed\n */\nfunction handle_clear_output(event, handle) {\n  var id = handle.cell.output_area._hv_plot_id;\n  var server_id = handle.cell.output_area._bokeh_server_id;\n  if (((id === undefined) || !(id in PyViz.plot_index)) && (server_id !== undefined)) { return; }\n  var comm = window.PyViz.comm_manager.get_client_comm(\"hv-extension-comm\", \"hv-extension-comm\", function () {});\n  if (server_id !== null) {\n    comm.send({event_type: 'server_delete', 'id': server_id});\n    return;\n  } else if (comm !== null) {\n    comm.send({event_type: 'delete', 'id': id});\n  }\n  delete PyViz.plot_index[id];\n  if ((window.Bokeh !== undefined) & (id in window.Bokeh.index)) {\n    var doc = window.Bokeh.index[id].model.document\n    doc.clear();\n    const i = window.Bokeh.documents.indexOf(doc);\n    if (i > -1) {\n      window.Bokeh.documents.splice(i, 1);\n    }\n  }\n}\n\n/**\n * Handle kernel restart event\n */\nfunction handle_kernel_cleanup(event, handle) {\n  delete PyViz.comms[\"hv-extension-comm\"];\n  window.PyViz.plot_index = {}\n}\n\n/**\n * Handle update_display_data messages\n */\nfunction handle_update_output(event, handle) {\n  handle_clear_output(event, {cell: {output_area: handle.output_area}})\n  handle_add_output(event, handle)\n}\n\nfunction register_renderer(events, OutputArea) {\n  function append_mime(data, metadata, element) {\n    // create a DOM node to render to\n    var toinsert = this.create_output_subarea(\n    metadata,\n    CLASS_NAME,\n    EXEC_MIME_TYPE\n    );\n    this.keyboard_manager.register_events(toinsert);\n    // Render to node\n    var props = {data: data, metadata: metadata[EXEC_MIME_TYPE]};\n    render(props, toinsert[0]);\n    element.append(toinsert);\n    return toinsert\n  }\n\n  events.on('output_added.OutputArea', handle_add_output);\n  events.on('output_updated.OutputArea', handle_update_output);\n  events.on('clear_output.CodeCell', handle_clear_output);\n  events.on('delete.Cell', handle_clear_output);\n  events.on('kernel_ready.Kernel', handle_kernel_cleanup);\n\n  OutputArea.prototype.register_mime_type(EXEC_MIME_TYPE, append_mime, {\n    safe: true,\n    index: 0\n  });\n}\n\nif (window.Jupyter !== undefined) {\n  try {\n    var events = require('base/js/events');\n    var OutputArea = require('notebook/js/outputarea').OutputArea;\n    if (OutputArea.prototype.mime_types().indexOf(EXEC_MIME_TYPE) == -1) {\n      register_renderer(events, OutputArea);\n    }\n  } catch(err) {\n  }\n}\n",
      "application/vnd.holoviews_load.v0+json": ""
     },
     "metadata": {},
     "output_type": "display_data"
    },
    {
     "data": {
      "text/html": [
       "<style>*[data-root-id],\n",
       "*[data-root-id] > * {\n",
       "  box-sizing: border-box;\n",
       "  font-family: var(--jp-ui-font-family);\n",
       "  font-size: var(--jp-ui-font-size1);\n",
       "  color: var(--vscode-editor-foreground, var(--jp-ui-font-color1));\n",
       "}\n",
       "\n",
       "/* Override VSCode background color */\n",
       ".cell-output-ipywidget-background:has(\n",
       "    > .cell-output-ipywidget-background > .lm-Widget > *[data-root-id]\n",
       "  ),\n",
       ".cell-output-ipywidget-background:has(> .lm-Widget > *[data-root-id]) {\n",
       "  background-color: transparent !important;\n",
       "}\n",
       "</style>"
      ]
     },
     "metadata": {},
     "output_type": "display_data"
    },
    {
     "data": {
      "application/vnd.holoviews_exec.v0+json": "",
      "text/html": [
       "<div id='p1002'>\n",
       "  <div id=\"e0a3d72b-3178-4768-ad8b-94d30ca980e0\" data-root-id=\"p1002\" style=\"display: contents;\"></div>\n",
       "</div>\n",
       "<script type=\"application/javascript\">(function(root) {\n",
       "  var docs_json = {\"74406d88-e25d-44fa-82ef-60eedca82302\":{\"version\":\"3.3.3\",\"title\":\"Bokeh Application\",\"roots\":[{\"type\":\"object\",\"name\":\"panel.models.browser.BrowserInfo\",\"id\":\"p1002\"},{\"type\":\"object\",\"name\":\"panel.models.comm_manager.CommManager\",\"id\":\"p1003\",\"attributes\":{\"plot_id\":\"p1002\",\"comm_id\":\"067072f559f2445e9e790c088c2eaca7\",\"client_comm_id\":\"1b51e37dc0c0490dbc3445856fd0eb5d\"}}],\"defs\":[{\"type\":\"model\",\"name\":\"ReactiveHTML1\"},{\"type\":\"model\",\"name\":\"FlexBox1\",\"properties\":[{\"name\":\"align_content\",\"kind\":\"Any\",\"default\":\"flex-start\"},{\"name\":\"align_items\",\"kind\":\"Any\",\"default\":\"flex-start\"},{\"name\":\"flex_direction\",\"kind\":\"Any\",\"default\":\"row\"},{\"name\":\"flex_wrap\",\"kind\":\"Any\",\"default\":\"wrap\"},{\"name\":\"justify_content\",\"kind\":\"Any\",\"default\":\"flex-start\"}]},{\"type\":\"model\",\"name\":\"FloatPanel1\",\"properties\":[{\"name\":\"config\",\"kind\":\"Any\",\"default\":{\"type\":\"map\"}},{\"name\":\"contained\",\"kind\":\"Any\",\"default\":true},{\"name\":\"position\",\"kind\":\"Any\",\"default\":\"right-top\"},{\"name\":\"offsetx\",\"kind\":\"Any\",\"default\":null},{\"name\":\"offsety\",\"kind\":\"Any\",\"default\":null},{\"name\":\"theme\",\"kind\":\"Any\",\"default\":\"primary\"},{\"name\":\"status\",\"kind\":\"Any\",\"default\":\"normalized\"}]},{\"type\":\"model\",\"name\":\"GridStack1\",\"properties\":[{\"name\":\"mode\",\"kind\":\"Any\",\"default\":\"warn\"},{\"name\":\"ncols\",\"kind\":\"Any\",\"default\":null},{\"name\":\"nrows\",\"kind\":\"Any\",\"default\":null},{\"name\":\"allow_resize\",\"kind\":\"Any\",\"default\":true},{\"name\":\"allow_drag\",\"kind\":\"Any\",\"default\":true},{\"name\":\"state\",\"kind\":\"Any\",\"default\":[]}]},{\"type\":\"model\",\"name\":\"drag1\",\"properties\":[{\"name\":\"slider_width\",\"kind\":\"Any\",\"default\":5},{\"name\":\"slider_color\",\"kind\":\"Any\",\"default\":\"black\"},{\"name\":\"value\",\"kind\":\"Any\",\"default\":50}]},{\"type\":\"model\",\"name\":\"click1\",\"properties\":[{\"name\":\"terminal_output\",\"kind\":\"Any\",\"default\":\"\"},{\"name\":\"debug_name\",\"kind\":\"Any\",\"default\":\"\"},{\"name\":\"clears\",\"kind\":\"Any\",\"default\":0}]},{\"type\":\"model\",\"name\":\"copy_to_clipboard1\",\"properties\":[{\"name\":\"fill\",\"kind\":\"Any\",\"default\":\"none\"},{\"name\":\"value\",\"kind\":\"Any\",\"default\":null}]},{\"type\":\"model\",\"name\":\"FastWrapper1\",\"properties\":[{\"name\":\"object\",\"kind\":\"Any\",\"default\":null},{\"name\":\"style\",\"kind\":\"Any\",\"default\":null}]},{\"type\":\"model\",\"name\":\"NotificationAreaBase1\",\"properties\":[{\"name\":\"js_events\",\"kind\":\"Any\",\"default\":{\"type\":\"map\"}},{\"name\":\"position\",\"kind\":\"Any\",\"default\":\"bottom-right\"},{\"name\":\"_clear\",\"kind\":\"Any\",\"default\":0}]},{\"type\":\"model\",\"name\":\"NotificationArea1\",\"properties\":[{\"name\":\"js_events\",\"kind\":\"Any\",\"default\":{\"type\":\"map\"}},{\"name\":\"notifications\",\"kind\":\"Any\",\"default\":[]},{\"name\":\"position\",\"kind\":\"Any\",\"default\":\"bottom-right\"},{\"name\":\"_clear\",\"kind\":\"Any\",\"default\":0},{\"name\":\"types\",\"kind\":\"Any\",\"default\":[{\"type\":\"map\",\"entries\":[[\"type\",\"warning\"],[\"background\",\"#ffc107\"],[\"icon\",{\"type\":\"map\",\"entries\":[[\"className\",\"fas fa-exclamation-triangle\"],[\"tagName\",\"i\"],[\"color\",\"white\"]]}]]},{\"type\":\"map\",\"entries\":[[\"type\",\"info\"],[\"background\",\"#007bff\"],[\"icon\",{\"type\":\"map\",\"entries\":[[\"className\",\"fas fa-info-circle\"],[\"tagName\",\"i\"],[\"color\",\"white\"]]}]]}]}]},{\"type\":\"model\",\"name\":\"Notification\",\"properties\":[{\"name\":\"background\",\"kind\":\"Any\",\"default\":null},{\"name\":\"duration\",\"kind\":\"Any\",\"default\":3000},{\"name\":\"icon\",\"kind\":\"Any\",\"default\":null},{\"name\":\"message\",\"kind\":\"Any\",\"default\":\"\"},{\"name\":\"notification_type\",\"kind\":\"Any\",\"default\":null},{\"name\":\"_destroyed\",\"kind\":\"Any\",\"default\":false}]},{\"type\":\"model\",\"name\":\"TemplateActions1\",\"properties\":[{\"name\":\"open_modal\",\"kind\":\"Any\",\"default\":0},{\"name\":\"close_modal\",\"kind\":\"Any\",\"default\":0}]},{\"type\":\"model\",\"name\":\"BootstrapTemplateActions1\",\"properties\":[{\"name\":\"open_modal\",\"kind\":\"Any\",\"default\":0},{\"name\":\"close_modal\",\"kind\":\"Any\",\"default\":0}]},{\"type\":\"model\",\"name\":\"MaterialTemplateActions1\",\"properties\":[{\"name\":\"open_modal\",\"kind\":\"Any\",\"default\":0},{\"name\":\"close_modal\",\"kind\":\"Any\",\"default\":0}]}]}};\n",
       "  var render_items = [{\"docid\":\"74406d88-e25d-44fa-82ef-60eedca82302\",\"roots\":{\"p1002\":\"e0a3d72b-3178-4768-ad8b-94d30ca980e0\"},\"root_ids\":[\"p1002\"]}];\n",
       "  var docs = Object.values(docs_json)\n",
       "  if (!docs) {\n",
       "    return\n",
       "  }\n",
       "  const py_version = docs[0].version.replace('rc', '-rc.').replace('.dev', '-dev.')\n",
       "  function embed_document(root) {\n",
       "    var Bokeh = get_bokeh(root)\n",
       "    Bokeh.embed.embed_items_notebook(docs_json, render_items);\n",
       "    for (const render_item of render_items) {\n",
       "      for (const root_id of render_item.root_ids) {\n",
       "\tconst id_el = document.getElementById(root_id)\n",
       "\tif (id_el.children.length && (id_el.children[0].className === 'bk-root')) {\n",
       "\t  const root_el = id_el.children[0]\n",
       "\t  root_el.id = root_el.id + '-rendered'\n",
       "\t}\n",
       "      }\n",
       "    }\n",
       "  }\n",
       "  function get_bokeh(root) {\n",
       "    if (root.Bokeh === undefined) {\n",
       "      return null\n",
       "    } else if (root.Bokeh.version !== py_version) {\n",
       "      if (root.Bokeh.versions === undefined || !root.Bokeh.versions.has(py_version)) {\n",
       "\treturn null\n",
       "      }\n",
       "      return root.Bokeh.versions.get(py_version);\n",
       "    } else if (root.Bokeh.version === py_version) {\n",
       "      return root.Bokeh\n",
       "    }\n",
       "    return null\n",
       "  }\n",
       "  function is_loaded(root) {\n",
       "    var Bokeh = get_bokeh(root)\n",
       "    return (Bokeh != null && Bokeh.Panel !== undefined)\n",
       "  }\n",
       "  if (is_loaded(root)) {\n",
       "    embed_document(root);\n",
       "  } else {\n",
       "    var attempts = 0;\n",
       "    var timer = setInterval(function(root) {\n",
       "      if (is_loaded(root)) {\n",
       "        clearInterval(timer);\n",
       "        embed_document(root);\n",
       "      } else if (document.readyState == \"complete\") {\n",
       "        attempts++;\n",
       "        if (attempts > 200) {\n",
       "          clearInterval(timer);\n",
       "\t  var Bokeh = get_bokeh(root)\n",
       "\t  if (Bokeh == null || Bokeh.Panel == null) {\n",
       "            console.warn(\"Panel: ERROR: Unable to run Panel code because Bokeh or Panel library is missing\");\n",
       "\t  } else {\n",
       "\t    console.warn(\"Panel: WARNING: Attempting to render but not all required libraries could be resolved.\")\n",
       "\t    embed_document(root)\n",
       "\t  }\n",
       "        }\n",
       "      }\n",
       "    }, 25, root)\n",
       "  }\n",
       "})(window);</script>"
      ]
     },
     "metadata": {
      "application/vnd.holoviews_exec.v0+json": {
       "id": "p1002"
      }
     },
     "output_type": "display_data"
    }
   ],
   "source": [
    "import polars as pl\n",
    "import os\n",
    "from pathlib import Path\n",
    "import pandas as pd\n",
    "import hvplot.polars\n",
    "import datetime\n",
    "import matplotlib.pyplot as plt\n",
    "import numpy as np\n",
    "from pandas.tseries.holiday import USFederalHolidayCalendar\n",
    "from pandas.tseries.offsets import CustomBusinessDay\n",
    "\n",
    "option_data = Path.cwd().parent.parent / \"Data/Option_data/sso_new.csv\"\n",
    "df = pl.scan_csv(option_data, separator=\",\")\n",
    "\n",
    "\n",
    "parquet_file = (Path.cwd().parent / \"Data/Option_data/sso_new\")\n",
    "\n",
    "data_path = Path.cwd().parent / \"Data\"\n",
    "\n",
    "#Restrictions\n",
    "timeperiod = [datetime.datetime(2019, 1, 1), datetime.datetime(2021, 12, 31)]\n",
    "volume_r = 0\n",
    "open_interest_r = 0\n",
    "delta_r = 0\n",
    "vega_r = 0\n",
    "theta_r = 0\n",
    "gamma_r = 0\n",
    "midprice_r = 0.3\n",
    "bid_price_r = 0.0\n",
    "days_till_exp_r1 = 7\n",
    "days_till_exp_r2 = 252\n",
    "moneyness_min = 0.8\n",
    "moneyness_max = 1.6\n",
    "price_min = 0.125"
   ]
  },
  {
   "cell_type": "markdown",
   "metadata": {},
   "source": [
    "# Lower the data by use of efficiency and formatting"
   ]
  },
  {
   "cell_type": "code",
   "execution_count": 3,
   "metadata": {},
   "outputs": [],
   "source": [
    "#Desired data types for the columns\n",
    "int_cols = [\"strike_price\", \"volume\", \"open_interest\"]\n",
    "float_cols = [\"best_bid\", \"best_offer\", \"impl_volatility\", \"delta\", \"gamma\", \"vega\", \"theta\"]\n",
    "datetime_cols = [\"date\",\"exdate\"]\n",
    "str_cols = [\"cp_flag\", \"ticker\", \"exercise_style\"]\n",
    "drop_cols = [\"optionid\", \"index_flag\", \"issuer\", \"div_convention\", \"exercise_style\"]"
   ]
  },
  {
   "cell_type": "code",
   "execution_count": 4,
   "metadata": {},
   "outputs": [],
   "source": [
    "#one line to do all the above\n",
    "existing_str_cols = [col for col in str_cols if col in df.columns]\n",
    "\n",
    "df = df.with_columns(\n",
    "    [ pl.col(int_cols).cast(pl.Int64),\n",
    "      pl.col(float_cols).cast(pl.Float64),\n",
    "      pl.col(datetime_cols).cast(pl.Date),\n",
    "      pl.col(existing_str_cols).cast(pl.String),\n",
    "    ]\n",
    ").drop(drop_cols)"
   ]
  },
  {
   "cell_type": "markdown",
   "metadata": {},
   "source": [
    "## Apply filter for volume and open interest"
   ]
  },
  {
   "cell_type": "code",
   "execution_count": 5,
   "metadata": {},
   "outputs": [],
   "source": [
    "# Saving file\n",
    "data_path_parq = Path.cwd().parent.parent / \"Data/Option_data/sso_complete.parquet\"\n",
    "\n",
    "save_parquet = True\n",
    "if save_parquet or not os.path.exists(data_path_parq):\n",
    "    df.sink_parquet(data_path_parq)"
   ]
  },
  {
   "cell_type": "code",
   "execution_count": 6,
   "metadata": {},
   "outputs": [],
   "source": [
    "df = pl.read_parquet(data_path_parq)"
   ]
  },
  {
   "cell_type": "markdown",
   "metadata": {},
   "source": [
    "# Applying the different filters \n",
    "- Time period from 2019 - 2022\n",
    "- 0 to 7 days experiy\n",
    "- moneyness from 0.8 to 1.2"
   ]
  },
  {
   "cell_type": "code",
   "execution_count": null,
   "metadata": {},
   "outputs": [],
   "source": []
  },
  {
   "cell_type": "code",
   "execution_count": 7,
   "metadata": {},
   "outputs": [
    {
     "data": {
      "text/html": [
       "<div><style>\n",
       ".dataframe > thead > tr,\n",
       ".dataframe > tbody > tr {\n",
       "  text-align: right;\n",
       "  white-space: pre-wrap;\n",
       "}\n",
       "</style>\n",
       "<small>shape: (27_727_105, 14)</small><table border=\"1\" class=\"dataframe\"><thead><tr><th>date</th><th>exdate</th><th>cp_flag</th><th>strike_price</th><th>best_bid</th><th>best_offer</th><th>volume</th><th>open_interest</th><th>impl_volatility</th><th>delta</th><th>gamma</th><th>vega</th><th>theta</th><th>ticker</th></tr><tr><td>date</td><td>date</td><td>str</td><td>i64</td><td>f64</td><td>f64</td><td>i64</td><td>i64</td><td>f64</td><td>f64</td><td>f64</td><td>f64</td><td>f64</td><td>str</td></tr></thead><tbody><tr><td>2016-01-04</td><td>2016-01-08</td><td>&quot;C&quot;</td><td>1000000</td><td>0.0</td><td>0.49</td><td>0</td><td>0</td><td>1.692439</td><td>0.006994</td><td>0.000173</td><td>1.300576</td><td>-100.3955</td><td>&quot;AMZN&quot;</td></tr><tr><td>2016-01-04</td><td>2016-01-08</td><td>&quot;C&quot;</td><td>400000</td><td>234.75</td><td>238.15</td><td>0</td><td>0</td><td>null</td><td>null</td><td>null</td><td>null</td><td>null</td><td>&quot;AMZN&quot;</td></tr><tr><td>2016-01-04</td><td>2016-01-08</td><td>&quot;C&quot;</td><td>410000</td><td>224.5</td><td>228.2</td><td>0</td><td>0</td><td>null</td><td>null</td><td>null</td><td>null</td><td>null</td><td>&quot;AMZN&quot;</td></tr><tr><td>2016-01-04</td><td>2016-01-08</td><td>&quot;C&quot;</td><td>420000</td><td>214.75</td><td>218.3</td><td>0</td><td>0</td><td>null</td><td>null</td><td>null</td><td>null</td><td>null</td><td>&quot;AMZN&quot;</td></tr><tr><td>2016-01-04</td><td>2016-01-08</td><td>&quot;C&quot;</td><td>430000</td><td>204.35</td><td>208.3</td><td>0</td><td>0</td><td>null</td><td>null</td><td>null</td><td>null</td><td>null</td><td>&quot;AMZN&quot;</td></tr><tr><td>&hellip;</td><td>&hellip;</td><td>&hellip;</td><td>&hellip;</td><td>&hellip;</td><td>&hellip;</td><td>&hellip;</td><td>&hellip;</td><td>&hellip;</td><td>&hellip;</td><td>&hellip;</td><td>&hellip;</td><td>&hellip;</td><td>&hellip;</td></tr><tr><td>2022-01-31</td><td>2024-01-19</td><td>&quot;P&quot;</td><td>580000</td><td>267.25</td><td>270.55</td><td>0</td><td>1</td><td>0.333331</td><td>-0.905684</td><td>0.002077</td><td>66.00584</td><td>-3.643168</td><td>&quot;META&quot;</td></tr><tr><td>2022-01-31</td><td>2024-01-19</td><td>&quot;P&quot;</td><td>590000</td><td>277.1</td><td>280.3</td><td>0</td><td>3</td><td>0.337186</td><td>-0.91153</td><td>0.002044</td><td>63.58122</td><td>-3.560699</td><td>&quot;META&quot;</td></tr><tr><td>2022-01-31</td><td>2024-01-19</td><td>&quot;P&quot;</td><td>600000</td><td>286.55</td><td>290.2</td><td>0</td><td>38</td><td>0.338903</td><td>-0.919997</td><td>0.002023</td><td>62.99949</td><td>-3.386516</td><td>&quot;META&quot;</td></tr><tr><td>2022-01-31</td><td>2024-01-19</td><td>&quot;P&quot;</td><td>650000</td><td>335.15</td><td>339.0</td><td>101</td><td>1335</td><td>0.339451</td><td>-0.968181</td><td>0.001793</td><td>22.43995</td><td>-1.240708</td><td>&quot;META&quot;</td></tr><tr><td>2022-01-31</td><td>2024-01-19</td><td>&quot;P&quot;</td><td>700000</td><td>384.85</td><td>389.0</td><td>100</td><td>498</td><td>0.360245</td><td>-0.977636</td><td>0.001479</td><td>28.39713</td><td>0.216225</td><td>&quot;META&quot;</td></tr></tbody></table></div>"
      ],
      "text/plain": [
       "shape: (27_727_105, 14)\n",
       "┌────────────┬────────────┬─────────┬──────────────┬───┬──────────┬──────────┬───────────┬────────┐\n",
       "│ date       ┆ exdate     ┆ cp_flag ┆ strike_price ┆ … ┆ gamma    ┆ vega     ┆ theta     ┆ ticker │\n",
       "│ ---        ┆ ---        ┆ ---     ┆ ---          ┆   ┆ ---      ┆ ---      ┆ ---       ┆ ---    │\n",
       "│ date       ┆ date       ┆ str     ┆ i64          ┆   ┆ f64      ┆ f64      ┆ f64       ┆ str    │\n",
       "╞════════════╪════════════╪═════════╪══════════════╪═══╪══════════╪══════════╪═══════════╪════════╡\n",
       "│ 2016-01-04 ┆ 2016-01-08 ┆ C       ┆ 1000000      ┆ … ┆ 0.000173 ┆ 1.300576 ┆ -100.3955 ┆ AMZN   │\n",
       "│ 2016-01-04 ┆ 2016-01-08 ┆ C       ┆ 400000       ┆ … ┆ null     ┆ null     ┆ null      ┆ AMZN   │\n",
       "│ 2016-01-04 ┆ 2016-01-08 ┆ C       ┆ 410000       ┆ … ┆ null     ┆ null     ┆ null      ┆ AMZN   │\n",
       "│ 2016-01-04 ┆ 2016-01-08 ┆ C       ┆ 420000       ┆ … ┆ null     ┆ null     ┆ null      ┆ AMZN   │\n",
       "│ 2016-01-04 ┆ 2016-01-08 ┆ C       ┆ 430000       ┆ … ┆ null     ┆ null     ┆ null      ┆ AMZN   │\n",
       "│ …          ┆ …          ┆ …       ┆ …            ┆ … ┆ …        ┆ …        ┆ …         ┆ …      │\n",
       "│ 2022-01-31 ┆ 2024-01-19 ┆ P       ┆ 580000       ┆ … ┆ 0.002077 ┆ 66.00584 ┆ -3.643168 ┆ META   │\n",
       "│ 2022-01-31 ┆ 2024-01-19 ┆ P       ┆ 590000       ┆ … ┆ 0.002044 ┆ 63.58122 ┆ -3.560699 ┆ META   │\n",
       "│ 2022-01-31 ┆ 2024-01-19 ┆ P       ┆ 600000       ┆ … ┆ 0.002023 ┆ 62.99949 ┆ -3.386516 ┆ META   │\n",
       "│ 2022-01-31 ┆ 2024-01-19 ┆ P       ┆ 650000       ┆ … ┆ 0.001793 ┆ 22.43995 ┆ -1.240708 ┆ META   │\n",
       "│ 2022-01-31 ┆ 2024-01-19 ┆ P       ┆ 700000       ┆ … ┆ 0.001479 ┆ 28.39713 ┆ 0.216225  ┆ META   │\n",
       "└────────────┴────────────┴─────────┴──────────────┴───┴──────────┴──────────┴───────────┴────────┘"
      ]
     },
     "execution_count": 7,
     "metadata": {},
     "output_type": "execute_result"
    }
   ],
   "source": [
    "df"
   ]
  },
  {
   "cell_type": "code",
   "execution_count": 8,
   "metadata": {},
   "outputs": [
    {
     "data": {
      "text/plain": [
       "31"
      ]
     },
     "execution_count": 8,
     "metadata": {},
     "output_type": "execute_result"
    }
   ],
   "source": [
    "# # Creating the date filter period\n",
    "31\n",
    "\n",
    "# Creating the date filter period\n",
    "# df = df.filter(\n",
    "#     pl.col(\"exdate\").is_between(timeperiod[0], timeperiod[1]),\n",
    "# )\n",
    "# df = df.filter(\n",
    "#     pl.col(\"date\").is_between(timeperiod[0], timeperiod[1]),\n",
    "# )"
   ]
  },
  {
   "cell_type": "code",
   "execution_count": 9,
   "metadata": {},
   "outputs": [],
   "source": [
    "dfp = df.to_pandas()\n",
    "\n",
    "dfp['prc_option'] = (dfp['best_offer'] + dfp['best_bid']) / 2\n",
    "\n",
    "# Create a custom business day object that excludes weekends and US federal holidays\n",
    "us_bd = CustomBusinessDay(calendar=USFederalHolidayCalendar())\n",
    "\n",
    "# Calculate the number of business days between 'date' and 'exdate'\n",
    "def business_days_diff(start_date, end_date, business_day_offset):\n",
    "    return np.busday_count(start_date.date(), end_date.date(), busdaycal=business_day_offset.holidays)\n",
    "\n",
    "# Get US federal holidays within the range\n",
    "holidays = USFederalHolidayCalendar().holidays(start=dfp['date'].min(), end=dfp['exdate'].max())\n",
    "\n",
    "# Convert holidays to numpy datetime64 array\n",
    "holidays = holidays.to_numpy(dtype='datetime64[D]')\n",
    "\n",
    "# Calculate the difference in business days for each row\n",
    "dfp['trading_days_till_exp'] = np.busday_count(dfp['date'].values.astype('datetime64[D]'),\n",
    "                                               dfp['exdate'].values.astype('datetime64[D]'),\n",
    "                                               holidays=holidays)\n"
   ]
  },
  {
   "cell_type": "code",
   "execution_count": 10,
   "metadata": {},
   "outputs": [],
   "source": [
    "df = pl.from_pandas(dfp)\n",
    "\n",
    "\n",
    "df = df.filter(pl.col(\"trading_days_till_exp\") <= days_till_exp_r2)\n",
    "\n",
    "# #Creating a filter for the volume and open_interest\n",
    "df = df.filter((pl.col(\"volume\") > volume_r))\n",
    "\n",
    "# #Create filter for bid higher than ask price\n",
    "df = df.filter(pl.col(\"best_bid\") <= pl.col(\"best_offer\"))\n",
    "df = df.filter(pl.col(\"best_bid\") >= bid_price_r)\n",
    "\n",
    "# Filter out rows where 'impl_volatility' is missing\n",
    "df = df.filter(pl.col(\"impl_volatility\").is_not_null())\n",
    "\n",
    "# df = df.filter((pl.col(\"prc_option\") > price_min))\n",
    "\n",
    "\n",
    "\n"
   ]
  },
  {
   "cell_type": "code",
   "execution_count": 11,
   "metadata": {},
   "outputs": [
    {
     "data": {
      "text/html": [
       "<div><style>\n",
       ".dataframe > thead > tr,\n",
       ".dataframe > tbody > tr {\n",
       "  text-align: right;\n",
       "  white-space: pre-wrap;\n",
       "}\n",
       "</style>\n",
       "<small>shape: (10_130_042, 16)</small><table border=\"1\" class=\"dataframe\"><thead><tr><th>date</th><th>exdate</th><th>cp_flag</th><th>strike_price</th><th>best_bid</th><th>best_offer</th><th>volume</th><th>open_interest</th><th>impl_volatility</th><th>delta</th><th>gamma</th><th>vega</th><th>theta</th><th>ticker</th><th>prc_option</th><th>trading_days_till_exp</th></tr><tr><td>datetime[ms]</td><td>datetime[ms]</td><td>str</td><td>i64</td><td>f64</td><td>f64</td><td>i64</td><td>i64</td><td>f64</td><td>f64</td><td>f64</td><td>f64</td><td>f64</td><td>str</td><td>f64</td><td>i64</td></tr></thead><tbody><tr><td>2016-01-04 00:00:00</td><td>2016-01-08 00:00:00</td><td>&quot;C&quot;</td><td>580000</td><td>56.75</td><td>57.45</td><td>11</td><td>0</td><td>0.386271</td><td>0.99036</td><td>0.001004</td><td>1.725157</td><td>-32.63219</td><td>&quot;AMZN&quot;</td><td>57.1</td><td>4</td></tr><tr><td>2016-01-04 00:00:00</td><td>2016-01-08 00:00:00</td><td>&quot;C&quot;</td><td>590000</td><td>47.3</td><td>48.0</td><td>11</td><td>0</td><td>0.450882</td><td>0.950334</td><td>0.003414</td><td>6.839587</td><td>-142.9916</td><td>&quot;AMZN&quot;</td><td>47.65</td><td>4</td></tr><tr><td>2016-01-04 00:00:00</td><td>2016-01-08 00:00:00</td><td>&quot;C&quot;</td><td>595000</td><td>42.55</td><td>43.4</td><td>39</td><td>0</td><td>0.450541</td><td>0.929264</td><td>0.004507</td><td>9.033681</td><td>-187.763</td><td>&quot;AMZN&quot;</td><td>42.975</td><td>4</td></tr><tr><td>2016-01-04 00:00:00</td><td>2016-01-08 00:00:00</td><td>&quot;C&quot;</td><td>600000</td><td>38.25</td><td>38.8</td><td>83</td><td>8</td><td>0.458482</td><td>0.898159</td><td>0.005818</td><td>11.86455</td><td>-250.2119</td><td>&quot;AMZN&quot;</td><td>38.525</td><td>4</td></tr><tr><td>2016-01-04 00:00:00</td><td>2016-01-08 00:00:00</td><td>&quot;C&quot;</td><td>605000</td><td>33.6</td><td>34.2</td><td>21</td><td>0</td><td>0.439795</td><td>0.873458</td><td>0.007081</td><td>13.8338</td><td>-279.9032</td><td>&quot;AMZN&quot;</td><td>33.9</td><td>4</td></tr><tr><td>&hellip;</td><td>&hellip;</td><td>&hellip;</td><td>&hellip;</td><td>&hellip;</td><td>&hellip;</td><td>&hellip;</td><td>&hellip;</td><td>&hellip;</td><td>&hellip;</td><td>&hellip;</td><td>&hellip;</td><td>&hellip;</td><td>&hellip;</td><td>&hellip;</td><td>&hellip;</td></tr><tr><td>2022-01-31 00:00:00</td><td>2023-01-20 00:00:00</td><td>&quot;P&quot;</td><td>410000</td><td>105.85</td><td>107.15</td><td>1</td><td>448</td><td>0.314054</td><td>-0.764195</td><td>0.003357</td><td>94.55447</td><td>-13.4987</td><td>&quot;META&quot;</td><td>106.5</td><td>243</td></tr><tr><td>2022-01-31 00:00:00</td><td>2023-01-20 00:00:00</td><td>&quot;P&quot;</td><td>435000</td><td>127.05</td><td>128.55</td><td>1</td><td>235</td><td>0.30952</td><td>-0.827501</td><td>0.002927</td><td>77.56268</td><td>-10.68491</td><td>&quot;META&quot;</td><td>127.8</td><td>243</td></tr><tr><td>2022-01-31 00:00:00</td><td>2023-01-20 00:00:00</td><td>&quot;P&quot;</td><td>440000</td><td>131.7</td><td>133.4</td><td>1</td><td>180</td><td>0.313266</td><td>-0.833656</td><td>0.002837</td><td>76.04378</td><td>-10.53336</td><td>&quot;META&quot;</td><td>132.55</td><td>243</td></tr><tr><td>2022-01-31 00:00:00</td><td>2023-01-20 00:00:00</td><td>&quot;P&quot;</td><td>445000</td><td>135.9</td><td>137.9</td><td>1</td><td>226</td><td>0.311318</td><td>-0.84566</td><td>0.002747</td><td>72.20399</td><td>-9.87227</td><td>&quot;META&quot;</td><td>136.9</td><td>243</td></tr><tr><td>2022-01-31 00:00:00</td><td>2023-01-20 00:00:00</td><td>&quot;P&quot;</td><td>470000</td><td>158.75</td><td>161.05</td><td>1</td><td>174</td><td>0.311953</td><td>-0.88844</td><td>0.002327</td><td>57.46569</td><td>-7.630498</td><td>&quot;META&quot;</td><td>159.9</td><td>243</td></tr></tbody></table></div>"
      ],
      "text/plain": [
       "shape: (10_130_042, 16)\n",
       "┌────────────┬────────────┬─────────┬────────────┬───┬───────────┬────────┬────────────┬───────────┐\n",
       "│ date       ┆ exdate     ┆ cp_flag ┆ strike_pri ┆ … ┆ theta     ┆ ticker ┆ prc_option ┆ trading_d │\n",
       "│ ---        ┆ ---        ┆ ---     ┆ ce         ┆   ┆ ---       ┆ ---    ┆ ---        ┆ ays_till_ │\n",
       "│ datetime[m ┆ datetime[m ┆ str     ┆ ---        ┆   ┆ f64       ┆ str    ┆ f64        ┆ exp       │\n",
       "│ s]         ┆ s]         ┆         ┆ i64        ┆   ┆           ┆        ┆            ┆ ---       │\n",
       "│            ┆            ┆         ┆            ┆   ┆           ┆        ┆            ┆ i64       │\n",
       "╞════════════╪════════════╪═════════╪════════════╪═══╪═══════════╪════════╪════════════╪═══════════╡\n",
       "│ 2016-01-04 ┆ 2016-01-08 ┆ C       ┆ 580000     ┆ … ┆ -32.63219 ┆ AMZN   ┆ 57.1       ┆ 4         │\n",
       "│ 00:00:00   ┆ 00:00:00   ┆         ┆            ┆   ┆           ┆        ┆            ┆           │\n",
       "│ 2016-01-04 ┆ 2016-01-08 ┆ C       ┆ 590000     ┆ … ┆ -142.9916 ┆ AMZN   ┆ 47.65      ┆ 4         │\n",
       "│ 00:00:00   ┆ 00:00:00   ┆         ┆            ┆   ┆           ┆        ┆            ┆           │\n",
       "│ 2016-01-04 ┆ 2016-01-08 ┆ C       ┆ 595000     ┆ … ┆ -187.763  ┆ AMZN   ┆ 42.975     ┆ 4         │\n",
       "│ 00:00:00   ┆ 00:00:00   ┆         ┆            ┆   ┆           ┆        ┆            ┆           │\n",
       "│ 2016-01-04 ┆ 2016-01-08 ┆ C       ┆ 600000     ┆ … ┆ -250.2119 ┆ AMZN   ┆ 38.525     ┆ 4         │\n",
       "│ 00:00:00   ┆ 00:00:00   ┆         ┆            ┆   ┆           ┆        ┆            ┆           │\n",
       "│ 2016-01-04 ┆ 2016-01-08 ┆ C       ┆ 605000     ┆ … ┆ -279.9032 ┆ AMZN   ┆ 33.9       ┆ 4         │\n",
       "│ 00:00:00   ┆ 00:00:00   ┆         ┆            ┆   ┆           ┆        ┆            ┆           │\n",
       "│ …          ┆ …          ┆ …       ┆ …          ┆ … ┆ …         ┆ …      ┆ …          ┆ …         │\n",
       "│ 2022-01-31 ┆ 2023-01-20 ┆ P       ┆ 410000     ┆ … ┆ -13.4987  ┆ META   ┆ 106.5      ┆ 243       │\n",
       "│ 00:00:00   ┆ 00:00:00   ┆         ┆            ┆   ┆           ┆        ┆            ┆           │\n",
       "│ 2022-01-31 ┆ 2023-01-20 ┆ P       ┆ 435000     ┆ … ┆ -10.68491 ┆ META   ┆ 127.8      ┆ 243       │\n",
       "│ 00:00:00   ┆ 00:00:00   ┆         ┆            ┆   ┆           ┆        ┆            ┆           │\n",
       "│ 2022-01-31 ┆ 2023-01-20 ┆ P       ┆ 440000     ┆ … ┆ -10.53336 ┆ META   ┆ 132.55     ┆ 243       │\n",
       "│ 00:00:00   ┆ 00:00:00   ┆         ┆            ┆   ┆           ┆        ┆            ┆           │\n",
       "│ 2022-01-31 ┆ 2023-01-20 ┆ P       ┆ 445000     ┆ … ┆ -9.87227  ┆ META   ┆ 136.9      ┆ 243       │\n",
       "│ 00:00:00   ┆ 00:00:00   ┆         ┆            ┆   ┆           ┆        ┆            ┆           │\n",
       "│ 2022-01-31 ┆ 2023-01-20 ┆ P       ┆ 470000     ┆ … ┆ -7.630498 ┆ META   ┆ 159.9      ┆ 243       │\n",
       "│ 00:00:00   ┆ 00:00:00   ┆         ┆            ┆   ┆           ┆        ┆            ┆           │\n",
       "└────────────┴────────────┴─────────┴────────────┴───┴───────────┴────────┴────────────┴───────────┘"
      ]
     },
     "execution_count": 11,
     "metadata": {},
     "output_type": "execute_result"
    }
   ],
   "source": [
    "df"
   ]
  },
  {
   "cell_type": "markdown",
   "metadata": {},
   "source": [
    "## Create a graph of the days till expiry and implied volatility of a specific stock for a strike price"
   ]
  },
  {
   "cell_type": "code",
   "execution_count": 12,
   "metadata": {},
   "outputs": [
    {
     "data": {
      "image/png": "[encoded data removed]",
      "text/plain": [
       "<Figure size 1000x600 with 1 Axes>"
      ]
     },
     "metadata": {},
     "output_type": "display_data"
    }
   ],
   "source": [
    "# Get the counts of 'days_till_exp'\n",
    "df_pandas = df.to_pandas()\n",
    "\n",
    "counts = df_pandas['trading_days_till_exp'].value_counts()\n",
    "\n",
    "# Create the bar plot\n",
    "counts.plot(kind='bar', figsize=(10, 6))\n",
    "plt.title('Count of Days Till Expiry')\n",
    "plt.xlabel('Days Till Expiry')\n",
    "plt.ylabel('Count')\n",
    "plt.show()"
   ]
  },
  {
   "cell_type": "markdown",
   "metadata": {},
   "source": [
    "# Merging the stock prices with the options"
   ]
  },
  {
   "cell_type": "code",
   "execution_count": 13,
   "metadata": {},
   "outputs": [],
   "source": [
    "merged_df = df"
   ]
  },
  {
   "cell_type": "code",
   "execution_count": 14,
   "metadata": {},
   "outputs": [],
   "source": [
    "# Reading the stock data\n",
    "stock_path_parq = Path.cwd().parent.parent / \"Data/Stock_data/stock_data_new.parquet\"\n",
    "df_stock1 = pl.read_parquet(stock_path_parq)\n",
    "\n",
    "# Convert Polars dataframes to pandas\n",
    "df = merged_df.to_pandas()\n",
    "df_stock = df_stock1.to_pandas()\n",
    "\n",
    "# Ensure that 'date' is a datetime object in both dataframes\n",
    "df['date'] = pd.to_datetime(df['date'])\n",
    "df_stock['date'] = pd.to_datetime(df_stock['date'])\n",
    "\n",
    "# Rename the 'TICKER' column in df_stock to 'ticker' to match df\n",
    "df_stock = df_stock.rename(columns={'TICKER': 'ticker'})\n",
    "\n",
    "# Merge 'RET' column from df_stock into df\n",
    "merged_df = pd.merge(df, df_stock[['ticker', 'date', 'PRC', 'PRC_actual', 'BIDLO', 'ASKHI']], on=['ticker', 'date'], how='left')\n"
   ]
  },
  {
   "cell_type": "code",
   "execution_count": 15,
   "metadata": {},
   "outputs": [
    {
     "data": {
      "text/html": [
       "<div>\n",
       "<style scoped>\n",
       "    .dataframe tbody tr th:only-of-type {\n",
       "        vertical-align: middle;\n",
       "    }\n",
       "\n",
       "    .dataframe tbody tr th {\n",
       "        vertical-align: top;\n",
       "    }\n",
       "\n",
       "    .dataframe thead th {\n",
       "        text-align: right;\n",
       "    }\n",
       "</style>\n",
       "<table border=\"1\" class=\"dataframe\">\n",
       "  <thead>\n",
       "    <tr style=\"text-align: right;\">\n",
       "      <th></th>\n",
       "      <th>date</th>\n",
       "      <th>ticker</th>\n",
       "      <th>price</th>\n",
       "    </tr>\n",
       "  </thead>\n",
       "  <tbody>\n",
       "    <tr>\n",
       "      <th>0</th>\n",
       "      <td>2022-01-03</td>\n",
       "      <td>MSFT</td>\n",
       "      <td>334.735000</td>\n",
       "    </tr>\n",
       "    <tr>\n",
       "      <th>1</th>\n",
       "      <td>2022-01-04</td>\n",
       "      <td>MSFT</td>\n",
       "      <td>329.050005</td>\n",
       "    </tr>\n",
       "    <tr>\n",
       "      <th>2</th>\n",
       "      <td>2022-01-05</td>\n",
       "      <td>MSFT</td>\n",
       "      <td>316.310010</td>\n",
       "    </tr>\n",
       "    <tr>\n",
       "      <th>3</th>\n",
       "      <td>2022-01-06</td>\n",
       "      <td>MSFT</td>\n",
       "      <td>313.860000</td>\n",
       "    </tr>\n",
       "    <tr>\n",
       "      <th>4</th>\n",
       "      <td>2022-01-07</td>\n",
       "      <td>MSFT</td>\n",
       "      <td>314.064990</td>\n",
       "    </tr>\n",
       "    <tr>\n",
       "      <th>5</th>\n",
       "      <td>2022-01-10</td>\n",
       "      <td>MSFT</td>\n",
       "      <td>314.315005</td>\n",
       "    </tr>\n",
       "    <tr>\n",
       "      <th>6</th>\n",
       "      <td>2022-01-03</td>\n",
       "      <td>META</td>\n",
       "      <td>338.555005</td>\n",
       "    </tr>\n",
       "    <tr>\n",
       "      <th>7</th>\n",
       "      <td>2022-01-04</td>\n",
       "      <td>META</td>\n",
       "      <td>336.505005</td>\n",
       "    </tr>\n",
       "    <tr>\n",
       "      <th>8</th>\n",
       "      <td>2022-01-05</td>\n",
       "      <td>META</td>\n",
       "      <td>324.074995</td>\n",
       "    </tr>\n",
       "    <tr>\n",
       "      <th>9</th>\n",
       "      <td>2022-01-06</td>\n",
       "      <td>META</td>\n",
       "      <td>332.520005</td>\n",
       "    </tr>\n",
       "    <tr>\n",
       "      <th>10</th>\n",
       "      <td>2022-01-07</td>\n",
       "      <td>META</td>\n",
       "      <td>331.714995</td>\n",
       "    </tr>\n",
       "    <tr>\n",
       "      <th>11</th>\n",
       "      <td>2022-01-10</td>\n",
       "      <td>META</td>\n",
       "      <td>328.120010</td>\n",
       "    </tr>\n",
       "    <tr>\n",
       "      <th>12</th>\n",
       "      <td>2022-01-03</td>\n",
       "      <td>AAPL</td>\n",
       "      <td>182.004995</td>\n",
       "    </tr>\n",
       "    <tr>\n",
       "      <th>13</th>\n",
       "      <td>2022-01-04</td>\n",
       "      <td>AAPL</td>\n",
       "      <td>179.685005</td>\n",
       "    </tr>\n",
       "    <tr>\n",
       "      <th>14</th>\n",
       "      <td>2022-01-05</td>\n",
       "      <td>AAPL</td>\n",
       "      <td>174.839995</td>\n",
       "    </tr>\n",
       "    <tr>\n",
       "      <th>15</th>\n",
       "      <td>2022-01-06</td>\n",
       "      <td>AAPL</td>\n",
       "      <td>172.004995</td>\n",
       "    </tr>\n",
       "    <tr>\n",
       "      <th>16</th>\n",
       "      <td>2022-01-07</td>\n",
       "      <td>AAPL</td>\n",
       "      <td>172.220000</td>\n",
       "    </tr>\n",
       "    <tr>\n",
       "      <th>17</th>\n",
       "      <td>2022-01-10</td>\n",
       "      <td>AAPL</td>\n",
       "      <td>172.185005</td>\n",
       "    </tr>\n",
       "    <tr>\n",
       "      <th>18</th>\n",
       "      <td>2022-01-03</td>\n",
       "      <td>AMZN</td>\n",
       "      <td>3407.774900</td>\n",
       "    </tr>\n",
       "    <tr>\n",
       "      <th>19</th>\n",
       "      <td>2022-01-04</td>\n",
       "      <td>AMZN</td>\n",
       "      <td>3349.719970</td>\n",
       "    </tr>\n",
       "    <tr>\n",
       "      <th>20</th>\n",
       "      <td>2022-01-05</td>\n",
       "      <td>AMZN</td>\n",
       "      <td>3287.815065</td>\n",
       "    </tr>\n",
       "    <tr>\n",
       "      <th>21</th>\n",
       "      <td>2022-01-06</td>\n",
       "      <td>AMZN</td>\n",
       "      <td>3264.790040</td>\n",
       "    </tr>\n",
       "    <tr>\n",
       "      <th>22</th>\n",
       "      <td>2022-01-07</td>\n",
       "      <td>AMZN</td>\n",
       "      <td>3251.564940</td>\n",
       "    </tr>\n",
       "    <tr>\n",
       "      <th>23</th>\n",
       "      <td>2022-01-10</td>\n",
       "      <td>AMZN</td>\n",
       "      <td>3229.950075</td>\n",
       "    </tr>\n",
       "    <tr>\n",
       "      <th>24</th>\n",
       "      <td>2022-01-03</td>\n",
       "      <td>TSLA</td>\n",
       "      <td>1199.580015</td>\n",
       "    </tr>\n",
       "    <tr>\n",
       "      <th>25</th>\n",
       "      <td>2022-01-04</td>\n",
       "      <td>TSLA</td>\n",
       "      <td>1149.494995</td>\n",
       "    </tr>\n",
       "    <tr>\n",
       "      <th>26</th>\n",
       "      <td>2022-01-05</td>\n",
       "      <td>TSLA</td>\n",
       "      <td>1087.804995</td>\n",
       "    </tr>\n",
       "    <tr>\n",
       "      <th>27</th>\n",
       "      <td>2022-01-06</td>\n",
       "      <td>TSLA</td>\n",
       "      <td>1064.844970</td>\n",
       "    </tr>\n",
       "    <tr>\n",
       "      <th>28</th>\n",
       "      <td>2022-01-07</td>\n",
       "      <td>TSLA</td>\n",
       "      <td>1026.989995</td>\n",
       "    </tr>\n",
       "    <tr>\n",
       "      <th>29</th>\n",
       "      <td>2022-01-10</td>\n",
       "      <td>TSLA</td>\n",
       "      <td>1058.394960</td>\n",
       "    </tr>\n",
       "    <tr>\n",
       "      <th>30</th>\n",
       "      <td>2022-01-03</td>\n",
       "      <td>NVDA</td>\n",
       "      <td>301.205000</td>\n",
       "    </tr>\n",
       "    <tr>\n",
       "      <th>31</th>\n",
       "      <td>2022-01-04</td>\n",
       "      <td>NVDA</td>\n",
       "      <td>292.934995</td>\n",
       "    </tr>\n",
       "    <tr>\n",
       "      <th>32</th>\n",
       "      <td>2022-01-05</td>\n",
       "      <td>NVDA</td>\n",
       "      <td>275.974990</td>\n",
       "    </tr>\n",
       "    <tr>\n",
       "      <th>33</th>\n",
       "      <td>2022-01-06</td>\n",
       "      <td>NVDA</td>\n",
       "      <td>281.789995</td>\n",
       "    </tr>\n",
       "    <tr>\n",
       "      <th>34</th>\n",
       "      <td>2022-01-07</td>\n",
       "      <td>NVDA</td>\n",
       "      <td>272.395005</td>\n",
       "    </tr>\n",
       "    <tr>\n",
       "      <th>35</th>\n",
       "      <td>2022-01-10</td>\n",
       "      <td>NVDA</td>\n",
       "      <td>274.175000</td>\n",
       "    </tr>\n",
       "  </tbody>\n",
       "</table>\n",
       "</div>"
      ],
      "text/plain": [
       "          date ticker        price\n",
       "0   2022-01-03   MSFT   334.735000\n",
       "1   2022-01-04   MSFT   329.050005\n",
       "2   2022-01-05   MSFT   316.310010\n",
       "3   2022-01-06   MSFT   313.860000\n",
       "4   2022-01-07   MSFT   314.064990\n",
       "5   2022-01-10   MSFT   314.315005\n",
       "6   2022-01-03   META   338.555005\n",
       "7   2022-01-04   META   336.505005\n",
       "8   2022-01-05   META   324.074995\n",
       "9   2022-01-06   META   332.520005\n",
       "10  2022-01-07   META   331.714995\n",
       "11  2022-01-10   META   328.120010\n",
       "12  2022-01-03   AAPL   182.004995\n",
       "13  2022-01-04   AAPL   179.685005\n",
       "14  2022-01-05   AAPL   174.839995\n",
       "15  2022-01-06   AAPL   172.004995\n",
       "16  2022-01-07   AAPL   172.220000\n",
       "17  2022-01-10   AAPL   172.185005\n",
       "18  2022-01-03   AMZN  3407.774900\n",
       "19  2022-01-04   AMZN  3349.719970\n",
       "20  2022-01-05   AMZN  3287.815065\n",
       "21  2022-01-06   AMZN  3264.790040\n",
       "22  2022-01-07   AMZN  3251.564940\n",
       "23  2022-01-10   AMZN  3229.950075\n",
       "24  2022-01-03   TSLA  1199.580015\n",
       "25  2022-01-04   TSLA  1149.494995\n",
       "26  2022-01-05   TSLA  1087.804995\n",
       "27  2022-01-06   TSLA  1064.844970\n",
       "28  2022-01-07   TSLA  1026.989995\n",
       "29  2022-01-10   TSLA  1058.394960\n",
       "30  2022-01-03   NVDA   301.205000\n",
       "31  2022-01-04   NVDA   292.934995\n",
       "32  2022-01-05   NVDA   275.974990\n",
       "33  2022-01-06   NVDA   281.789995\n",
       "34  2022-01-07   NVDA   272.395005\n",
       "35  2022-01-10   NVDA   274.175000"
      ]
     },
     "execution_count": 15,
     "metadata": {},
     "output_type": "execute_result"
    }
   ],
   "source": [
    "import pandas as pd\n",
    "\n",
    "# Complete data in list format for all 6 tickers\n",
    "data = [\n",
    "    # MSFT\n",
    "    {\"date\": \"2022-01-03\", \"ticker\": \"MSFT\", \"PERMCO\": 8048, \"BIDLO\": None, \"ASKHI\": 329.78, \"VOL\": 338.0, \"RET\": 28823566, \"bid\": 334.73001, \"ask\": 334.73999, \"RETX\": -0.00466},\n",
    "    {\"date\": \"2022-01-04\", \"ticker\": \"MSFT\", \"PERMCO\": 8048, \"BIDLO\": None, \"ASKHI\": 326.12, \"VOL\": 335.2, \"RET\": 32626156, \"bid\": 329.04001, \"ask\": 329.06, \"RETX\": -0.01714},\n",
    "    {\"date\": \"2022-01-05\", \"ticker\": \"MSFT\", \"PERMCO\": 8048, \"BIDLO\": None, \"ASKHI\": 315.98001, \"VOL\": 326.07, \"RET\": 39957778, \"bid\": 316.20001, \"ask\": 316.42001, \"RETX\": -0.03838},\n",
    "    {\"date\": \"2022-01-06\", \"ticker\": \"MSFT\", \"PERMCO\": 8048, \"BIDLO\": None, \"ASKHI\": 311.49, \"VOL\": 318.7, \"RET\": 39744069, \"bid\": 313.84, \"ask\": 313.88, \"RETX\": -0.0079},\n",
    "    {\"date\": \"2022-01-07\", \"ticker\": \"MSFT\", \"PERMCO\": 8048, \"BIDLO\": None, \"ASKHI\": 310.09, \"VOL\": 316.5, \"RET\": 32664078, \"bid\": 314.01999, \"ask\": 314.10999, \"RETX\": 0.00051},\n",
    "    {\"date\": \"2022-01-10\", \"ticker\": \"MSFT\", \"PERMCO\": 8048, \"BIDLO\": None, \"ASKHI\": 304.69, \"VOL\": 314.72, \"RET\": 44236612, \"bid\": 314.09, \"ask\": 314.54001, \"RETX\": 0.00073},\n",
    "    # FB (to be renamed to META)\n",
    "    {\"date\": \"2022-01-03\", \"ticker\": \"FB\", \"PERMCO\": 54084, \"BIDLO\": None, \"ASKHI\": 337.19, \"VOL\": 341.0816, \"RET\": 14521724, \"bid\": 338.48001, \"ask\": 338.63, \"RETX\": 0.00651},\n",
    "    {\"date\": \"2022-01-04\", \"ticker\": \"FB\", \"PERMCO\": 54084, \"BIDLO\": None, \"ASKHI\": 331.87109, \"VOL\": 343.08539, \"RET\": 15926607, \"bid\": 336.5, \"ask\": 336.51001, \"RETX\": -0.00593},\n",
    "    {\"date\": \"2022-01-05\", \"ticker\": \"FB\", \"PERMCO\": 54084, \"BIDLO\": None, \"ASKHI\": 323.84, \"VOL\": 335.76001, \"RET\": 20506237, \"bid\": 323.95999, \"ask\": 324.19, \"RETX\": -0.03672},\n",
    "    {\"date\": \"2022-01-06\", \"ticker\": \"FB\", \"PERMCO\": 54084, \"BIDLO\": None, \"ASKHI\": 322.72, \"VOL\": 339.16501, \"RET\": 27855944, \"bid\": 332.5, \"ask\": 332.54001, \"RETX\": 0.02557},\n",
    "    {\"date\": \"2022-01-07\", \"ticker\": \"FB\", \"PERMCO\": 54084, \"BIDLO\": None, \"ASKHI\": 328.8801, \"VOL\": 337.0, \"RET\": 14656798, \"bid\": 331.69, \"ask\": 331.73999, \"RETX\": -0.00201},\n",
    "    {\"date\": \"2022-01-10\", \"ticker\": \"FB\", \"PERMCO\": 54084, \"BIDLO\": None, \"ASKHI\": 315.42999, \"VOL\": 328.34, \"RET\": 24859449, \"bid\": 328.07001, \"ask\": 328.17001, \"RETX\": -0.01121},\n",
    "    # AAPL\n",
    "    {\"date\": \"2022-01-03\", \"ticker\": \"AAPL\", \"PERMCO\": 7, \"BIDLO\": None, \"ASKHI\": 177.71, \"VOL\": 182.88, \"RET\": 104656435, \"bid\": 182.0, \"ask\": 182.00999, \"RETX\": 0.025},\n",
    "    {\"date\": \"2022-01-04\", \"ticker\": \"AAPL\", \"PERMCO\": 7, \"BIDLO\": None, \"ASKHI\": 179.12, \"VOL\": 182.94, \"RET\": 99155535, \"bid\": 179.66, \"ask\": 179.71001, \"RETX\": -0.01269},\n",
    "    {\"date\": \"2022-01-05\", \"ticker\": \"AAPL\", \"PERMCO\": 7, \"BIDLO\": None, \"ASKHI\": 174.64, \"VOL\": 180.17, \"RET\": 94423171, \"bid\": 174.78, \"ask\": 174.89999, \"RETX\": -0.0266},\n",
    "    {\"date\": \"2022-01-06\", \"ticker\": \"AAPL\", \"PERMCO\": 7, \"BIDLO\": None, \"ASKHI\": 171.64, \"VOL\": 175.3, \"RET\": 96820640, \"bid\": 172.0, \"ask\": 172.00999, \"RETX\": -0.01669},\n",
    "    {\"date\": \"2022-01-07\", \"ticker\": \"AAPL\", \"PERMCO\": 7, \"BIDLO\": None, \"ASKHI\": 171.03, \"VOL\": 174.14, \"RET\": 87650955, \"bid\": 172.19, \"ask\": 172.25, \"RETX\": 0.00098},\n",
    "    {\"date\": \"2022-01-10\", \"ticker\": \"AAPL\", \"PERMCO\": 7, \"BIDLO\": None, \"ASKHI\": 168.17, \"VOL\": 172.5, \"RET\": 106792948, \"bid\": 172.16, \"ask\": 172.21001, \"RETX\": 0.00011},\n",
    "    # AMZN\n",
    "    {\"date\": \"2022-01-03\", \"ticker\": \"AMZN\", \"PERMCO\": 15473, \"BIDLO\": None, \"ASKHI\": 3323.20996, \"VOL\": 3414.07007, \"RET\": 3170057, \"bid\": 3407.1499, \"ask\": 3408.3999, \"RETX\": 0.02118},\n",
    "    {\"date\": \"2022-01-04\", \"ticker\": \"AMZN\", \"PERMCO\": 15473, \"BIDLO\": None, \"ASKHI\": 3326.98999, \"VOL\": 3428.0, \"RET\": 3503967, \"bid\": 3349.03003, \"ask\": 3350.40991, \"RETX\": -0.06916},\n",
    "    {\"date\": \"2022-01-05\", \"ticker\": \"AMZN\", \"PERMCO\": 15473, \"BIDLO\": None, \"ASKHI\": 3287.13989, \"VOL\": 3342.5249, \"RET\": 3189163, \"bid\": 3287.62012, \"ask\": 3288.01001, \"RETX\": -0.08893},\n",
    "    {\"date\": \"2022-01-06\", \"ticker\": \"AMZN\", \"PERMCO\": 15473, \"BIDLO\": None, \"ASKHI\": 3238.74414, \"VOL\": 3296.0, \"RET\": 2572225, \"bid\": 3264.5, \"ask\": 3265.08008, \"RETX\": -0.06711},\n",
    "    {\"date\": \"2022-01-07\", \"ticker\": \"AMZN\", \"PERMCO\": 15473, \"BIDLO\": None, \"ASKHI\": 3240.62012, \"VOL\": 3304.86499, \"RET\": 2305102, \"bid\": 3251.0, \"ask\": 3252.12988, \"RETX\": -0.04288},\n",
    "    {\"date\": \"2022-01-10\", \"ticker\": \"AMZN\", \"PERMCO\": 15473, \"BIDLO\": None, \"ASKHI\": 3126.09009, \"VOL\": 3233.22998, \"RET\": 4359012, \"bid\": 3229.33008, \"ask\": 3230.57007, \"RETX\": -0.0657},\n",
    "    # TSLA\n",
    "    {\"date\": \"2022-01-03\", \"ticker\": \"TSLA\", \"PERMCO\": 53453, \"BIDLO\": None, \"ASKHI\": 1136.04004, \"VOL\": 1201.06995, \"RET\": 34704012, \"bid\": 1199.51001, \"ask\": 1199.65002, \"RETX\": 0.15317},\n",
    "    {\"date\": \"2022-01-04\", \"ticker\": \"TSLA\", \"PERMCO\": 53453, \"BIDLO\": None, \"ASKHI\": 1123.05005, \"VOL\": 1208.00000, \"RET\": 33232066, \"bid\": 1149.40002, \"ask\": 1149.58997, \"RETX\": -0.41833},\n",
    "    {\"date\": \"2022-01-05\", \"ticker\": \"TSLA\", \"PERMCO\": 53453, \"BIDLO\": None, \"ASKHI\": 1081.01013, \"VOL\": 1170.33997, \"RET\": 26527233, \"bid\": 1087.62000, \"ask\": 1087.98999, \"RETX\": -0.53471},\n",
    "    {\"date\": \"2022-01-06\", \"ticker\": \"TSLA\", \"PERMCO\": 53453, \"BIDLO\": None, \"ASKHI\": 1020.50000, \"VOL\": 1088.00000, \"RET\": 30094321, \"bid\": 1064.69995, \"ask\": 1064.98999, \"RETX\": -0.21523},\n",
    "    {\"date\": \"2022-01-07\", \"ticker\": \"TSLA\", \"PERMCO\": 53453, \"BIDLO\": None, \"ASKHI\": 1010.00000, \"VOL\": 1080.92993, \"RET\": 27919584, \"bid\": 1026.87000, \"ask\": 1027.10999, \"RETX\": -0.35447},\n",
    "    {\"date\": \"2022-01-10\", \"ticker\": \"TSLA\", \"PERMCO\": 53453, \"BIDLO\": None, \"ASKHI\": 980.00000, \"VOL\": 1059.09998, \"RET\": 30455813, \"bid\": 1058.31995, \"ask\": 1058.46997, \"RETX\": 0.03342},\n",
    "    # NVDA\n",
    "    {\"date\": \"2022-01-03\", \"ticker\": \"NVDA\", \"PERMCO\": 16382, \"BIDLO\": None, \"ASKHI\": 297.85001, \"VOL\": 307.10999, \"RET\": 39169873, \"bid\": 301.16000, \"ask\": 301.25000, \"RETX\": 0.02414},\n",
    "    {\"date\": \"2022-01-04\", \"ticker\": \"NVDA\", \"PERMCO\": 16382, \"BIDLO\": None, \"ASKHI\": 283.48999, \"VOL\": 304.67999, \"RET\": 52604303, \"bid\": 292.88000, \"ask\": 292.98999, \"RETX\": -0.02759},\n",
    "    {\"date\": \"2022-01-05\", \"ticker\": \"NVDA\", \"PERMCO\": 16382, \"BIDLO\": None, \"ASKHI\": 275.32999, \"VOL\": 294.16000, \"RET\": 49676779, \"bid\": 275.95999, \"ask\": 275.98999, \"RETX\": -0.05752},\n",
    "    {\"date\": \"2022-01-06\", \"ticker\": \"NVDA\", \"PERMCO\": 16382, \"BIDLO\": None, \"ASKHI\": 270.64999, \"VOL\": 284.37991, \"RET\": 45277552, \"bid\": 281.78000, \"ask\": 281.79999, \"RETX\": 0.02079},\n",
    "    {\"date\": \"2022-01-07\", \"ticker\": \"NVDA\", \"PERMCO\": 16382, \"BIDLO\": None, \"ASKHI\": 270.57001, \"VOL\": 284.22000, \"RET\": 40945228, \"bid\": 272.32001, \"ask\": 272.47000, \"RETX\": -0.03300},\n",
    "    {\"date\": \"2022-01-10\", \"ticker\": \"NVDA\", \"PERMCO\": 16382, \"BIDLO\": None, \"ASKHI\": 256.43839, \"VOL\": 274.69000, \"RET\": 59336455, \"bid\": 274.17001, \"ask\": 274.17999, \"RETX\": 0.00561},\n",
    "]\n",
    "\n",
    "# Convert to DataFrame\n",
    "df = pd.DataFrame(data)\n",
    "\n",
    "# Calculate stock price as (bid + ask) / 2\n",
    "df[\"price\"] = (df[\"bid\"] + df[\"ask\"]) / 2\n",
    "\n",
    "# Change \"FB\" to \"META\"\n",
    "df[\"ticker\"] = df[\"ticker\"].replace(\"FB\", \"META\")\n",
    "\n",
    "# Display the DataFrame\n",
    "df_new = df[['date', 'ticker', 'price']]\n",
    "df_new\n"
   ]
  },
  {
   "cell_type": "code",
   "execution_count": 16,
   "metadata": {},
   "outputs": [
    {
     "data": {
      "text/html": [
       "<div>\n",
       "<style scoped>\n",
       "    .dataframe tbody tr th:only-of-type {\n",
       "        vertical-align: middle;\n",
       "    }\n",
       "\n",
       "    .dataframe tbody tr th {\n",
       "        vertical-align: top;\n",
       "    }\n",
       "\n",
       "    .dataframe thead th {\n",
       "        text-align: right;\n",
       "    }\n",
       "</style>\n",
       "<table border=\"1\" class=\"dataframe\">\n",
       "  <thead>\n",
       "    <tr style=\"text-align: right;\">\n",
       "      <th></th>\n",
       "      <th>date</th>\n",
       "      <th>exdate</th>\n",
       "      <th>cp_flag</th>\n",
       "      <th>strike_price</th>\n",
       "      <th>best_bid</th>\n",
       "      <th>best_offer</th>\n",
       "      <th>volume</th>\n",
       "      <th>open_interest</th>\n",
       "      <th>impl_volatility</th>\n",
       "      <th>delta</th>\n",
       "      <th>gamma</th>\n",
       "      <th>vega</th>\n",
       "      <th>theta</th>\n",
       "      <th>ticker</th>\n",
       "      <th>prc_option</th>\n",
       "      <th>trading_days_till_exp</th>\n",
       "      <th>PRC</th>\n",
       "      <th>PRC_actual</th>\n",
       "      <th>BIDLO</th>\n",
       "      <th>ASKHI</th>\n",
       "    </tr>\n",
       "  </thead>\n",
       "  <tbody>\n",
       "    <tr>\n",
       "      <th>0</th>\n",
       "      <td>2016-01-04</td>\n",
       "      <td>2016-01-08</td>\n",
       "      <td>C</td>\n",
       "      <td>580000</td>\n",
       "      <td>56.75</td>\n",
       "      <td>57.45</td>\n",
       "      <td>11</td>\n",
       "      <td>0</td>\n",
       "      <td>0.386271</td>\n",
       "      <td>0.990360</td>\n",
       "      <td>0.001004</td>\n",
       "      <td>1.725157</td>\n",
       "      <td>-32.632190</td>\n",
       "      <td>AMZN</td>\n",
       "      <td>57.100</td>\n",
       "      <td>4</td>\n",
       "      <td>NaN</td>\n",
       "      <td>NaN</td>\n",
       "      <td>NaN</td>\n",
       "      <td>NaN</td>\n",
       "    </tr>\n",
       "    <tr>\n",
       "      <th>1</th>\n",
       "      <td>2016-01-04</td>\n",
       "      <td>2016-01-08</td>\n",
       "      <td>C</td>\n",
       "      <td>590000</td>\n",
       "      <td>47.30</td>\n",
       "      <td>48.00</td>\n",
       "      <td>11</td>\n",
       "      <td>0</td>\n",
       "      <td>0.450882</td>\n",
       "      <td>0.950334</td>\n",
       "      <td>0.003414</td>\n",
       "      <td>6.839587</td>\n",
       "      <td>-142.991600</td>\n",
       "      <td>AMZN</td>\n",
       "      <td>47.650</td>\n",
       "      <td>4</td>\n",
       "      <td>NaN</td>\n",
       "      <td>NaN</td>\n",
       "      <td>NaN</td>\n",
       "      <td>NaN</td>\n",
       "    </tr>\n",
       "    <tr>\n",
       "      <th>2</th>\n",
       "      <td>2016-01-04</td>\n",
       "      <td>2016-01-08</td>\n",
       "      <td>C</td>\n",
       "      <td>595000</td>\n",
       "      <td>42.55</td>\n",
       "      <td>43.40</td>\n",
       "      <td>39</td>\n",
       "      <td>0</td>\n",
       "      <td>0.450541</td>\n",
       "      <td>0.929264</td>\n",
       "      <td>0.004507</td>\n",
       "      <td>9.033681</td>\n",
       "      <td>-187.763000</td>\n",
       "      <td>AMZN</td>\n",
       "      <td>42.975</td>\n",
       "      <td>4</td>\n",
       "      <td>NaN</td>\n",
       "      <td>NaN</td>\n",
       "      <td>NaN</td>\n",
       "      <td>NaN</td>\n",
       "    </tr>\n",
       "    <tr>\n",
       "      <th>3</th>\n",
       "      <td>2016-01-04</td>\n",
       "      <td>2016-01-08</td>\n",
       "      <td>C</td>\n",
       "      <td>600000</td>\n",
       "      <td>38.25</td>\n",
       "      <td>38.80</td>\n",
       "      <td>83</td>\n",
       "      <td>8</td>\n",
       "      <td>0.458482</td>\n",
       "      <td>0.898159</td>\n",
       "      <td>0.005818</td>\n",
       "      <td>11.864550</td>\n",
       "      <td>-250.211900</td>\n",
       "      <td>AMZN</td>\n",
       "      <td>38.525</td>\n",
       "      <td>4</td>\n",
       "      <td>NaN</td>\n",
       "      <td>NaN</td>\n",
       "      <td>NaN</td>\n",
       "      <td>NaN</td>\n",
       "    </tr>\n",
       "    <tr>\n",
       "      <th>4</th>\n",
       "      <td>2016-01-04</td>\n",
       "      <td>2016-01-08</td>\n",
       "      <td>C</td>\n",
       "      <td>605000</td>\n",
       "      <td>33.60</td>\n",
       "      <td>34.20</td>\n",
       "      <td>21</td>\n",
       "      <td>0</td>\n",
       "      <td>0.439795</td>\n",
       "      <td>0.873458</td>\n",
       "      <td>0.007081</td>\n",
       "      <td>13.833800</td>\n",
       "      <td>-279.903200</td>\n",
       "      <td>AMZN</td>\n",
       "      <td>33.900</td>\n",
       "      <td>4</td>\n",
       "      <td>NaN</td>\n",
       "      <td>NaN</td>\n",
       "      <td>NaN</td>\n",
       "      <td>NaN</td>\n",
       "    </tr>\n",
       "    <tr>\n",
       "      <th>...</th>\n",
       "      <td>...</td>\n",
       "      <td>...</td>\n",
       "      <td>...</td>\n",
       "      <td>...</td>\n",
       "      <td>...</td>\n",
       "      <td>...</td>\n",
       "      <td>...</td>\n",
       "      <td>...</td>\n",
       "      <td>...</td>\n",
       "      <td>...</td>\n",
       "      <td>...</td>\n",
       "      <td>...</td>\n",
       "      <td>...</td>\n",
       "      <td>...</td>\n",
       "      <td>...</td>\n",
       "      <td>...</td>\n",
       "      <td>...</td>\n",
       "      <td>...</td>\n",
       "      <td>...</td>\n",
       "      <td>...</td>\n",
       "    </tr>\n",
       "    <tr>\n",
       "      <th>10130037</th>\n",
       "      <td>2022-01-31</td>\n",
       "      <td>2023-01-20</td>\n",
       "      <td>P</td>\n",
       "      <td>410000</td>\n",
       "      <td>105.85</td>\n",
       "      <td>107.15</td>\n",
       "      <td>1</td>\n",
       "      <td>448</td>\n",
       "      <td>0.314054</td>\n",
       "      <td>-0.764195</td>\n",
       "      <td>0.003357</td>\n",
       "      <td>94.554470</td>\n",
       "      <td>-13.498700</td>\n",
       "      <td>META</td>\n",
       "      <td>106.500</td>\n",
       "      <td>243</td>\n",
       "      <td>NaN</td>\n",
       "      <td>NaN</td>\n",
       "      <td>NaN</td>\n",
       "      <td>NaN</td>\n",
       "    </tr>\n",
       "    <tr>\n",
       "      <th>10130038</th>\n",
       "      <td>2022-01-31</td>\n",
       "      <td>2023-01-20</td>\n",
       "      <td>P</td>\n",
       "      <td>435000</td>\n",
       "      <td>127.05</td>\n",
       "      <td>128.55</td>\n",
       "      <td>1</td>\n",
       "      <td>235</td>\n",
       "      <td>0.309520</td>\n",
       "      <td>-0.827501</td>\n",
       "      <td>0.002927</td>\n",
       "      <td>77.562680</td>\n",
       "      <td>-10.684910</td>\n",
       "      <td>META</td>\n",
       "      <td>127.800</td>\n",
       "      <td>243</td>\n",
       "      <td>NaN</td>\n",
       "      <td>NaN</td>\n",
       "      <td>NaN</td>\n",
       "      <td>NaN</td>\n",
       "    </tr>\n",
       "    <tr>\n",
       "      <th>10130039</th>\n",
       "      <td>2022-01-31</td>\n",
       "      <td>2023-01-20</td>\n",
       "      <td>P</td>\n",
       "      <td>440000</td>\n",
       "      <td>131.70</td>\n",
       "      <td>133.40</td>\n",
       "      <td>1</td>\n",
       "      <td>180</td>\n",
       "      <td>0.313266</td>\n",
       "      <td>-0.833656</td>\n",
       "      <td>0.002837</td>\n",
       "      <td>76.043780</td>\n",
       "      <td>-10.533360</td>\n",
       "      <td>META</td>\n",
       "      <td>132.550</td>\n",
       "      <td>243</td>\n",
       "      <td>NaN</td>\n",
       "      <td>NaN</td>\n",
       "      <td>NaN</td>\n",
       "      <td>NaN</td>\n",
       "    </tr>\n",
       "    <tr>\n",
       "      <th>10130040</th>\n",
       "      <td>2022-01-31</td>\n",
       "      <td>2023-01-20</td>\n",
       "      <td>P</td>\n",
       "      <td>445000</td>\n",
       "      <td>135.90</td>\n",
       "      <td>137.90</td>\n",
       "      <td>1</td>\n",
       "      <td>226</td>\n",
       "      <td>0.311318</td>\n",
       "      <td>-0.845660</td>\n",
       "      <td>0.002747</td>\n",
       "      <td>72.203990</td>\n",
       "      <td>-9.872270</td>\n",
       "      <td>META</td>\n",
       "      <td>136.900</td>\n",
       "      <td>243</td>\n",
       "      <td>NaN</td>\n",
       "      <td>NaN</td>\n",
       "      <td>NaN</td>\n",
       "      <td>NaN</td>\n",
       "    </tr>\n",
       "    <tr>\n",
       "      <th>10130041</th>\n",
       "      <td>2022-01-31</td>\n",
       "      <td>2023-01-20</td>\n",
       "      <td>P</td>\n",
       "      <td>470000</td>\n",
       "      <td>158.75</td>\n",
       "      <td>161.05</td>\n",
       "      <td>1</td>\n",
       "      <td>174</td>\n",
       "      <td>0.311953</td>\n",
       "      <td>-0.888440</td>\n",
       "      <td>0.002327</td>\n",
       "      <td>57.465690</td>\n",
       "      <td>-7.630498</td>\n",
       "      <td>META</td>\n",
       "      <td>159.900</td>\n",
       "      <td>243</td>\n",
       "      <td>NaN</td>\n",
       "      <td>NaN</td>\n",
       "      <td>NaN</td>\n",
       "      <td>NaN</td>\n",
       "    </tr>\n",
       "  </tbody>\n",
       "</table>\n",
       "<p>10130042 rows × 20 columns</p>\n",
       "</div>"
      ],
      "text/plain": [
       "               date     exdate cp_flag  strike_price  best_bid  best_offer  \\\n",
       "0        2016-01-04 2016-01-08       C        580000     56.75       57.45   \n",
       "1        2016-01-04 2016-01-08       C        590000     47.30       48.00   \n",
       "2        2016-01-04 2016-01-08       C        595000     42.55       43.40   \n",
       "3        2016-01-04 2016-01-08       C        600000     38.25       38.80   \n",
       "4        2016-01-04 2016-01-08       C        605000     33.60       34.20   \n",
       "...             ...        ...     ...           ...       ...         ...   \n",
       "10130037 2022-01-31 2023-01-20       P        410000    105.85      107.15   \n",
       "10130038 2022-01-31 2023-01-20       P        435000    127.05      128.55   \n",
       "10130039 2022-01-31 2023-01-20       P        440000    131.70      133.40   \n",
       "10130040 2022-01-31 2023-01-20       P        445000    135.90      137.90   \n",
       "10130041 2022-01-31 2023-01-20       P        470000    158.75      161.05   \n",
       "\n",
       "          volume  open_interest  impl_volatility     delta     gamma  \\\n",
       "0             11              0         0.386271  0.990360  0.001004   \n",
       "1             11              0         0.450882  0.950334  0.003414   \n",
       "2             39              0         0.450541  0.929264  0.004507   \n",
       "3             83              8         0.458482  0.898159  0.005818   \n",
       "4             21              0         0.439795  0.873458  0.007081   \n",
       "...          ...            ...              ...       ...       ...   \n",
       "10130037       1            448         0.314054 -0.764195  0.003357   \n",
       "10130038       1            235         0.309520 -0.827501  0.002927   \n",
       "10130039       1            180         0.313266 -0.833656  0.002837   \n",
       "10130040       1            226         0.311318 -0.845660  0.002747   \n",
       "10130041       1            174         0.311953 -0.888440  0.002327   \n",
       "\n",
       "               vega       theta ticker  prc_option  trading_days_till_exp  \\\n",
       "0          1.725157  -32.632190   AMZN      57.100                      4   \n",
       "1          6.839587 -142.991600   AMZN      47.650                      4   \n",
       "2          9.033681 -187.763000   AMZN      42.975                      4   \n",
       "3         11.864550 -250.211900   AMZN      38.525                      4   \n",
       "4         13.833800 -279.903200   AMZN      33.900                      4   \n",
       "...             ...         ...    ...         ...                    ...   \n",
       "10130037  94.554470  -13.498700   META     106.500                    243   \n",
       "10130038  77.562680  -10.684910   META     127.800                    243   \n",
       "10130039  76.043780  -10.533360   META     132.550                    243   \n",
       "10130040  72.203990   -9.872270   META     136.900                    243   \n",
       "10130041  57.465690   -7.630498   META     159.900                    243   \n",
       "\n",
       "          PRC  PRC_actual  BIDLO  ASKHI  \n",
       "0         NaN         NaN    NaN    NaN  \n",
       "1         NaN         NaN    NaN    NaN  \n",
       "2         NaN         NaN    NaN    NaN  \n",
       "3         NaN         NaN    NaN    NaN  \n",
       "4         NaN         NaN    NaN    NaN  \n",
       "...       ...         ...    ...    ...  \n",
       "10130037  NaN         NaN    NaN    NaN  \n",
       "10130038  NaN         NaN    NaN    NaN  \n",
       "10130039  NaN         NaN    NaN    NaN  \n",
       "10130040  NaN         NaN    NaN    NaN  \n",
       "10130041  NaN         NaN    NaN    NaN  \n",
       "\n",
       "[10130042 rows x 20 columns]"
      ]
     },
     "execution_count": 16,
     "metadata": {},
     "output_type": "execute_result"
    }
   ],
   "source": [
    "merged_df"
   ]
  },
  {
   "cell_type": "code",
   "execution_count": 17,
   "metadata": {},
   "outputs": [
    {
     "data": {
      "text/html": [
       "<div>\n",
       "<style scoped>\n",
       "    .dataframe tbody tr th:only-of-type {\n",
       "        vertical-align: middle;\n",
       "    }\n",
       "\n",
       "    .dataframe tbody tr th {\n",
       "        vertical-align: top;\n",
       "    }\n",
       "\n",
       "    .dataframe thead th {\n",
       "        text-align: right;\n",
       "    }\n",
       "</style>\n",
       "<table border=\"1\" class=\"dataframe\">\n",
       "  <thead>\n",
       "    <tr style=\"text-align: right;\">\n",
       "      <th></th>\n",
       "      <th>date</th>\n",
       "      <th>exdate</th>\n",
       "      <th>cp_flag</th>\n",
       "      <th>strike_price</th>\n",
       "      <th>best_bid</th>\n",
       "      <th>best_offer</th>\n",
       "      <th>volume</th>\n",
       "      <th>open_interest</th>\n",
       "      <th>impl_volatility</th>\n",
       "      <th>delta</th>\n",
       "      <th>gamma</th>\n",
       "      <th>vega</th>\n",
       "      <th>theta</th>\n",
       "      <th>ticker</th>\n",
       "      <th>prc_option</th>\n",
       "      <th>trading_days_till_exp</th>\n",
       "      <th>PRC</th>\n",
       "      <th>PRC_actual</th>\n",
       "      <th>BIDLO</th>\n",
       "      <th>ASKHI</th>\n",
       "    </tr>\n",
       "  </thead>\n",
       "  <tbody>\n",
       "    <tr>\n",
       "      <th>0</th>\n",
       "      <td>2016-01-04</td>\n",
       "      <td>2016-01-08</td>\n",
       "      <td>C</td>\n",
       "      <td>580000</td>\n",
       "      <td>56.75</td>\n",
       "      <td>57.45</td>\n",
       "      <td>11</td>\n",
       "      <td>0</td>\n",
       "      <td>0.386271</td>\n",
       "      <td>0.990360</td>\n",
       "      <td>0.001004</td>\n",
       "      <td>1.725157</td>\n",
       "      <td>-32.632190</td>\n",
       "      <td>AMZN</td>\n",
       "      <td>57.100</td>\n",
       "      <td>4</td>\n",
       "      <td>NaN</td>\n",
       "      <td>NaN</td>\n",
       "      <td>NaN</td>\n",
       "      <td>NaN</td>\n",
       "    </tr>\n",
       "    <tr>\n",
       "      <th>1</th>\n",
       "      <td>2016-01-04</td>\n",
       "      <td>2016-01-08</td>\n",
       "      <td>C</td>\n",
       "      <td>590000</td>\n",
       "      <td>47.30</td>\n",
       "      <td>48.00</td>\n",
       "      <td>11</td>\n",
       "      <td>0</td>\n",
       "      <td>0.450882</td>\n",
       "      <td>0.950334</td>\n",
       "      <td>0.003414</td>\n",
       "      <td>6.839587</td>\n",
       "      <td>-142.991600</td>\n",
       "      <td>AMZN</td>\n",
       "      <td>47.650</td>\n",
       "      <td>4</td>\n",
       "      <td>NaN</td>\n",
       "      <td>NaN</td>\n",
       "      <td>NaN</td>\n",
       "      <td>NaN</td>\n",
       "    </tr>\n",
       "    <tr>\n",
       "      <th>2</th>\n",
       "      <td>2016-01-04</td>\n",
       "      <td>2016-01-08</td>\n",
       "      <td>C</td>\n",
       "      <td>595000</td>\n",
       "      <td>42.55</td>\n",
       "      <td>43.40</td>\n",
       "      <td>39</td>\n",
       "      <td>0</td>\n",
       "      <td>0.450541</td>\n",
       "      <td>0.929264</td>\n",
       "      <td>0.004507</td>\n",
       "      <td>9.033681</td>\n",
       "      <td>-187.763000</td>\n",
       "      <td>AMZN</td>\n",
       "      <td>42.975</td>\n",
       "      <td>4</td>\n",
       "      <td>NaN</td>\n",
       "      <td>NaN</td>\n",
       "      <td>NaN</td>\n",
       "      <td>NaN</td>\n",
       "    </tr>\n",
       "    <tr>\n",
       "      <th>3</th>\n",
       "      <td>2016-01-04</td>\n",
       "      <td>2016-01-08</td>\n",
       "      <td>C</td>\n",
       "      <td>600000</td>\n",
       "      <td>38.25</td>\n",
       "      <td>38.80</td>\n",
       "      <td>83</td>\n",
       "      <td>8</td>\n",
       "      <td>0.458482</td>\n",
       "      <td>0.898159</td>\n",
       "      <td>0.005818</td>\n",
       "      <td>11.864550</td>\n",
       "      <td>-250.211900</td>\n",
       "      <td>AMZN</td>\n",
       "      <td>38.525</td>\n",
       "      <td>4</td>\n",
       "      <td>NaN</td>\n",
       "      <td>NaN</td>\n",
       "      <td>NaN</td>\n",
       "      <td>NaN</td>\n",
       "    </tr>\n",
       "    <tr>\n",
       "      <th>4</th>\n",
       "      <td>2016-01-04</td>\n",
       "      <td>2016-01-08</td>\n",
       "      <td>C</td>\n",
       "      <td>605000</td>\n",
       "      <td>33.60</td>\n",
       "      <td>34.20</td>\n",
       "      <td>21</td>\n",
       "      <td>0</td>\n",
       "      <td>0.439795</td>\n",
       "      <td>0.873458</td>\n",
       "      <td>0.007081</td>\n",
       "      <td>13.833800</td>\n",
       "      <td>-279.903200</td>\n",
       "      <td>AMZN</td>\n",
       "      <td>33.900</td>\n",
       "      <td>4</td>\n",
       "      <td>NaN</td>\n",
       "      <td>NaN</td>\n",
       "      <td>NaN</td>\n",
       "      <td>NaN</td>\n",
       "    </tr>\n",
       "    <tr>\n",
       "      <th>...</th>\n",
       "      <td>...</td>\n",
       "      <td>...</td>\n",
       "      <td>...</td>\n",
       "      <td>...</td>\n",
       "      <td>...</td>\n",
       "      <td>...</td>\n",
       "      <td>...</td>\n",
       "      <td>...</td>\n",
       "      <td>...</td>\n",
       "      <td>...</td>\n",
       "      <td>...</td>\n",
       "      <td>...</td>\n",
       "      <td>...</td>\n",
       "      <td>...</td>\n",
       "      <td>...</td>\n",
       "      <td>...</td>\n",
       "      <td>...</td>\n",
       "      <td>...</td>\n",
       "      <td>...</td>\n",
       "      <td>...</td>\n",
       "    </tr>\n",
       "    <tr>\n",
       "      <th>10130037</th>\n",
       "      <td>2022-01-31</td>\n",
       "      <td>2023-01-20</td>\n",
       "      <td>P</td>\n",
       "      <td>410000</td>\n",
       "      <td>105.85</td>\n",
       "      <td>107.15</td>\n",
       "      <td>1</td>\n",
       "      <td>448</td>\n",
       "      <td>0.314054</td>\n",
       "      <td>-0.764195</td>\n",
       "      <td>0.003357</td>\n",
       "      <td>94.554470</td>\n",
       "      <td>-13.498700</td>\n",
       "      <td>META</td>\n",
       "      <td>106.500</td>\n",
       "      <td>243</td>\n",
       "      <td>NaN</td>\n",
       "      <td>NaN</td>\n",
       "      <td>NaN</td>\n",
       "      <td>NaN</td>\n",
       "    </tr>\n",
       "    <tr>\n",
       "      <th>10130038</th>\n",
       "      <td>2022-01-31</td>\n",
       "      <td>2023-01-20</td>\n",
       "      <td>P</td>\n",
       "      <td>435000</td>\n",
       "      <td>127.05</td>\n",
       "      <td>128.55</td>\n",
       "      <td>1</td>\n",
       "      <td>235</td>\n",
       "      <td>0.309520</td>\n",
       "      <td>-0.827501</td>\n",
       "      <td>0.002927</td>\n",
       "      <td>77.562680</td>\n",
       "      <td>-10.684910</td>\n",
       "      <td>META</td>\n",
       "      <td>127.800</td>\n",
       "      <td>243</td>\n",
       "      <td>NaN</td>\n",
       "      <td>NaN</td>\n",
       "      <td>NaN</td>\n",
       "      <td>NaN</td>\n",
       "    </tr>\n",
       "    <tr>\n",
       "      <th>10130039</th>\n",
       "      <td>2022-01-31</td>\n",
       "      <td>2023-01-20</td>\n",
       "      <td>P</td>\n",
       "      <td>440000</td>\n",
       "      <td>131.70</td>\n",
       "      <td>133.40</td>\n",
       "      <td>1</td>\n",
       "      <td>180</td>\n",
       "      <td>0.313266</td>\n",
       "      <td>-0.833656</td>\n",
       "      <td>0.002837</td>\n",
       "      <td>76.043780</td>\n",
       "      <td>-10.533360</td>\n",
       "      <td>META</td>\n",
       "      <td>132.550</td>\n",
       "      <td>243</td>\n",
       "      <td>NaN</td>\n",
       "      <td>NaN</td>\n",
       "      <td>NaN</td>\n",
       "      <td>NaN</td>\n",
       "    </tr>\n",
       "    <tr>\n",
       "      <th>10130040</th>\n",
       "      <td>2022-01-31</td>\n",
       "      <td>2023-01-20</td>\n",
       "      <td>P</td>\n",
       "      <td>445000</td>\n",
       "      <td>135.90</td>\n",
       "      <td>137.90</td>\n",
       "      <td>1</td>\n",
       "      <td>226</td>\n",
       "      <td>0.311318</td>\n",
       "      <td>-0.845660</td>\n",
       "      <td>0.002747</td>\n",
       "      <td>72.203990</td>\n",
       "      <td>-9.872270</td>\n",
       "      <td>META</td>\n",
       "      <td>136.900</td>\n",
       "      <td>243</td>\n",
       "      <td>NaN</td>\n",
       "      <td>NaN</td>\n",
       "      <td>NaN</td>\n",
       "      <td>NaN</td>\n",
       "    </tr>\n",
       "    <tr>\n",
       "      <th>10130041</th>\n",
       "      <td>2022-01-31</td>\n",
       "      <td>2023-01-20</td>\n",
       "      <td>P</td>\n",
       "      <td>470000</td>\n",
       "      <td>158.75</td>\n",
       "      <td>161.05</td>\n",
       "      <td>1</td>\n",
       "      <td>174</td>\n",
       "      <td>0.311953</td>\n",
       "      <td>-0.888440</td>\n",
       "      <td>0.002327</td>\n",
       "      <td>57.465690</td>\n",
       "      <td>-7.630498</td>\n",
       "      <td>META</td>\n",
       "      <td>159.900</td>\n",
       "      <td>243</td>\n",
       "      <td>NaN</td>\n",
       "      <td>NaN</td>\n",
       "      <td>NaN</td>\n",
       "      <td>NaN</td>\n",
       "    </tr>\n",
       "  </tbody>\n",
       "</table>\n",
       "<p>10130042 rows × 20 columns</p>\n",
       "</div>"
      ],
      "text/plain": [
       "               date     exdate cp_flag  strike_price  best_bid  best_offer  \\\n",
       "0        2016-01-04 2016-01-08       C        580000     56.75       57.45   \n",
       "1        2016-01-04 2016-01-08       C        590000     47.30       48.00   \n",
       "2        2016-01-04 2016-01-08       C        595000     42.55       43.40   \n",
       "3        2016-01-04 2016-01-08       C        600000     38.25       38.80   \n",
       "4        2016-01-04 2016-01-08       C        605000     33.60       34.20   \n",
       "...             ...        ...     ...           ...       ...         ...   \n",
       "10130037 2022-01-31 2023-01-20       P        410000    105.85      107.15   \n",
       "10130038 2022-01-31 2023-01-20       P        435000    127.05      128.55   \n",
       "10130039 2022-01-31 2023-01-20       P        440000    131.70      133.40   \n",
       "10130040 2022-01-31 2023-01-20       P        445000    135.90      137.90   \n",
       "10130041 2022-01-31 2023-01-20       P        470000    158.75      161.05   \n",
       "\n",
       "          volume  open_interest  impl_volatility     delta     gamma  \\\n",
       "0             11              0         0.386271  0.990360  0.001004   \n",
       "1             11              0         0.450882  0.950334  0.003414   \n",
       "2             39              0         0.450541  0.929264  0.004507   \n",
       "3             83              8         0.458482  0.898159  0.005818   \n",
       "4             21              0         0.439795  0.873458  0.007081   \n",
       "...          ...            ...              ...       ...       ...   \n",
       "10130037       1            448         0.314054 -0.764195  0.003357   \n",
       "10130038       1            235         0.309520 -0.827501  0.002927   \n",
       "10130039       1            180         0.313266 -0.833656  0.002837   \n",
       "10130040       1            226         0.311318 -0.845660  0.002747   \n",
       "10130041       1            174         0.311953 -0.888440  0.002327   \n",
       "\n",
       "               vega       theta ticker  prc_option  trading_days_till_exp  \\\n",
       "0          1.725157  -32.632190   AMZN      57.100                      4   \n",
       "1          6.839587 -142.991600   AMZN      47.650                      4   \n",
       "2          9.033681 -187.763000   AMZN      42.975                      4   \n",
       "3         11.864550 -250.211900   AMZN      38.525                      4   \n",
       "4         13.833800 -279.903200   AMZN      33.900                      4   \n",
       "...             ...         ...    ...         ...                    ...   \n",
       "10130037  94.554470  -13.498700   META     106.500                    243   \n",
       "10130038  77.562680  -10.684910   META     127.800                    243   \n",
       "10130039  76.043780  -10.533360   META     132.550                    243   \n",
       "10130040  72.203990   -9.872270   META     136.900                    243   \n",
       "10130041  57.465690   -7.630498   META     159.900                    243   \n",
       "\n",
       "          PRC  PRC_actual  BIDLO  ASKHI  \n",
       "0         NaN         NaN    NaN    NaN  \n",
       "1         NaN         NaN    NaN    NaN  \n",
       "2         NaN         NaN    NaN    NaN  \n",
       "3         NaN         NaN    NaN    NaN  \n",
       "4         NaN         NaN    NaN    NaN  \n",
       "...       ...         ...    ...    ...  \n",
       "10130037  NaN         NaN    NaN    NaN  \n",
       "10130038  NaN         NaN    NaN    NaN  \n",
       "10130039  NaN         NaN    NaN    NaN  \n",
       "10130040  NaN         NaN    NaN    NaN  \n",
       "10130041  NaN         NaN    NaN    NaN  \n",
       "\n",
       "[10130042 rows x 20 columns]"
      ]
     },
     "execution_count": 17,
     "metadata": {},
     "output_type": "execute_result"
    }
   ],
   "source": [
    "# Ensure prices_df contains the necessary columns\n",
    "\n",
    "# Iterate through the calculated prices and update only the missing PRC values in merged_df\n",
    "for _, row in df_new.iterrows():\n",
    "    # Identify rows in merged_df with matching date and ticker, and missing PRC\n",
    "    mask = (merged_df['date'] == row['date']) & (merged_df['ticker'] == row['ticker']) & (merged_df['PRC'].isna())\n",
    "    # Update the PRC value\n",
    "    merged_df.loc[mask, 'PRC'] = row['price']\n",
    "\n",
    "# Display the updated DataFrame\n",
    "(merged_df)\n"
   ]
  },
  {
   "cell_type": "markdown",
   "metadata": {},
   "source": [
    "## Create the forward price of the stocks"
   ]
  },
  {
   "cell_type": "code",
   "execution_count": 18,
   "metadata": {},
   "outputs": [
    {
     "name": "stderr",
     "output_type": "stream",
     "text": [
      "/var/folders/b4/wn87d6495j1_vytb8m33q3mm0000gn/T/ipykernel_11897/3996837785.py:32: FutureWarning: A value is trying to be set on a copy of a DataFrame or Series through chained assignment using an inplace method.\n",
      "The behavior will change in pandas 3.0. This inplace method will never work because the intermediate object on which we are setting values always behaves as a copy.\n",
      "\n",
      "For example, when doing 'df[col].method(value, inplace=True)', try using 'df.method({col: value}, inplace=True)' or df[col] = df[col].method(value) instead, to perform the operation inplace on the original object.\n",
      "\n",
      "\n",
      "  df_firm['2Y_bond'].interpolate(method='time', inplace=True)\n",
      "/var/folders/b4/wn87d6495j1_vytb8m33q3mm0000gn/T/ipykernel_11897/3996837785.py:32: FutureWarning: Series.interpolate with object dtype is deprecated and will raise in a future version. Call obj.infer_objects(copy=False) before interpolating instead.\n",
      "  df_firm['2Y_bond'].interpolate(method='time', inplace=True)\n"
     ]
    }
   ],
   "source": [
    "# Load the existing firm and market data\n",
    "df_firm = merged_df  # Replace with your path\n",
    "df_macro = pd.read_parquet(Path.cwd().parent.parent / \"Data/Macroeconomic_variables/merged_marcofirm.parquet\")  # Replace with your path\n",
    "\n",
    "# Load the dividend data\n",
    "df_dividends = pd.read_csv(Path.cwd().parent.parent / 'Data/Stock_data/Dividend_Data_2019_2022.csv')  # Replace with your path\n",
    "\n",
    "# Convert the DATE column to datetime format for easy merging\n",
    "df_macro['DATE'] = pd.to_datetime(df_macro['DATE'])\n",
    "\n",
    "# Calculate the annual dividend yield by grouping by ticker and summing the dividends per year\n",
    "df_dividends['Date'] = pd.to_datetime(df_dividends['Date'])\n",
    "df_dividends['Year'] = df_dividends['Date'].dt.year\n",
    "annual_dividends = df_dividends.groupby(['Ticker', 'Year'])['Amount'].sum().reset_index()\n",
    "annual_dividends['Annual_Dividend_Yield'] = annual_dividends['Amount'] / df_firm['PRC']\n",
    "\n",
    "# Merge the annual dividend yield back to the firm data\n",
    "df_firm['Year'] = df_firm['date'].dt.year\n",
    "df_firm = df_firm.rename(columns={'ticker': 'Ticker'})\n",
    "df_firm = df_firm.merge(annual_dividends[['Ticker', 'Year', 'Annual_Dividend_Yield']], \n",
    "                        on=['Ticker', 'Year'], how='left')\n",
    "\n",
    "# Fill NaN values in 'Annual_Dividend_Yield' with 0\n",
    "df_firm['Annual_Dividend_Yield'] = df_firm['Annual_Dividend_Yield'].fillna(0)\n",
    "\n",
    "# Calculate time to maturity in years\n",
    "df_firm['T'] = df_firm['trading_days_till_exp'] / 252\n",
    "\n",
    "# Interpolate the 2Y bond rates for exact dates of the firm data\n",
    "df_firm['DATE'] = df_firm['date']\n",
    "df_firm = df_firm.merge(df_macro[['DATE', '2Y_bond']], on='DATE', how='left')\n",
    "df_firm['2Y_bond'].interpolate(method='time', inplace=True)\n",
    "\n",
    "# Convert '2Y_bond' and 'Annual_Dividend_Yield' to float\n",
    "df_firm['2Y_bond'] = df_firm['2Y_bond'].astype(float)\n",
    "df_firm['Annual_Dividend_Yield'] = df_firm['Annual_Dividend_Yield'].astype(float)\n",
    "\n",
    "# Calculate forward prices using the formula F = P * e^(r - q)T\n",
    "df_firm['Forward_Price'] = df_firm['PRC'] * np.exp(((df_firm['2Y_bond']/100) - df_firm['Annual_Dividend_Yield']) * df_firm['T'])\n",
    "\n",
    "# Save the updated dataframe with the Forward Price column\n",
    "# updated_file_path = \"/mnt/data/Updated_Firm_Data.csv\"\n",
    "# df_firm.to_csv(updated_file_path, index=False)\n"
   ]
  },
  {
   "cell_type": "markdown",
   "metadata": {},
   "source": [
    "## Create the moneyness column"
   ]
  },
  {
   "cell_type": "code",
   "execution_count": 19,
   "metadata": {},
   "outputs": [],
   "source": [
    "merged_df = df_firm"
   ]
  },
  {
   "cell_type": "code",
   "execution_count": 20,
   "metadata": {},
   "outputs": [
    {
     "data": {
      "text/html": [
       "<div>\n",
       "<style scoped>\n",
       "    .dataframe tbody tr th:only-of-type {\n",
       "        vertical-align: middle;\n",
       "    }\n",
       "\n",
       "    .dataframe tbody tr th {\n",
       "        vertical-align: top;\n",
       "    }\n",
       "\n",
       "    .dataframe thead th {\n",
       "        text-align: right;\n",
       "    }\n",
       "</style>\n",
       "<table border=\"1\" class=\"dataframe\">\n",
       "  <thead>\n",
       "    <tr style=\"text-align: right;\">\n",
       "      <th></th>\n",
       "      <th>date</th>\n",
       "      <th>cp_flag</th>\n",
       "      <th>Ticker</th>\n",
       "      <th>strike_price</th>\n",
       "      <th>PRC</th>\n",
       "      <th>trading_days_till_exp</th>\n",
       "      <th>moneyness</th>\n",
       "      <th>prc_option</th>\n",
       "      <th>BIDLO</th>\n",
       "      <th>ASKHI</th>\n",
       "    </tr>\n",
       "  </thead>\n",
       "  <tbody>\n",
       "    <tr>\n",
       "      <th>0</th>\n",
       "      <td>2016-01-04</td>\n",
       "      <td>C</td>\n",
       "      <td>AMZN</td>\n",
       "      <td>580000</td>\n",
       "      <td>NaN</td>\n",
       "      <td>4</td>\n",
       "      <td>NaN</td>\n",
       "      <td>57.100</td>\n",
       "      <td>NaN</td>\n",
       "      <td>NaN</td>\n",
       "    </tr>\n",
       "    <tr>\n",
       "      <th>1</th>\n",
       "      <td>2016-01-04</td>\n",
       "      <td>C</td>\n",
       "      <td>AMZN</td>\n",
       "      <td>590000</td>\n",
       "      <td>NaN</td>\n",
       "      <td>4</td>\n",
       "      <td>NaN</td>\n",
       "      <td>47.650</td>\n",
       "      <td>NaN</td>\n",
       "      <td>NaN</td>\n",
       "    </tr>\n",
       "    <tr>\n",
       "      <th>2</th>\n",
       "      <td>2016-01-04</td>\n",
       "      <td>C</td>\n",
       "      <td>AMZN</td>\n",
       "      <td>595000</td>\n",
       "      <td>NaN</td>\n",
       "      <td>4</td>\n",
       "      <td>NaN</td>\n",
       "      <td>42.975</td>\n",
       "      <td>NaN</td>\n",
       "      <td>NaN</td>\n",
       "    </tr>\n",
       "    <tr>\n",
       "      <th>3</th>\n",
       "      <td>2016-01-04</td>\n",
       "      <td>C</td>\n",
       "      <td>AMZN</td>\n",
       "      <td>600000</td>\n",
       "      <td>NaN</td>\n",
       "      <td>4</td>\n",
       "      <td>NaN</td>\n",
       "      <td>38.525</td>\n",
       "      <td>NaN</td>\n",
       "      <td>NaN</td>\n",
       "    </tr>\n",
       "    <tr>\n",
       "      <th>4</th>\n",
       "      <td>2016-01-04</td>\n",
       "      <td>C</td>\n",
       "      <td>AMZN</td>\n",
       "      <td>605000</td>\n",
       "      <td>NaN</td>\n",
       "      <td>4</td>\n",
       "      <td>NaN</td>\n",
       "      <td>33.900</td>\n",
       "      <td>NaN</td>\n",
       "      <td>NaN</td>\n",
       "    </tr>\n",
       "    <tr>\n",
       "      <th>...</th>\n",
       "      <td>...</td>\n",
       "      <td>...</td>\n",
       "      <td>...</td>\n",
       "      <td>...</td>\n",
       "      <td>...</td>\n",
       "      <td>...</td>\n",
       "      <td>...</td>\n",
       "      <td>...</td>\n",
       "      <td>...</td>\n",
       "      <td>...</td>\n",
       "    </tr>\n",
       "    <tr>\n",
       "      <th>10130037</th>\n",
       "      <td>2022-01-31</td>\n",
       "      <td>P</td>\n",
       "      <td>META</td>\n",
       "      <td>410000</td>\n",
       "      <td>NaN</td>\n",
       "      <td>243</td>\n",
       "      <td>NaN</td>\n",
       "      <td>106.500</td>\n",
       "      <td>NaN</td>\n",
       "      <td>NaN</td>\n",
       "    </tr>\n",
       "    <tr>\n",
       "      <th>10130038</th>\n",
       "      <td>2022-01-31</td>\n",
       "      <td>P</td>\n",
       "      <td>META</td>\n",
       "      <td>435000</td>\n",
       "      <td>NaN</td>\n",
       "      <td>243</td>\n",
       "      <td>NaN</td>\n",
       "      <td>127.800</td>\n",
       "      <td>NaN</td>\n",
       "      <td>NaN</td>\n",
       "    </tr>\n",
       "    <tr>\n",
       "      <th>10130039</th>\n",
       "      <td>2022-01-31</td>\n",
       "      <td>P</td>\n",
       "      <td>META</td>\n",
       "      <td>440000</td>\n",
       "      <td>NaN</td>\n",
       "      <td>243</td>\n",
       "      <td>NaN</td>\n",
       "      <td>132.550</td>\n",
       "      <td>NaN</td>\n",
       "      <td>NaN</td>\n",
       "    </tr>\n",
       "    <tr>\n",
       "      <th>10130040</th>\n",
       "      <td>2022-01-31</td>\n",
       "      <td>P</td>\n",
       "      <td>META</td>\n",
       "      <td>445000</td>\n",
       "      <td>NaN</td>\n",
       "      <td>243</td>\n",
       "      <td>NaN</td>\n",
       "      <td>136.900</td>\n",
       "      <td>NaN</td>\n",
       "      <td>NaN</td>\n",
       "    </tr>\n",
       "    <tr>\n",
       "      <th>10130041</th>\n",
       "      <td>2022-01-31</td>\n",
       "      <td>P</td>\n",
       "      <td>META</td>\n",
       "      <td>470000</td>\n",
       "      <td>NaN</td>\n",
       "      <td>243</td>\n",
       "      <td>NaN</td>\n",
       "      <td>159.900</td>\n",
       "      <td>NaN</td>\n",
       "      <td>NaN</td>\n",
       "    </tr>\n",
       "  </tbody>\n",
       "</table>\n",
       "<p>10130042 rows × 10 columns</p>\n",
       "</div>"
      ],
      "text/plain": [
       "               date cp_flag Ticker  strike_price  PRC  trading_days_till_exp  \\\n",
       "0        2016-01-04       C   AMZN        580000  NaN                      4   \n",
       "1        2016-01-04       C   AMZN        590000  NaN                      4   \n",
       "2        2016-01-04       C   AMZN        595000  NaN                      4   \n",
       "3        2016-01-04       C   AMZN        600000  NaN                      4   \n",
       "4        2016-01-04       C   AMZN        605000  NaN                      4   \n",
       "...             ...     ...    ...           ...  ...                    ...   \n",
       "10130037 2022-01-31       P   META        410000  NaN                    243   \n",
       "10130038 2022-01-31       P   META        435000  NaN                    243   \n",
       "10130039 2022-01-31       P   META        440000  NaN                    243   \n",
       "10130040 2022-01-31       P   META        445000  NaN                    243   \n",
       "10130041 2022-01-31       P   META        470000  NaN                    243   \n",
       "\n",
       "          moneyness  prc_option  BIDLO  ASKHI  \n",
       "0               NaN      57.100    NaN    NaN  \n",
       "1               NaN      47.650    NaN    NaN  \n",
       "2               NaN      42.975    NaN    NaN  \n",
       "3               NaN      38.525    NaN    NaN  \n",
       "4               NaN      33.900    NaN    NaN  \n",
       "...             ...         ...    ...    ...  \n",
       "10130037        NaN     106.500    NaN    NaN  \n",
       "10130038        NaN     127.800    NaN    NaN  \n",
       "10130039        NaN     132.550    NaN    NaN  \n",
       "10130040        NaN     136.900    NaN    NaN  \n",
       "10130041        NaN     159.900    NaN    NaN  \n",
       "\n",
       "[10130042 rows x 10 columns]"
      ]
     },
     "execution_count": 20,
     "metadata": {},
     "output_type": "execute_result"
    }
   ],
   "source": [
    "merged_df['moneyness'] = ((merged_df['PRC']) / (merged_df['strike_price']/1000))\n",
    "\n",
    "merged_df[['date', 'cp_flag', 'Ticker', 'strike_price', 'PRC', 'trading_days_till_exp', 'moneyness', 'prc_option', 'BIDLO', 'ASKHI']]"
   ]
  },
  {
   "cell_type": "markdown",
   "metadata": {},
   "source": [
    "## Create the trading_day column"
   ]
  },
  {
   "cell_type": "code",
   "execution_count": 21,
   "metadata": {},
   "outputs": [],
   "source": [
    "# Sort the DataFrame by date\n",
    "merged_df = merged_df.sort_values('date')\n",
    "\n",
    "# Create a new column 'trading_day' that ranks each unique date\n",
    "merged_df['trading_day'] = merged_df['date'].rank(method='dense').astype(int)"
   ]
  },
  {
   "cell_type": "code",
   "execution_count": 22,
   "metadata": {},
   "outputs": [
    {
     "data": {
      "text/html": [
       "<div>\n",
       "<style scoped>\n",
       "    .dataframe tbody tr th:only-of-type {\n",
       "        vertical-align: middle;\n",
       "    }\n",
       "\n",
       "    .dataframe tbody tr th {\n",
       "        vertical-align: top;\n",
       "    }\n",
       "\n",
       "    .dataframe thead th {\n",
       "        text-align: right;\n",
       "    }\n",
       "</style>\n",
       "<table border=\"1\" class=\"dataframe\">\n",
       "  <thead>\n",
       "    <tr style=\"text-align: right;\">\n",
       "      <th></th>\n",
       "      <th>date</th>\n",
       "      <th>exdate</th>\n",
       "      <th>cp_flag</th>\n",
       "      <th>strike_price</th>\n",
       "      <th>best_bid</th>\n",
       "      <th>best_offer</th>\n",
       "      <th>volume</th>\n",
       "      <th>open_interest</th>\n",
       "      <th>impl_volatility</th>\n",
       "      <th>delta</th>\n",
       "      <th>...</th>\n",
       "      <th>BIDLO</th>\n",
       "      <th>ASKHI</th>\n",
       "      <th>Year</th>\n",
       "      <th>Annual_Dividend_Yield</th>\n",
       "      <th>T</th>\n",
       "      <th>DATE</th>\n",
       "      <th>2Y_bond</th>\n",
       "      <th>Forward_Price</th>\n",
       "      <th>moneyness</th>\n",
       "      <th>trading_day</th>\n",
       "    </tr>\n",
       "  </thead>\n",
       "  <tbody>\n",
       "    <tr>\n",
       "      <th>213487</th>\n",
       "      <td>2016-01-04</td>\n",
       "      <td>2016-10-21</td>\n",
       "      <td>P</td>\n",
       "      <td>97500</td>\n",
       "      <td>7.00</td>\n",
       "      <td>7.05</td>\n",
       "      <td>67</td>\n",
       "      <td>289</td>\n",
       "      <td>0.282882</td>\n",
       "      <td>-0.341347</td>\n",
       "      <td>...</td>\n",
       "      <td>NaN</td>\n",
       "      <td>NaN</td>\n",
       "      <td>2016</td>\n",
       "      <td>0.0</td>\n",
       "      <td>0.805556</td>\n",
       "      <td>2016-01-04</td>\n",
       "      <td>NaN</td>\n",
       "      <td>NaN</td>\n",
       "      <td>NaN</td>\n",
       "      <td>1</td>\n",
       "    </tr>\n",
       "    <tr>\n",
       "      <th>213054</th>\n",
       "      <td>2016-01-04</td>\n",
       "      <td>2016-01-22</td>\n",
       "      <td>C</td>\n",
       "      <td>105000</td>\n",
       "      <td>2.75</td>\n",
       "      <td>2.79</td>\n",
       "      <td>1923</td>\n",
       "      <td>586</td>\n",
       "      <td>0.283610</td>\n",
       "      <td>0.528150</td>\n",
       "      <td>...</td>\n",
       "      <td>NaN</td>\n",
       "      <td>NaN</td>\n",
       "      <td>2016</td>\n",
       "      <td>0.0</td>\n",
       "      <td>0.051587</td>\n",
       "      <td>2016-01-04</td>\n",
       "      <td>NaN</td>\n",
       "      <td>NaN</td>\n",
       "      <td>NaN</td>\n",
       "      <td>1</td>\n",
       "    </tr>\n",
       "    <tr>\n",
       "      <th>213053</th>\n",
       "      <td>2016-01-04</td>\n",
       "      <td>2016-01-22</td>\n",
       "      <td>C</td>\n",
       "      <td>104000</td>\n",
       "      <td>3.30</td>\n",
       "      <td>3.45</td>\n",
       "      <td>568</td>\n",
       "      <td>144</td>\n",
       "      <td>0.291433</td>\n",
       "      <td>0.586616</td>\n",
       "      <td>...</td>\n",
       "      <td>NaN</td>\n",
       "      <td>NaN</td>\n",
       "      <td>2016</td>\n",
       "      <td>0.0</td>\n",
       "      <td>0.051587</td>\n",
       "      <td>2016-01-04</td>\n",
       "      <td>NaN</td>\n",
       "      <td>NaN</td>\n",
       "      <td>NaN</td>\n",
       "      <td>1</td>\n",
       "    </tr>\n",
       "    <tr>\n",
       "      <th>213052</th>\n",
       "      <td>2016-01-04</td>\n",
       "      <td>2016-01-22</td>\n",
       "      <td>C</td>\n",
       "      <td>103000</td>\n",
       "      <td>3.95</td>\n",
       "      <td>4.20</td>\n",
       "      <td>680</td>\n",
       "      <td>63</td>\n",
       "      <td>0.303918</td>\n",
       "      <td>0.639203</td>\n",
       "      <td>...</td>\n",
       "      <td>NaN</td>\n",
       "      <td>NaN</td>\n",
       "      <td>2016</td>\n",
       "      <td>0.0</td>\n",
       "      <td>0.051587</td>\n",
       "      <td>2016-01-04</td>\n",
       "      <td>NaN</td>\n",
       "      <td>NaN</td>\n",
       "      <td>NaN</td>\n",
       "      <td>1</td>\n",
       "    </tr>\n",
       "    <tr>\n",
       "      <th>213051</th>\n",
       "      <td>2016-01-04</td>\n",
       "      <td>2016-01-22</td>\n",
       "      <td>C</td>\n",
       "      <td>100000</td>\n",
       "      <td>6.20</td>\n",
       "      <td>6.40</td>\n",
       "      <td>2764</td>\n",
       "      <td>319</td>\n",
       "      <td>0.324789</td>\n",
       "      <td>0.773704</td>\n",
       "      <td>...</td>\n",
       "      <td>NaN</td>\n",
       "      <td>NaN</td>\n",
       "      <td>2016</td>\n",
       "      <td>0.0</td>\n",
       "      <td>0.051587</td>\n",
       "      <td>2016-01-04</td>\n",
       "      <td>NaN</td>\n",
       "      <td>NaN</td>\n",
       "      <td>NaN</td>\n",
       "      <td>1</td>\n",
       "    </tr>\n",
       "    <tr>\n",
       "      <th>...</th>\n",
       "      <td>...</td>\n",
       "      <td>...</td>\n",
       "      <td>...</td>\n",
       "      <td>...</td>\n",
       "      <td>...</td>\n",
       "      <td>...</td>\n",
       "      <td>...</td>\n",
       "      <td>...</td>\n",
       "      <td>...</td>\n",
       "      <td>...</td>\n",
       "      <td>...</td>\n",
       "      <td>...</td>\n",
       "      <td>...</td>\n",
       "      <td>...</td>\n",
       "      <td>...</td>\n",
       "      <td>...</td>\n",
       "      <td>...</td>\n",
       "      <td>...</td>\n",
       "      <td>...</td>\n",
       "      <td>...</td>\n",
       "      <td>...</td>\n",
       "    </tr>\n",
       "    <tr>\n",
       "      <th>9974877</th>\n",
       "      <td>2022-01-31</td>\n",
       "      <td>2022-06-17</td>\n",
       "      <td>C</td>\n",
       "      <td>97500</td>\n",
       "      <td>77.55</td>\n",
       "      <td>77.85</td>\n",
       "      <td>12</td>\n",
       "      <td>4972</td>\n",
       "      <td>0.517898</td>\n",
       "      <td>0.976582</td>\n",
       "      <td>...</td>\n",
       "      <td>NaN</td>\n",
       "      <td>NaN</td>\n",
       "      <td>2022</td>\n",
       "      <td>0.0</td>\n",
       "      <td>0.384921</td>\n",
       "      <td>2022-01-31</td>\n",
       "      <td>NaN</td>\n",
       "      <td>NaN</td>\n",
       "      <td>NaN</td>\n",
       "      <td>1531</td>\n",
       "    </tr>\n",
       "    <tr>\n",
       "      <th>9974876</th>\n",
       "      <td>2022-01-31</td>\n",
       "      <td>2022-06-17</td>\n",
       "      <td>C</td>\n",
       "      <td>95000</td>\n",
       "      <td>80.00</td>\n",
       "      <td>80.30</td>\n",
       "      <td>210</td>\n",
       "      <td>6639</td>\n",
       "      <td>0.529404</td>\n",
       "      <td>0.978823</td>\n",
       "      <td>...</td>\n",
       "      <td>NaN</td>\n",
       "      <td>NaN</td>\n",
       "      <td>2022</td>\n",
       "      <td>0.0</td>\n",
       "      <td>0.384921</td>\n",
       "      <td>2022-01-31</td>\n",
       "      <td>NaN</td>\n",
       "      <td>NaN</td>\n",
       "      <td>NaN</td>\n",
       "      <td>1531</td>\n",
       "    </tr>\n",
       "    <tr>\n",
       "      <th>9974875</th>\n",
       "      <td>2022-01-31</td>\n",
       "      <td>2022-06-17</td>\n",
       "      <td>C</td>\n",
       "      <td>92500</td>\n",
       "      <td>82.45</td>\n",
       "      <td>82.75</td>\n",
       "      <td>5</td>\n",
       "      <td>2363</td>\n",
       "      <td>0.540346</td>\n",
       "      <td>0.980973</td>\n",
       "      <td>...</td>\n",
       "      <td>NaN</td>\n",
       "      <td>NaN</td>\n",
       "      <td>2022</td>\n",
       "      <td>0.0</td>\n",
       "      <td>0.384921</td>\n",
       "      <td>2022-01-31</td>\n",
       "      <td>NaN</td>\n",
       "      <td>NaN</td>\n",
       "      <td>NaN</td>\n",
       "      <td>1531</td>\n",
       "    </tr>\n",
       "    <tr>\n",
       "      <th>9974874</th>\n",
       "      <td>2022-01-31</td>\n",
       "      <td>2022-06-17</td>\n",
       "      <td>C</td>\n",
       "      <td>90000</td>\n",
       "      <td>84.90</td>\n",
       "      <td>85.20</td>\n",
       "      <td>5</td>\n",
       "      <td>3868</td>\n",
       "      <td>0.550289</td>\n",
       "      <td>0.983191</td>\n",
       "      <td>...</td>\n",
       "      <td>NaN</td>\n",
       "      <td>NaN</td>\n",
       "      <td>2022</td>\n",
       "      <td>0.0</td>\n",
       "      <td>0.384921</td>\n",
       "      <td>2022-01-31</td>\n",
       "      <td>NaN</td>\n",
       "      <td>NaN</td>\n",
       "      <td>NaN</td>\n",
       "      <td>1531</td>\n",
       "    </tr>\n",
       "    <tr>\n",
       "      <th>9974872</th>\n",
       "      <td>2022-01-31</td>\n",
       "      <td>2022-06-17</td>\n",
       "      <td>C</td>\n",
       "      <td>85000</td>\n",
       "      <td>89.80</td>\n",
       "      <td>90.15</td>\n",
       "      <td>6</td>\n",
       "      <td>3855</td>\n",
       "      <td>0.573788</td>\n",
       "      <td>0.986584</td>\n",
       "      <td>...</td>\n",
       "      <td>NaN</td>\n",
       "      <td>NaN</td>\n",
       "      <td>2022</td>\n",
       "      <td>0.0</td>\n",
       "      <td>0.384921</td>\n",
       "      <td>2022-01-31</td>\n",
       "      <td>NaN</td>\n",
       "      <td>NaN</td>\n",
       "      <td>NaN</td>\n",
       "      <td>1531</td>\n",
       "    </tr>\n",
       "  </tbody>\n",
       "</table>\n",
       "<p>1129871 rows × 28 columns</p>\n",
       "</div>"
      ],
      "text/plain": [
       "              date     exdate cp_flag  strike_price  best_bid  best_offer  \\\n",
       "213487  2016-01-04 2016-10-21       P         97500      7.00        7.05   \n",
       "213054  2016-01-04 2016-01-22       C        105000      2.75        2.79   \n",
       "213053  2016-01-04 2016-01-22       C        104000      3.30        3.45   \n",
       "213052  2016-01-04 2016-01-22       C        103000      3.95        4.20   \n",
       "213051  2016-01-04 2016-01-22       C        100000      6.20        6.40   \n",
       "...            ...        ...     ...           ...       ...         ...   \n",
       "9974877 2022-01-31 2022-06-17       C         97500     77.55       77.85   \n",
       "9974876 2022-01-31 2022-06-17       C         95000     80.00       80.30   \n",
       "9974875 2022-01-31 2022-06-17       C         92500     82.45       82.75   \n",
       "9974874 2022-01-31 2022-06-17       C         90000     84.90       85.20   \n",
       "9974872 2022-01-31 2022-06-17       C         85000     89.80       90.15   \n",
       "\n",
       "         volume  open_interest  impl_volatility     delta  ...  BIDLO  ASKHI  \\\n",
       "213487       67            289         0.282882 -0.341347  ...    NaN    NaN   \n",
       "213054     1923            586         0.283610  0.528150  ...    NaN    NaN   \n",
       "213053      568            144         0.291433  0.586616  ...    NaN    NaN   \n",
       "213052      680             63         0.303918  0.639203  ...    NaN    NaN   \n",
       "213051     2764            319         0.324789  0.773704  ...    NaN    NaN   \n",
       "...         ...            ...              ...       ...  ...    ...    ...   \n",
       "9974877      12           4972         0.517898  0.976582  ...    NaN    NaN   \n",
       "9974876     210           6639         0.529404  0.978823  ...    NaN    NaN   \n",
       "9974875       5           2363         0.540346  0.980973  ...    NaN    NaN   \n",
       "9974874       5           3868         0.550289  0.983191  ...    NaN    NaN   \n",
       "9974872       6           3855         0.573788  0.986584  ...    NaN    NaN   \n",
       "\n",
       "         Year Annual_Dividend_Yield         T       DATE  2Y_bond  \\\n",
       "213487   2016                   0.0  0.805556 2016-01-04      NaN   \n",
       "213054   2016                   0.0  0.051587 2016-01-04      NaN   \n",
       "213053   2016                   0.0  0.051587 2016-01-04      NaN   \n",
       "213052   2016                   0.0  0.051587 2016-01-04      NaN   \n",
       "213051   2016                   0.0  0.051587 2016-01-04      NaN   \n",
       "...       ...                   ...       ...        ...      ...   \n",
       "9974877  2022                   0.0  0.384921 2022-01-31      NaN   \n",
       "9974876  2022                   0.0  0.384921 2022-01-31      NaN   \n",
       "9974875  2022                   0.0  0.384921 2022-01-31      NaN   \n",
       "9974874  2022                   0.0  0.384921 2022-01-31      NaN   \n",
       "9974872  2022                   0.0  0.384921 2022-01-31      NaN   \n",
       "\n",
       "         Forward_Price  moneyness  trading_day  \n",
       "213487             NaN        NaN            1  \n",
       "213054             NaN        NaN            1  \n",
       "213053             NaN        NaN            1  \n",
       "213052             NaN        NaN            1  \n",
       "213051             NaN        NaN            1  \n",
       "...                ...        ...          ...  \n",
       "9974877            NaN        NaN         1531  \n",
       "9974876            NaN        NaN         1531  \n",
       "9974875            NaN        NaN         1531  \n",
       "9974874            NaN        NaN         1531  \n",
       "9974872            NaN        NaN         1531  \n",
       "\n",
       "[1129871 rows x 28 columns]"
      ]
     },
     "execution_count": 22,
     "metadata": {},
     "output_type": "execute_result"
    }
   ],
   "source": [
    "stock_aapl = merged_df[merged_df['Ticker'] == 'AAPL']\n",
    "stock_aapl"
   ]
  },
  {
   "cell_type": "markdown",
   "metadata": {},
   "source": [
    "# Create a few filters for the dataframe and an overview"
   ]
  },
  {
   "cell_type": "code",
   "execution_count": 23,
   "metadata": {},
   "outputs": [],
   "source": [
    "#Create moneyness filter\n",
    "pl_merged = pl.from_pandas(merged_df)\n",
    "\n",
    "pl_merged = pl_merged.filter((pl.col(\"moneyness\") >= moneyness_min) & (pl.col(\"moneyness\") <= moneyness_max))\n",
    "\n",
    "pd_merged = pl_merged.to_pandas()\n"
   ]
  },
  {
   "cell_type": "code",
   "execution_count": 24,
   "metadata": {},
   "outputs": [
    {
     "data": {
      "application/vnd.plotly.v1+json": {
       "config": {
        "plotlyServerURL": "https://plot.ly"
       },
       "data": [
        {
         "marker": {
          "color": [
           1.274687,
           1.172732,
           1.285623,
           1.272555,
           1.259504,
           1.246467,
           1.204147,
           1.22044,
           1.186528,
           1.183079,
           1.160554,
           1.139337,
           1.126352,
           0.994296,
           1.199536,
           1.015072,
           1.367629,
           1.239964,
           2.047121,
           1.665141,
           1.531476,
           1.394704,
           1.491464,
           1.228621,
           1.467625,
           1.421612,
           1.373063,
           1.349615,
           1.350142,
           1.291318,
           1.251324,
           1.443867,
           1.009815,
           0.958659,
           1.039795,
           0.995097,
           0.987457,
           1.012935,
           0.999905,
           0.975447,
           0.980993,
           0.996384,
           0.903674,
           0.941543,
           0.915686,
           0.921086,
           0.861314,
           0.897414,
           2.245438,
           0.884147,
           0.856654,
           0.849583,
           0.49147,
           0.494828,
           0.491127,
           0.485901,
           0.472451,
           0.473974,
           2.892408,
           0.33692,
           0.37151,
           0.371063,
           0.408875,
           0.42118,
           0.435466,
           0.434511,
           0.448277,
           0.454101,
           0.462975,
           0.467692,
           0.472042,
           0.483149,
           0.496854,
           0.500468,
           0.500405,
           0.503915,
           0.506258,
           0.509816,
           0.514657,
           0.51845,
           0.520341,
           0.523703,
           0.526111,
           0.528467,
           0.533597,
           0.535103,
           0.538734,
           0.538516,
           0.54606,
           0.548863,
           0.551146,
           0.700544,
           0.714643,
           0.72138,
           0.726314,
           0.729127,
           0.738615,
           0.753094,
           0.7649,
           0.76222,
           0.77791,
           0.795133,
           0.791783,
           0.809149,
           0.807207,
           0.815275,
           0.822988,
           0.838712,
           0.852405,
           0.841238,
           0.693006,
           0.688433,
           0.682984,
           0.679034,
           0.556659,
           0.560733,
           0.563271,
           0.569116,
           0.573645,
           0.579363,
           0.585925,
           0.592125,
           0.59604,
           0.603067,
           0.617322,
           0.614476,
           0.627751,
           0.635353,
           0.643899,
           0.651809,
           0.657124,
           0.663508,
           0.672655,
           0.610846,
           0.886923,
           0.390253,
           0.391821,
           0.39646,
           0.398086,
           0.40117,
           0.402175,
           0.403728,
           0.411183,
           0.412395,
           0.41249,
           0.413847,
           0.416388,
           0.417452,
           0.417488,
           0.419714,
           0.420891,
           0.422089,
           0.419275,
           0.417926,
           0.425476,
           0.426756,
           0.427401,
           0.427123,
           0.458188,
           0.459504,
           0.460551,
           0.461915,
           0.463309,
           0.464731,
           0.465886,
           0.466769,
           0.46859,
           0.469236,
           0.470543,
           0.471909,
           0.473657,
           0.474524,
           0.476094,
           0.477413,
           0.478471,
           0.479939,
           0.481159,
           0.456603,
           0.455314,
           0.454315,
           0.453039,
           0.427808,
           0.43247,
           0.433445,
           0.434131,
           0.432456,
           0.437016,
           0.437129,
           0.439283,
           0.436796,
           0.439512,
           0.441479,
           0.441328,
           0.444008,
           0.44526,
           0.44594,
           0.44774,
           0.448698,
           0.449662,
           0.451766,
           0.437636,
           0.482819,
           0.484243,
           0.486353,
           0.924229,
           0.880187,
           0.982972,
           1.040711,
           0.914781,
           0.485424,
           0.90096,
           0.828979,
           0.5275,
           0.529088,
           0.531701,
           0.53416,
           0.536459,
           0.538593,
           0.54055,
           0.543013,
           0.54461,
           0.548173,
           0.550152,
           0.55195,
           0.555116,
           0.55737,
           0.56028,
           0.563064,
           0.563154,
           0.568237,
           0.570611,
           0.525712,
           0.572837,
           0.52373,
           0.518669,
           0.488494,
           0.490038,
           0.490956,
           0.492775,
           0.494372,
           0.49574,
           0.496466,
           0.498188,
           0.500116,
           0.500964,
           0.502439,
           0.505034,
           0.506521,
           0.508251,
           0.509765,
           0.512042,
           0.51363,
           0.515517,
           0.517723,
           0.521559,
           0.57678,
           0.579691,
           0.581496,
           0.666845,
           0.673421,
           0.67638,
           0.679694,
           0.681886,
           0.688796,
           0.694943,
           0.698166,
           0.701319,
           0.708536,
           0.706444,
           0.721691,
           0.728825,
           0.735746,
           0.742439,
           0.770761,
           0.784081,
           0.799337,
           0.814287,
           0.662855,
           0.659598,
           0.658155,
           0.65471,
           0.583122,
           0.586225,
           0.59049,
           0.59102,
           0.597542,
           0.602733,
           0.608924,
           0.611743,
           0.613134,
           0.853007,
           0.619507,
           0.624632,
           0.62731,
           0.631401,
           0.633891,
           0.637855,
           0.640143,
           0.643306,
           0.644325,
           0.652274,
           0.622412,
           0.389501,
           0.385501,
           0.384202,
           0.382469,
           0.378679,
           0.374995,
           0.368933,
           0.363729,
           0.340757
          ],
          "colorscale": [
           [
            0,
            "#440154"
           ],
           [
            0.1111111111111111,
            "#482878"
           ],
           [
            0.2222222222222222,
            "#3e4989"
           ],
           [
            0.3333333333333333,
            "#31688e"
           ],
           [
            0.4444444444444444,
            "#26828e"
           ],
           [
            0.5555555555555556,
            "#1f9e89"
           ],
           [
            0.6666666666666666,
            "#35b779"
           ],
           [
            0.7777777777777778,
            "#6ece58"
           ],
           [
            0.8888888888888888,
            "#b5de2b"
           ],
           [
            1,
            "#fde725"
           ]
          ],
          "opacity": 0.8,
          "size": 3
         },
         "mode": "markers",
         "type": "scatter3d",
         "x": [
          1.2362489959839358,
          1.2313040000000002,
          1.2239602385685886,
          1.221531746031746,
          1.2191128712871289,
          1.216703557312253,
          1.241233870967742,
          1.2119133858267717,
          1.2047984344422702,
          1.2024453125,
          1.2001013645224172,
          1.1954407766990292,
          1.193124031007752,
          1.1885173745173745,
          1.2071607843137255,
          1.1862273603082854,
          1.2513252032520326,
          1.2641724845995894,
          1.4658380952380954,
          1.399209090909091,
          1.3442183406113537,
          1.3268362068965518,
          1.3154957264957265,
          1.2615819672131148,
          1.3098978723404255,
          1.2933865546218488,
          1.2879748953974897,
          1.2826083333333334,
          1.277286307053942,
          1.2693855670103094,
          1.2667736625514405,
          1.3043474576271188,
          1.183946153846154,
          1.1816737044145875,
          1.1794099616858238,
          1.174908396946565,
          1.1726704761904763,
          1.1704410646387833,
          1.1682201138519925,
          1.1660075757575759,
          1.163803402646503,
          1.1616075471698113,
          1.1572406015037595,
          1.1550694183864916,
          1.1529063670411985,
          1.150751401869159,
          1.1486044776119404,
          1.146465549348231,
          1.53913,
          1.1443345724907064,
          1.1422115027829314,
          1.137988909426987,
          1.015927392739274,
          1.017606611570248,
          1.0192913907284769,
          1.0142537067545305,
          1.0125855263157895,
          1.0092655737704919,
          1.5867319587628868,
          0.9897942122186496,
          0.9913880837359099,
          0.9929870967741936,
          0.9945912762520195,
          0.996200647249191,
          0.9978152350081038,
          0.999435064935065,
          1.001060162601626,
          1.0026905537459283,
          1.004326264274062,
          1.0059673202614379,
          1.0076137479541736,
          1.0109228243021346,
          1.0209817578772804,
          1.0226777408637875,
          1.024379367720466,
          1.0260866666666668,
          1.0277996661101838,
          1.0295183946488295,
          1.0312428810720269,
          1.032973154362416,
          1.034709243697479,
          1.0364511784511785,
          1.0381989881956155,
          1.0399527027027027,
          1.0417123519458547,
          1.043477966101695,
          1.0452495755517828,
          1.047027210884354,
          1.048810902896082,
          1.0506006825938567,
          1.0523965811965812,
          1.0993785714285715,
          1.1013452593917712,
          1.1033189964157706,
          1.1052998204667865,
          1.1072877697841728,
          1.109282882882883,
          1.1112851985559569,
          1.1132947558770345,
          1.1153115942028986,
          1.1173357531760437,
          1.1193672727272728,
          1.1214061930783243,
          1.1234525547445255,
          1.1255063985374771,
          1.1275677655677656,
          1.1296366972477065,
          1.1317132352941177,
          1.1337974217311235,
          1.135889298892989,
          1.0974188948306596,
          1.0954661921708186,
          1.0935204262877443,
          1.091581560283688,
          1.0541986301369863,
          1.056006861063465,
          1.0578213058419246,
          1.0596419965576593,
          1.0614689655172413,
          1.063302245250432,
          1.0651418685121108,
          1.0669878682842289,
          1.068840277777778,
          1.0706991304347826,
          1.07443630017452,
          1.0763146853146854,
          1.078199649737303,
          1.0800912280701755,
          1.0819894551845344,
          1.0838943661971832,
          1.0858059964726632,
          1.0877243816254418,
          1.089649557522124,
          1.0725644599303137,
          1.1400962962962964,
          0.9544992248062016,
          0.9559813664596274,
          0.960455538221529,
          0.9619562500000001,
          0.9649717868338559,
          0.966486656200942,
          0.9680062893081761,
          0.9710599369085174,
          0.9725939968404425,
          0.9741329113924051,
          0.975676703645008,
          0.9772253968253969,
          0.9787790143084262,
          0.9803375796178344,
          0.9819011164274323,
          0.9834696485623003,
          0.9850432000000001,
          0.9866217948717949,
          0.9882054574638846,
          0.9897942122186496,
          0.9913880837359099,
          0.9929870967741936,
          0.9945912762520195,
          1.0364511784511785,
          1.0381989881956155,
          1.0399527027027027,
          1.0417123519458547,
          1.043477966101695,
          1.0452495755517828,
          1.047027210884354,
          1.048810902896082,
          1.0506006825938567,
          1.0523965811965812,
          1.0541986301369863,
          1.056006861063465,
          1.0578213058419246,
          1.0596419965576593,
          1.0614689655172413,
          1.063302245250432,
          1.0651418685121108,
          1.0669878682842289,
          1.068840277777778,
          1.034709243697479,
          1.032973154362416,
          1.0312428810720269,
          1.0295183946488295,
          0.996200647249191,
          0.9978152350081038,
          0.999435064935065,
          1.001060162601626,
          1.0026905537459283,
          1.004326264274062,
          1.0059673202614379,
          1.0076137479541736,
          1.0092655737704919,
          1.0109228243021346,
          1.0142537067545305,
          1.015927392739274,
          1.017606611570248,
          1.0192913907284769,
          1.0209817578772804,
          1.0226777408637875,
          1.024379367720466,
          1.0260866666666668,
          1.0277996661101838,
          1.0125855263157895,
          1.0706991304347826,
          1.0725644599303137,
          1.0763146853146854,
          1.4588909952606637,
          1.4658380952380954,
          1.508950980392157,
          1.53913,
          1.4520094339622642,
          1.07443630017452,
          1.4384392523364486,
          1.3742232142857145,
          1.1234525547445255,
          1.1255063985374771,
          1.1275677655677656,
          1.1296366972477065,
          1.1317132352941177,
          1.1337974217311235,
          1.135889298892989,
          1.137988909426987,
          1.1400962962962964,
          1.1422115027829314,
          1.1443345724907064,
          1.146465549348231,
          1.1486044776119404,
          1.150751401869159,
          1.1529063670411985,
          1.1550694183864916,
          1.1572406015037595,
          1.1594199623352166,
          1.1616075471698113,
          1.1214061930783243,
          1.163803402646503,
          1.1193672727272728,
          1.1153115942028986,
          1.078199649737303,
          1.0800912280701755,
          1.0819894551845344,
          1.0838943661971832,
          1.0858059964726632,
          1.0877243816254418,
          1.089649557522124,
          1.091581560283688,
          1.0935204262877443,
          1.0954661921708186,
          1.0974188948306596,
          1.0993785714285715,
          1.1013452593917712,
          1.1033189964157706,
          1.1052998204667865,
          1.1072877697841728,
          1.109282882882883,
          1.1112851985559569,
          1.1132947558770345,
          1.1173357531760437,
          1.1660075757575759,
          1.1682201138519925,
          1.1704410646387833,
          1.241233870967742,
          1.246259109311741,
          1.2487870182555783,
          1.2513252032520326,
          1.2564326530612246,
          1.2615819672131148,
          1.2667736625514405,
          1.2693855670103094,
          1.27200826446281,
          1.277286307053942,
          1.2826083333333334,
          1.2879748953974897,
          1.2933865546218488,
          1.2988438818565402,
          1.3043474576271188,
          1.3268362068965518,
          1.3383739130434784,
          1.3501140350877194,
          1.3681155555555558,
          1.2387364185110665,
          1.2362489959839358,
          1.2337715430861724,
          1.2313040000000002,
          1.1726704761904763,
          1.174908396946565,
          1.1771548757170174,
          1.1794099616858238,
          1.183946153846154,
          1.1885173745173745,
          1.193124031007752,
          1.1954407766990292,
          1.1977665369649806,
          1.399209090909091,
          1.2024453125,
          1.2071607843137255,
          1.209532416502947,
          1.2119133858267717,
          1.2143037475345169,
          1.216703557312253,
          1.2191128712871289,
          1.221531746031746,
          1.2239602385685886,
          1.2288463073852296,
          1.2047984344422702,
          0.9530216718266254,
          0.9500802469135803,
          0.9486163328197227,
          0.9471569230769231,
          0.9457019969278034,
          0.9442515337423314,
          0.9384939024390244,
          0.9356413373860183,
          0.9313948562783662
         ],
         "y": [
          1,
          1,
          1,
          1,
          1,
          1,
          1,
          1,
          1,
          1,
          1,
          1,
          1,
          1,
          1,
          1,
          1,
          1,
          1,
          1,
          1,
          1,
          1,
          1,
          1,
          1,
          1,
          1,
          1,
          1,
          1,
          1,
          1,
          1,
          1,
          1,
          1,
          1,
          1,
          1,
          1,
          1,
          1,
          1,
          1,
          1,
          1,
          1,
          1,
          1,
          1,
          1,
          1,
          1,
          1,
          1,
          1,
          1,
          1,
          1,
          1,
          1,
          1,
          1,
          1,
          1,
          1,
          1,
          1,
          1,
          1,
          1,
          1,
          1,
          1,
          1,
          1,
          1,
          1,
          1,
          1,
          1,
          1,
          1,
          1,
          1,
          1,
          1,
          1,
          1,
          1,
          1,
          1,
          1,
          1,
          1,
          1,
          1,
          1,
          1,
          1,
          1,
          1,
          1,
          1,
          1,
          1,
          1,
          1,
          1,
          1,
          1,
          1,
          1,
          1,
          1,
          1,
          1,
          1,
          1,
          1,
          1,
          1,
          1,
          1,
          1,
          1,
          1,
          1,
          1,
          1,
          1,
          1,
          1,
          1,
          6,
          6,
          6,
          6,
          6,
          6,
          6,
          6,
          6,
          6,
          6,
          6,
          6,
          6,
          6,
          6,
          6,
          6,
          6,
          6,
          6,
          6,
          6,
          6,
          6,
          6,
          6,
          6,
          6,
          6,
          6,
          6,
          6,
          6,
          6,
          6,
          6,
          6,
          6,
          6,
          6,
          6,
          6,
          6,
          6,
          6,
          6,
          6,
          6,
          6,
          6,
          6,
          6,
          6,
          6,
          6,
          6,
          6,
          6,
          6,
          6,
          6,
          6,
          6,
          6,
          6,
          6,
          6,
          6,
          6,
          6,
          6,
          6,
          6,
          6,
          6,
          6,
          6,
          6,
          6,
          6,
          6,
          6,
          6,
          6,
          6,
          6,
          6,
          6,
          6,
          6,
          6,
          6,
          6,
          6,
          6,
          6,
          6,
          6,
          6,
          6,
          6,
          6,
          6,
          6,
          6,
          6,
          6,
          6,
          6,
          6,
          6,
          6,
          6,
          6,
          6,
          6,
          6,
          6,
          6,
          6,
          6,
          6,
          6,
          6,
          6,
          6,
          6,
          6,
          6,
          6,
          6,
          6,
          6,
          6,
          6,
          6,
          6,
          6,
          6,
          6,
          6,
          6,
          6,
          6,
          6,
          6,
          6,
          6,
          6,
          6,
          6,
          6,
          6,
          6,
          6,
          6,
          6,
          6,
          6,
          6,
          6,
          6,
          6,
          6,
          6,
          6,
          6,
          6,
          6,
          6,
          6,
          6,
          6,
          6,
          6
         ],
         "z": [
          1.274687,
          1.172732,
          1.285623,
          1.272555,
          1.259504,
          1.246467,
          1.204147,
          1.22044,
          1.186528,
          1.183079,
          1.160554,
          1.139337,
          1.126352,
          0.994296,
          1.199536,
          1.015072,
          1.367629,
          1.239964,
          2.047121,
          1.665141,
          1.531476,
          1.394704,
          1.491464,
          1.228621,
          1.467625,
          1.421612,
          1.373063,
          1.349615,
          1.350142,
          1.291318,
          1.251324,
          1.443867,
          1.009815,
          0.958659,
          1.039795,
          0.995097,
          0.987457,
          1.012935,
          0.999905,
          0.975447,
          0.980993,
          0.996384,
          0.903674,
          0.941543,
          0.915686,
          0.921086,
          0.861314,
          0.897414,
          2.245438,
          0.884147,
          0.856654,
          0.849583,
          0.49147,
          0.494828,
          0.491127,
          0.485901,
          0.472451,
          0.473974,
          2.892408,
          0.33692,
          0.37151,
          0.371063,
          0.408875,
          0.42118,
          0.435466,
          0.434511,
          0.448277,
          0.454101,
          0.462975,
          0.467692,
          0.472042,
          0.483149,
          0.496854,
          0.500468,
          0.500405,
          0.503915,
          0.506258,
          0.509816,
          0.514657,
          0.51845,
          0.520341,
          0.523703,
          0.526111,
          0.528467,
          0.533597,
          0.535103,
          0.538734,
          0.538516,
          0.54606,
          0.548863,
          0.551146,
          0.700544,
          0.714643,
          0.72138,
          0.726314,
          0.729127,
          0.738615,
          0.753094,
          0.7649,
          0.76222,
          0.77791,
          0.795133,
          0.791783,
          0.809149,
          0.807207,
          0.815275,
          0.822988,
          0.838712,
          0.852405,
          0.841238,
          0.693006,
          0.688433,
          0.682984,
          0.679034,
          0.556659,
          0.560733,
          0.563271,
          0.569116,
          0.573645,
          0.579363,
          0.585925,
          0.592125,
          0.59604,
          0.603067,
          0.617322,
          0.614476,
          0.627751,
          0.635353,
          0.643899,
          0.651809,
          0.657124,
          0.663508,
          0.672655,
          0.610846,
          0.886923,
          0.390253,
          0.391821,
          0.39646,
          0.398086,
          0.40117,
          0.402175,
          0.403728,
          0.411183,
          0.412395,
          0.41249,
          0.413847,
          0.416388,
          0.417452,
          0.417488,
          0.419714,
          0.420891,
          0.422089,
          0.419275,
          0.417926,
          0.425476,
          0.426756,
          0.427401,
          0.427123,
          0.458188,
          0.459504,
          0.460551,
          0.461915,
          0.463309,
          0.464731,
          0.465886,
          0.466769,
          0.46859,
          0.469236,
          0.470543,
          0.471909,
          0.473657,
          0.474524,
          0.476094,
          0.477413,
          0.478471,
          0.479939,
          0.481159,
          0.456603,
          0.455314,
          0.454315,
          0.453039,
          0.427808,
          0.43247,
          0.433445,
          0.434131,
          0.432456,
          0.437016,
          0.437129,
          0.439283,
          0.436796,
          0.439512,
          0.441479,
          0.441328,
          0.444008,
          0.44526,
          0.44594,
          0.44774,
          0.448698,
          0.449662,
          0.451766,
          0.437636,
          0.482819,
          0.484243,
          0.486353,
          0.924229,
          0.880187,
          0.982972,
          1.040711,
          0.914781,
          0.485424,
          0.90096,
          0.828979,
          0.5275,
          0.529088,
          0.531701,
          0.53416,
          0.536459,
          0.538593,
          0.54055,
          0.543013,
          0.54461,
          0.548173,
          0.550152,
          0.55195,
          0.555116,
          0.55737,
          0.56028,
          0.563064,
          0.563154,
          0.568237,
          0.570611,
          0.525712,
          0.572837,
          0.52373,
          0.518669,
          0.488494,
          0.490038,
          0.490956,
          0.492775,
          0.494372,
          0.49574,
          0.496466,
          0.498188,
          0.500116,
          0.500964,
          0.502439,
          0.505034,
          0.506521,
          0.508251,
          0.509765,
          0.512042,
          0.51363,
          0.515517,
          0.517723,
          0.521559,
          0.57678,
          0.579691,
          0.581496,
          0.666845,
          0.673421,
          0.67638,
          0.679694,
          0.681886,
          0.688796,
          0.694943,
          0.698166,
          0.701319,
          0.708536,
          0.706444,
          0.721691,
          0.728825,
          0.735746,
          0.742439,
          0.770761,
          0.784081,
          0.799337,
          0.814287,
          0.662855,
          0.659598,
          0.658155,
          0.65471,
          0.583122,
          0.586225,
          0.59049,
          0.59102,
          0.597542,
          0.602733,
          0.608924,
          0.611743,
          0.613134,
          0.853007,
          0.619507,
          0.624632,
          0.62731,
          0.631401,
          0.633891,
          0.637855,
          0.640143,
          0.643306,
          0.644325,
          0.652274,
          0.622412,
          0.389501,
          0.385501,
          0.384202,
          0.382469,
          0.378679,
          0.374995,
          0.368933,
          0.363729,
          0.340757
         ]
        }
       ],
       "layout": {
        "margin": {
         "b": 10,
         "l": 10,
         "r": 20,
         "t": 10
        },
        "scene": {
         "xaxis": {
          "title": {
           "text": "Moneyness"
          }
         },
         "yaxis": {
          "title": {
           "text": "Trading Days till Expiry"
          }
         },
         "zaxis": {
          "title": {
           "text": "Implied Volatility"
          }
         }
        },
        "template": {
         "data": {
          "bar": [
           {
            "error_x": {
             "color": "#2a3f5f"
            },
            "error_y": {
             "color": "#2a3f5f"
            },
            "marker": {
             "line": {
              "color": "#E5ECF6",
              "width": 0.5
             },
             "pattern": {
              "fillmode": "overlay",
              "size": 10,
              "solidity": 0.2
             }
            },
            "type": "bar"
           }
          ],
          "barpolar": [
           {
            "marker": {
             "line": {
              "color": "#E5ECF6",
              "width": 0.5
             },
             "pattern": {
              "fillmode": "overlay",
              "size": 10,
              "solidity": 0.2
             }
            },
            "type": "barpolar"
           }
          ],
          "carpet": [
           {
            "aaxis": {
             "endlinecolor": "#2a3f5f",
             "gridcolor": "white",
             "linecolor": "white",
             "minorgridcolor": "white",
             "startlinecolor": "#2a3f5f"
            },
            "baxis": {
             "endlinecolor": "#2a3f5f",
             "gridcolor": "white",
             "linecolor": "white",
             "minorgridcolor": "white",
             "startlinecolor": "#2a3f5f"
            },
            "type": "carpet"
           }
          ],
          "choropleth": [
           {
            "colorbar": {
             "outlinewidth": 0,
             "ticks": ""
            },
            "type": "choropleth"
           }
          ],
          "contour": [
           {
            "colorbar": {
             "outlinewidth": 0,
             "ticks": ""
            },
            "colorscale": [
             [
              0,
              "#0d0887"
             ],
             [
              0.1111111111111111,
              "#46039f"
             ],
             [
              0.2222222222222222,
              "#7201a8"
             ],
             [
              0.3333333333333333,
              "#9c179e"
             ],
             [
              0.4444444444444444,
              "#bd3786"
             ],
             [
              0.5555555555555556,
              "#d8576b"
             ],
             [
              0.6666666666666666,
              "#ed7953"
             ],
             [
              0.7777777777777778,
              "#fb9f3a"
             ],
             [
              0.8888888888888888,
              "#fdca26"
             ],
             [
              1,
              "#f0f921"
             ]
            ],
            "type": "contour"
           }
          ],
          "contourcarpet": [
           {
            "colorbar": {
             "outlinewidth": 0,
             "ticks": ""
            },
            "type": "contourcarpet"
           }
          ],
          "heatmap": [
           {
            "colorbar": {
             "outlinewidth": 0,
             "ticks": ""
            },
            "colorscale": [
             [
              0,
              "#0d0887"
             ],
             [
              0.1111111111111111,
              "#46039f"
             ],
             [
              0.2222222222222222,
              "#7201a8"
             ],
             [
              0.3333333333333333,
              "#9c179e"
             ],
             [
              0.4444444444444444,
              "#bd3786"
             ],
             [
              0.5555555555555556,
              "#d8576b"
             ],
             [
              0.6666666666666666,
              "#ed7953"
             ],
             [
              0.7777777777777778,
              "#fb9f3a"
             ],
             [
              0.8888888888888888,
              "#fdca26"
             ],
             [
              1,
              "#f0f921"
             ]
            ],
            "type": "heatmap"
           }
          ],
          "heatmapgl": [
           {
            "colorbar": {
             "outlinewidth": 0,
             "ticks": ""
            },
            "colorscale": [
             [
              0,
              "#0d0887"
             ],
             [
              0.1111111111111111,
              "#46039f"
             ],
             [
              0.2222222222222222,
              "#7201a8"
             ],
             [
              0.3333333333333333,
              "#9c179e"
             ],
             [
              0.4444444444444444,
              "#bd3786"
             ],
             [
              0.5555555555555556,
              "#d8576b"
             ],
             [
              0.6666666666666666,
              "#ed7953"
             ],
             [
              0.7777777777777778,
              "#fb9f3a"
             ],
             [
              0.8888888888888888,
              "#fdca26"
             ],
             [
              1,
              "#f0f921"
             ]
            ],
            "type": "heatmapgl"
           }
          ],
          "histogram": [
           {
            "marker": {
             "pattern": {
              "fillmode": "overlay",
              "size": 10,
              "solidity": 0.2
             }
            },
            "type": "histogram"
           }
          ],
          "histogram2d": [
           {
            "colorbar": {
             "outlinewidth": 0,
             "ticks": ""
            },
            "colorscale": [
             [
              0,
              "#0d0887"
             ],
             [
              0.1111111111111111,
              "#46039f"
             ],
             [
              0.2222222222222222,
              "#7201a8"
             ],
             [
              0.3333333333333333,
              "#9c179e"
             ],
             [
              0.4444444444444444,
              "#bd3786"
             ],
             [
              0.5555555555555556,
              "#d8576b"
             ],
             [
              0.6666666666666666,
              "#ed7953"
             ],
             [
              0.7777777777777778,
              "#fb9f3a"
             ],
             [
              0.8888888888888888,
              "#fdca26"
             ],
             [
              1,
              "#f0f921"
             ]
            ],
            "type": "histogram2d"
           }
          ],
          "histogram2dcontour": [
           {
            "colorbar": {
             "outlinewidth": 0,
             "ticks": ""
            },
            "colorscale": [
             [
              0,
              "#0d0887"
             ],
             [
              0.1111111111111111,
              "#46039f"
             ],
             [
              0.2222222222222222,
              "#7201a8"
             ],
             [
              0.3333333333333333,
              "#9c179e"
             ],
             [
              0.4444444444444444,
              "#bd3786"
             ],
             [
              0.5555555555555556,
              "#d8576b"
             ],
             [
              0.6666666666666666,
              "#ed7953"
             ],
             [
              0.7777777777777778,
              "#fb9f3a"
             ],
             [
              0.8888888888888888,
              "#fdca26"
             ],
             [
              1,
              "#f0f921"
             ]
            ],
            "type": "histogram2dcontour"
           }
          ],
          "mesh3d": [
           {
            "colorbar": {
             "outlinewidth": 0,
             "ticks": ""
            },
            "type": "mesh3d"
           }
          ],
          "parcoords": [
           {
            "line": {
             "colorbar": {
              "outlinewidth": 0,
              "ticks": ""
             }
            },
            "type": "parcoords"
           }
          ],
          "pie": [
           {
            "automargin": true,
            "type": "pie"
           }
          ],
          "scatter": [
           {
            "fillpattern": {
             "fillmode": "overlay",
             "size": 10,
             "solidity": 0.2
            },
            "type": "scatter"
           }
          ],
          "scatter3d": [
           {
            "line": {
             "colorbar": {
              "outlinewidth": 0,
              "ticks": ""
             }
            },
            "marker": {
             "colorbar": {
              "outlinewidth": 0,
              "ticks": ""
             }
            },
            "type": "scatter3d"
           }
          ],
          "scattercarpet": [
           {
            "marker": {
             "colorbar": {
              "outlinewidth": 0,
              "ticks": ""
             }
            },
            "type": "scattercarpet"
           }
          ],
          "scattergeo": [
           {
            "marker": {
             "colorbar": {
              "outlinewidth": 0,
              "ticks": ""
             }
            },
            "type": "scattergeo"
           }
          ],
          "scattergl": [
           {
            "marker": {
             "colorbar": {
              "outlinewidth": 0,
              "ticks": ""
             }
            },
            "type": "scattergl"
           }
          ],
          "scattermapbox": [
           {
            "marker": {
             "colorbar": {
              "outlinewidth": 0,
              "ticks": ""
             }
            },
            "type": "scattermapbox"
           }
          ],
          "scatterpolar": [
           {
            "marker": {
             "colorbar": {
              "outlinewidth": 0,
              "ticks": ""
             }
            },
            "type": "scatterpolar"
           }
          ],
          "scatterpolargl": [
           {
            "marker": {
             "colorbar": {
              "outlinewidth": 0,
              "ticks": ""
             }
            },
            "type": "scatterpolargl"
           }
          ],
          "scatterternary": [
           {
            "marker": {
             "colorbar": {
              "outlinewidth": 0,
              "ticks": ""
             }
            },
            "type": "scatterternary"
           }
          ],
          "surface": [
           {
            "colorbar": {
             "outlinewidth": 0,
             "ticks": ""
            },
            "colorscale": [
             [
              0,
              "#0d0887"
             ],
             [
              0.1111111111111111,
              "#46039f"
             ],
             [
              0.2222222222222222,
              "#7201a8"
             ],
             [
              0.3333333333333333,
              "#9c179e"
             ],
             [
              0.4444444444444444,
              "#bd3786"
             ],
             [
              0.5555555555555556,
              "#d8576b"
             ],
             [
              0.6666666666666666,
              "#ed7953"
             ],
             [
              0.7777777777777778,
              "#fb9f3a"
             ],
             [
              0.8888888888888888,
              "#fdca26"
             ],
             [
              1,
              "#f0f921"
             ]
            ],
            "type": "surface"
           }
          ],
          "table": [
           {
            "cells": {
             "fill": {
              "color": "#EBF0F8"
             },
             "line": {
              "color": "white"
             }
            },
            "header": {
             "fill": {
              "color": "#C8D4E3"
             },
             "line": {
              "color": "white"
             }
            },
            "type": "table"
           }
          ]
         },
         "layout": {
          "annotationdefaults": {
           "arrowcolor": "#2a3f5f",
           "arrowhead": 0,
           "arrowwidth": 1
          },
          "autotypenumbers": "strict",
          "coloraxis": {
           "colorbar": {
            "outlinewidth": 0,
            "ticks": ""
           }
          },
          "colorscale": {
           "diverging": [
            [
             0,
             "#8e0152"
            ],
            [
             0.1,
             "#c51b7d"
            ],
            [
             0.2,
             "#de77ae"
            ],
            [
             0.3,
             "#f1b6da"
            ],
            [
             0.4,
             "#fde0ef"
            ],
            [
             0.5,
             "#f7f7f7"
            ],
            [
             0.6,
             "#e6f5d0"
            ],
            [
             0.7,
             "#b8e186"
            ],
            [
             0.8,
             "#7fbc41"
            ],
            [
             0.9,
             "#4d9221"
            ],
            [
             1,
             "#276419"
            ]
           ],
           "sequential": [
            [
             0,
             "#0d0887"
            ],
            [
             0.1111111111111111,
             "#46039f"
            ],
            [
             0.2222222222222222,
             "#7201a8"
            ],
            [
             0.3333333333333333,
             "#9c179e"
            ],
            [
             0.4444444444444444,
             "#bd3786"
            ],
            [
             0.5555555555555556,
             "#d8576b"
            ],
            [
             0.6666666666666666,
             "#ed7953"
            ],
            [
             0.7777777777777778,
             "#fb9f3a"
            ],
            [
             0.8888888888888888,
             "#fdca26"
            ],
            [
             1,
             "#f0f921"
            ]
           ],
           "sequentialminus": [
            [
             0,
             "#0d0887"
            ],
            [
             0.1111111111111111,
             "#46039f"
            ],
            [
             0.2222222222222222,
             "#7201a8"
            ],
            [
             0.3333333333333333,
             "#9c179e"
            ],
            [
             0.4444444444444444,
             "#bd3786"
            ],
            [
             0.5555555555555556,
             "#d8576b"
            ],
            [
             0.6666666666666666,
             "#ed7953"
            ],
            [
             0.7777777777777778,
             "#fb9f3a"
            ],
            [
             0.8888888888888888,
             "#fdca26"
            ],
            [
             1,
             "#f0f921"
            ]
           ]
          },
          "colorway": [
           "#636efa",
           "#EF553B",
           "#00cc96",
           "#ab63fa",
           "#FFA15A",
           "#19d3f3",
           "#FF6692",
           "#B6E880",
           "#FF97FF",
           "#FECB52"
          ],
          "font": {
           "color": "#2a3f5f"
          },
          "geo": {
           "bgcolor": "white",
           "lakecolor": "white",
           "landcolor": "#E5ECF6",
           "showlakes": true,
           "showland": true,
           "subunitcolor": "white"
          },
          "hoverlabel": {
           "align": "left"
          },
          "hovermode": "closest",
          "mapbox": {
           "style": "light"
          },
          "paper_bgcolor": "white",
          "plot_bgcolor": "#E5ECF6",
          "polar": {
           "angularaxis": {
            "gridcolor": "white",
            "linecolor": "white",
            "ticks": ""
           },
           "bgcolor": "#E5ECF6",
           "radialaxis": {
            "gridcolor": "white",
            "linecolor": "white",
            "ticks": ""
           }
          },
          "scene": {
           "xaxis": {
            "backgroundcolor": "#E5ECF6",
            "gridcolor": "white",
            "gridwidth": 2,
            "linecolor": "white",
            "showbackground": true,
            "ticks": "",
            "zerolinecolor": "white"
           },
           "yaxis": {
            "backgroundcolor": "#E5ECF6",
            "gridcolor": "white",
            "gridwidth": 2,
            "linecolor": "white",
            "showbackground": true,
            "ticks": "",
            "zerolinecolor": "white"
           },
           "zaxis": {
            "backgroundcolor": "#E5ECF6",
            "gridcolor": "white",
            "gridwidth": 2,
            "linecolor": "white",
            "showbackground": true,
            "ticks": "",
            "zerolinecolor": "white"
           }
          },
          "shapedefaults": {
           "line": {
            "color": "#2a3f5f"
           }
          },
          "ternary": {
           "aaxis": {
            "gridcolor": "white",
            "linecolor": "white",
            "ticks": ""
           },
           "baxis": {
            "gridcolor": "white",
            "linecolor": "white",
            "ticks": ""
           },
           "bgcolor": "#E5ECF6",
           "caxis": {
            "gridcolor": "white",
            "linecolor": "white",
            "ticks": ""
           }
          },
          "title": {
           "x": 0.05
          },
          "xaxis": {
           "automargin": true,
           "gridcolor": "white",
           "linecolor": "white",
           "ticks": "",
           "title": {
            "standoff": 15
           },
           "zerolinecolor": "white",
           "zerolinewidth": 2
          },
          "yaxis": {
           "automargin": true,
           "gridcolor": "white",
           "linecolor": "white",
           "ticks": "",
           "title": {
            "standoff": 15
           },
           "zerolinecolor": "white",
           "zerolinewidth": 2
          }
         }
        },
        "width": 700
       }
      }
     },
     "metadata": {},
     "output_type": "display_data"
    }
   ],
   "source": [
    "import pandas as pd\n",
    "import plotly.graph_objects as go\n",
    "\n",
    "# Create a copy of pd_merged\n",
    "pd_merged_copy = pd_merged.copy()\n",
    "\n",
    "# Convert the string to a pandas Timestamp\n",
    "date = pd.Timestamp('2019-01-03')\n",
    "\n",
    "# Use the copy for the filtering\n",
    "pd_merged_2 = pd_merged_copy[(pd_merged_copy[\"trading_days_till_exp\"] <= 10) & (pd_merged_copy['cp_flag'] == 'P')]\n",
    "# Filter the DataFrame for the 'NVDA' ticker and the specific date\n",
    "df_nvda = pd_merged_2[(pd_merged_2['Ticker'] == 'AMZN') & (pd_merged_2['date'] == date)]\n",
    "\n",
    "# Create a 3D scatter plot\n",
    "fig = go.Figure(data=[go.Scatter3d(\n",
    "    x=df_nvda['moneyness'],\n",
    "    y=df_nvda['trading_days_till_exp'],\n",
    "    z=df_nvda['impl_volatility'],\n",
    "    mode='markers',\n",
    "    marker=dict(\n",
    "        size=3,\n",
    "        color=df_nvda['impl_volatility'],  # set color to an array/list of desired values\n",
    "        colorscale='Viridis',   # choose a colorscale\n",
    "        opacity=0.8\n",
    "    )\n",
    ")])\n",
    "\n",
    "# Set labels\n",
    "fig.update_layout(scene = dict(\n",
    "                    xaxis_title='Moneyness',\n",
    "                    yaxis_title='Trading Days till Expiry',\n",
    "                    zaxis_title='Implied Volatility'),\n",
    "                    width=700,\n",
    "                    margin=dict(r=20, b=10, l=10, t=10))\n",
    "\n",
    "fig.show()"
   ]
  },
  {
   "cell_type": "code",
   "execution_count": 30,
   "metadata": {},
   "outputs": [
    {
     "data": {
      "text/html": [
       "<div>\n",
       "<style scoped>\n",
       "    .dataframe tbody tr th:only-of-type {\n",
       "        vertical-align: middle;\n",
       "    }\n",
       "\n",
       "    .dataframe tbody tr th {\n",
       "        vertical-align: top;\n",
       "    }\n",
       "\n",
       "    .dataframe thead th {\n",
       "        text-align: right;\n",
       "    }\n",
       "</style>\n",
       "<table border=\"1\" class=\"dataframe\">\n",
       "  <thead>\n",
       "    <tr style=\"text-align: right;\">\n",
       "      <th></th>\n",
       "      <th>date</th>\n",
       "      <th>exdate</th>\n",
       "      <th>cp_flag</th>\n",
       "      <th>strike_price</th>\n",
       "      <th>best_bid</th>\n",
       "      <th>best_offer</th>\n",
       "      <th>volume</th>\n",
       "      <th>open_interest</th>\n",
       "      <th>impl_volatility</th>\n",
       "      <th>delta</th>\n",
       "      <th>...</th>\n",
       "      <th>BIDLO</th>\n",
       "      <th>ASKHI</th>\n",
       "      <th>Year</th>\n",
       "      <th>Annual_Dividend_Yield</th>\n",
       "      <th>T</th>\n",
       "      <th>DATE</th>\n",
       "      <th>2Y_bond</th>\n",
       "      <th>Forward_Price</th>\n",
       "      <th>moneyness</th>\n",
       "      <th>trading_day</th>\n",
       "    </tr>\n",
       "  </thead>\n",
       "  <tbody>\n",
       "    <tr>\n",
       "      <th>138</th>\n",
       "      <td>2018-12-31</td>\n",
       "      <td>2019-01-04</td>\n",
       "      <td>P</td>\n",
       "      <td>95000</td>\n",
       "      <td>0.00</td>\n",
       "      <td>0.01</td>\n",
       "      <td>1</td>\n",
       "      <td>390</td>\n",
       "      <td>1.034486</td>\n",
       "      <td>-0.001219</td>\n",
       "      <td>...</td>\n",
       "      <td>132.2</td>\n",
       "      <td>135.92</td>\n",
       "      <td>2018</td>\n",
       "      <td>0.0</td>\n",
       "      <td>0.011905</td>\n",
       "      <td>2018-12-31</td>\n",
       "      <td>2.5442</td>\n",
       "      <td>133.240350</td>\n",
       "      <td>1.402105</td>\n",
       "      <td>754</td>\n",
       "    </tr>\n",
       "    <tr>\n",
       "      <th>139</th>\n",
       "      <td>2018-12-31</td>\n",
       "      <td>2019-01-04</td>\n",
       "      <td>P</td>\n",
       "      <td>90000</td>\n",
       "      <td>0.00</td>\n",
       "      <td>0.01</td>\n",
       "      <td>48</td>\n",
       "      <td>265</td>\n",
       "      <td>1.194794</td>\n",
       "      <td>-0.001063</td>\n",
       "      <td>...</td>\n",
       "      <td>132.2</td>\n",
       "      <td>135.92</td>\n",
       "      <td>2018</td>\n",
       "      <td>0.0</td>\n",
       "      <td>0.011905</td>\n",
       "      <td>2018-12-31</td>\n",
       "      <td>2.5442</td>\n",
       "      <td>133.240350</td>\n",
       "      <td>1.480000</td>\n",
       "      <td>754</td>\n",
       "    </tr>\n",
       "    <tr>\n",
       "      <th>144</th>\n",
       "      <td>2018-12-31</td>\n",
       "      <td>2019-01-04</td>\n",
       "      <td>P</td>\n",
       "      <td>85000</td>\n",
       "      <td>0.00</td>\n",
       "      <td>0.02</td>\n",
       "      <td>5</td>\n",
       "      <td>1073</td>\n",
       "      <td>1.449432</td>\n",
       "      <td>-0.001675</td>\n",
       "      <td>...</td>\n",
       "      <td>132.2</td>\n",
       "      <td>135.92</td>\n",
       "      <td>2018</td>\n",
       "      <td>0.0</td>\n",
       "      <td>0.011905</td>\n",
       "      <td>2018-12-31</td>\n",
       "      <td>2.5442</td>\n",
       "      <td>133.240350</td>\n",
       "      <td>1.567059</td>\n",
       "      <td>754</td>\n",
       "    </tr>\n",
       "    <tr>\n",
       "      <th>176</th>\n",
       "      <td>2018-12-31</td>\n",
       "      <td>2019-01-11</td>\n",
       "      <td>P</td>\n",
       "      <td>105000</td>\n",
       "      <td>0.10</td>\n",
       "      <td>0.12</td>\n",
       "      <td>100</td>\n",
       "      <td>58</td>\n",
       "      <td>0.626653</td>\n",
       "      <td>-0.020181</td>\n",
       "      <td>...</td>\n",
       "      <td>132.2</td>\n",
       "      <td>135.92</td>\n",
       "      <td>2018</td>\n",
       "      <td>0.0</td>\n",
       "      <td>0.031746</td>\n",
       "      <td>2018-12-31</td>\n",
       "      <td>2.5442</td>\n",
       "      <td>133.307627</td>\n",
       "      <td>1.268571</td>\n",
       "      <td>754</td>\n",
       "    </tr>\n",
       "    <tr>\n",
       "      <th>177</th>\n",
       "      <td>2018-12-31</td>\n",
       "      <td>2019-01-11</td>\n",
       "      <td>P</td>\n",
       "      <td>100000</td>\n",
       "      <td>0.05</td>\n",
       "      <td>0.07</td>\n",
       "      <td>75</td>\n",
       "      <td>466</td>\n",
       "      <td>0.684736</td>\n",
       "      <td>-0.010818</td>\n",
       "      <td>...</td>\n",
       "      <td>132.2</td>\n",
       "      <td>135.92</td>\n",
       "      <td>2018</td>\n",
       "      <td>0.0</td>\n",
       "      <td>0.031746</td>\n",
       "      <td>2018-12-31</td>\n",
       "      <td>2.5442</td>\n",
       "      <td>133.307627</td>\n",
       "      <td>1.332000</td>\n",
       "      <td>754</td>\n",
       "    </tr>\n",
       "    <tr>\n",
       "      <th>...</th>\n",
       "      <td>...</td>\n",
       "      <td>...</td>\n",
       "      <td>...</td>\n",
       "      <td>...</td>\n",
       "      <td>...</td>\n",
       "      <td>...</td>\n",
       "      <td>...</td>\n",
       "      <td>...</td>\n",
       "      <td>...</td>\n",
       "      <td>...</td>\n",
       "      <td>...</td>\n",
       "      <td>...</td>\n",
       "      <td>...</td>\n",
       "      <td>...</td>\n",
       "      <td>...</td>\n",
       "      <td>...</td>\n",
       "      <td>...</td>\n",
       "      <td>...</td>\n",
       "      <td>...</td>\n",
       "      <td>...</td>\n",
       "      <td>...</td>\n",
       "    </tr>\n",
       "    <tr>\n",
       "      <th>5225862</th>\n",
       "      <td>2022-01-10</td>\n",
       "      <td>2022-01-14</td>\n",
       "      <td>C</td>\n",
       "      <td>385000</td>\n",
       "      <td>0.00</td>\n",
       "      <td>0.02</td>\n",
       "      <td>32</td>\n",
       "      <td>3046</td>\n",
       "      <td>0.524243</td>\n",
       "      <td>0.001937</td>\n",
       "      <td>...</td>\n",
       "      <td>NaN</td>\n",
       "      <td>NaN</td>\n",
       "      <td>2022</td>\n",
       "      <td>0.0</td>\n",
       "      <td>0.015873</td>\n",
       "      <td>2022-01-10</td>\n",
       "      <td>NaN</td>\n",
       "      <td>NaN</td>\n",
       "      <td>0.852260</td>\n",
       "      <td>1517</td>\n",
       "    </tr>\n",
       "    <tr>\n",
       "      <th>5225863</th>\n",
       "      <td>2022-01-10</td>\n",
       "      <td>2022-01-14</td>\n",
       "      <td>C</td>\n",
       "      <td>390000</td>\n",
       "      <td>0.00</td>\n",
       "      <td>0.02</td>\n",
       "      <td>38</td>\n",
       "      <td>304</td>\n",
       "      <td>0.562291</td>\n",
       "      <td>0.001818</td>\n",
       "      <td>...</td>\n",
       "      <td>NaN</td>\n",
       "      <td>NaN</td>\n",
       "      <td>2022</td>\n",
       "      <td>0.0</td>\n",
       "      <td>0.015873</td>\n",
       "      <td>2022-01-10</td>\n",
       "      <td>NaN</td>\n",
       "      <td>NaN</td>\n",
       "      <td>0.841333</td>\n",
       "      <td>1517</td>\n",
       "    </tr>\n",
       "    <tr>\n",
       "      <th>5225864</th>\n",
       "      <td>2022-01-10</td>\n",
       "      <td>2022-01-14</td>\n",
       "      <td>C</td>\n",
       "      <td>400000</td>\n",
       "      <td>0.00</td>\n",
       "      <td>0.01</td>\n",
       "      <td>5</td>\n",
       "      <td>250</td>\n",
       "      <td>0.600677</td>\n",
       "      <td>0.000901</td>\n",
       "      <td>...</td>\n",
       "      <td>NaN</td>\n",
       "      <td>NaN</td>\n",
       "      <td>2022</td>\n",
       "      <td>0.0</td>\n",
       "      <td>0.015873</td>\n",
       "      <td>2022-01-10</td>\n",
       "      <td>NaN</td>\n",
       "      <td>NaN</td>\n",
       "      <td>0.820300</td>\n",
       "      <td>1517</td>\n",
       "    </tr>\n",
       "    <tr>\n",
       "      <th>5225865</th>\n",
       "      <td>2022-01-10</td>\n",
       "      <td>2022-01-14</td>\n",
       "      <td>C</td>\n",
       "      <td>405000</td>\n",
       "      <td>0.00</td>\n",
       "      <td>0.02</td>\n",
       "      <td>14</td>\n",
       "      <td>65</td>\n",
       "      <td>0.672190</td>\n",
       "      <td>0.001545</td>\n",
       "      <td>...</td>\n",
       "      <td>NaN</td>\n",
       "      <td>NaN</td>\n",
       "      <td>2022</td>\n",
       "      <td>0.0</td>\n",
       "      <td>0.015873</td>\n",
       "      <td>2022-01-10</td>\n",
       "      <td>NaN</td>\n",
       "      <td>NaN</td>\n",
       "      <td>0.810173</td>\n",
       "      <td>1517</td>\n",
       "    </tr>\n",
       "    <tr>\n",
       "      <th>5225866</th>\n",
       "      <td>2022-01-10</td>\n",
       "      <td>2022-01-14</td>\n",
       "      <td>C</td>\n",
       "      <td>370000</td>\n",
       "      <td>0.02</td>\n",
       "      <td>0.03</td>\n",
       "      <td>271</td>\n",
       "      <td>1678</td>\n",
       "      <td>0.444568</td>\n",
       "      <td>0.005221</td>\n",
       "      <td>...</td>\n",
       "      <td>NaN</td>\n",
       "      <td>NaN</td>\n",
       "      <td>2022</td>\n",
       "      <td>0.0</td>\n",
       "      <td>0.015873</td>\n",
       "      <td>2022-01-10</td>\n",
       "      <td>NaN</td>\n",
       "      <td>NaN</td>\n",
       "      <td>0.886811</td>\n",
       "      <td>1517</td>\n",
       "    </tr>\n",
       "  </tbody>\n",
       "</table>\n",
       "<p>276083 rows × 28 columns</p>\n",
       "</div>"
      ],
      "text/plain": [
       "              date     exdate cp_flag  strike_price  best_bid  best_offer  \\\n",
       "138     2018-12-31 2019-01-04       P         95000      0.00        0.01   \n",
       "139     2018-12-31 2019-01-04       P         90000      0.00        0.01   \n",
       "144     2018-12-31 2019-01-04       P         85000      0.00        0.02   \n",
       "176     2018-12-31 2019-01-11       P        105000      0.10        0.12   \n",
       "177     2018-12-31 2019-01-11       P        100000      0.05        0.07   \n",
       "...            ...        ...     ...           ...       ...         ...   \n",
       "5225862 2022-01-10 2022-01-14       C        385000      0.00        0.02   \n",
       "5225863 2022-01-10 2022-01-14       C        390000      0.00        0.02   \n",
       "5225864 2022-01-10 2022-01-14       C        400000      0.00        0.01   \n",
       "5225865 2022-01-10 2022-01-14       C        405000      0.00        0.02   \n",
       "5225866 2022-01-10 2022-01-14       C        370000      0.02        0.03   \n",
       "\n",
       "         volume  open_interest  impl_volatility     delta  ...  BIDLO   ASKHI  \\\n",
       "138           1            390         1.034486 -0.001219  ...  132.2  135.92   \n",
       "139          48            265         1.194794 -0.001063  ...  132.2  135.92   \n",
       "144           5           1073         1.449432 -0.001675  ...  132.2  135.92   \n",
       "176         100             58         0.626653 -0.020181  ...  132.2  135.92   \n",
       "177          75            466         0.684736 -0.010818  ...  132.2  135.92   \n",
       "...         ...            ...              ...       ...  ...    ...     ...   \n",
       "5225862      32           3046         0.524243  0.001937  ...    NaN     NaN   \n",
       "5225863      38            304         0.562291  0.001818  ...    NaN     NaN   \n",
       "5225864       5            250         0.600677  0.000901  ...    NaN     NaN   \n",
       "5225865      14             65         0.672190  0.001545  ...    NaN     NaN   \n",
       "5225866     271           1678         0.444568  0.005221  ...    NaN     NaN   \n",
       "\n",
       "         Year Annual_Dividend_Yield         T       DATE  2Y_bond  \\\n",
       "138      2018                   0.0  0.011905 2018-12-31   2.5442   \n",
       "139      2018                   0.0  0.011905 2018-12-31   2.5442   \n",
       "144      2018                   0.0  0.011905 2018-12-31   2.5442   \n",
       "176      2018                   0.0  0.031746 2018-12-31   2.5442   \n",
       "177      2018                   0.0  0.031746 2018-12-31   2.5442   \n",
       "...       ...                   ...       ...        ...      ...   \n",
       "5225862  2022                   0.0  0.015873 2022-01-10      NaN   \n",
       "5225863  2022                   0.0  0.015873 2022-01-10      NaN   \n",
       "5225864  2022                   0.0  0.015873 2022-01-10      NaN   \n",
       "5225865  2022                   0.0  0.015873 2022-01-10      NaN   \n",
       "5225866  2022                   0.0  0.015873 2022-01-10      NaN   \n",
       "\n",
       "         Forward_Price  moneyness  trading_day  \n",
       "138         133.240350   1.402105          754  \n",
       "139         133.240350   1.480000          754  \n",
       "144         133.240350   1.567059          754  \n",
       "176         133.307627   1.268571          754  \n",
       "177         133.307627   1.332000          754  \n",
       "...                ...        ...          ...  \n",
       "5225862            NaN   0.852260         1517  \n",
       "5225863            NaN   0.841333         1517  \n",
       "5225864            NaN   0.820300         1517  \n",
       "5225865            NaN   0.810173         1517  \n",
       "5225866            NaN   0.886811         1517  \n",
       "\n",
       "[276083 rows x 28 columns]"
      ]
     },
     "execution_count": 30,
     "metadata": {},
     "output_type": "execute_result"
    }
   ],
   "source": [
    "null_vals = pd_merged[(pd_merged['prc_option'] <= 1/8)]\n",
    "null_vals "
   ]
  },
  {
   "cell_type": "code",
   "execution_count": 54,
   "metadata": {},
   "outputs": [
    {
     "data": {
      "application/vnd.plotly.v1+json": {
       "config": {
        "plotlyServerURL": "https://plot.ly"
       },
       "data": [
        {
         "colorscale": [
          [
           0,
           "#440154"
          ],
          [
           0.1111111111111111,
           "#482878"
          ],
          [
           0.2222222222222222,
           "#3e4989"
          ],
          [
           0.3333333333333333,
           "#31688e"
          ],
          [
           0.4444444444444444,
           "#26828e"
          ],
          [
           0.5555555555555556,
           "#1f9e89"
          ],
          [
           0.6666666666666666,
           "#35b779"
          ],
          [
           0.7777777777777778,
           "#6ece58"
          ],
          [
           0.8888888888888888,
           "#b5de2b"
          ],
          [
           1,
           "#fde725"
          ]
         ],
         "type": "surface",
         "x": [
          [
           1,
           6
          ],
          [
           1,
           6
          ],
          [
           1,
           6
          ],
          [
           1,
           6
          ],
          [
           1,
           6
          ],
          [
           1,
           6
          ],
          [
           1,
           6
          ],
          [
           1,
           6
          ],
          [
           1,
           6
          ],
          [
           1,
           6
          ],
          [
           1,
           6
          ],
          [
           1,
           6
          ],
          [
           1,
           6
          ],
          [
           1,
           6
          ],
          [
           1,
           6
          ],
          [
           1,
           6
          ],
          [
           1,
           6
          ],
          [
           1,
           6
          ],
          [
           1,
           6
          ],
          [
           1,
           6
          ],
          [
           1,
           6
          ],
          [
           1,
           6
          ],
          [
           1,
           6
          ],
          [
           1,
           6
          ],
          [
           1,
           6
          ],
          [
           1,
           6
          ],
          [
           1,
           6
          ],
          [
           1,
           6
          ],
          [
           1,
           6
          ],
          [
           1,
           6
          ],
          [
           1,
           6
          ],
          [
           1,
           6
          ],
          [
           1,
           6
          ],
          [
           1,
           6
          ],
          [
           1,
           6
          ],
          [
           1,
           6
          ],
          [
           1,
           6
          ],
          [
           1,
           6
          ],
          [
           1,
           6
          ],
          [
           1,
           6
          ],
          [
           1,
           6
          ],
          [
           1,
           6
          ],
          [
           1,
           6
          ],
          [
           1,
           6
          ],
          [
           1,
           6
          ],
          [
           1,
           6
          ],
          [
           1,
           6
          ],
          [
           1,
           6
          ],
          [
           1,
           6
          ],
          [
           1,
           6
          ],
          [
           1,
           6
          ],
          [
           1,
           6
          ],
          [
           1,
           6
          ],
          [
           1,
           6
          ],
          [
           1,
           6
          ],
          [
           1,
           6
          ],
          [
           1,
           6
          ],
          [
           1,
           6
          ],
          [
           1,
           6
          ],
          [
           1,
           6
          ],
          [
           1,
           6
          ],
          [
           1,
           6
          ],
          [
           1,
           6
          ],
          [
           1,
           6
          ],
          [
           1,
           6
          ],
          [
           1,
           6
          ],
          [
           1,
           6
          ],
          [
           1,
           6
          ],
          [
           1,
           6
          ],
          [
           1,
           6
          ],
          [
           1,
           6
          ],
          [
           1,
           6
          ],
          [
           1,
           6
          ],
          [
           1,
           6
          ],
          [
           1,
           6
          ],
          [
           1,
           6
          ],
          [
           1,
           6
          ],
          [
           1,
           6
          ],
          [
           1,
           6
          ],
          [
           1,
           6
          ],
          [
           1,
           6
          ],
          [
           1,
           6
          ],
          [
           1,
           6
          ],
          [
           1,
           6
          ],
          [
           1,
           6
          ],
          [
           1,
           6
          ],
          [
           1,
           6
          ],
          [
           1,
           6
          ],
          [
           1,
           6
          ],
          [
           1,
           6
          ],
          [
           1,
           6
          ],
          [
           1,
           6
          ],
          [
           1,
           6
          ],
          [
           1,
           6
          ],
          [
           1,
           6
          ],
          [
           1,
           6
          ],
          [
           1,
           6
          ],
          [
           1,
           6
          ],
          [
           1,
           6
          ],
          [
           1,
           6
          ],
          [
           1,
           6
          ],
          [
           1,
           6
          ],
          [
           1,
           6
          ],
          [
           1,
           6
          ],
          [
           1,
           6
          ],
          [
           1,
           6
          ],
          [
           1,
           6
          ],
          [
           1,
           6
          ],
          [
           1,
           6
          ],
          [
           1,
           6
          ],
          [
           1,
           6
          ],
          [
           1,
           6
          ],
          [
           1,
           6
          ],
          [
           1,
           6
          ],
          [
           1,
           6
          ],
          [
           1,
           6
          ],
          [
           1,
           6
          ],
          [
           1,
           6
          ],
          [
           1,
           6
          ],
          [
           1,
           6
          ],
          [
           1,
           6
          ],
          [
           1,
           6
          ],
          [
           1,
           6
          ],
          [
           1,
           6
          ],
          [
           1,
           6
          ],
          [
           1,
           6
          ],
          [
           1,
           6
          ],
          [
           1,
           6
          ],
          [
           1,
           6
          ],
          [
           1,
           6
          ],
          [
           1,
           6
          ],
          [
           1,
           6
          ],
          [
           1,
           6
          ],
          [
           1,
           6
          ],
          [
           1,
           6
          ],
          [
           1,
           6
          ],
          [
           1,
           6
          ],
          [
           1,
           6
          ],
          [
           1,
           6
          ],
          [
           1,
           6
          ],
          [
           1,
           6
          ],
          [
           1,
           6
          ],
          [
           1,
           6
          ],
          [
           1,
           6
          ],
          [
           1,
           6
          ],
          [
           1,
           6
          ],
          [
           1,
           6
          ],
          [
           1,
           6
          ],
          [
           1,
           6
          ],
          [
           1,
           6
          ],
          [
           1,
           6
          ],
          [
           1,
           6
          ],
          [
           1,
           6
          ],
          [
           1,
           6
          ],
          [
           1,
           6
          ],
          [
           1,
           6
          ],
          [
           1,
           6
          ],
          [
           1,
           6
          ],
          [
           1,
           6
          ],
          [
           1,
           6
          ],
          [
           1,
           6
          ],
          [
           1,
           6
          ],
          [
           1,
           6
          ],
          [
           1,
           6
          ],
          [
           1,
           6
          ],
          [
           1,
           6
          ],
          [
           1,
           6
          ],
          [
           1,
           6
          ],
          [
           1,
           6
          ],
          [
           1,
           6
          ],
          [
           1,
           6
          ],
          [
           1,
           6
          ],
          [
           1,
           6
          ],
          [
           1,
           6
          ],
          [
           1,
           6
          ],
          [
           1,
           6
          ],
          [
           1,
           6
          ],
          [
           1,
           6
          ],
          [
           1,
           6
          ],
          [
           1,
           6
          ],
          [
           1,
           6
          ],
          [
           1,
           6
          ],
          [
           1,
           6
          ],
          [
           1,
           6
          ],
          [
           1,
           6
          ],
          [
           1,
           6
          ],
          [
           1,
           6
          ],
          [
           1,
           6
          ],
          [
           1,
           6
          ],
          [
           1,
           6
          ],
          [
           1,
           6
          ],
          [
           1,
           6
          ],
          [
           1,
           6
          ],
          [
           1,
           6
          ],
          [
           1,
           6
          ],
          [
           1,
           6
          ],
          [
           1,
           6
          ],
          [
           1,
           6
          ],
          [
           1,
           6
          ],
          [
           1,
           6
          ],
          [
           1,
           6
          ],
          [
           1,
           6
          ],
          [
           1,
           6
          ],
          [
           1,
           6
          ],
          [
           1,
           6
          ],
          [
           1,
           6
          ],
          [
           1,
           6
          ],
          [
           1,
           6
          ],
          [
           1,
           6
          ],
          [
           1,
           6
          ],
          [
           1,
           6
          ],
          [
           1,
           6
          ],
          [
           1,
           6
          ],
          [
           1,
           6
          ],
          [
           1,
           6
          ],
          [
           1,
           6
          ],
          [
           1,
           6
          ],
          [
           1,
           6
          ],
          [
           1,
           6
          ],
          [
           1,
           6
          ],
          [
           1,
           6
          ],
          [
           1,
           6
          ],
          [
           1,
           6
          ],
          [
           1,
           6
          ],
          [
           1,
           6
          ],
          [
           1,
           6
          ],
          [
           1,
           6
          ]
         ],
         "y": [
          [
           0.8066608478260869,
           0.8066608478260869
          ],
          [
           0.8099327022973579,
           0.8099327022973579
          ],
          [
           0.8132045567686289,
           0.8132045567686289
          ],
          [
           0.8164764112398999,
           0.8164764112398999
          ],
          [
           0.819748265711171,
           0.819748265711171
          ],
          [
           0.823020120182442,
           0.823020120182442
          ],
          [
           0.826291974653713,
           0.826291974653713
          ],
          [
           0.8295638291249839,
           0.8295638291249839
          ],
          [
           0.8328356835962549,
           0.8328356835962549
          ],
          [
           0.8361075380675259,
           0.8361075380675259
          ],
          [
           0.839379392538797,
           0.839379392538797
          ],
          [
           0.842651247010068,
           0.842651247010068
          ],
          [
           0.845923101481339,
           0.845923101481339
          ],
          [
           0.84919495595261,
           0.84919495595261
          ],
          [
           0.852466810423881,
           0.852466810423881
          ],
          [
           0.8557386648951519,
           0.8557386648951519
          ],
          [
           0.859010519366423,
           0.859010519366423
          ],
          [
           0.862282373837694,
           0.862282373837694
          ],
          [
           0.865554228308965,
           0.865554228308965
          ],
          [
           0.868826082780236,
           0.868826082780236
          ],
          [
           0.872097937251507,
           0.872097937251507
          ],
          [
           0.875369791722778,
           0.875369791722778
          ],
          [
           0.8786416461940489,
           0.8786416461940489
          ],
          [
           0.88191350066532,
           0.88191350066532
          ],
          [
           0.885185355136591,
           0.885185355136591
          ],
          [
           0.888457209607862,
           0.888457209607862
          ],
          [
           0.891729064079133,
           0.891729064079133
          ],
          [
           0.895000918550404,
           0.895000918550404
          ],
          [
           0.898272773021675,
           0.898272773021675
          ],
          [
           0.901544627492946,
           0.901544627492946
          ],
          [
           0.904816481964217,
           0.904816481964217
          ],
          [
           0.908088336435488,
           0.908088336435488
          ],
          [
           0.911360190906759,
           0.911360190906759
          ],
          [
           0.91463204537803,
           0.91463204537803
          ],
          [
           0.917903899849301,
           0.917903899849301
          ],
          [
           0.9211757543205721,
           0.9211757543205721
          ],
          [
           0.9244476087918431,
           0.9244476087918431
          ],
          [
           0.927719463263114,
           0.927719463263114
          ],
          [
           0.930991317734385,
           0.930991317734385
          ],
          [
           0.934263172205656,
           0.934263172205656
          ],
          [
           0.937535026676927,
           0.937535026676927
          ],
          [
           0.940806881148198,
           0.940806881148198
          ],
          [
           0.9440787356194691,
           0.9440787356194691
          ],
          [
           0.9473505900907401,
           0.9473505900907401
          ],
          [
           0.9506224445620111,
           0.9506224445620111
          ],
          [
           0.953894299033282,
           0.953894299033282
          ],
          [
           0.957166153504553,
           0.957166153504553
          ],
          [
           0.960438007975824,
           0.960438007975824
          ],
          [
           0.963709862447095,
           0.963709862447095
          ],
          [
           0.9669817169183661,
           0.9669817169183661
          ],
          [
           0.9702535713896371,
           0.9702535713896371
          ],
          [
           0.9735254258609081,
           0.9735254258609081
          ],
          [
           0.976797280332179,
           0.976797280332179
          ],
          [
           0.98006913480345,
           0.98006913480345
          ],
          [
           0.9833409892747211,
           0.9833409892747211
          ],
          [
           0.986612843745992,
           0.986612843745992
          ],
          [
           0.9898846982172631,
           0.9898846982172631
          ],
          [
           0.9931565526885341,
           0.9931565526885341
          ],
          [
           0.9964284071598051,
           0.9964284071598051
          ],
          [
           0.9997002616310761,
           0.9997002616310761
          ],
          [
           1.002972116102347,
           1.002972116102347
          ],
          [
           1.0062439705736181,
           1.0062439705736181
          ],
          [
           1.009515825044889,
           1.009515825044889
          ],
          [
           1.01278767951616,
           1.01278767951616
          ],
          [
           1.016059533987431,
           1.016059533987431
          ],
          [
           1.019331388458702,
           1.019331388458702
          ],
          [
           1.0226032429299732,
           1.0226032429299732
          ],
          [
           1.025875097401244,
           1.025875097401244
          ],
          [
           1.0291469518725151,
           1.0291469518725151
          ],
          [
           1.032418806343786,
           1.032418806343786
          ],
          [
           1.0356906608150571,
           1.0356906608150571
          ],
          [
           1.038962515286328,
           1.038962515286328
          ],
          [
           1.042234369757599,
           1.042234369757599
          ],
          [
           1.0455062242288702,
           1.0455062242288702
          ],
          [
           1.048778078700141,
           1.048778078700141
          ],
          [
           1.0520499331714122,
           1.0520499331714122
          ],
          [
           1.0553217876426833,
           1.0553217876426833
          ],
          [
           1.0585936421139541,
           1.0585936421139541
          ],
          [
           1.061865496585225,
           1.061865496585225
          ],
          [
           1.065137351056496,
           1.065137351056496
          ],
          [
           1.0684092055277672,
           1.0684092055277672
          ],
          [
           1.071681059999038,
           1.071681059999038
          ],
          [
           1.0749529144703092,
           1.0749529144703092
          ],
          [
           1.0782247689415803,
           1.0782247689415803
          ],
          [
           1.0814966234128511,
           1.0814966234128511
          ],
          [
           1.0847684778841222,
           1.0847684778841222
          ],
          [
           1.088040332355393,
           1.088040332355393
          ],
          [
           1.0913121868266642,
           1.0913121868266642
          ],
          [
           1.094584041297935,
           1.094584041297935
          ],
          [
           1.0978558957692062,
           1.0978558957692062
          ],
          [
           1.1011277502404773,
           1.1011277502404773
          ],
          [
           1.1043996047117481,
           1.1043996047117481
          ],
          [
           1.1076714591830192,
           1.1076714591830192
          ],
          [
           1.11094331365429,
           1.11094331365429
          ],
          [
           1.1142151681255612,
           1.1142151681255612
          ],
          [
           1.117487022596832,
           1.117487022596832
          ],
          [
           1.1207588770681032,
           1.1207588770681032
          ],
          [
           1.1240307315393743,
           1.1240307315393743
          ],
          [
           1.1273025860106451,
           1.1273025860106451
          ],
          [
           1.1305744404819162,
           1.1305744404819162
          ],
          [
           1.1338462949531871,
           1.1338462949531871
          ],
          [
           1.1371181494244582,
           1.1371181494244582
          ],
          [
           1.140390003895729,
           1.140390003895729
          ],
          [
           1.1436618583670002,
           1.1436618583670002
          ],
          [
           1.1469337128382713,
           1.1469337128382713
          ],
          [
           1.1502055673095422,
           1.1502055673095422
          ],
          [
           1.1534774217808133,
           1.1534774217808133
          ],
          [
           1.1567492762520841,
           1.1567492762520841
          ],
          [
           1.1600211307233552,
           1.1600211307233552
          ],
          [
           1.163292985194626,
           1.163292985194626
          ],
          [
           1.1665648396658972,
           1.1665648396658972
          ],
          [
           1.1698366941371683,
           1.1698366941371683
          ],
          [
           1.1731085486084392,
           1.1731085486084392
          ],
          [
           1.1763804030797103,
           1.1763804030797103
          ],
          [
           1.1796522575509814,
           1.1796522575509814
          ],
          [
           1.1829241120222522,
           1.1829241120222522
          ],
          [
           1.186195966493523,
           1.186195966493523
          ],
          [
           1.1894678209647942,
           1.1894678209647942
          ],
          [
           1.1927396754360653,
           1.1927396754360653
          ],
          [
           1.1960115299073362,
           1.1960115299073362
          ],
          [
           1.1992833843786073,
           1.1992833843786073
          ],
          [
           1.2025552388498784,
           1.2025552388498784
          ],
          [
           1.2058270933211492,
           1.2058270933211492
          ],
          [
           1.20909894779242,
           1.20909894779242
          ],
          [
           1.2123708022636912,
           1.2123708022636912
          ],
          [
           1.2156426567349623,
           1.2156426567349623
          ],
          [
           1.2189145112062332,
           1.2189145112062332
          ],
          [
           1.2221863656775043,
           1.2221863656775043
          ],
          [
           1.2254582201487754,
           1.2254582201487754
          ],
          [
           1.2287300746200462,
           1.2287300746200462
          ],
          [
           1.2320019290913173,
           1.2320019290913173
          ],
          [
           1.2352737835625882,
           1.2352737835625882
          ],
          [
           1.2385456380338593,
           1.2385456380338593
          ],
          [
           1.2418174925051302,
           1.2418174925051302
          ],
          [
           1.2450893469764013,
           1.2450893469764013
          ],
          [
           1.2483612014476724,
           1.2483612014476724
          ],
          [
           1.2516330559189432,
           1.2516330559189432
          ],
          [
           1.2549049103902143,
           1.2549049103902143
          ],
          [
           1.2581767648614852,
           1.2581767648614852
          ],
          [
           1.2614486193327563,
           1.2614486193327563
          ],
          [
           1.2647204738040272,
           1.2647204738040272
          ],
          [
           1.2679923282752983,
           1.2679923282752983
          ],
          [
           1.2712641827465694,
           1.2712641827465694
          ],
          [
           1.2745360372178403,
           1.2745360372178403
          ],
          [
           1.2778078916891114,
           1.2778078916891114
          ],
          [
           1.2810797461603822,
           1.2810797461603822
          ],
          [
           1.2843516006316533,
           1.2843516006316533
          ],
          [
           1.2876234551029242,
           1.2876234551029242
          ],
          [
           1.2908953095741953,
           1.2908953095741953
          ],
          [
           1.2941671640454664,
           1.2941671640454664
          ],
          [
           1.2974390185167373,
           1.2974390185167373
          ],
          [
           1.3007108729880084,
           1.3007108729880084
          ],
          [
           1.3039827274592795,
           1.3039827274592795
          ],
          [
           1.3072545819305503,
           1.3072545819305503
          ],
          [
           1.3105264364018212,
           1.3105264364018212
          ],
          [
           1.3137982908730923,
           1.3137982908730923
          ],
          [
           1.3170701453443634,
           1.3170701453443634
          ],
          [
           1.3203419998156343,
           1.3203419998156343
          ],
          [
           1.3236138542869054,
           1.3236138542869054
          ],
          [
           1.3268857087581765,
           1.3268857087581765
          ],
          [
           1.3301575632294473,
           1.3301575632294473
          ],
          [
           1.3334294177007182,
           1.3334294177007182
          ],
          [
           1.3367012721719893,
           1.3367012721719893
          ],
          [
           1.3399731266432604,
           1.3399731266432604
          ],
          [
           1.3432449811145313,
           1.3432449811145313
          ],
          [
           1.3465168355858024,
           1.3465168355858024
          ],
          [
           1.3497886900570735,
           1.3497886900570735
          ],
          [
           1.3530605445283443,
           1.3530605445283443
          ],
          [
           1.3563323989996152,
           1.3563323989996152
          ],
          [
           1.3596042534708863,
           1.3596042534708863
          ],
          [
           1.3628761079421574,
           1.3628761079421574
          ],
          [
           1.3661479624134283,
           1.3661479624134283
          ],
          [
           1.3694198168846994,
           1.3694198168846994
          ],
          [
           1.3726916713559705,
           1.3726916713559705
          ],
          [
           1.3759635258272414,
           1.3759635258272414
          ],
          [
           1.3792353802985122,
           1.3792353802985122
          ],
          [
           1.3825072347697835,
           1.3825072347697835
          ],
          [
           1.3857790892410544,
           1.3857790892410544
          ],
          [
           1.3890509437123253,
           1.3890509437123253
          ],
          [
           1.3923227981835964,
           1.3923227981835964
          ],
          [
           1.3955946526548675,
           1.3955946526548675
          ],
          [
           1.3988665071261384,
           1.3988665071261384
          ],
          [
           1.4021383615974092,
           1.4021383615974092
          ],
          [
           1.4054102160686806,
           1.4054102160686806
          ],
          [
           1.4086820705399514,
           1.4086820705399514
          ],
          [
           1.4119539250112223,
           1.4119539250112223
          ],
          [
           1.4152257794824934,
           1.4152257794824934
          ],
          [
           1.4184976339537645,
           1.4184976339537645
          ],
          [
           1.4217694884250354,
           1.4217694884250354
          ],
          [
           1.4250413428963065,
           1.4250413428963065
          ],
          [
           1.4283131973675776,
           1.4283131973675776
          ],
          [
           1.4315850518388484,
           1.4315850518388484
          ],
          [
           1.4348569063101193,
           1.4348569063101193
          ],
          [
           1.4381287607813904,
           1.4381287607813904
          ],
          [
           1.4414006152526615,
           1.4414006152526615
          ],
          [
           1.4446724697239324,
           1.4446724697239324
          ],
          [
           1.4479443241952035,
           1.4479443241952035
          ],
          [
           1.4512161786664746,
           1.4512161786664746
          ],
          [
           1.4544880331377454,
           1.4544880331377454
          ],
          [
           1.4577598876090163,
           1.4577598876090163
          ],
          [
           1.4610317420802874,
           1.4610317420802874
          ],
          [
           1.4643035965515585,
           1.4643035965515585
          ],
          [
           1.4675754510228294,
           1.4675754510228294
          ],
          [
           1.4708473054941005,
           1.4708473054941005
          ],
          [
           1.4741191599653716,
           1.4741191599653716
          ],
          [
           1.4773910144366424,
           1.4773910144366424
          ],
          [
           1.4806628689079133,
           1.4806628689079133
          ],
          [
           1.4839347233791844,
           1.4839347233791844
          ],
          [
           1.4872065778504555,
           1.4872065778504555
          ],
          [
           1.4904784323217264,
           1.4904784323217264
          ],
          [
           1.4937502867929975,
           1.4937502867929975
          ],
          [
           1.4970221412642686,
           1.4970221412642686
          ],
          [
           1.5002939957355395,
           1.5002939957355395
          ],
          [
           1.5035658502068103,
           1.5035658502068103
          ],
          [
           1.5068377046780814,
           1.5068377046780814
          ],
          [
           1.5101095591493525,
           1.5101095591493525
          ],
          [
           1.5133814136206234,
           1.5133814136206234
          ],
          [
           1.5166532680918945,
           1.5166532680918945
          ],
          [
           1.5199251225631656,
           1.5199251225631656
          ],
          [
           1.5231969770344365,
           1.5231969770344365
          ],
          [
           1.5264688315057073,
           1.5264688315057073
          ],
          [
           1.5297406859769787,
           1.5297406859769787
          ],
          [
           1.5330125404482495,
           1.5330125404482495
          ],
          [
           1.5362843949195204,
           1.5362843949195204
          ],
          [
           1.5395562493907915,
           1.5395562493907915
          ],
          [
           1.5428281038620626,
           1.5428281038620626
          ],
          [
           1.5460999583333335,
           1.5460999583333335
          ]
         ],
         "z": [
          [
           null,
           0.429404
          ],
          [
           null,
           0.4213187936518388
          ],
          [
           null,
           0.41459704796023655
          ],
          [
           null,
           0.40990650282919416
          ],
          [
           null,
           0.4069660723856958
          ],
          [
           1.105719094602825,
           0.40542651458107887
          ],
          [
           1.083019692590616,
           0.40493858736667976
          ],
          [
           1.060166095104179,
           0.4045181507069491
          ],
          [
           1.037064072187948,
           0.40031659659691715
          ],
          [
           1.0136193938863594,
           0.3876778527991102
          ],
          [
           0.9897378302438469,
           0.3632173947166905
          ],
          [
           0.9653251513048475,
           0.3480767713013559
          ],
          [
           0.9402871271137956,
           0.3651791580602347
          ],
          [
           0.9145295277151249,
           0.3565207667919438
          ],
          [
           0.887958123153272,
           0.3456626177852481
          ],
          [
           0.8604786834726716,
           0.33638342304619934
          ],
          [
           0.8319969787177578,
           0.3288384860892226
          ],
          [
           0.8024187789329675,
           0.325724188975883
          ],
          [
           0.7716498541627348,
           0.32961374097496066
          ],
          [
           0.7395959744514948,
           0.33100782091574943
          ],
          [
           0.7062494710955707,
           0.3215932465679056
          ],
          [
           0.6772188615406055,
           0.4425170380778251
          ],
          [
           0.6670697996083212,
           0.28177707488908815
          ],
          [
           0.6728347380143772,
           0.3978976020685916
          ],
          [
           0.5794241723128541,
           0.25278972039257636
          ],
          [
           0.7049711824104221,
           0.2811176535198039
          ],
          [
           1.1707037663107296,
           0.2910854693103699
          ],
          [
           0.7745775661625702,
           0.3742542386107261
          ],
          [
           0.9964659016483145,
           0.28618982969463647
          ],
          [
           0.7370447113708192,
           0.30762364493639505
          ],
          [
           0.5715123062091129,
           0.27780405702675476
          ],
          [
           0.5873526024428476,
           0.27130912230115894
          ],
          [
           0.5730963389495392,
           0.2698127690242495
          ],
          [
           0.540642004949613,
           0.24887917040724705
          ],
          [
           0.5583359954517547,
           0.2550377085401909
          ],
          [
           0.5173572263857514,
           0.2509547365914524
          ],
          [
           0.5103415739840729,
           0.2520421972116085
          ],
          [
           0.4902111234364581,
           0.24376491347199436
          ],
          [
           0.44203138439574996,
           0.23971689758741097
          ],
          [
           0.60021561786922,
           0.23721500782822813
          ],
          [
           0.5715493481974256,
           0.24582408935848038
          ],
          [
           0.4281493523553868,
           0.24453901480231302
          ],
          [
           0.5728780242245535,
           0.22900921419324968
          ],
          [
           0.4377846591649049,
           0.22658113400615457
          ],
          [
           0.39816807975775015,
           0.22771677116877753
          ],
          [
           0.47209469187242414,
           0.2249241369302478
          ],
          [
           0.3119282809288548,
           0.22966316473020063
          ],
          [
           0.4271794988659924,
           0.22534369964524495
          ],
          [
           0.26362292019130734,
           0.22448434558847763
          ],
          [
           0.23685636830986975,
           0.22602561371329616
          ],
          [
           0.3154760193232764,
           0.22803798489314347
          ],
          [
           0.2917404364519654,
           0.22842378777119204
          ],
          [
           0.2161335455894231,
           0.22940034704803655
          ],
          [
           0.22728819042049636,
           0.23096228211108893
          ],
          [
           0.23591839404826204,
           0.2321980771876287
          ],
          [
           0.21299663363357274,
           0.2336617843687868
          ],
          [
           0.20421921940120225,
           0.23309750096999698
          ],
          [
           0.20737264451107068,
           0.23627982849848003
          ],
          [
           0.21546304392069743,
           0.23849316703105933
          ],
          [
           0.24400230879596269,
           0.23896190347761181
          ],
          [
           0.21205431615655582,
           0.24239508089816164
          ],
          [
           0.21745561770809282,
           0.2449122821403933
          ],
          [
           0.18601103534918492,
           0.24688992750658703
          ],
          [
           0.27141636025005417,
           0.2478693790405463
          ],
          [
           0.28655268884281937,
           0.25047954300429337
          ],
          [
           0.3014750129937475,
           0.25189112410437575
          ],
          [
           0.31672216983970886,
           0.2549765353795355
          ],
          [
           0.33270993635912827,
           0.2592332606678919
          ],
          [
           0.34602681049421136,
           0.26201623025486276
          ],
          [
           0.3607436701712669,
           0.26221374126630087
          ],
          [
           0.37551293350116705,
           0.26468140587824757
          ],
          [
           0.3920306045041224,
           0.2681805837844354
          ],
          [
           0.401702593095107,
           0.2743777373345185
          ],
          [
           0.4175439105252185,
           0.2778024528832521
          ],
          [
           0.4273477330227434,
           0.2813126463165522
          ],
          [
           0.44544637526025477,
           0.285442700301517
          ],
          [
           0.4727642983597759,
           0.28929764920531653
          ],
          [
           0.47633343941461026,
           0.2931301024799236
          ],
          [
           0.4877751933895507,
           0.29725600165378363
          ],
          [
           0.5022479178783317,
           0.3019896862741047
          ],
          [
           0.5347331117099927,
           0.3021217676650608
          ],
          [
           0.5403335606206646,
           0.3111710507097976
          ],
          [
           0.5577900627770679,
           0.31471360147552335
          ],
          [
           0.5703382741306414,
           0.3188509913919423
          ],
          [
           0.5921458326315578,
           0.32314659917242416
          ],
          [
           0.5910053856105915,
           0.3277148773237
          ],
          [
           0.618009417100051,
           0.3327637333195176
          ],
          [
           0.6042103536970549,
           0.3293870697600778
          ],
          [
           0.633571,
           0.341956
          ],
          [
           0.638883046751464,
           0.3480104583720697
          ],
          [
           0.6893259579317194,
           0.3521226955910573
          ],
          [
           0.6852332395222013,
           0.3576879918838498
          ],
          [
           0.674690253166503,
           0.36219291868432985
          ],
          [
           0.7211918049658571,
           0.3680542393670254
          ],
          [
           0.7301887769294095,
           0.37152230465763936
          ],
          [
           0.7769854663724326,
           0.37542636228742965
          ],
          [
           0.8025030521134768,
           0.3805697137129569
          ],
          [
           0.7811741492985524,
           0.3649672325038764
          ],
          [
           0.8229584713166593,
           0.3852429954122459
          ],
          [
           0.8473775984233405,
           0.3969025292161116
          ],
          [
           0.8365216488119968,
           0.39920535908538224
          ],
          [
           0.8271585948202986,
           0.4044248366304478
          ],
          [
           0.9037070061205077,
           0.4079496473570997
          ],
          [
           0.8969119698203812,
           0.41260432509361983
          ],
          [
           0.8772449033279709,
           0.41691673073537727
          ],
          [
           0.8729706136607772,
           0.4217232989740676
          ],
          [
           0.8471278966720952,
           0.42419582209596485
          ],
          [
           0.8330243719477826,
           0.43724283660783647
          ],
          [
           0.8683998732884453,
           0.3470490600919614
          ],
          [
           0.9490193646532501,
           0.33565527205029533
          ],
          [
           0.9875825813221265,
           0.40710091869775733
          ],
          [
           0.9863223676768865,
           0.44525633316146956
          ],
          [
           0.9725129157093162,
           0.44535130940612255
          ],
          [
           0.9717897760136134,
           0.4517562690785317
          ],
          [
           0.9895522425146861,
           0.45684506821794
          ],
          [
           1.0175572630870562,
           0.45901598369654373
          ],
          [
           1.047306539350858,
           0.46000509060822165
          ],
          [
           1.0703022570739449,
           0.46108629754973146
          ],
          [
           1.082808514799709,
           0.4634344303800585
          ],
          [
           1.0975417221874066,
           0.4518310841413262
          ],
          [
           1.129436187749355,
           0.43933152747323717
          ],
          [
           1.1798498719916788,
           0.4345085779757042
          ],
          [
           1.2422134238244023,
           0.43604830628593005
          ],
          [
           1.3098581664407045,
           0.4425127139956679
          ],
          [
           1.3761154230337669,
           0.4524638026966714
          ],
          [
           1.4352411540522516,
           0.4644635739806941
          ],
          [
           1.4861749221250922,
           0.4770740294394878
          ],
          [
           1.529335722458339,
           0.48888021867004183
          ],
          [
           1.5651431202179231,
           0.4990414288301461
          ],
          [
           1.594016680569779,
           0.5073168290691996
          ],
          [
           1.6163759686798453,
           0.5134937684971737
          ],
          [
           1.6326405497140548,
           0.517359596224037
          ],
          [
           1.6432299888383453,
           0.5187450492531664
          ],
          [
           1.6485638512186502,
           0.5184374439897639
          ],
          [
           1.649061702020907,
           0.5181582569651187
          ],
          [
           1.645143106411049,
           0.5192895826158122
          ],
          [
           1.6372276295550139,
           0.521567398060281
          ],
          [
           1.6257348366187352,
           0.5242887675284458
          ],
          [
           1.6110842927681506,
           0.527089174734441
          ],
          [
           1.593695563169192,
           0.5300431660651701
          ],
          [
           1.5739882129877996,
           0.5332545741350926
          ],
          [
           1.5523818073899043,
           0.5368272315586693
          ],
          [
           1.5292959115414435,
           0.5408649709503592
          ],
          [
           1.5051500906083546,
           0.5454716249246225
          ],
          [
           1.4803639097565693,
           0.5507510260959191
          ],
          [
           null,
           0.556799547628419
          ],
          [
           null,
           0.563518458989628
          ],
          [
           null,
           0.5705998787085202
          ],
          [
           null,
           0.5777256521576253
          ],
          [
           null,
           0.5845776247094717
          ],
          [
           null,
           0.5908376417365879
          ],
          [
           null,
           0.5961875486115036
          ],
          [
           null,
           0.6003091907067473
          ],
          [
           null,
           0.6028860898347752
          ],
          [
           null,
           0.6039110056740232
          ],
          [
           null,
           0.6040452467967007
          ],
          [
           null,
           0.604037354278918
          ],
          [
           null,
           0.6046358691967851
          ],
          [
           null,
           0.6065893326264123
          ],
          [
           null,
           0.610616563158977
          ],
          [
           null,
           0.6167731639588359
          ],
          [
           null,
           0.6244626628669475
          ],
          [
           null,
           0.6330610934604461
          ],
          [
           null,
           0.6419444893164649
          ],
          [
           null,
           0.6504888840121369
          ],
          [
           null,
           0.6581047499937102
          ],
          [
           null,
           0.6646503654131413
          ],
          [
           null,
           0.6702971712029514
          ],
          [
           null,
           0.6752230342072175
          ],
          [
           null,
           0.679605821270017
          ],
          [
           null,
           0.6836233992354258
          ],
          [
           null,
           0.6874536349475208
          ],
          [
           null,
           0.691274395250379
          ],
          [
           null,
           0.6952635469880768
          ],
          [
           null,
           0.6995915725464639
          ],
          [
           null,
           0.7042630728546364
          ],
          [
           null,
           0.7091189385928842
          ],
          [
           null,
           0.7139946158800677
          ],
          [
           null,
           0.7187957704294254
          ],
          [
           null,
           0.723526690097263
          ],
          [
           null,
           0.7281990551299187
          ],
          [
           null,
           0.7328245457737305
          ],
          [
           null,
           0.7374148422750375
          ],
          [
           null,
           0.7419816248801789
          ],
          [
           null,
           0.7465348974219252
          ],
          [
           null,
           0.7510770721463379
          ],
          [
           null,
           0.7556084134182238
          ],
          [
           null,
           0.7601291854681382
          ],
          [
           null,
           0.7646396525266368
          ],
          [
           null,
           0.7691400788242756
          ],
          [
           null,
           0.7736307285916098
          ],
          [
           null,
           0.7781118660591946
          ],
          [
           null,
           0.7825837554575861
          ],
          [
           null,
           0.7870466610173404
          ],
          [
           null,
           0.7915008469690125
          ],
          [
           null,
           0.7959465775431579
          ],
          [
           null,
           0.8003841169703328
          ],
          [
           null,
           0.8048137294810925
          ],
          [
           null,
           0.8092356793059923
          ],
          [
           null,
           0.8136502306755881
          ],
          [
           null,
           0.8180576478204358
          ],
          [
           null,
           0.8224581949710909
          ],
          [
           null,
           0.8268521363581083
          ],
          [
           null,
           0.8312397362120446
          ],
          [
           null,
           0.8356212587634549
          ],
          [
           null,
           0.8399969682428949
          ],
          [
           null,
           0.8443671288809199
          ],
          [
           null,
           0.8487320049080869
          ],
          [
           null,
           0.8530918605549497
          ],
          [
           null,
           0.8574469600520647
          ],
          [
           null,
           0.8617975676299877
          ],
          [
           null,
           0.866143947519274
          ],
          [
           null,
           0.8704863639504793
          ],
          [
           null,
           0.8748250811541591
          ],
          [
           null,
           0.8791603633608694
          ],
          [
           null,
           0.8834924748011659
          ],
          [
           null,
           0.8878216797056036
          ],
          [
           null,
           0.8921482423047383
          ],
          [
           null,
           0.8964724268291262
          ],
          [
           null,
           0.9007944975093221
          ],
          [
           null,
           0.9051147185758817
          ],
          [
           null,
           0.9094333542593619
          ],
          [
           null,
           0.9137506687903164
          ],
          [
           null,
           0.9180669263993018
          ],
          [
           null,
           0.9223823913168742
          ],
          [
           null,
           0.9266973277735884
          ],
          [
           null,
           0.931012
          ]
         ]
        }
       ],
       "layout": {
        "margin": {
         "b": 10,
         "l": 10,
         "r": 20,
         "t": 10
        },
        "scene": {
         "xaxis": {
          "title": {
           "text": "Trading Days till Expiry"
          }
         },
         "yaxis": {
          "title": {
           "text": "Moneyness"
          }
         },
         "zaxis": {
          "title": {
           "text": "Implied Volatility"
          }
         }
        },
        "template": {
         "data": {
          "bar": [
           {
            "error_x": {
             "color": "#2a3f5f"
            },
            "error_y": {
             "color": "#2a3f5f"
            },
            "marker": {
             "line": {
              "color": "#E5ECF6",
              "width": 0.5
             },
             "pattern": {
              "fillmode": "overlay",
              "size": 10,
              "solidity": 0.2
             }
            },
            "type": "bar"
           }
          ],
          "barpolar": [
           {
            "marker": {
             "line": {
              "color": "#E5ECF6",
              "width": 0.5
             },
             "pattern": {
              "fillmode": "overlay",
              "size": 10,
              "solidity": 0.2
             }
            },
            "type": "barpolar"
           }
          ],
          "carpet": [
           {
            "aaxis": {
             "endlinecolor": "#2a3f5f",
             "gridcolor": "white",
             "linecolor": "white",
             "minorgridcolor": "white",
             "startlinecolor": "#2a3f5f"
            },
            "baxis": {
             "endlinecolor": "#2a3f5f",
             "gridcolor": "white",
             "linecolor": "white",
             "minorgridcolor": "white",
             "startlinecolor": "#2a3f5f"
            },
            "type": "carpet"
           }
          ],
          "choropleth": [
           {
            "colorbar": {
             "outlinewidth": 0,
             "ticks": ""
            },
            "type": "choropleth"
           }
          ],
          "contour": [
           {
            "colorbar": {
             "outlinewidth": 0,
             "ticks": ""
            },
            "colorscale": [
             [
              0,
              "#0d0887"
             ],
             [
              0.1111111111111111,
              "#46039f"
             ],
             [
              0.2222222222222222,
              "#7201a8"
             ],
             [
              0.3333333333333333,
              "#9c179e"
             ],
             [
              0.4444444444444444,
              "#bd3786"
             ],
             [
              0.5555555555555556,
              "#d8576b"
             ],
             [
              0.6666666666666666,
              "#ed7953"
             ],
             [
              0.7777777777777778,
              "#fb9f3a"
             ],
             [
              0.8888888888888888,
              "#fdca26"
             ],
             [
              1,
              "#f0f921"
             ]
            ],
            "type": "contour"
           }
          ],
          "contourcarpet": [
           {
            "colorbar": {
             "outlinewidth": 0,
             "ticks": ""
            },
            "type": "contourcarpet"
           }
          ],
          "heatmap": [
           {
            "colorbar": {
             "outlinewidth": 0,
             "ticks": ""
            },
            "colorscale": [
             [
              0,
              "#0d0887"
             ],
             [
              0.1111111111111111,
              "#46039f"
             ],
             [
              0.2222222222222222,
              "#7201a8"
             ],
             [
              0.3333333333333333,
              "#9c179e"
             ],
             [
              0.4444444444444444,
              "#bd3786"
             ],
             [
              0.5555555555555556,
              "#d8576b"
             ],
             [
              0.6666666666666666,
              "#ed7953"
             ],
             [
              0.7777777777777778,
              "#fb9f3a"
             ],
             [
              0.8888888888888888,
              "#fdca26"
             ],
             [
              1,
              "#f0f921"
             ]
            ],
            "type": "heatmap"
           }
          ],
          "heatmapgl": [
           {
            "colorbar": {
             "outlinewidth": 0,
             "ticks": ""
            },
            "colorscale": [
             [
              0,
              "#0d0887"
             ],
             [
              0.1111111111111111,
              "#46039f"
             ],
             [
              0.2222222222222222,
              "#7201a8"
             ],
             [
              0.3333333333333333,
              "#9c179e"
             ],
             [
              0.4444444444444444,
              "#bd3786"
             ],
             [
              0.5555555555555556,
              "#d8576b"
             ],
             [
              0.6666666666666666,
              "#ed7953"
             ],
             [
              0.7777777777777778,
              "#fb9f3a"
             ],
             [
              0.8888888888888888,
              "#fdca26"
             ],
             [
              1,
              "#f0f921"
             ]
            ],
            "type": "heatmapgl"
           }
          ],
          "histogram": [
           {
            "marker": {
             "pattern": {
              "fillmode": "overlay",
              "size": 10,
              "solidity": 0.2
             }
            },
            "type": "histogram"
           }
          ],
          "histogram2d": [
           {
            "colorbar": {
             "outlinewidth": 0,
             "ticks": ""
            },
            "colorscale": [
             [
              0,
              "#0d0887"
             ],
             [
              0.1111111111111111,
              "#46039f"
             ],
             [
              0.2222222222222222,
              "#7201a8"
             ],
             [
              0.3333333333333333,
              "#9c179e"
             ],
             [
              0.4444444444444444,
              "#bd3786"
             ],
             [
              0.5555555555555556,
              "#d8576b"
             ],
             [
              0.6666666666666666,
              "#ed7953"
             ],
             [
              0.7777777777777778,
              "#fb9f3a"
             ],
             [
              0.8888888888888888,
              "#fdca26"
             ],
             [
              1,
              "#f0f921"
             ]
            ],
            "type": "histogram2d"
           }
          ],
          "histogram2dcontour": [
           {
            "colorbar": {
             "outlinewidth": 0,
             "ticks": ""
            },
            "colorscale": [
             [
              0,
              "#0d0887"
             ],
             [
              0.1111111111111111,
              "#46039f"
             ],
             [
              0.2222222222222222,
              "#7201a8"
             ],
             [
              0.3333333333333333,
              "#9c179e"
             ],
             [
              0.4444444444444444,
              "#bd3786"
             ],
             [
              0.5555555555555556,
              "#d8576b"
             ],
             [
              0.6666666666666666,
              "#ed7953"
             ],
             [
              0.7777777777777778,
              "#fb9f3a"
             ],
             [
              0.8888888888888888,
              "#fdca26"
             ],
             [
              1,
              "#f0f921"
             ]
            ],
            "type": "histogram2dcontour"
           }
          ],
          "mesh3d": [
           {
            "colorbar": {
             "outlinewidth": 0,
             "ticks": ""
            },
            "type": "mesh3d"
           }
          ],
          "parcoords": [
           {
            "line": {
             "colorbar": {
              "outlinewidth": 0,
              "ticks": ""
             }
            },
            "type": "parcoords"
           }
          ],
          "pie": [
           {
            "automargin": true,
            "type": "pie"
           }
          ],
          "scatter": [
           {
            "fillpattern": {
             "fillmode": "overlay",
             "size": 10,
             "solidity": 0.2
            },
            "type": "scatter"
           }
          ],
          "scatter3d": [
           {
            "line": {
             "colorbar": {
              "outlinewidth": 0,
              "ticks": ""
             }
            },
            "marker": {
             "colorbar": {
              "outlinewidth": 0,
              "ticks": ""
             }
            },
            "type": "scatter3d"
           }
          ],
          "scattercarpet": [
           {
            "marker": {
             "colorbar": {
              "outlinewidth": 0,
              "ticks": ""
             }
            },
            "type": "scattercarpet"
           }
          ],
          "scattergeo": [
           {
            "marker": {
             "colorbar": {
              "outlinewidth": 0,
              "ticks": ""
             }
            },
            "type": "scattergeo"
           }
          ],
          "scattergl": [
           {
            "marker": {
             "colorbar": {
              "outlinewidth": 0,
              "ticks": ""
             }
            },
            "type": "scattergl"
           }
          ],
          "scattermapbox": [
           {
            "marker": {
             "colorbar": {
              "outlinewidth": 0,
              "ticks": ""
             }
            },
            "type": "scattermapbox"
           }
          ],
          "scatterpolar": [
           {
            "marker": {
             "colorbar": {
              "outlinewidth": 0,
              "ticks": ""
             }
            },
            "type": "scatterpolar"
           }
          ],
          "scatterpolargl": [
           {
            "marker": {
             "colorbar": {
              "outlinewidth": 0,
              "ticks": ""
             }
            },
            "type": "scatterpolargl"
           }
          ],
          "scatterternary": [
           {
            "marker": {
             "colorbar": {
              "outlinewidth": 0,
              "ticks": ""
             }
            },
            "type": "scatterternary"
           }
          ],
          "surface": [
           {
            "colorbar": {
             "outlinewidth": 0,
             "ticks": ""
            },
            "colorscale": [
             [
              0,
              "#0d0887"
             ],
             [
              0.1111111111111111,
              "#46039f"
             ],
             [
              0.2222222222222222,
              "#7201a8"
             ],
             [
              0.3333333333333333,
              "#9c179e"
             ],
             [
              0.4444444444444444,
              "#bd3786"
             ],
             [
              0.5555555555555556,
              "#d8576b"
             ],
             [
              0.6666666666666666,
              "#ed7953"
             ],
             [
              0.7777777777777778,
              "#fb9f3a"
             ],
             [
              0.8888888888888888,
              "#fdca26"
             ],
             [
              1,
              "#f0f921"
             ]
            ],
            "type": "surface"
           }
          ],
          "table": [
           {
            "cells": {
             "fill": {
              "color": "#EBF0F8"
             },
             "line": {
              "color": "white"
             }
            },
            "header": {
             "fill": {
              "color": "#C8D4E3"
             },
             "line": {
              "color": "white"
             }
            },
            "type": "table"
           }
          ]
         },
         "layout": {
          "annotationdefaults": {
           "arrowcolor": "#2a3f5f",
           "arrowhead": 0,
           "arrowwidth": 1
          },
          "autotypenumbers": "strict",
          "coloraxis": {
           "colorbar": {
            "outlinewidth": 0,
            "ticks": ""
           }
          },
          "colorscale": {
           "diverging": [
            [
             0,
             "#8e0152"
            ],
            [
             0.1,
             "#c51b7d"
            ],
            [
             0.2,
             "#de77ae"
            ],
            [
             0.3,
             "#f1b6da"
            ],
            [
             0.4,
             "#fde0ef"
            ],
            [
             0.5,
             "#f7f7f7"
            ],
            [
             0.6,
             "#e6f5d0"
            ],
            [
             0.7,
             "#b8e186"
            ],
            [
             0.8,
             "#7fbc41"
            ],
            [
             0.9,
             "#4d9221"
            ],
            [
             1,
             "#276419"
            ]
           ],
           "sequential": [
            [
             0,
             "#0d0887"
            ],
            [
             0.1111111111111111,
             "#46039f"
            ],
            [
             0.2222222222222222,
             "#7201a8"
            ],
            [
             0.3333333333333333,
             "#9c179e"
            ],
            [
             0.4444444444444444,
             "#bd3786"
            ],
            [
             0.5555555555555556,
             "#d8576b"
            ],
            [
             0.6666666666666666,
             "#ed7953"
            ],
            [
             0.7777777777777778,
             "#fb9f3a"
            ],
            [
             0.8888888888888888,
             "#fdca26"
            ],
            [
             1,
             "#f0f921"
            ]
           ],
           "sequentialminus": [
            [
             0,
             "#0d0887"
            ],
            [
             0.1111111111111111,
             "#46039f"
            ],
            [
             0.2222222222222222,
             "#7201a8"
            ],
            [
             0.3333333333333333,
             "#9c179e"
            ],
            [
             0.4444444444444444,
             "#bd3786"
            ],
            [
             0.5555555555555556,
             "#d8576b"
            ],
            [
             0.6666666666666666,
             "#ed7953"
            ],
            [
             0.7777777777777778,
             "#fb9f3a"
            ],
            [
             0.8888888888888888,
             "#fdca26"
            ],
            [
             1,
             "#f0f921"
            ]
           ]
          },
          "colorway": [
           "#636efa",
           "#EF553B",
           "#00cc96",
           "#ab63fa",
           "#FFA15A",
           "#19d3f3",
           "#FF6692",
           "#B6E880",
           "#FF97FF",
           "#FECB52"
          ],
          "font": {
           "color": "#2a3f5f"
          },
          "geo": {
           "bgcolor": "white",
           "lakecolor": "white",
           "landcolor": "#E5ECF6",
           "showlakes": true,
           "showland": true,
           "subunitcolor": "white"
          },
          "hoverlabel": {
           "align": "left"
          },
          "hovermode": "closest",
          "mapbox": {
           "style": "light"
          },
          "paper_bgcolor": "white",
          "plot_bgcolor": "#E5ECF6",
          "polar": {
           "angularaxis": {
            "gridcolor": "white",
            "linecolor": "white",
            "ticks": ""
           },
           "bgcolor": "#E5ECF6",
           "radialaxis": {
            "gridcolor": "white",
            "linecolor": "white",
            "ticks": ""
           }
          },
          "scene": {
           "xaxis": {
            "backgroundcolor": "#E5ECF6",
            "gridcolor": "white",
            "gridwidth": 2,
            "linecolor": "white",
            "showbackground": true,
            "ticks": "",
            "zerolinecolor": "white"
           },
           "yaxis": {
            "backgroundcolor": "#E5ECF6",
            "gridcolor": "white",
            "gridwidth": 2,
            "linecolor": "white",
            "showbackground": true,
            "ticks": "",
            "zerolinecolor": "white"
           },
           "zaxis": {
            "backgroundcolor": "#E5ECF6",
            "gridcolor": "white",
            "gridwidth": 2,
            "linecolor": "white",
            "showbackground": true,
            "ticks": "",
            "zerolinecolor": "white"
           }
          },
          "shapedefaults": {
           "line": {
            "color": "#2a3f5f"
           }
          },
          "ternary": {
           "aaxis": {
            "gridcolor": "white",
            "linecolor": "white",
            "ticks": ""
           },
           "baxis": {
            "gridcolor": "white",
            "linecolor": "white",
            "ticks": ""
           },
           "bgcolor": "#E5ECF6",
           "caxis": {
            "gridcolor": "white",
            "linecolor": "white",
            "ticks": ""
           }
          },
          "title": {
           "x": 0.05
          },
          "xaxis": {
           "automargin": true,
           "gridcolor": "white",
           "linecolor": "white",
           "ticks": "",
           "title": {
            "standoff": 15
           },
           "zerolinecolor": "white",
           "zerolinewidth": 2
          },
          "yaxis": {
           "automargin": true,
           "gridcolor": "white",
           "linecolor": "white",
           "ticks": "",
           "title": {
            "standoff": 15
           },
           "zerolinecolor": "white",
           "zerolinewidth": 2
          }
         }
        },
        "width": 700
       }
      }
     },
     "metadata": {},
     "output_type": "display_data"
    }
   ],
   "source": [
    "import pandas as pd\n",
    "import numpy as np\n",
    "from scipy.interpolate import griddata\n",
    "import plotly.graph_objects as go\n",
    "\n",
    "# Convert the string to a pandas Timestamp\n",
    "# date = pd.Timestamp('2020-05-07')\n",
    "date = pd.Timestamp('2019-06-13')\n",
    "\n",
    "# Create a copy of pd_merged\n",
    "pd_merged_copy = pd_merged.copy()\n",
    "\n",
    "# Use the copy for the filtering\n",
    "# pd_merged_1 = pd_merged_copy[(pd_merged_copy[\"trading_days_till_exp\"] <= 10) & (pd_merged_copy['prc_option'] >= 1/8)]\n",
    "pd_merged_1 = pd_merged_copy[(pd_merged_copy[\"trading_days_till_exp\"] <= 10)]\n",
    "# Filter the DataFrame for the 'TSLA' ticker and the specific date\n",
    "df__nvda = pd_merged_1[(pd_merged_1['Ticker'] == 'AMZN') & (pd_merged_1['date'] == date)]\n",
    "\n",
    "# Create a grid of x and y values (swapping them)\n",
    "x = np.linspace(df__nvda['trading_days_till_exp'].min(), df__nvda['trading_days_till_exp'].max(), len(df__nvda['trading_days_till_exp'].unique()))\n",
    "y = np.linspace(df__nvda['moneyness'].min(), df__nvda['moneyness'].max(), len(df__nvda['moneyness'].unique()))\n",
    "x_grid, y_grid = np.meshgrid(x, y)\n",
    "\n",
    "# Interpolate z values\n",
    "z_grid = griddata((df__nvda['trading_days_till_exp'], df__nvda['moneyness']), df__nvda['impl_volatility'], (x_grid, y_grid), method='cubic')\n",
    "\n",
    "# Create a 3D surface plot\n",
    "fig = go.Figure(data=[go.Surface(x=x_grid, y=y_grid, z=z_grid, colorscale='Viridis')])\n",
    "\n",
    "# Set labels with swapped titles\n",
    "fig.update_layout(scene=dict(\n",
    "                    xaxis_title='Trading Days till Expiry',\n",
    "                    yaxis_title='Moneyness',\n",
    "                    zaxis_title='Implied Volatility'),\n",
    "                    width=700,\n",
    "                    margin=dict(r=20, b=10, l=10, t=10))\n",
    "\n",
    "fig.show()\n"
   ]
  },
  {
   "cell_type": "code",
   "execution_count": 51,
   "metadata": {},
   "outputs": [
    {
     "data": {
      "text/html": [
       "<div>\n",
       "<style scoped>\n",
       "    .dataframe tbody tr th:only-of-type {\n",
       "        vertical-align: middle;\n",
       "    }\n",
       "\n",
       "    .dataframe tbody tr th {\n",
       "        vertical-align: top;\n",
       "    }\n",
       "\n",
       "    .dataframe thead th {\n",
       "        text-align: right;\n",
       "    }\n",
       "</style>\n",
       "<table border=\"1\" class=\"dataframe\">\n",
       "  <thead>\n",
       "    <tr style=\"text-align: right;\">\n",
       "      <th></th>\n",
       "      <th>date</th>\n",
       "      <th>exdate</th>\n",
       "      <th>cp_flag</th>\n",
       "      <th>strike_price</th>\n",
       "      <th>best_bid</th>\n",
       "      <th>best_offer</th>\n",
       "      <th>volume</th>\n",
       "      <th>open_interest</th>\n",
       "      <th>impl_volatility</th>\n",
       "      <th>delta</th>\n",
       "      <th>...</th>\n",
       "      <th>BIDLO</th>\n",
       "      <th>ASKHI</th>\n",
       "      <th>Year</th>\n",
       "      <th>Annual_Dividend_Yield</th>\n",
       "      <th>T</th>\n",
       "      <th>DATE</th>\n",
       "      <th>2Y_bond</th>\n",
       "      <th>Forward_Price</th>\n",
       "      <th>moneyness</th>\n",
       "      <th>trading_day</th>\n",
       "    </tr>\n",
       "  </thead>\n",
       "  <tbody>\n",
       "    <tr>\n",
       "      <th>13065</th>\n",
       "      <td>2019-01-03</td>\n",
       "      <td>2019-01-04</td>\n",
       "      <td>P</td>\n",
       "      <td>1555000</td>\n",
       "      <td>53.70</td>\n",
       "      <td>56.05</td>\n",
       "      <td>9</td>\n",
       "      <td>101</td>\n",
       "      <td>0.336920</td>\n",
       "      <td>-0.979759</td>\n",
       "      <td>...</td>\n",
       "      <td>1460.93005</td>\n",
       "      <td>1553.35999</td>\n",
       "      <td>2019</td>\n",
       "      <td>0.0</td>\n",
       "      <td>0.003968</td>\n",
       "      <td>2019-01-03</td>\n",
       "      <td>2.4613</td>\n",
       "      <td>1539.280335</td>\n",
       "      <td>0.989794</td>\n",
       "      <td>756</td>\n",
       "    </tr>\n",
       "    <tr>\n",
       "      <th>14913</th>\n",
       "      <td>2019-01-03</td>\n",
       "      <td>2019-01-11</td>\n",
       "      <td>P</td>\n",
       "      <td>1652500</td>\n",
       "      <td>151.20</td>\n",
       "      <td>154.10</td>\n",
       "      <td>1</td>\n",
       "      <td>19</td>\n",
       "      <td>0.340757</td>\n",
       "      <td>-0.975239</td>\n",
       "      <td>...</td>\n",
       "      <td>1460.93005</td>\n",
       "      <td>1553.35999</td>\n",
       "      <td>2019</td>\n",
       "      <td>0.0</td>\n",
       "      <td>0.023810</td>\n",
       "      <td>2019-01-03</td>\n",
       "      <td>2.4613</td>\n",
       "      <td>1540.032231</td>\n",
       "      <td>0.931395</td>\n",
       "      <td>756</td>\n",
       "    </tr>\n",
       "    <tr>\n",
       "      <th>14815</th>\n",
       "      <td>2019-01-03</td>\n",
       "      <td>2019-01-11</td>\n",
       "      <td>P</td>\n",
       "      <td>1645000</td>\n",
       "      <td>144.45</td>\n",
       "      <td>147.05</td>\n",
       "      <td>2</td>\n",
       "      <td>28</td>\n",
       "      <td>0.363729</td>\n",
       "      <td>-0.957150</td>\n",
       "      <td>...</td>\n",
       "      <td>1460.93005</td>\n",
       "      <td>1553.35999</td>\n",
       "      <td>2019</td>\n",
       "      <td>0.0</td>\n",
       "      <td>0.023810</td>\n",
       "      <td>2019-01-03</td>\n",
       "      <td>2.4613</td>\n",
       "      <td>1540.032231</td>\n",
       "      <td>0.935641</td>\n",
       "      <td>756</td>\n",
       "    </tr>\n",
       "    <tr>\n",
       "      <th>14787</th>\n",
       "      <td>2019-01-03</td>\n",
       "      <td>2019-01-11</td>\n",
       "      <td>P</td>\n",
       "      <td>1640000</td>\n",
       "      <td>139.80</td>\n",
       "      <td>142.35</td>\n",
       "      <td>1</td>\n",
       "      <td>31</td>\n",
       "      <td>0.368933</td>\n",
       "      <td>-0.948403</td>\n",
       "      <td>...</td>\n",
       "      <td>1460.93005</td>\n",
       "      <td>1553.35999</td>\n",
       "      <td>2019</td>\n",
       "      <td>0.0</td>\n",
       "      <td>0.023810</td>\n",
       "      <td>2019-01-03</td>\n",
       "      <td>2.4613</td>\n",
       "      <td>1540.032231</td>\n",
       "      <td>0.938494</td>\n",
       "      <td>756</td>\n",
       "    </tr>\n",
       "    <tr>\n",
       "      <th>13067</th>\n",
       "      <td>2019-01-03</td>\n",
       "      <td>2019-01-04</td>\n",
       "      <td>P</td>\n",
       "      <td>1550000</td>\n",
       "      <td>49.30</td>\n",
       "      <td>51.15</td>\n",
       "      <td>364</td>\n",
       "      <td>316</td>\n",
       "      <td>0.371063</td>\n",
       "      <td>-0.953179</td>\n",
       "      <td>...</td>\n",
       "      <td>1460.93005</td>\n",
       "      <td>1553.35999</td>\n",
       "      <td>2019</td>\n",
       "      <td>0.0</td>\n",
       "      <td>0.003968</td>\n",
       "      <td>2019-01-03</td>\n",
       "      <td>2.4613</td>\n",
       "      <td>1539.280335</td>\n",
       "      <td>0.992987</td>\n",
       "      <td>756</td>\n",
       "    </tr>\n",
       "    <tr>\n",
       "      <th>...</th>\n",
       "      <td>...</td>\n",
       "      <td>...</td>\n",
       "      <td>...</td>\n",
       "      <td>...</td>\n",
       "      <td>...</td>\n",
       "      <td>...</td>\n",
       "      <td>...</td>\n",
       "      <td>...</td>\n",
       "      <td>...</td>\n",
       "      <td>...</td>\n",
       "      <td>...</td>\n",
       "      <td>...</td>\n",
       "      <td>...</td>\n",
       "      <td>...</td>\n",
       "      <td>...</td>\n",
       "      <td>...</td>\n",
       "      <td>...</td>\n",
       "      <td>...</td>\n",
       "      <td>...</td>\n",
       "      <td>...</td>\n",
       "      <td>...</td>\n",
       "    </tr>\n",
       "    <tr>\n",
       "      <th>11550</th>\n",
       "      <td>2019-01-03</td>\n",
       "      <td>2019-01-04</td>\n",
       "      <td>P</td>\n",
       "      <td>1050000</td>\n",
       "      <td>0.00</td>\n",
       "      <td>0.03</td>\n",
       "      <td>4</td>\n",
       "      <td>164</td>\n",
       "      <td>2.047121</td>\n",
       "      <td>-0.000356</td>\n",
       "      <td>...</td>\n",
       "      <td>1460.93005</td>\n",
       "      <td>1553.35999</td>\n",
       "      <td>2019</td>\n",
       "      <td>0.0</td>\n",
       "      <td>0.003968</td>\n",
       "      <td>2019-01-03</td>\n",
       "      <td>2.4613</td>\n",
       "      <td>1539.280335</td>\n",
       "      <td>1.465838</td>\n",
       "      <td>756</td>\n",
       "    </tr>\n",
       "    <tr>\n",
       "      <th>11581</th>\n",
       "      <td>2019-01-03</td>\n",
       "      <td>2019-01-04</td>\n",
       "      <td>P</td>\n",
       "      <td>1000000</td>\n",
       "      <td>0.00</td>\n",
       "      <td>0.02</td>\n",
       "      <td>33</td>\n",
       "      <td>373</td>\n",
       "      <td>2.245438</td>\n",
       "      <td>-0.000223</td>\n",
       "      <td>...</td>\n",
       "      <td>1460.93005</td>\n",
       "      <td>1553.35999</td>\n",
       "      <td>2019</td>\n",
       "      <td>0.0</td>\n",
       "      <td>0.003968</td>\n",
       "      <td>2019-01-03</td>\n",
       "      <td>2.4613</td>\n",
       "      <td>1539.280335</td>\n",
       "      <td>1.539130</td>\n",
       "      <td>756</td>\n",
       "    </tr>\n",
       "    <tr>\n",
       "      <th>12023</th>\n",
       "      <td>2019-01-03</td>\n",
       "      <td>2019-01-04</td>\n",
       "      <td>C</td>\n",
       "      <td>1150000</td>\n",
       "      <td>349.45</td>\n",
       "      <td>354.50</td>\n",
       "      <td>1</td>\n",
       "      <td>2</td>\n",
       "      <td>2.576766</td>\n",
       "      <td>0.979318</td>\n",
       "      <td>...</td>\n",
       "      <td>1460.93005</td>\n",
       "      <td>1553.35999</td>\n",
       "      <td>2019</td>\n",
       "      <td>0.0</td>\n",
       "      <td>0.003968</td>\n",
       "      <td>2019-01-03</td>\n",
       "      <td>2.4613</td>\n",
       "      <td>1539.280335</td>\n",
       "      <td>1.338374</td>\n",
       "      <td>756</td>\n",
       "    </tr>\n",
       "    <tr>\n",
       "      <th>13064</th>\n",
       "      <td>2019-01-03</td>\n",
       "      <td>2019-01-04</td>\n",
       "      <td>P</td>\n",
       "      <td>970000</td>\n",
       "      <td>0.00</td>\n",
       "      <td>0.21</td>\n",
       "      <td>2</td>\n",
       "      <td>7</td>\n",
       "      <td>2.892408</td>\n",
       "      <td>-0.001550</td>\n",
       "      <td>...</td>\n",
       "      <td>1460.93005</td>\n",
       "      <td>1553.35999</td>\n",
       "      <td>2019</td>\n",
       "      <td>0.0</td>\n",
       "      <td>0.003968</td>\n",
       "      <td>2019-01-03</td>\n",
       "      <td>2.4613</td>\n",
       "      <td>1539.280335</td>\n",
       "      <td>1.586732</td>\n",
       "      <td>756</td>\n",
       "    </tr>\n",
       "    <tr>\n",
       "      <th>12025</th>\n",
       "      <td>2019-01-03</td>\n",
       "      <td>2019-01-04</td>\n",
       "      <td>C</td>\n",
       "      <td>1100000</td>\n",
       "      <td>399.45</td>\n",
       "      <td>404.50</td>\n",
       "      <td>2</td>\n",
       "      <td>6</td>\n",
       "      <td>2.946306</td>\n",
       "      <td>0.981711</td>\n",
       "      <td>...</td>\n",
       "      <td>1460.93005</td>\n",
       "      <td>1553.35999</td>\n",
       "      <td>2019</td>\n",
       "      <td>0.0</td>\n",
       "      <td>0.003968</td>\n",
       "      <td>2019-01-03</td>\n",
       "      <td>2.4613</td>\n",
       "      <td>1539.280335</td>\n",
       "      <td>1.399209</td>\n",
       "      <td>756</td>\n",
       "    </tr>\n",
       "  </tbody>\n",
       "</table>\n",
       "<p>630 rows × 28 columns</p>\n",
       "</div>"
      ],
      "text/plain": [
       "            date     exdate cp_flag  strike_price  best_bid  best_offer  \\\n",
       "13065 2019-01-03 2019-01-04       P       1555000     53.70       56.05   \n",
       "14913 2019-01-03 2019-01-11       P       1652500    151.20      154.10   \n",
       "14815 2019-01-03 2019-01-11       P       1645000    144.45      147.05   \n",
       "14787 2019-01-03 2019-01-11       P       1640000    139.80      142.35   \n",
       "13067 2019-01-03 2019-01-04       P       1550000     49.30       51.15   \n",
       "...          ...        ...     ...           ...       ...         ...   \n",
       "11550 2019-01-03 2019-01-04       P       1050000      0.00        0.03   \n",
       "11581 2019-01-03 2019-01-04       P       1000000      0.00        0.02   \n",
       "12023 2019-01-03 2019-01-04       C       1150000    349.45      354.50   \n",
       "13064 2019-01-03 2019-01-04       P        970000      0.00        0.21   \n",
       "12025 2019-01-03 2019-01-04       C       1100000    399.45      404.50   \n",
       "\n",
       "       volume  open_interest  impl_volatility     delta  ...       BIDLO  \\\n",
       "13065       9            101         0.336920 -0.979759  ...  1460.93005   \n",
       "14913       1             19         0.340757 -0.975239  ...  1460.93005   \n",
       "14815       2             28         0.363729 -0.957150  ...  1460.93005   \n",
       "14787       1             31         0.368933 -0.948403  ...  1460.93005   \n",
       "13067     364            316         0.371063 -0.953179  ...  1460.93005   \n",
       "...       ...            ...              ...       ...  ...         ...   \n",
       "11550       4            164         2.047121 -0.000356  ...  1460.93005   \n",
       "11581      33            373         2.245438 -0.000223  ...  1460.93005   \n",
       "12023       1              2         2.576766  0.979318  ...  1460.93005   \n",
       "13064       2              7         2.892408 -0.001550  ...  1460.93005   \n",
       "12025       2              6         2.946306  0.981711  ...  1460.93005   \n",
       "\n",
       "            ASKHI  Year Annual_Dividend_Yield         T       DATE  2Y_bond  \\\n",
       "13065  1553.35999  2019                   0.0  0.003968 2019-01-03   2.4613   \n",
       "14913  1553.35999  2019                   0.0  0.023810 2019-01-03   2.4613   \n",
       "14815  1553.35999  2019                   0.0  0.023810 2019-01-03   2.4613   \n",
       "14787  1553.35999  2019                   0.0  0.023810 2019-01-03   2.4613   \n",
       "13067  1553.35999  2019                   0.0  0.003968 2019-01-03   2.4613   \n",
       "...           ...   ...                   ...       ...        ...      ...   \n",
       "11550  1553.35999  2019                   0.0  0.003968 2019-01-03   2.4613   \n",
       "11581  1553.35999  2019                   0.0  0.003968 2019-01-03   2.4613   \n",
       "12023  1553.35999  2019                   0.0  0.003968 2019-01-03   2.4613   \n",
       "13064  1553.35999  2019                   0.0  0.003968 2019-01-03   2.4613   \n",
       "12025  1553.35999  2019                   0.0  0.003968 2019-01-03   2.4613   \n",
       "\n",
       "       Forward_Price  moneyness  trading_day  \n",
       "13065    1539.280335   0.989794          756  \n",
       "14913    1540.032231   0.931395          756  \n",
       "14815    1540.032231   0.935641          756  \n",
       "14787    1540.032231   0.938494          756  \n",
       "13067    1539.280335   0.992987          756  \n",
       "...              ...        ...          ...  \n",
       "11550    1539.280335   1.465838          756  \n",
       "11581    1539.280335   1.539130          756  \n",
       "12023    1539.280335   1.338374          756  \n",
       "13064    1539.280335   1.586732          756  \n",
       "12025    1539.280335   1.399209          756  \n",
       "\n",
       "[630 rows x 28 columns]"
      ]
     },
     "execution_count": 51,
     "metadata": {},
     "output_type": "execute_result"
    }
   ],
   "source": [
    "df__nvda.sort_values('impl_volatility')"
   ]
  },
  {
   "cell_type": "code",
   "execution_count": 42,
   "metadata": {},
   "outputs": [],
   "source": [
    "\n",
    "# # Convert the string to a pandas Timestamp\n",
    "# date = pd.Timestamp('2021-03-23')\n",
    "\n",
    "# # Filter the DataFrame for the 'AMZN' ticker and the specific date\n",
    "# df_amzn = df_all[(df_all['Ticker'] == 'TSLA') & (df_all['date'] == date) & (df_all['cp_flag'] == 1) & (df_all['trading_days_till_exp'] <= 4)]\n",
    "\n",
    "# # Create a 2D scatter plot\n",
    "# plt.figure(figsize=(10, 6))\n",
    "# plt.scatter(df_amzn['moneyness'], df_amzn['impl_volatility'], c=df_amzn['impl_volatility'], cmap='viridis', alpha=0.8)\n",
    "# plt.colorbar(label='Implied Volatility')\n",
    "# plt.xlabel('Moneyness')\n",
    "# plt.ylabel('Implied Volatility')\n",
    "# plt.title('Moneyness vs Implied Volatility for AMZN on 2019-01-03')\n",
    "# plt.grid(True)\n",
    "# plt.show()"
   ]
  },
  {
   "cell_type": "markdown",
   "metadata": {},
   "source": [
    "## Plots of the data"
   ]
  },
  {
   "cell_type": "code",
   "execution_count": 32,
   "metadata": {},
   "outputs": [
    {
     "name": "stderr",
     "output_type": "stream",
     "text": [
      "/var/folders/b4/wn87d6495j1_vytb8m33q3mm0000gn/T/ipykernel_3642/522637644.py:39: FutureWarning:\n",
      "\n",
      "The default of observed=False is deprecated and will be changed to True in a future version of pandas. Pass observed=False to retain current behavior or observed=True to adopt the future default and silence this warning.\n",
      "\n"
     ]
    }
   ],
   "source": [
    "import pandas as pd\n",
    "\n",
    "# Assuming df is your original dataframe\n",
    "df = merged_df.copy()\n",
    "\n",
    "# Filter the dataframe to only include rows where the Ticker is in the tech_sector list\n",
    "tech_sector = [\"MSFT\", \"AMZN\", \"NVDA\", \"META\", \"TSLA\", \"AAPL\"]\n",
    "df = df[df['Ticker'].isin(tech_sector)]\n",
    "\n",
    "# Define the maturity (tau) ranges for short and long\n",
    "bins = [-1, 5, float('inf')]  # Short <= 5 days, Long > 5 days\n",
    "labels = ['Short', 'Long']\n",
    "df['maturity_group'] = pd.cut(df['trading_days_till_exp'], bins=bins, labels=labels, right=True)\n",
    "\n",
    "# Define the moneyness buckets and corresponding cp_flag restrictions\n",
    "def classify_moneyness(moneyness, cp_flag):\n",
    "    if 0.80 <= moneyness < 0.90 and cp_flag == 'C':  # Calls only\n",
    "        return '[0.80, 0.90]'\n",
    "    elif 0.90 <= moneyness < 0.97 and cp_flag == 'C':  # Calls only\n",
    "        return '[0.90, 0.97]'\n",
    "    elif 0.97 <= moneyness <= 1.03:  # Both calls and puts\n",
    "        return '[0.97, 1.03]'\n",
    "    elif 1.03 < moneyness <= 1.10 and cp_flag == 'P':  # Puts only\n",
    "        return '[1.03, 1.10]'\n",
    "    elif 1.10 < moneyness <= 1.60 and cp_flag == 'P':  # Puts only\n",
    "        return '[1.10, 1.60]'\n",
    "    else:\n",
    "        return None  # Exclude anything not in these ranges\n",
    "\n",
    "df['m_category'] = df.apply(lambda row: classify_moneyness(row['moneyness'], row['cp_flag']), axis=1)\n",
    "\n",
    "# Filter out rows that don't fall into any moneyness category\n",
    "df = df[df['m_category'].notnull()]\n",
    "\n",
    "# Ensure implied_volatility is in percentages if not already\n",
    "df['impl_volatility'] = df['impl_volatility'] * 100  # Convert IV to %\n",
    "\n",
    "# Group by maturity group and moneyness category, and calculate the required stats\n",
    "summary = df.groupby(['maturity_group', 'm_category']).agg(\n",
    "    Number=('date', 'count'),  # Count the number of options\n",
    "    Mean_IV=('impl_volatility', 'mean'),  # Calculate the mean implied volatility\n",
    "    Std_IV=('impl_volatility', 'std')  # Calculate the standard deviation of implied volatilities\n",
    ").reset_index()\n",
    "\n",
    "# Pivot the table to format it like your example\n",
    "summary_pivot = summary.pivot(index='m_category', columns='maturity_group', values=['Number', 'Mean_IV', 'Std_IV'])\n",
    "\n",
    "# Flatten the columns multi-index for better readability\n",
    "summary_pivot.columns = ['_'.join(col).strip() for col in summary_pivot.columns.values]\n",
    "\n",
    "# Reorder the columns to match the original table layout\n",
    "summary_pivot = summary_pivot[['Number_Short', 'Mean_IV_Short', 'Std_IV_Short']]\n",
    "\n",
    "# Rename columns to more readable format\n",
    "summary_pivot.columns = ['Number (Short)', 'Mean IV (Short)', 'Std. dev. (Short)']\n",
    "\n",
    "# Calculate the total row\n",
    "total_row = pd.DataFrame({\n",
    "    'Number (Short)': [summary_pivot['Number (Short)'].sum()],\n",
    "    'Mean IV (Short)': [summary_pivot['Mean IV (Short)'].mean()],  # Mean of the means\n",
    "    'Std. dev. (Short)': [summary_pivot['Std. dev. (Short)'].mean()]  # Mean of standard deviations\n",
    "}, index=['Total'])\n",
    "\n",
    "# Append the total row to the pivot table\n",
    "summary_pivot = pd.concat([summary_pivot, total_row])\n",
    "\n",
    "# Display the resulting table\n",
    "# import ace_tools as tools; tools.display_dataframe_to_user(name=\"S&P 500 Implied Volatility Summary (Short Maturity)\", dataframe=summary_pivot)\n"
   ]
  },
  {
   "cell_type": "code",
   "execution_count": 33,
   "metadata": {},
   "outputs": [],
   "source": [
    "df_final = df[df['maturity_group']== 'Short']\n",
    "df_final\n",
    "# Saving file \n",
    "data_set = Path.cwd().parent.parent / \"Data/Modeling/total_dataset.parquet\"\n",
    "\n",
    "save_parquet = True\n",
    "if save_parquet or not os.path.exists(data_set):\n",
    "    df_final.to_parquet(data_set)"
   ]
  },
  {
   "cell_type": "code",
   "execution_count": 34,
   "metadata": {},
   "outputs": [
    {
     "name": "stderr",
     "output_type": "stream",
     "text": [
      "/var/folders/b4/wn87d6495j1_vytb8m33q3mm0000gn/T/ipykernel_3642/2256596209.py:38: FutureWarning:\n",
      "\n",
      "The default of observed=False is deprecated and will be changed to True in a future version of pandas. Pass observed=False to retain current behavior or observed=True to adopt the future default and silence this warning.\n",
      "\n"
     ]
    }
   ],
   "source": [
    "import pandas as pd\n",
    "\n",
    "# Assuming df is your original dataframe\n",
    "df = merged_df.copy()\n",
    "\n",
    "# Filter the dataframe to only include rows where the Ticker is in the tech_sector list\n",
    "tech_sector = [\"MSFT\", \"AMZN\", \"NVDA\", \"META\", \"TSLA\", \"AAPL\"]\n",
    "df = df[df['Ticker'].isin(tech_sector)]\n",
    "\n",
    "# Define the maturity (tau) ranges for short and long\n",
    "bins = [-1, 5, float('inf')]  # Short <= 5 days, Long > 5 days\n",
    "labels = ['Short', 'Long']\n",
    "df['maturity_group'] = pd.cut(df['trading_days_till_exp'], bins=bins, labels=labels, right=True)\n",
    "\n",
    "# Define the moneyness buckets and corresponding cp_flag restrictions\n",
    "def classify_moneyness(moneyness, cp_flag):\n",
    "    if 0.80 <= moneyness < 0.90 and cp_flag == 'C':  # Calls only\n",
    "        return '[0.80, 0.90]'\n",
    "    elif 0.90 <= moneyness < 0.97 and cp_flag == 'C':  # Calls only\n",
    "        return '[0.90, 0.97]'\n",
    "    elif 0.97 <= moneyness <= 1.03:  # Both calls and puts\n",
    "        return '[0.97, 1.03]'\n",
    "    elif 1.03 < moneyness <= 1.10 and cp_flag == 'P':  # Puts only\n",
    "        return '[1.03, 1.10]'\n",
    "    elif 1.10 < moneyness <= 1.60 and cp_flag == 'P':  # Puts only\n",
    "        return '[1.10, 1.60]'\n",
    "    else:\n",
    "        return None  # Exclude anything not in these ranges\n",
    "\n",
    "# Apply moneyness classification and filter out rows with null categories\n",
    "df['m_category'] = df.apply(lambda row: classify_moneyness(row['moneyness'], row['cp_flag']), axis=1)\n",
    "df = df[df['m_category'].notnull()]\n",
    "\n",
    "# Ensure implied_volatility is in percentages if not already\n",
    "df['impl_volatility'] = df['impl_volatility'] * 100  # Convert IV to %\n",
    "\n",
    "# Group by maturity group and moneyness category, and calculate the required stats\n",
    "summary = df.groupby(['maturity_group', 'm_category']).agg(\n",
    "    Number=('date', 'count'),  # Count the number of options\n",
    "    Mean_IV=('impl_volatility', 'mean'),  # Calculate the mean implied volatility per group\n",
    "    Std_IV=('impl_volatility', 'std')  # Calculate the standard deviation of implied volatilities per group\n",
    ").reset_index()\n",
    "\n",
    "# Pivot the table to format it like your example\n",
    "summary_pivot = summary.pivot(index='m_category', columns='maturity_group', values=['Number', 'Mean_IV', 'Std_IV'])\n",
    "\n",
    "# Flatten the columns multi-index for better readability\n",
    "summary_pivot.columns = ['_'.join(col).strip() for col in summary_pivot.columns.values]\n",
    "\n",
    "# Reorder the columns to match the original table layout\n",
    "summary_pivot = summary_pivot[['Number_Short', 'Mean_IV_Short', 'Std_IV_Short']]\n",
    "\n",
    "# Rename columns to more readable format\n",
    "summary_pivot.columns = ['Number (Short)', 'Mean IV (Short)', 'Std. dev. (Short)']\n",
    "\n",
    "# Now calculate the total Mean IV and Std. dev. based on all individual observations, not just the group means\n",
    "overall_mean_iv = df[df['maturity_group'] == 'Short']['impl_volatility'].mean()  # Overall mean IV for short maturity\n",
    "overall_std_iv = df[df['maturity_group'] == 'Short']['impl_volatility'].std()  # Overall std dev for short maturity\n",
    "\n",
    "# Calculate the total row based on all observations, not just grouped stats\n",
    "total_row = pd.DataFrame({\n",
    "    'Number (Short)': [summary_pivot['Number (Short)'].sum()],\n",
    "    'Mean IV (Short)': [overall_mean_iv],  # Overall mean of all observations\n",
    "    'Std. dev. (Short)': [overall_std_iv]   # Overall std dev of all observations\n",
    "}, index=['Total'])\n",
    "\n",
    "# Append the total row to the pivot table\n",
    "summary_pivot = pd.concat([summary_pivot, total_row])\n"
   ]
  },
  {
   "cell_type": "code",
   "execution_count": 35,
   "metadata": {},
   "outputs": [
    {
     "data": {
      "text/html": [
       "<div>\n",
       "<style scoped>\n",
       "    .dataframe tbody tr th:only-of-type {\n",
       "        vertical-align: middle;\n",
       "    }\n",
       "\n",
       "    .dataframe tbody tr th {\n",
       "        vertical-align: top;\n",
       "    }\n",
       "\n",
       "    .dataframe thead th {\n",
       "        text-align: right;\n",
       "    }\n",
       "</style>\n",
       "<table border=\"1\" class=\"dataframe\">\n",
       "  <thead>\n",
       "    <tr style=\"text-align: right;\">\n",
       "      <th></th>\n",
       "      <th>date</th>\n",
       "      <th>exdate</th>\n",
       "      <th>cp_flag</th>\n",
       "      <th>strike_price</th>\n",
       "      <th>best_bid</th>\n",
       "      <th>best_offer</th>\n",
       "      <th>volume</th>\n",
       "      <th>open_interest</th>\n",
       "      <th>impl_volatility</th>\n",
       "      <th>delta</th>\n",
       "      <th>...</th>\n",
       "      <th>Year</th>\n",
       "      <th>Annual_Dividend_Yield</th>\n",
       "      <th>T</th>\n",
       "      <th>DATE</th>\n",
       "      <th>2Y_bond</th>\n",
       "      <th>Forward_Price</th>\n",
       "      <th>moneyness</th>\n",
       "      <th>trading_day</th>\n",
       "      <th>maturity_group</th>\n",
       "      <th>m_category</th>\n",
       "    </tr>\n",
       "  </thead>\n",
       "  <tbody>\n",
       "    <tr>\n",
       "      <th>4468</th>\n",
       "      <td>2018-12-31</td>\n",
       "      <td>2019-01-25</td>\n",
       "      <td>P</td>\n",
       "      <td>122000</td>\n",
       "      <td>3.40</td>\n",
       "      <td>3.65</td>\n",
       "      <td>1</td>\n",
       "      <td>0</td>\n",
       "      <td>58.5733</td>\n",
       "      <td>-0.261992</td>\n",
       "      <td>...</td>\n",
       "      <td>2018</td>\n",
       "      <td>0.0</td>\n",
       "      <td>0.067460</td>\n",
       "      <td>2018-12-31</td>\n",
       "      <td>2.5442</td>\n",
       "      <td>133.879574</td>\n",
       "      <td>1.095492</td>\n",
       "      <td>1</td>\n",
       "      <td>Long</td>\n",
       "      <td>[1.03, 1.10]</td>\n",
       "    </tr>\n",
       "    <tr>\n",
       "      <th>4467</th>\n",
       "      <td>2018-12-31</td>\n",
       "      <td>2019-01-25</td>\n",
       "      <td>P</td>\n",
       "      <td>120000</td>\n",
       "      <td>2.91</td>\n",
       "      <td>3.10</td>\n",
       "      <td>25</td>\n",
       "      <td>370</td>\n",
       "      <td>59.2713</td>\n",
       "      <td>-0.230312</td>\n",
       "      <td>...</td>\n",
       "      <td>2018</td>\n",
       "      <td>0.0</td>\n",
       "      <td>0.067460</td>\n",
       "      <td>2018-12-31</td>\n",
       "      <td>2.5442</td>\n",
       "      <td>133.879574</td>\n",
       "      <td>1.113750</td>\n",
       "      <td>1</td>\n",
       "      <td>Long</td>\n",
       "      <td>[1.10, 1.60]</td>\n",
       "    </tr>\n",
       "    <tr>\n",
       "      <th>4466</th>\n",
       "      <td>2018-12-31</td>\n",
       "      <td>2019-01-25</td>\n",
       "      <td>P</td>\n",
       "      <td>119000</td>\n",
       "      <td>2.69</td>\n",
       "      <td>2.85</td>\n",
       "      <td>15</td>\n",
       "      <td>1</td>\n",
       "      <td>59.6356</td>\n",
       "      <td>-0.215425</td>\n",
       "      <td>...</td>\n",
       "      <td>2018</td>\n",
       "      <td>0.0</td>\n",
       "      <td>0.067460</td>\n",
       "      <td>2018-12-31</td>\n",
       "      <td>2.5442</td>\n",
       "      <td>133.879574</td>\n",
       "      <td>1.123109</td>\n",
       "      <td>1</td>\n",
       "      <td>Long</td>\n",
       "      <td>[1.10, 1.60]</td>\n",
       "    </tr>\n",
       "    <tr>\n",
       "      <th>4465</th>\n",
       "      <td>2018-12-31</td>\n",
       "      <td>2019-01-25</td>\n",
       "      <td>P</td>\n",
       "      <td>118000</td>\n",
       "      <td>2.49</td>\n",
       "      <td>2.65</td>\n",
       "      <td>1</td>\n",
       "      <td>0</td>\n",
       "      <td>60.2069</td>\n",
       "      <td>-0.201803</td>\n",
       "      <td>...</td>\n",
       "      <td>2018</td>\n",
       "      <td>0.0</td>\n",
       "      <td>0.067460</td>\n",
       "      <td>2018-12-31</td>\n",
       "      <td>2.5442</td>\n",
       "      <td>133.879574</td>\n",
       "      <td>1.132627</td>\n",
       "      <td>1</td>\n",
       "      <td>Long</td>\n",
       "      <td>[1.10, 1.60]</td>\n",
       "    </tr>\n",
       "    <tr>\n",
       "      <th>4464</th>\n",
       "      <td>2018-12-31</td>\n",
       "      <td>2019-01-25</td>\n",
       "      <td>P</td>\n",
       "      <td>115000</td>\n",
       "      <td>1.91</td>\n",
       "      <td>2.11</td>\n",
       "      <td>23</td>\n",
       "      <td>67</td>\n",
       "      <td>61.5636</td>\n",
       "      <td>-0.163555</td>\n",
       "      <td>...</td>\n",
       "      <td>2018</td>\n",
       "      <td>0.0</td>\n",
       "      <td>0.067460</td>\n",
       "      <td>2018-12-31</td>\n",
       "      <td>2.5442</td>\n",
       "      <td>133.879574</td>\n",
       "      <td>1.162174</td>\n",
       "      <td>1</td>\n",
       "      <td>Long</td>\n",
       "      <td>[1.10, 1.60]</td>\n",
       "    </tr>\n",
       "    <tr>\n",
       "      <th>...</th>\n",
       "      <td>...</td>\n",
       "      <td>...</td>\n",
       "      <td>...</td>\n",
       "      <td>...</td>\n",
       "      <td>...</td>\n",
       "      <td>...</td>\n",
       "      <td>...</td>\n",
       "      <td>...</td>\n",
       "      <td>...</td>\n",
       "      <td>...</td>\n",
       "      <td>...</td>\n",
       "      <td>...</td>\n",
       "      <td>...</td>\n",
       "      <td>...</td>\n",
       "      <td>...</td>\n",
       "      <td>...</td>\n",
       "      <td>...</td>\n",
       "      <td>...</td>\n",
       "      <td>...</td>\n",
       "      <td>...</td>\n",
       "      <td>...</td>\n",
       "    </tr>\n",
       "    <tr>\n",
       "      <th>5850930</th>\n",
       "      <td>2022-01-06</td>\n",
       "      <td>2022-01-07</td>\n",
       "      <td>C</td>\n",
       "      <td>315000</td>\n",
       "      <td>1.79</td>\n",
       "      <td>1.84</td>\n",
       "      <td>12713</td>\n",
       "      <td>466</td>\n",
       "      <td>35.4934</td>\n",
       "      <td>0.427943</td>\n",
       "      <td>...</td>\n",
       "      <td>2022</td>\n",
       "      <td>0.0</td>\n",
       "      <td>0.003968</td>\n",
       "      <td>2022-01-06</td>\n",
       "      <td>NaN</td>\n",
       "      <td>NaN</td>\n",
       "      <td>0.996381</td>\n",
       "      <td>762</td>\n",
       "      <td>Short</td>\n",
       "      <td>[0.97, 1.03]</td>\n",
       "    </tr>\n",
       "    <tr>\n",
       "      <th>5850931</th>\n",
       "      <td>2022-01-06</td>\n",
       "      <td>2022-01-07</td>\n",
       "      <td>C</td>\n",
       "      <td>317500</td>\n",
       "      <td>0.91</td>\n",
       "      <td>0.97</td>\n",
       "      <td>19097</td>\n",
       "      <td>775</td>\n",
       "      <td>35.0718</td>\n",
       "      <td>0.269449</td>\n",
       "      <td>...</td>\n",
       "      <td>2022</td>\n",
       "      <td>0.0</td>\n",
       "      <td>0.003968</td>\n",
       "      <td>2022-01-06</td>\n",
       "      <td>NaN</td>\n",
       "      <td>NaN</td>\n",
       "      <td>0.988535</td>\n",
       "      <td>762</td>\n",
       "      <td>Short</td>\n",
       "      <td>[0.97, 1.03]</td>\n",
       "    </tr>\n",
       "    <tr>\n",
       "      <th>5850932</th>\n",
       "      <td>2022-01-06</td>\n",
       "      <td>2022-01-07</td>\n",
       "      <td>C</td>\n",
       "      <td>320000</td>\n",
       "      <td>0.44</td>\n",
       "      <td>0.46</td>\n",
       "      <td>46482</td>\n",
       "      <td>2919</td>\n",
       "      <td>35.3525</td>\n",
       "      <td>0.150725</td>\n",
       "      <td>...</td>\n",
       "      <td>2022</td>\n",
       "      <td>0.0</td>\n",
       "      <td>0.003968</td>\n",
       "      <td>2022-01-06</td>\n",
       "      <td>NaN</td>\n",
       "      <td>NaN</td>\n",
       "      <td>0.980813</td>\n",
       "      <td>762</td>\n",
       "      <td>Short</td>\n",
       "      <td>[0.97, 1.03]</td>\n",
       "    </tr>\n",
       "    <tr>\n",
       "      <th>5850933</th>\n",
       "      <td>2022-01-06</td>\n",
       "      <td>2022-01-07</td>\n",
       "      <td>C</td>\n",
       "      <td>322500</td>\n",
       "      <td>0.22</td>\n",
       "      <td>0.23</td>\n",
       "      <td>10100</td>\n",
       "      <td>3451</td>\n",
       "      <td>36.9277</td>\n",
       "      <td>0.082080</td>\n",
       "      <td>...</td>\n",
       "      <td>2022</td>\n",
       "      <td>0.0</td>\n",
       "      <td>0.003968</td>\n",
       "      <td>2022-01-06</td>\n",
       "      <td>NaN</td>\n",
       "      <td>NaN</td>\n",
       "      <td>0.973209</td>\n",
       "      <td>762</td>\n",
       "      <td>Short</td>\n",
       "      <td>[0.97, 1.03]</td>\n",
       "    </tr>\n",
       "    <tr>\n",
       "      <th>5850967</th>\n",
       "      <td>2022-01-06</td>\n",
       "      <td>2022-01-07</td>\n",
       "      <td>P</td>\n",
       "      <td>312500</td>\n",
       "      <td>1.48</td>\n",
       "      <td>1.52</td>\n",
       "      <td>8085</td>\n",
       "      <td>2087</td>\n",
       "      <td>32.4247</td>\n",
       "      <td>-0.394087</td>\n",
       "      <td>...</td>\n",
       "      <td>2022</td>\n",
       "      <td>0.0</td>\n",
       "      <td>0.003968</td>\n",
       "      <td>2022-01-06</td>\n",
       "      <td>NaN</td>\n",
       "      <td>NaN</td>\n",
       "      <td>1.004352</td>\n",
       "      <td>762</td>\n",
       "      <td>Short</td>\n",
       "      <td>[0.97, 1.03]</td>\n",
       "    </tr>\n",
       "  </tbody>\n",
       "</table>\n",
       "<p>2968159 rows × 30 columns</p>\n",
       "</div>"
      ],
      "text/plain": [
       "              date     exdate cp_flag  strike_price  best_bid  best_offer  \\\n",
       "4468    2018-12-31 2019-01-25       P        122000      3.40        3.65   \n",
       "4467    2018-12-31 2019-01-25       P        120000      2.91        3.10   \n",
       "4466    2018-12-31 2019-01-25       P        119000      2.69        2.85   \n",
       "4465    2018-12-31 2019-01-25       P        118000      2.49        2.65   \n",
       "4464    2018-12-31 2019-01-25       P        115000      1.91        2.11   \n",
       "...            ...        ...     ...           ...       ...         ...   \n",
       "5850930 2022-01-06 2022-01-07       C        315000      1.79        1.84   \n",
       "5850931 2022-01-06 2022-01-07       C        317500      0.91        0.97   \n",
       "5850932 2022-01-06 2022-01-07       C        320000      0.44        0.46   \n",
       "5850933 2022-01-06 2022-01-07       C        322500      0.22        0.23   \n",
       "5850967 2022-01-06 2022-01-07       P        312500      1.48        1.52   \n",
       "\n",
       "         volume  open_interest  impl_volatility     delta  ...  Year  \\\n",
       "4468          1              0          58.5733 -0.261992  ...  2018   \n",
       "4467         25            370          59.2713 -0.230312  ...  2018   \n",
       "4466         15              1          59.6356 -0.215425  ...  2018   \n",
       "4465          1              0          60.2069 -0.201803  ...  2018   \n",
       "4464         23             67          61.5636 -0.163555  ...  2018   \n",
       "...         ...            ...              ...       ...  ...   ...   \n",
       "5850930   12713            466          35.4934  0.427943  ...  2022   \n",
       "5850931   19097            775          35.0718  0.269449  ...  2022   \n",
       "5850932   46482           2919          35.3525  0.150725  ...  2022   \n",
       "5850933   10100           3451          36.9277  0.082080  ...  2022   \n",
       "5850967    8085           2087          32.4247 -0.394087  ...  2022   \n",
       "\n",
       "         Annual_Dividend_Yield         T       DATE  2Y_bond  Forward_Price  \\\n",
       "4468                       0.0  0.067460 2018-12-31   2.5442     133.879574   \n",
       "4467                       0.0  0.067460 2018-12-31   2.5442     133.879574   \n",
       "4466                       0.0  0.067460 2018-12-31   2.5442     133.879574   \n",
       "4465                       0.0  0.067460 2018-12-31   2.5442     133.879574   \n",
       "4464                       0.0  0.067460 2018-12-31   2.5442     133.879574   \n",
       "...                        ...       ...        ...      ...            ...   \n",
       "5850930                    0.0  0.003968 2022-01-06      NaN            NaN   \n",
       "5850931                    0.0  0.003968 2022-01-06      NaN            NaN   \n",
       "5850932                    0.0  0.003968 2022-01-06      NaN            NaN   \n",
       "5850933                    0.0  0.003968 2022-01-06      NaN            NaN   \n",
       "5850967                    0.0  0.003968 2022-01-06      NaN            NaN   \n",
       "\n",
       "         moneyness  trading_day  maturity_group    m_category  \n",
       "4468      1.095492            1            Long  [1.03, 1.10]  \n",
       "4467      1.113750            1            Long  [1.10, 1.60]  \n",
       "4466      1.123109            1            Long  [1.10, 1.60]  \n",
       "4465      1.132627            1            Long  [1.10, 1.60]  \n",
       "4464      1.162174            1            Long  [1.10, 1.60]  \n",
       "...            ...          ...             ...           ...  \n",
       "5850930   0.996381          762           Short  [0.97, 1.03]  \n",
       "5850931   0.988535          762           Short  [0.97, 1.03]  \n",
       "5850932   0.980813          762           Short  [0.97, 1.03]  \n",
       "5850933   0.973209          762           Short  [0.97, 1.03]  \n",
       "5850967   1.004352          762           Short  [0.97, 1.03]  \n",
       "\n",
       "[2968159 rows x 30 columns]"
      ]
     },
     "execution_count": 35,
     "metadata": {},
     "output_type": "execute_result"
    }
   ],
   "source": [
    "df"
   ]
  },
  {
   "cell_type": "code",
   "execution_count": 36,
   "metadata": {},
   "outputs": [
    {
     "data": {
      "text/html": [
       "<div>\n",
       "<style scoped>\n",
       "    .dataframe tbody tr th:only-of-type {\n",
       "        vertical-align: middle;\n",
       "    }\n",
       "\n",
       "    .dataframe tbody tr th {\n",
       "        vertical-align: top;\n",
       "    }\n",
       "\n",
       "    .dataframe thead th {\n",
       "        text-align: right;\n",
       "    }\n",
       "</style>\n",
       "<table border=\"1\" class=\"dataframe\">\n",
       "  <thead>\n",
       "    <tr style=\"text-align: right;\">\n",
       "      <th></th>\n",
       "      <th>Number (Short)</th>\n",
       "      <th>Mean IV (Short)</th>\n",
       "      <th>Std. dev. (Short)</th>\n",
       "    </tr>\n",
       "  </thead>\n",
       "  <tbody>\n",
       "    <tr>\n",
       "      <th>[0.80, 0.90]</th>\n",
       "      <td>55353.0</td>\n",
       "      <td>73.696112</td>\n",
       "      <td>28.811974</td>\n",
       "    </tr>\n",
       "    <tr>\n",
       "      <th>[0.90, 0.97]</th>\n",
       "      <td>65247.0</td>\n",
       "      <td>46.977729</td>\n",
       "      <td>22.291718</td>\n",
       "    </tr>\n",
       "    <tr>\n",
       "      <th>[0.97, 1.03]</th>\n",
       "      <td>115604.0</td>\n",
       "      <td>39.333426</td>\n",
       "      <td>22.876089</td>\n",
       "    </tr>\n",
       "    <tr>\n",
       "      <th>[1.03, 1.10]</th>\n",
       "      <td>58954.0</td>\n",
       "      <td>50.814493</td>\n",
       "      <td>22.830104</td>\n",
       "    </tr>\n",
       "    <tr>\n",
       "      <th>[1.10, 1.60]</th>\n",
       "      <td>117474.0</td>\n",
       "      <td>100.225850</td>\n",
       "      <td>47.416012</td>\n",
       "    </tr>\n",
       "    <tr>\n",
       "      <th>Total</th>\n",
       "      <td>412632.0</td>\n",
       "      <td>64.127860</td>\n",
       "      <td>40.968304</td>\n",
       "    </tr>\n",
       "  </tbody>\n",
       "</table>\n",
       "</div>"
      ],
      "text/plain": [
       "              Number (Short)  Mean IV (Short)  Std. dev. (Short)\n",
       "[0.80, 0.90]         55353.0        73.696112          28.811974\n",
       "[0.90, 0.97]         65247.0        46.977729          22.291718\n",
       "[0.97, 1.03]        115604.0        39.333426          22.876089\n",
       "[1.03, 1.10]         58954.0        50.814493          22.830104\n",
       "[1.10, 1.60]        117474.0       100.225850          47.416012\n",
       "Total               412632.0        64.127860          40.968304"
      ]
     },
     "execution_count": 36,
     "metadata": {},
     "output_type": "execute_result"
    }
   ],
   "source": [
    "summary_pivot"
   ]
  },
  {
   "cell_type": "code",
   "execution_count": 37,
   "metadata": {},
   "outputs": [
    {
     "data": {
      "text/html": [
       "<div>\n",
       "<style scoped>\n",
       "    .dataframe tbody tr th:only-of-type {\n",
       "        vertical-align: middle;\n",
       "    }\n",
       "\n",
       "    .dataframe tbody tr th {\n",
       "        vertical-align: top;\n",
       "    }\n",
       "\n",
       "    .dataframe thead th {\n",
       "        text-align: right;\n",
       "    }\n",
       "</style>\n",
       "<table border=\"1\" class=\"dataframe\">\n",
       "  <thead>\n",
       "    <tr style=\"text-align: right;\">\n",
       "      <th></th>\n",
       "      <th>Number (Short)</th>\n",
       "      <th>Mean IV (Short)</th>\n",
       "      <th>Std. dev. (Short)</th>\n",
       "    </tr>\n",
       "  </thead>\n",
       "  <tbody>\n",
       "    <tr>\n",
       "      <th>[0.80, 0.90]</th>\n",
       "      <td>55353.0</td>\n",
       "      <td>73.696112</td>\n",
       "      <td>28.811974</td>\n",
       "    </tr>\n",
       "    <tr>\n",
       "      <th>[0.90, 0.97]</th>\n",
       "      <td>65247.0</td>\n",
       "      <td>46.977729</td>\n",
       "      <td>22.291718</td>\n",
       "    </tr>\n",
       "    <tr>\n",
       "      <th>[0.97, 1.03]</th>\n",
       "      <td>115604.0</td>\n",
       "      <td>39.333426</td>\n",
       "      <td>22.876089</td>\n",
       "    </tr>\n",
       "    <tr>\n",
       "      <th>[1.03, 1.10]</th>\n",
       "      <td>58954.0</td>\n",
       "      <td>50.814493</td>\n",
       "      <td>22.830104</td>\n",
       "    </tr>\n",
       "    <tr>\n",
       "      <th>[1.10, 1.60]</th>\n",
       "      <td>117474.0</td>\n",
       "      <td>100.225850</td>\n",
       "      <td>47.416012</td>\n",
       "    </tr>\n",
       "    <tr>\n",
       "      <th>Total</th>\n",
       "      <td>412632.0</td>\n",
       "      <td>64.127860</td>\n",
       "      <td>40.968304</td>\n",
       "    </tr>\n",
       "  </tbody>\n",
       "</table>\n",
       "</div>"
      ],
      "text/plain": [
       "              Number (Short)  Mean IV (Short)  Std. dev. (Short)\n",
       "[0.80, 0.90]         55353.0        73.696112          28.811974\n",
       "[0.90, 0.97]         65247.0        46.977729          22.291718\n",
       "[0.97, 1.03]        115604.0        39.333426          22.876089\n",
       "[1.03, 1.10]         58954.0        50.814493          22.830104\n",
       "[1.10, 1.60]        117474.0       100.225850          47.416012\n",
       "Total               412632.0        64.127860          40.968304"
      ]
     },
     "execution_count": 37,
     "metadata": {},
     "output_type": "execute_result"
    }
   ],
   "source": [
    "summary_pivot"
   ]
  },
  {
   "cell_type": "code",
   "execution_count": 38,
   "metadata": {},
   "outputs": [
    {
     "name": "stderr",
     "output_type": "stream",
     "text": [
      "/var/folders/b4/wn87d6495j1_vytb8m33q3mm0000gn/T/ipykernel_3642/159582561.py:48: FutureWarning:\n",
      "\n",
      "The default of observed=False is deprecated and will be changed to True in a future version of pandas. Pass observed=False to retain current behavior or observed=True to adopt the future default and silence this warning.\n",
      "\n",
      "/var/folders/b4/wn87d6495j1_vytb8m33q3mm0000gn/T/ipykernel_3642/159582561.py:48: FutureWarning:\n",
      "\n",
      "The default of observed=False is deprecated and will be changed to True in a future version of pandas. Pass observed=False to retain current behavior or observed=True to adopt the future default and silence this warning.\n",
      "\n",
      "/var/folders/b4/wn87d6495j1_vytb8m33q3mm0000gn/T/ipykernel_3642/159582561.py:48: FutureWarning:\n",
      "\n",
      "The default of observed=False is deprecated and will be changed to True in a future version of pandas. Pass observed=False to retain current behavior or observed=True to adopt the future default and silence this warning.\n",
      "\n",
      "/var/folders/b4/wn87d6495j1_vytb8m33q3mm0000gn/T/ipykernel_3642/159582561.py:48: FutureWarning:\n",
      "\n",
      "The default of observed=False is deprecated and will be changed to True in a future version of pandas. Pass observed=False to retain current behavior or observed=True to adopt the future default and silence this warning.\n",
      "\n",
      "/var/folders/b4/wn87d6495j1_vytb8m33q3mm0000gn/T/ipykernel_3642/159582561.py:48: FutureWarning:\n",
      "\n",
      "The default of observed=False is deprecated and will be changed to True in a future version of pandas. Pass observed=False to retain current behavior or observed=True to adopt the future default and silence this warning.\n",
      "\n",
      "/var/folders/b4/wn87d6495j1_vytb8m33q3mm0000gn/T/ipykernel_3642/159582561.py:48: FutureWarning:\n",
      "\n",
      "The default of observed=False is deprecated and will be changed to True in a future version of pandas. Pass observed=False to retain current behavior or observed=True to adopt the future default and silence this warning.\n",
      "\n"
     ]
    }
   ],
   "source": [
    "import pandas as pd\n",
    "\n",
    "# Assuming df is your original dataframe\n",
    "df = merged_df.copy()\n",
    "\n",
    "# Define the tech sector tickers\n",
    "tech_sector = [\"MSFT\", \"AMZN\", \"NVDA\", \"META\", \"TSLA\", \"AAPL\"]\n",
    "\n",
    "# Define the maturity (tau) ranges for short and long\n",
    "bins = [-1, 5, float('inf')]  # Short <= 5 days, Long > 5 days\n",
    "labels = ['Short', 'Long']\n",
    "\n",
    "# Define the moneyness classification function\n",
    "def classify_moneyness(moneyness, cp_flag):\n",
    "    if 0.80 <= moneyness < 0.90 and cp_flag == 'C':  # Calls only\n",
    "        return '[0.80, 0.90]'\n",
    "    elif 0.90 <= moneyness < 0.97 and cp_flag == 'C':  # Calls only\n",
    "        return '[0.90, 0.97]'\n",
    "    elif 0.97 <= moneyness <= 1.03:  # Both calls and puts\n",
    "        return '[0.97, 1.03]'\n",
    "    elif 1.03 < moneyness <= 1.10 and cp_flag == 'P':  # Puts only\n",
    "        return '[1.03, 1.10]'\n",
    "    elif 1.10 < moneyness <= 1.60 and cp_flag == 'P':  # Puts only\n",
    "        return '[1.10, 1.60]'\n",
    "    else:\n",
    "        return None  # Exclude anything not in these ranges\n",
    "\n",
    "# Prepare an empty dictionary to store results for each ticker\n",
    "summary_dict = {}\n",
    "\n",
    "# Loop through each ticker and perform calculations separately\n",
    "for ticker in tech_sector:\n",
    "    ticker_df = df[df['Ticker'] == ticker].copy()  # Filter data for current ticker\n",
    "    \n",
    "    # Apply the maturity grouping\n",
    "    ticker_df['maturity_group'] = pd.cut(ticker_df['trading_days_till_exp'], bins=bins, labels=labels, right=True)\n",
    "    \n",
    "    # Apply the moneyness classification\n",
    "    ticker_df['m_category'] = ticker_df.apply(lambda row: classify_moneyness(row['moneyness'], row['cp_flag']), axis=1)\n",
    "    \n",
    "    # Filter out rows that don't fall into any moneyness category\n",
    "    ticker_df = ticker_df[ticker_df['m_category'].notnull()]\n",
    "    \n",
    "    # Ensure implied_volatility is in percentages if not already\n",
    "    ticker_df['impl_volatility'] = ticker_df['impl_volatility'] * 100  # Convert IV to %\n",
    "    \n",
    "    # Group by maturity group and moneyness category, and calculate the required stats\n",
    "    summary = ticker_df.groupby(['maturity_group', 'm_category']).agg(\n",
    "        Number=('date', 'count'),  # Count the number of options\n",
    "        Mean_IV=('impl_volatility', 'mean'),  # Calculate the mean implied volatility\n",
    "        Std_IV=('impl_volatility', 'std')  # Calculate the standard deviation of implied volatilities\n",
    "    ).reset_index()\n",
    "    \n",
    "    # Pivot the table to format it like your example\n",
    "    summary_pivot = summary.pivot(index='m_category', columns='maturity_group', values=['Number', 'Mean_IV', 'Std_IV'])\n",
    "    \n",
    "    # Flatten the columns multi-index for better readability\n",
    "    summary_pivot.columns = ['_'.join(col).strip() for col in summary_pivot.columns.values]\n",
    "    \n",
    "    # Reorder the columns to match the original table layout\n",
    "    summary_pivot = summary_pivot[['Number_Short', 'Mean_IV_Short', 'Std_IV_Short']]\n",
    "    \n",
    "    # Rename columns to more readable format\n",
    "    summary_pivot.columns = ['Number (Short)', 'Mean IV (Short)', 'Std. dev. (Short)']\n",
    "    \n",
    "    # Calculate the total row\n",
    "    total_row = pd.DataFrame({\n",
    "        'Number (Short)': [summary_pivot['Number (Short)'].sum()],\n",
    "        'Mean IV (Short)': [summary_pivot['Mean IV (Short)'].mean()],  # Mean of the means\n",
    "        'Std. dev. (Short)': [summary_pivot['Std. dev. (Short)'].mean()]  # Mean of standard deviations\n",
    "    }, index=['Total'])\n",
    "    \n",
    "    # Append the total row to the pivot table\n",
    "    summary_pivot = pd.concat([summary_pivot, total_row])\n",
    "    \n",
    "    # Store the result in the dictionary with the ticker name\n",
    "    summary_dict[ticker] = summary_pivot\n",
    "\n",
    "# You can now access individual summaries using summary_dict['MSFT'], summary_dict['AAPL'], etc.\n",
    "msft = summary_dict['MSFT']\n",
    "aapl = summary_dict['AAPL']\n",
    "nvda = summary_dict['NVDA']\n",
    "meta = summary_dict['META']\n",
    "tsla = summary_dict['TSLA']\n",
    "amzn = summary_dict['AMZN']"
   ]
  },
  {
   "cell_type": "code",
   "execution_count": 39,
   "metadata": {},
   "outputs": [
    {
     "data": {
      "text/html": [
       "<div>\n",
       "<style scoped>\n",
       "    .dataframe tbody tr th:only-of-type {\n",
       "        vertical-align: middle;\n",
       "    }\n",
       "\n",
       "    .dataframe tbody tr th {\n",
       "        vertical-align: top;\n",
       "    }\n",
       "\n",
       "    .dataframe thead th {\n",
       "        text-align: right;\n",
       "    }\n",
       "</style>\n",
       "<table border=\"1\" class=\"dataframe\">\n",
       "  <thead>\n",
       "    <tr style=\"text-align: right;\">\n",
       "      <th></th>\n",
       "      <th>Number (Short)</th>\n",
       "      <th>Mean IV (Short)</th>\n",
       "      <th>Std. dev. (Short)</th>\n",
       "    </tr>\n",
       "  </thead>\n",
       "  <tbody>\n",
       "    <tr>\n",
       "      <th>[0.80, 0.90]</th>\n",
       "      <td>5387.0</td>\n",
       "      <td>65.933263</td>\n",
       "      <td>25.139175</td>\n",
       "    </tr>\n",
       "    <tr>\n",
       "      <th>[0.90, 0.97]</th>\n",
       "      <td>5905.0</td>\n",
       "      <td>41.169460</td>\n",
       "      <td>16.564811</td>\n",
       "    </tr>\n",
       "    <tr>\n",
       "      <th>[0.97, 1.03]</th>\n",
       "      <td>10045.0</td>\n",
       "      <td>34.232318</td>\n",
       "      <td>15.513628</td>\n",
       "    </tr>\n",
       "    <tr>\n",
       "      <th>[1.03, 1.10]</th>\n",
       "      <td>5577.0</td>\n",
       "      <td>46.790595</td>\n",
       "      <td>15.583813</td>\n",
       "    </tr>\n",
       "    <tr>\n",
       "      <th>[1.10, 1.60]</th>\n",
       "      <td>13387.0</td>\n",
       "      <td>86.947380</td>\n",
       "      <td>36.969658</td>\n",
       "    </tr>\n",
       "    <tr>\n",
       "      <th>Total</th>\n",
       "      <td>40301.0</td>\n",
       "      <td>55.014603</td>\n",
       "      <td>21.954217</td>\n",
       "    </tr>\n",
       "  </tbody>\n",
       "</table>\n",
       "</div>"
      ],
      "text/plain": [
       "              Number (Short)  Mean IV (Short)  Std. dev. (Short)\n",
       "[0.80, 0.90]          5387.0        65.933263          25.139175\n",
       "[0.90, 0.97]          5905.0        41.169460          16.564811\n",
       "[0.97, 1.03]         10045.0        34.232318          15.513628\n",
       "[1.03, 1.10]          5577.0        46.790595          15.583813\n",
       "[1.10, 1.60]         13387.0        86.947380          36.969658\n",
       "Total                40301.0        55.014603          21.954217"
      ]
     },
     "execution_count": 39,
     "metadata": {},
     "output_type": "execute_result"
    }
   ],
   "source": [
    "summary_pivot"
   ]
  },
  {
   "cell_type": "code",
   "execution_count": 40,
   "metadata": {},
   "outputs": [
    {
     "name": "stderr",
     "output_type": "stream",
     "text": [
      "/var/folders/b4/wn87d6495j1_vytb8m33q3mm0000gn/T/ipykernel_3642/3955148630.py:47: FutureWarning:\n",
      "\n",
      "The default of observed=False is deprecated and will be changed to True in a future version of pandas. Pass observed=False to retain current behavior or observed=True to adopt the future default and silence this warning.\n",
      "\n",
      "/var/folders/b4/wn87d6495j1_vytb8m33q3mm0000gn/T/ipykernel_3642/3955148630.py:47: FutureWarning:\n",
      "\n",
      "The default of observed=False is deprecated and will be changed to True in a future version of pandas. Pass observed=False to retain current behavior or observed=True to adopt the future default and silence this warning.\n",
      "\n",
      "/var/folders/b4/wn87d6495j1_vytb8m33q3mm0000gn/T/ipykernel_3642/3955148630.py:47: FutureWarning:\n",
      "\n",
      "The default of observed=False is deprecated and will be changed to True in a future version of pandas. Pass observed=False to retain current behavior or observed=True to adopt the future default and silence this warning.\n",
      "\n",
      "/var/folders/b4/wn87d6495j1_vytb8m33q3mm0000gn/T/ipykernel_3642/3955148630.py:47: FutureWarning:\n",
      "\n",
      "The default of observed=False is deprecated and will be changed to True in a future version of pandas. Pass observed=False to retain current behavior or observed=True to adopt the future default and silence this warning.\n",
      "\n",
      "/var/folders/b4/wn87d6495j1_vytb8m33q3mm0000gn/T/ipykernel_3642/3955148630.py:47: FutureWarning:\n",
      "\n",
      "The default of observed=False is deprecated and will be changed to True in a future version of pandas. Pass observed=False to retain current behavior or observed=True to adopt the future default and silence this warning.\n",
      "\n",
      "/var/folders/b4/wn87d6495j1_vytb8m33q3mm0000gn/T/ipykernel_3642/3955148630.py:47: FutureWarning:\n",
      "\n",
      "The default of observed=False is deprecated and will be changed to True in a future version of pandas. Pass observed=False to retain current behavior or observed=True to adopt the future default and silence this warning.\n",
      "\n"
     ]
    }
   ],
   "source": [
    "import pandas as pd\n",
    "\n",
    "df = merged_df.copy()\n",
    "\n",
    "# Define the tech sector tickers\n",
    "tech_sector = [\"MSFT\", \"AMZN\", \"NVDA\", \"META\", \"TSLA\", \"AAPL\"]\n",
    "\n",
    "# Define the maturity (tau) ranges for short and long\n",
    "bins = [-1, 5, float('inf')]  # Short <= 5 days, Long > 5 days\n",
    "labels = ['Short', 'Long']\n",
    "\n",
    "# Define the moneyness classification function\n",
    "def classify_moneyness(moneyness, cp_flag):\n",
    "    if 0.80 <= moneyness < 0.90 and cp_flag == 'C':  # Calls only\n",
    "        return '[0.80, 0.90]'\n",
    "    elif 0.90 <= moneyness < 0.97 and cp_flag == 'C':  # Calls only\n",
    "        return '[0.90, 0.97]'\n",
    "    elif 0.97 <= moneyness <= 1.03:  # Both calls and puts\n",
    "        return '[0.97, 1.03]'\n",
    "    elif 1.03 < moneyness <= 1.10 and cp_flag == 'P':  # Puts only\n",
    "        return '[1.03, 1.10]'\n",
    "    elif 1.10 < moneyness <= 1.60 and cp_flag == 'P':  # Puts only\n",
    "        return '[1.10, 1.60]'\n",
    "    else:\n",
    "        return None  # Exclude anything not in these ranges\n",
    "\n",
    "# Prepare an empty dictionary to store results for each ticker\n",
    "summary_dict = {}\n",
    "\n",
    "# Loop through each ticker and perform calculations separately\n",
    "for ticker in tech_sector:\n",
    "    ticker_df = df[df['Ticker'] == ticker].copy()  # Filter data for current ticker\n",
    "    \n",
    "    # Apply the maturity grouping\n",
    "    ticker_df['maturity_group'] = pd.cut(ticker_df['trading_days_till_exp'], bins=bins, labels=labels, right=True)\n",
    "    \n",
    "    # Apply the moneyness classification\n",
    "    ticker_df['m_category'] = ticker_df.apply(lambda row: classify_moneyness(row['moneyness'], row['cp_flag']), axis=1)\n",
    "    \n",
    "    # Filter out rows that don't fall into any moneyness category\n",
    "    ticker_df = ticker_df[ticker_df['m_category'].notnull()]\n",
    "    \n",
    "    # Ensure implied_volatility is in percentages if not already\n",
    "    ticker_df['impl_volatility'] = ticker_df['impl_volatility'] * 100  # Convert IV to %\n",
    "    \n",
    "    # Group by maturity group and moneyness category, and calculate the required stats\n",
    "    summary = ticker_df.groupby(['maturity_group', 'm_category']).agg(\n",
    "        Number=('date', 'count'),  # Count the number of options\n",
    "        Mean_IV=('impl_volatility', 'mean'),  # Calculate the mean implied volatility\n",
    "        Std_IV=('impl_volatility', 'std')  # Calculate the standard deviation of implied volatilities\n",
    "    ).reset_index()\n",
    "    \n",
    "    # Pivot the table to format it like your example\n",
    "    summary_pivot = summary.pivot(index='m_category', columns='maturity_group', values=['Number', 'Mean_IV', 'Std_IV'])\n",
    "    \n",
    "    # Flatten the columns multi-index for better readability\n",
    "    summary_pivot.columns = ['_'.join(col).strip() for col in summary_pivot.columns.values]\n",
    "    \n",
    "    # Check if the necessary columns exist before proceeding\n",
    "    for col in ['Number_Short', 'Mean_IV_Short', 'Std_IV_Short']:\n",
    "        if col not in summary_pivot.columns:\n",
    "            summary_pivot[col] = None  # Add missing columns as None if they don't exist\n",
    "    \n",
    "    # Reorder the columns to match the original table layout\n",
    "    summary_pivot = summary_pivot[['Number_Short', 'Mean_IV_Short', 'Std_IV_Short']]\n",
    "    \n",
    "    # Rename columns to more readable format\n",
    "    summary_pivot.columns = ['Number (Short)', 'Mean IV (Short)', 'Std. dev. (Short)']\n",
    "    \n",
    "    # Calculate the total row\n",
    "    total_row = pd.DataFrame({\n",
    "        'Number (Short)': [summary_pivot['Number (Short)'].sum()],\n",
    "        'Mean IV (Short)': [summary_pivot['Mean IV (Short)'].mean()],  # Mean of the means\n",
    "        'Std. dev. (Short)': [summary_pivot['Std. dev. (Short)'].mean()]  # Mean of standard deviations\n",
    "    }, index=['Total'])\n",
    "    \n",
    "    # Append the total row to the pivot table\n",
    "    summary_pivot = pd.concat([summary_pivot, total_row])\n",
    "    \n",
    "    # Store the result in the dictionary with the ticker name\n",
    "    summary_dict[ticker] = summary_pivot\n",
    "\n",
    "# Combine the individual summaries into one DataFrame for better visualization\n",
    "combined_summary = pd.concat(summary_dict)"
   ]
  },
  {
   "cell_type": "code",
   "execution_count": 112,
   "metadata": {},
   "outputs": [
    {
     "data": {
      "text/html": [
       "<div>\n",
       "<style scoped>\n",
       "    .dataframe tbody tr th:only-of-type {\n",
       "        vertical-align: middle;\n",
       "    }\n",
       "\n",
       "    .dataframe tbody tr th {\n",
       "        vertical-align: top;\n",
       "    }\n",
       "\n",
       "    .dataframe thead th {\n",
       "        text-align: right;\n",
       "    }\n",
       "</style>\n",
       "<table border=\"1\" class=\"dataframe\">\n",
       "  <thead>\n",
       "    <tr style=\"text-align: right;\">\n",
       "      <th></th>\n",
       "      <th></th>\n",
       "      <th>Number (Short)</th>\n",
       "      <th>Mean IV (Short)</th>\n",
       "      <th>Std. dev. (Short)</th>\n",
       "    </tr>\n",
       "  </thead>\n",
       "  <tbody>\n",
       "    <tr>\n",
       "      <th rowspan=\"6\" valign=\"top\">MSFT</th>\n",
       "      <th>[0.80, 0.90]</th>\n",
       "      <td>2926.0</td>\n",
       "      <td>63.036684</td>\n",
       "      <td>23.498209</td>\n",
       "    </tr>\n",
       "    <tr>\n",
       "      <th>[0.90, 0.97]</th>\n",
       "      <td>5020.0</td>\n",
       "      <td>36.560386</td>\n",
       "      <td>15.838629</td>\n",
       "    </tr>\n",
       "    <tr>\n",
       "      <th>[0.97, 1.03]</th>\n",
       "      <td>9401.0</td>\n",
       "      <td>28.749576</td>\n",
       "      <td>15.074192</td>\n",
       "    </tr>\n",
       "    <tr>\n",
       "      <th>[1.03, 1.10]</th>\n",
       "      <td>5302.0</td>\n",
       "      <td>43.397734</td>\n",
       "      <td>17.016619</td>\n",
       "    </tr>\n",
       "    <tr>\n",
       "      <th>[1.10, 1.60]</th>\n",
       "      <td>8358.0</td>\n",
       "      <td>82.139061</td>\n",
       "      <td>36.296595</td>\n",
       "    </tr>\n",
       "    <tr>\n",
       "      <th>Total</th>\n",
       "      <td>31007.0</td>\n",
       "      <td>50.776688</td>\n",
       "      <td>21.544849</td>\n",
       "    </tr>\n",
       "    <tr>\n",
       "      <th rowspan=\"6\" valign=\"top\">AMZN</th>\n",
       "      <th>[0.80, 0.90]</th>\n",
       "      <td>22960.0</td>\n",
       "      <td>67.779224</td>\n",
       "      <td>24.001439</td>\n",
       "    </tr>\n",
       "    <tr>\n",
       "      <th>[0.90, 0.97]</th>\n",
       "      <td>31988.0</td>\n",
       "      <td>41.729118</td>\n",
       "      <td>17.213298</td>\n",
       "    </tr>\n",
       "    <tr>\n",
       "      <th>[0.97, 1.03]</th>\n",
       "      <td>57898.0</td>\n",
       "      <td>32.404508</td>\n",
       "      <td>16.163337</td>\n",
       "    </tr>\n",
       "    <tr>\n",
       "      <th>[1.03, 1.10]</th>\n",
       "      <td>27922.0</td>\n",
       "      <td>43.478293</td>\n",
       "      <td>16.007967</td>\n",
       "    </tr>\n",
       "    <tr>\n",
       "      <th>[1.10, 1.60]</th>\n",
       "      <td>38915.0</td>\n",
       "      <td>83.096190</td>\n",
       "      <td>36.116200</td>\n",
       "    </tr>\n",
       "    <tr>\n",
       "      <th>Total</th>\n",
       "      <td>179683.0</td>\n",
       "      <td>53.697467</td>\n",
       "      <td>21.900448</td>\n",
       "    </tr>\n",
       "    <tr>\n",
       "      <th rowspan=\"6\" valign=\"top\">NVDA</th>\n",
       "      <th>[0.80, 0.90]</th>\n",
       "      <td>6996.0</td>\n",
       "      <td>74.991404</td>\n",
       "      <td>26.380765</td>\n",
       "    </tr>\n",
       "    <tr>\n",
       "      <th>[0.90, 0.97]</th>\n",
       "      <td>6906.0</td>\n",
       "      <td>52.860325</td>\n",
       "      <td>19.470109</td>\n",
       "    </tr>\n",
       "    <tr>\n",
       "      <th>[0.97, 1.03]</th>\n",
       "      <td>12280.0</td>\n",
       "      <td>48.206362</td>\n",
       "      <td>19.570855</td>\n",
       "    </tr>\n",
       "    <tr>\n",
       "      <th>[1.03, 1.10]</th>\n",
       "      <td>6821.0</td>\n",
       "      <td>57.781500</td>\n",
       "      <td>20.681286</td>\n",
       "    </tr>\n",
       "    <tr>\n",
       "      <th>[1.10, 1.60]</th>\n",
       "      <td>16246.0</td>\n",
       "      <td>100.661854</td>\n",
       "      <td>43.702163</td>\n",
       "    </tr>\n",
       "    <tr>\n",
       "      <th>Total</th>\n",
       "      <td>49249.0</td>\n",
       "      <td>66.900289</td>\n",
       "      <td>25.961036</td>\n",
       "    </tr>\n",
       "    <tr>\n",
       "      <th rowspan=\"6\" valign=\"top\">META</th>\n",
       "      <th>[0.80, 0.90]</th>\n",
       "      <td>4777.0</td>\n",
       "      <td>66.766572</td>\n",
       "      <td>23.811700</td>\n",
       "    </tr>\n",
       "    <tr>\n",
       "      <th>[0.90, 0.97]</th>\n",
       "      <td>5539.0</td>\n",
       "      <td>43.529688</td>\n",
       "      <td>17.181525</td>\n",
       "    </tr>\n",
       "    <tr>\n",
       "      <th>[0.97, 1.03]</th>\n",
       "      <td>9232.0</td>\n",
       "      <td>37.781479</td>\n",
       "      <td>18.213455</td>\n",
       "    </tr>\n",
       "    <tr>\n",
       "      <th>[1.03, 1.10]</th>\n",
       "      <td>4855.0</td>\n",
       "      <td>49.386230</td>\n",
       "      <td>19.097939</td>\n",
       "    </tr>\n",
       "    <tr>\n",
       "      <th>[1.10, 1.60]</th>\n",
       "      <td>10323.0</td>\n",
       "      <td>91.323790</td>\n",
       "      <td>38.916374</td>\n",
       "    </tr>\n",
       "    <tr>\n",
       "      <th>Total</th>\n",
       "      <td>34726.0</td>\n",
       "      <td>57.757552</td>\n",
       "      <td>23.444199</td>\n",
       "    </tr>\n",
       "    <tr>\n",
       "      <th rowspan=\"6\" valign=\"top\">TSLA</th>\n",
       "      <th>[0.80, 0.90]</th>\n",
       "      <td>11891.0</td>\n",
       "      <td>93.337070</td>\n",
       "      <td>33.811716</td>\n",
       "    </tr>\n",
       "    <tr>\n",
       "      <th>[0.90, 0.97]</th>\n",
       "      <td>9409.0</td>\n",
       "      <td>71.765850</td>\n",
       "      <td>29.104970</td>\n",
       "    </tr>\n",
       "    <tr>\n",
       "      <th>[0.97, 1.03]</th>\n",
       "      <td>15885.0</td>\n",
       "      <td>68.253592</td>\n",
       "      <td>30.153022</td>\n",
       "    </tr>\n",
       "    <tr>\n",
       "      <th>[1.03, 1.10]</th>\n",
       "      <td>8187.0</td>\n",
       "      <td>78.549908</td>\n",
       "      <td>29.989414</td>\n",
       "    </tr>\n",
       "    <tr>\n",
       "      <th>[1.10, 1.60]</th>\n",
       "      <td>29546.0</td>\n",
       "      <td>136.969681</td>\n",
       "      <td>51.684161</td>\n",
       "    </tr>\n",
       "    <tr>\n",
       "      <th>Total</th>\n",
       "      <td>74918.0</td>\n",
       "      <td>89.775220</td>\n",
       "      <td>34.948657</td>\n",
       "    </tr>\n",
       "    <tr>\n",
       "      <th rowspan=\"6\" valign=\"top\">AAPL</th>\n",
       "      <th>[0.80, 0.90]</th>\n",
       "      <td>5349.0</td>\n",
       "      <td>65.943526</td>\n",
       "      <td>25.132856</td>\n",
       "    </tr>\n",
       "    <tr>\n",
       "      <th>[0.90, 0.97]</th>\n",
       "      <td>5872.0</td>\n",
       "      <td>41.189284</td>\n",
       "      <td>16.590449</td>\n",
       "    </tr>\n",
       "    <tr>\n",
       "      <th>[0.97, 1.03]</th>\n",
       "      <td>9991.0</td>\n",
       "      <td>34.256009</td>\n",
       "      <td>15.544844</td>\n",
       "    </tr>\n",
       "    <tr>\n",
       "      <th>[1.03, 1.10]</th>\n",
       "      <td>5552.0</td>\n",
       "      <td>46.824807</td>\n",
       "      <td>15.592366</td>\n",
       "    </tr>\n",
       "    <tr>\n",
       "      <th>[1.10, 1.60]</th>\n",
       "      <td>13290.0</td>\n",
       "      <td>87.033190</td>\n",
       "      <td>37.012328</td>\n",
       "    </tr>\n",
       "    <tr>\n",
       "      <th>Total</th>\n",
       "      <td>40054.0</td>\n",
       "      <td>55.049363</td>\n",
       "      <td>21.974569</td>\n",
       "    </tr>\n",
       "  </tbody>\n",
       "</table>\n",
       "</div>"
      ],
      "text/plain": [
       "                   Number (Short)  Mean IV (Short)  Std. dev. (Short)\n",
       "MSFT [0.80, 0.90]          2926.0        63.036684          23.498209\n",
       "     [0.90, 0.97]          5020.0        36.560386          15.838629\n",
       "     [0.97, 1.03]          9401.0        28.749576          15.074192\n",
       "     [1.03, 1.10]          5302.0        43.397734          17.016619\n",
       "     [1.10, 1.60]          8358.0        82.139061          36.296595\n",
       "     Total                31007.0        50.776688          21.544849\n",
       "AMZN [0.80, 0.90]         22960.0        67.779224          24.001439\n",
       "     [0.90, 0.97]         31988.0        41.729118          17.213298\n",
       "     [0.97, 1.03]         57898.0        32.404508          16.163337\n",
       "     [1.03, 1.10]         27922.0        43.478293          16.007967\n",
       "     [1.10, 1.60]         38915.0        83.096190          36.116200\n",
       "     Total               179683.0        53.697467          21.900448\n",
       "NVDA [0.80, 0.90]          6996.0        74.991404          26.380765\n",
       "     [0.90, 0.97]          6906.0        52.860325          19.470109\n",
       "     [0.97, 1.03]         12280.0        48.206362          19.570855\n",
       "     [1.03, 1.10]          6821.0        57.781500          20.681286\n",
       "     [1.10, 1.60]         16246.0       100.661854          43.702163\n",
       "     Total                49249.0        66.900289          25.961036\n",
       "META [0.80, 0.90]          4777.0        66.766572          23.811700\n",
       "     [0.90, 0.97]          5539.0        43.529688          17.181525\n",
       "     [0.97, 1.03]          9232.0        37.781479          18.213455\n",
       "     [1.03, 1.10]          4855.0        49.386230          19.097939\n",
       "     [1.10, 1.60]         10323.0        91.323790          38.916374\n",
       "     Total                34726.0        57.757552          23.444199\n",
       "TSLA [0.80, 0.90]         11891.0        93.337070          33.811716\n",
       "     [0.90, 0.97]          9409.0        71.765850          29.104970\n",
       "     [0.97, 1.03]         15885.0        68.253592          30.153022\n",
       "     [1.03, 1.10]          8187.0        78.549908          29.989414\n",
       "     [1.10, 1.60]         29546.0       136.969681          51.684161\n",
       "     Total                74918.0        89.775220          34.948657\n",
       "AAPL [0.80, 0.90]          5349.0        65.943526          25.132856\n",
       "     [0.90, 0.97]          5872.0        41.189284          16.590449\n",
       "     [0.97, 1.03]          9991.0        34.256009          15.544844\n",
       "     [1.03, 1.10]          5552.0        46.824807          15.592366\n",
       "     [1.10, 1.60]         13290.0        87.033190          37.012328\n",
       "     Total                40054.0        55.049363          21.974569"
      ]
     },
     "execution_count": 112,
     "metadata": {},
     "output_type": "execute_result"
    }
   ],
   "source": [
    "combined_summary"
   ]
  },
  {
   "cell_type": "code",
   "execution_count": 113,
   "metadata": {},
   "outputs": [
    {
     "data": {
      "text/plain": [
       "{'MSFT':               Number (Short)  Mean IV (Short)  Std. dev. (Short)\n",
       " [0.80, 0.90]          2926.0        63.036684          23.498209\n",
       " [0.90, 0.97]          5020.0        36.560386          15.838629\n",
       " [0.97, 1.03]          9401.0        28.749576          15.074192\n",
       " [1.03, 1.10]          5302.0        43.397734          17.016619\n",
       " [1.10, 1.60]          8358.0        82.139061          36.296595\n",
       " Total                31007.0        50.776688          21.544849,\n",
       " 'AMZN':               Number (Short)  Mean IV (Short)  Std. dev. (Short)\n",
       " [0.80, 0.90]         22960.0        67.779224          24.001439\n",
       " [0.90, 0.97]         31988.0        41.729118          17.213298\n",
       " [0.97, 1.03]         57898.0        32.404508          16.163337\n",
       " [1.03, 1.10]         27922.0        43.478293          16.007967\n",
       " [1.10, 1.60]         38915.0        83.096190          36.116200\n",
       " Total               179683.0        53.697467          21.900448,\n",
       " 'NVDA':               Number (Short)  Mean IV (Short)  Std. dev. (Short)\n",
       " [0.80, 0.90]          6996.0        74.991404          26.380765\n",
       " [0.90, 0.97]          6906.0        52.860325          19.470109\n",
       " [0.97, 1.03]         12280.0        48.206362          19.570855\n",
       " [1.03, 1.10]          6821.0        57.781500          20.681286\n",
       " [1.10, 1.60]         16246.0       100.661854          43.702163\n",
       " Total                49249.0        66.900289          25.961036,\n",
       " 'META':               Number (Short)  Mean IV (Short)  Std. dev. (Short)\n",
       " [0.80, 0.90]          4777.0        66.766572          23.811700\n",
       " [0.90, 0.97]          5539.0        43.529688          17.181525\n",
       " [0.97, 1.03]          9232.0        37.781479          18.213455\n",
       " [1.03, 1.10]          4855.0        49.386230          19.097939\n",
       " [1.10, 1.60]         10323.0        91.323790          38.916374\n",
       " Total                34726.0        57.757552          23.444199,\n",
       " 'TSLA':               Number (Short)  Mean IV (Short)  Std. dev. (Short)\n",
       " [0.80, 0.90]         11891.0        93.337070          33.811716\n",
       " [0.90, 0.97]          9409.0        71.765850          29.104970\n",
       " [0.97, 1.03]         15885.0        68.253592          30.153022\n",
       " [1.03, 1.10]          8187.0        78.549908          29.989414\n",
       " [1.10, 1.60]         29546.0       136.969681          51.684161\n",
       " Total                74918.0        89.775220          34.948657,\n",
       " 'AAPL':               Number (Short)  Mean IV (Short)  Std. dev. (Short)\n",
       " [0.80, 0.90]          5349.0        65.943526          25.132856\n",
       " [0.90, 0.97]          5872.0        41.189284          16.590449\n",
       " [0.97, 1.03]          9991.0        34.256009          15.544844\n",
       " [1.03, 1.10]          5552.0        46.824807          15.592366\n",
       " [1.10, 1.60]         13290.0        87.033190          37.012328\n",
       " Total                40054.0        55.049363          21.974569}"
      ]
     },
     "execution_count": 113,
     "metadata": {},
     "output_type": "execute_result"
    }
   ],
   "source": [
    "summary_dict"
   ]
  },
  {
   "cell_type": "code",
   "execution_count": 114,
   "metadata": {},
   "outputs": [],
   "source": [
    "# import pandas as pd\n",
    "\n",
    "# # Assuming df is your original dataframe\n",
    "# df = merged_df.copy()\n",
    "\n",
    "# # Define the tech sector tickers\n",
    "# tech_sector = [\"MSFT\", \"AMZN\", \"NVDA\", \"META\", \"TSLA\", \"AAPL\"]\n",
    "\n",
    "# # Define the maturity (tau) ranges for short and long\n",
    "# bins = [-1, 5, float('inf')]  # Short <= 5 days, Long > 5 days\n",
    "# labels = ['Short', 'Long']\n",
    "\n",
    "# # Define the moneyness classification function\n",
    "# def classify_moneyness(moneyness, cp_flag):\n",
    "#     if 0.80 <= moneyness < 0.90 and cp_flag == 'C':  # Calls only\n",
    "#         return '[0.80, 0.90]'\n",
    "#     elif 0.90 <= moneyness < 0.97 and cp_flag == 'C':  # Calls only\n",
    "#         return '[0.90, 0.97]'\n",
    "#     elif 0.97 <= moneyness <= 1.03:  # Both calls and puts\n",
    "#         return '[0.97, 1.03]'\n",
    "#     elif 1.03 < moneyness <= 1.10 and cp_flag == 'P':  # Puts only\n",
    "#         return '[1.03, 1.10]'\n",
    "#     elif 1.10 < moneyness <= 1.60 and cp_flag == 'P':  # Puts only\n",
    "#         return '[1.10, 1.60]'\n",
    "#     else:\n",
    "#         return None  # Exclude anything not in these ranges\n",
    "\n",
    "# # Prepare an empty dictionary to store results for each ticker\n",
    "# summary_dict = {}\n",
    "# total_rows_initial = 0\n",
    "# total_rows_after_ticker_filter = 0\n",
    "# total_rows_after_moneyness_classification = 0\n",
    "# total_rows_final = 0\n",
    "\n",
    "# # Loop through each ticker and perform calculations separately\n",
    "# for ticker in tech_sector:\n",
    "#     # print(f\"Processing ticker: {ticker}\")\n",
    "    \n",
    "#     # Filter data for current ticker\n",
    "#     ticker_df = df[df['Ticker'] == ticker].copy()\n",
    "#     initial_count = ticker_df.shape[0]\n",
    "#     total_rows_initial += initial_count\n",
    "#     # print(f\"{ticker} - Initial count: {initial_count}\")\n",
    "    \n",
    "#     # Apply the maturity grouping\n",
    "#     ticker_df['maturity_group'] = pd.cut(ticker_df['trading_days_till_exp'], bins=bins, labels=labels, right=True)\n",
    "    \n",
    "#     # Apply the moneyness classification\n",
    "#     ticker_df['m_category'] = ticker_df.apply(lambda row: classify_moneyness(row['moneyness'], row['cp_flag']), axis=1)\n",
    "    \n",
    "#     # Filter out rows that don't fall into any moneyness category\n",
    "#     count_after_moneyness_classification = ticker_df.shape[0]\n",
    "#     ticker_df = ticker_df[ticker_df['m_category'].notnull()]\n",
    "    \n",
    "#     final_count = ticker_df.shape[0]\n",
    "#     total_rows_after_ticker_filter += count_after_moneyness_classification\n",
    "#     total_rows_final += final_count\n",
    "#     # print(f\"{ticker} - After filtering by ticker: {count_after_moneyness_classification}\")\n",
    "#     # print(f\"{ticker} - Final count after moneyness classification: {final_count}\")\n",
    "    \n",
    "#     # Ensure implied_volatility is in percentages if not already\n",
    "#     ticker_df['impl_volatility'] = ticker_df['impl_volatility'] * 100  # Convert IV to %\n",
    "    \n",
    "#     # Group by maturity group and moneyness category, and calculate the required stats\n",
    "#     summary = ticker_df.groupby(['maturity_group', 'm_category']).agg(\n",
    "#         Number=('date', 'count'),  # Count the number of options\n",
    "#         Mean_IV=('impl_volatility', 'mean'),  # Calculate the mean implied volatility\n",
    "#         Std_IV=('impl_volatility', 'std')  # Calculate the standard deviation of implied volatilities\n",
    "#     ).reset_index()\n",
    "    \n",
    "#     # Pivot the table to format it like your example\n",
    "#     summary_pivot = summary.pivot(index='m_category', columns='maturity_group', values=['Number', 'Mean_IV', 'Std_IV'])\n",
    "    \n",
    "#     # Flatten the columns multi-index for better readability\n",
    "#     summary_pivot.columns = ['_'.join(col).strip() for col in summary_pivot.columns.values]\n",
    "    \n",
    "#     # Reorder the columns to match the original table layout\n",
    "#     summary_pivot = summary_pivot[['Number_Short', 'Mean_IV_Short', 'Std_IV_Short']]\n",
    "    \n",
    "#     # Rename columns to more readable format\n",
    "#     summary_pivot.columns = ['Number (Short)', 'Mean IV (Short)', 'Std. dev. (Short)']\n",
    "    \n",
    "#     # Calculate the total row\n",
    "#     total_row = pd.DataFrame({\n",
    "#         'Number (Short)': [summary_pivot['Number (Short)'].sum()],\n",
    "#         'Mean IV (Short)': [summary_pivot['Mean IV (Short)'].mean()],  # Mean of the means\n",
    "#         'Std. dev. (Short)': [summary_pivot['Std. dev. (Short)'].mean()]  # Mean of standard deviations\n",
    "#     }, index=['Total'])\n",
    "    \n",
    "#     # Append the total row to the pivot table\n",
    "#     summary_pivot = pd.concat([summary_pivot, total_row])\n",
    "    \n",
    "#     # Store the result in the dictionary with the ticker name\n",
    "#     summary_dict[ticker] = summary_pivot\n",
    "\n",
    "# # Print overall totals\n",
    "# print(f\"\\nTotal initial rows across all tickers: {total_rows_initial}\")\n",
    "# print(f\"Total rows after ticker filtering: {total_rows_after_ticker_filter}\")\n",
    "# print(f\"Total rows after moneyness classification across all tickers: {total_rows_final}\")\n"
   ]
  },
  {
   "cell_type": "code",
   "execution_count": 115,
   "metadata": {},
   "outputs": [
    {
     "data": {
      "text/html": [
       "<div>\n",
       "<style scoped>\n",
       "    .dataframe tbody tr th:only-of-type {\n",
       "        vertical-align: middle;\n",
       "    }\n",
       "\n",
       "    .dataframe tbody tr th {\n",
       "        vertical-align: top;\n",
       "    }\n",
       "\n",
       "    .dataframe thead th {\n",
       "        text-align: right;\n",
       "    }\n",
       "</style>\n",
       "<table border=\"1\" class=\"dataframe\">\n",
       "  <thead>\n",
       "    <tr style=\"text-align: right;\">\n",
       "      <th></th>\n",
       "      <th>Number (Short)</th>\n",
       "      <th>Mean IV (Short)</th>\n",
       "      <th>Std. dev. (Short)</th>\n",
       "    </tr>\n",
       "  </thead>\n",
       "  <tbody>\n",
       "    <tr>\n",
       "      <th>[0.80, 0.90]</th>\n",
       "      <td>5349.0</td>\n",
       "      <td>65.943526</td>\n",
       "      <td>25.132856</td>\n",
       "    </tr>\n",
       "    <tr>\n",
       "      <th>[0.90, 0.97]</th>\n",
       "      <td>5872.0</td>\n",
       "      <td>41.189284</td>\n",
       "      <td>16.590449</td>\n",
       "    </tr>\n",
       "    <tr>\n",
       "      <th>[0.97, 1.03]</th>\n",
       "      <td>9991.0</td>\n",
       "      <td>34.256009</td>\n",
       "      <td>15.544844</td>\n",
       "    </tr>\n",
       "    <tr>\n",
       "      <th>[1.03, 1.10]</th>\n",
       "      <td>5552.0</td>\n",
       "      <td>46.824807</td>\n",
       "      <td>15.592366</td>\n",
       "    </tr>\n",
       "    <tr>\n",
       "      <th>[1.10, 1.60]</th>\n",
       "      <td>13290.0</td>\n",
       "      <td>87.033190</td>\n",
       "      <td>37.012328</td>\n",
       "    </tr>\n",
       "    <tr>\n",
       "      <th>Total</th>\n",
       "      <td>40054.0</td>\n",
       "      <td>55.049363</td>\n",
       "      <td>21.974569</td>\n",
       "    </tr>\n",
       "  </tbody>\n",
       "</table>\n",
       "</div>"
      ],
      "text/plain": [
       "              Number (Short)  Mean IV (Short)  Std. dev. (Short)\n",
       "[0.80, 0.90]          5349.0        65.943526          25.132856\n",
       "[0.90, 0.97]          5872.0        41.189284          16.590449\n",
       "[0.97, 1.03]          9991.0        34.256009          15.544844\n",
       "[1.03, 1.10]          5552.0        46.824807          15.592366\n",
       "[1.10, 1.60]         13290.0        87.033190          37.012328\n",
       "Total                40054.0        55.049363          21.974569"
      ]
     },
     "execution_count": 115,
     "metadata": {},
     "output_type": "execute_result"
    }
   ],
   "source": [
    "summary_pivot"
   ]
  },
  {
   "cell_type": "code",
   "execution_count": 116,
   "metadata": {},
   "outputs": [],
   "source": [
    "# import pandas as pd\n",
    "\n",
    "# # Assuming df is your original dataframe\n",
    "# df = merged_df.copy()\n",
    "\n",
    "# # Define the tech sector tickers\n",
    "# tech_sector = [\"MSFT\", \"AMZN\", \"NVDA\", \"META\", \"TSLA\", \"AAPL\"]\n",
    "\n",
    "# # Define the maturity (tau) ranges for short and long\n",
    "# bins = [-1, 5, float('inf')]  # Short <= 5 days, Long > 5 days\n",
    "# labels = ['Short', 'Long']\n",
    "\n",
    "# # Define the moneyness classification function\n",
    "# def classify_moneyness(moneyness, cp_flag):\n",
    "#     if 0.80 <= moneyness < 0.90 and cp_flag == 'C':  # Calls only\n",
    "#         return '[0.80, 0.90]'\n",
    "#     elif 0.90 <= moneyness < 0.97 and cp_flag == 'C':  # Calls only\n",
    "#         return '[0.90, 0.97]'\n",
    "#     elif 0.97 <= moneyness <= 1.03:  # Both calls and puts\n",
    "#         return '[0.97, 1.03]'\n",
    "#     elif 1.03 < moneyness <= 1.10 and cp_flag == 'P':  # Puts only\n",
    "#         return '[1.03, 1.10]'\n",
    "#     elif 1.10 < moneyness <= 1.60 and cp_flag == 'P':  # Puts only\n",
    "#         return '[1.10, 1.60]'\n",
    "#     else:\n",
    "#         return None  # Exclude anything not in these ranges\n",
    "\n",
    "# # Filter for tickers in the tech sector\n",
    "# df_filtered = df[df['Ticker'].isin(tech_sector)].copy()\n",
    "\n",
    "# # Apply the maturity grouping\n",
    "# df_filtered['maturity_group'] = pd.cut(df_filtered['trading_days_till_exp'], bins=bins, labels=labels, right=True)\n",
    "\n",
    "# # Apply the moneyness classification\n",
    "# df_filtered['m_category'] = df_filtered.apply(lambda row: classify_moneyness(row['moneyness'], row['cp_flag']), axis=1)\n",
    "\n",
    "# # Filter for short maturity and valid moneyness category (non-null)\n",
    "# df_filtered = df_filtered[(df_filtered['m_category'].notnull()) & (df_filtered['maturity_group'] == 'Short')]\n",
    "\n",
    "# # Ensure implied_volatility is in percentages if not already\n",
    "# df_filtered['impl_volatility'] = df_filtered['impl_volatility'] * 100  # Convert IV to %\n",
    "\n",
    "# # Display the resulting filtered dataframe (should have 40,003 rows)\n",
    "# # import ace_tools as tools; tools.display_dataframe_to_user(name=\"Filtered Options DataFrame\", dataframe=df_filtered)\n",
    "\n"
   ]
  },
  {
   "cell_type": "code",
   "execution_count": 117,
   "metadata": {},
   "outputs": [],
   "source": [
    "# df_filtered"
   ]
  },
  {
   "cell_type": "code",
   "execution_count": 118,
   "metadata": {},
   "outputs": [],
   "source": [
    "# import pandas as pd\n",
    "\n",
    "# # Assuming df is your original dataframe\n",
    "# df = merged_df.copy()\n",
    "\n",
    "# # Define the tech sector tickers\n",
    "# tech_sector = [\"MSFT\", \"AMZN\", \"NVDA\", \"META\", \"TSLA\", \"AAPL\"]\n",
    "\n",
    "# # Define the maturity (tau) ranges for short and long\n",
    "# bins = [-1, 5, float('inf')]  # Short <= 5 days, Long > 5 days\n",
    "# labels = ['Short', 'Long']\n",
    "\n",
    "# # Define the moneyness classification function\n",
    "# def classify_moneyness(moneyness, cp_flag):\n",
    "#     if 0.80 <= moneyness < 0.90 and cp_flag == 'C':  # Calls only\n",
    "#         return '[0.80, 0.90]'\n",
    "#     elif 0.90 <= moneyness < 0.97 and cp_flag == 'C':  # Calls only\n",
    "#         return '[0.90, 0.97]'\n",
    "#     elif 0.97 <= moneyness <= 1.03:  # Both calls and puts\n",
    "#         return '[0.97, 1.03]'\n",
    "#     elif 1.03 < moneyness <= 1.10 and cp_flag == 'P':  # Puts only\n",
    "#         return '[1.03, 1.10]'\n",
    "#     elif 1.10 < moneyness <= 1.60 and cp_flag == 'P':  # Puts only\n",
    "#         return '[1.10, 1.60]'\n",
    "#     else:\n",
    "#         return None  # Exclude anything not in these ranges\n",
    "\n",
    "# # Apply the same filter and logic to the entire dataset (combining both methods)\n",
    "\n",
    "# # Filter the dataframe for tech sector tickers using isin()\n",
    "# df_filtered = df[df['Ticker'].isin(tech_sector)].copy()\n",
    "\n",
    "# # Apply the maturity grouping\n",
    "# df_filtered['maturity_group'] = pd.cut(df_filtered['trading_days_till_exp'], bins=bins, labels=labels, right=True)\n",
    "\n",
    "# # Apply the moneyness classification\n",
    "# df_filtered['m_category'] = df_filtered.apply(lambda row: classify_moneyness(row['moneyness'], row['cp_flag']), axis=1)\n",
    "\n",
    "# # Filter for short maturity and valid moneyness category (non-null)\n",
    "# df_filtered = df_filtered[(df_filtered['m_category'].notnull()) & (df_filtered['maturity_group'] == 'Short')]\n",
    "\n",
    "# # Ensure implied_volatility is in percentages if not already\n",
    "# df_filtered['impl_volatility'] = df_filtered['impl_volatility'] * 100  # Convert IV to %\n",
    "\n",
    "# # Group by maturity group and moneyness category, and calculate the required stats\n",
    "# summary = df_filtered.groupby(['maturity_group', 'm_category']).agg(\n",
    "#     Number=('date', 'count'),  # Count the number of options\n",
    "#     Mean_IV=('impl_volatility', 'mean'),  # Calculate the mean implied volatility\n",
    "#     Std_IV=('impl_volatility', 'std')  # Calculate the standard deviation of implied volatilities\n",
    "# ).reset_index()\n",
    "\n",
    "# # Pivot the table to format it like your example\n",
    "# summary_pivot = summary.pivot(index='m_category', columns='maturity_group', values=['Number', 'Mean_IV', 'Std_IV'])\n",
    "\n",
    "# # Flatten the columns multi-index for better readability\n",
    "# summary_pivot.columns = ['_'.join(col).strip() for col in summary_pivot.columns.values]\n",
    "\n",
    "# # Reorder the columns to match the original table layout\n",
    "# summary_pivot = summary_pivot[['Number_Short', 'Mean_IV_Short', 'Std_IV_Short']]\n",
    "\n",
    "# # Rename columns to more readable format\n",
    "# summary_pivot.columns = ['Number (Short)', 'Mean IV (Short)', 'Std. dev. (Short)']\n",
    "\n",
    "# # Calculate the total row\n",
    "# total_row = pd.DataFrame({\n",
    "#     'Number (Short)': [summary_pivot['Number (Short)'].sum()],\n",
    "#     'Mean IV (Short)': [summary_pivot['Mean IV (Short)'].mean()],  # Mean of the means\n",
    "#     'Std. dev. (Short)': [summary_pivot['Std. dev. (Short)'].mean()]  # Mean of standard deviations\n",
    "# }, index=['Total'])\n",
    "\n",
    "# # Append the total row to the pivot table\n",
    "# summary_pivot = pd.concat([summary_pivot, total_row])\n",
    "\n"
   ]
  },
  {
   "cell_type": "code",
   "execution_count": 119,
   "metadata": {},
   "outputs": [],
   "source": [
    "# summary_pivot"
   ]
  },
  {
   "cell_type": "code",
   "execution_count": 120,
   "metadata": {},
   "outputs": [],
   "source": [
    "# merged_df"
   ]
  },
  {
   "cell_type": "code",
   "execution_count": 121,
   "metadata": {},
   "outputs": [],
   "source": [
    "# import pandas as pd\n",
    "\n",
    "# # Assuming df is your original dataframe\n",
    "# df = merged_df.copy()\n",
    "\n",
    "# # Define the tech sector tickers\n",
    "# tech_sector = [\"MSFT\", \"AMZN\", \"NVDA\", \"META\", \"TSLA\", \"AAPL\"]\n",
    "\n",
    "# # Define the maturity (tau) ranges for short and long\n",
    "# bins = [-1, 5, float('inf')]  # Short <= 5 days, Long > 5 days\n",
    "# labels = ['Short', 'Long']\n",
    "\n",
    "# # Define the moneyness classification function\n",
    "# def classify_moneyness(moneyness, cp_flag):\n",
    "#     if 0.80 <= moneyness < 0.90 and cp_flag == 'C':  # Calls only\n",
    "#         return '[0.80, 0.90]'\n",
    "#     elif 0.90 <= moneyness < 0.97 and cp_flag == 'C':  # Calls only\n",
    "#         return '[0.90, 0.97]'\n",
    "#     elif 0.97 <= moneyness <= 1.03:  # Both calls and puts\n",
    "#         return '[0.97, 1.03]'\n",
    "#     elif 1.03 < moneyness <= 1.10 and cp_flag == 'P':  # Puts only\n",
    "#         return '[1.03, 1.10]'\n",
    "#     elif 1.10 < moneyness <= 1.60 and cp_flag == 'P':  # Puts only\n",
    "#         return '[1.10, 1.60]'\n",
    "#     else:\n",
    "#         return None  # Exclude anything not in these ranges\n",
    "\n",
    "# ### Method 1: Loop through each ticker\n",
    "# df_loop_filtered_list = []\n",
    "# for ticker in tech_sector:\n",
    "#     ticker_df = df[df['Ticker'] == ticker].copy()  # Filter data for current ticker\n",
    "    \n",
    "#     # Apply the maturity grouping\n",
    "#     ticker_df['maturity_group'] = pd.cut(ticker_df['trading_days_till_exp'], bins=bins, labels=labels, right=True)\n",
    "    \n",
    "#     # Apply the moneyness classification\n",
    "#     ticker_df['m_category'] = ticker_df.apply(lambda row: classify_moneyness(row['moneyness'], row['cp_flag']), axis=1)\n",
    "    \n",
    "#     # Filter out rows that don't fall into any moneyness category\n",
    "#     ticker_df = ticker_df[ticker_df['m_category'].notnull()]\n",
    "    \n",
    "#     # Ensure implied_volatility is in percentages if not already\n",
    "#     ticker_df['impl_volatility'] = ticker_df['impl_volatility'] * 100  # Convert IV to %\n",
    "    \n",
    "#     # Append the filtered data to the list\n",
    "#     df_loop_filtered_list.append(ticker_df)\n",
    "\n",
    "# # Combine the filtered results from looping through each ticker\n",
    "# df_loop_filtered = pd.concat(df_loop_filtered_list)\n",
    "\n",
    "# ### Method 2: Using isin() to filter the entire dataframe at once\n",
    "# df_isin_filtered = df[df['Ticker'].isin(tech_sector)].copy()\n",
    "\n",
    "# # Apply the maturity grouping and moneyness classification for Method 2\n",
    "# df_isin_filtered['maturity_group'] = pd.cut(df_isin_filtered['trading_days_till_exp'], bins=bins, labels=labels, right=True)\n",
    "# df_isin_filtered['m_category'] = df_isin_filtered.apply(lambda row: classify_moneyness(row['moneyness'], row['cp_flag']), axis=1)\n",
    "# df_isin_filtered = df_isin_filtered[(df_isin_filtered['m_category'].notnull()) & (df_isin_filtered['maturity_group'] == 'Short')]\n",
    "\n",
    "# # Ensure implied_volatility is in percentages if not already\n",
    "# df_isin_filtered['impl_volatility'] = df_isin_filtered['impl_volatility'] * 100  # Convert IV to %\n",
    "\n",
    "# ### Comparison between the two methods\n",
    "# # Rows in isin() result but not in loop result\n",
    "# isin_not_in_loop = df_isin_filtered[~df_isin_filtered.index.isin(df_loop_filtered.index)]\n",
    "\n",
    "# # Rows in loop result but not in isin() result\n",
    "# loop_not_in_isin = df_loop_filtered[~df_loop_filtered.index.isin(df_isin_filtered.index)]\n",
    "\n",
    "# # Output the differences\n",
    "# print(\"Rows in isin() but not in loop:\\n\", isin_not_in_loop)\n",
    "# print(\"Rows in loop but not in isin():\\n\", loop_not_in_isin)\n",
    "\n"
   ]
  },
  {
   "cell_type": "code",
   "execution_count": 122,
   "metadata": {},
   "outputs": [],
   "source": [
    "# isin_not_in_loop"
   ]
  },
  {
   "cell_type": "code",
   "execution_count": 123,
   "metadata": {},
   "outputs": [
    {
     "data": {
      "text/html": [
       "<div>\n",
       "<style scoped>\n",
       "    .dataframe tbody tr th:only-of-type {\n",
       "        vertical-align: middle;\n",
       "    }\n",
       "\n",
       "    .dataframe tbody tr th {\n",
       "        vertical-align: top;\n",
       "    }\n",
       "\n",
       "    .dataframe thead th {\n",
       "        text-align: right;\n",
       "    }\n",
       "</style>\n",
       "<table border=\"1\" class=\"dataframe\">\n",
       "  <thead>\n",
       "    <tr style=\"text-align: right;\">\n",
       "      <th></th>\n",
       "      <th>Number (Short)</th>\n",
       "      <th>Mean IV (Short)</th>\n",
       "      <th>Std. dev. (Short)</th>\n",
       "    </tr>\n",
       "  </thead>\n",
       "  <tbody>\n",
       "    <tr>\n",
       "      <th>[0.80, 0.90]</th>\n",
       "      <td>5349.0</td>\n",
       "      <td>65.943526</td>\n",
       "      <td>25.132856</td>\n",
       "    </tr>\n",
       "    <tr>\n",
       "      <th>[0.90, 0.97]</th>\n",
       "      <td>5872.0</td>\n",
       "      <td>41.189284</td>\n",
       "      <td>16.590449</td>\n",
       "    </tr>\n",
       "    <tr>\n",
       "      <th>[0.97, 1.03]</th>\n",
       "      <td>9991.0</td>\n",
       "      <td>34.256009</td>\n",
       "      <td>15.544844</td>\n",
       "    </tr>\n",
       "    <tr>\n",
       "      <th>[1.03, 1.10]</th>\n",
       "      <td>5552.0</td>\n",
       "      <td>46.824807</td>\n",
       "      <td>15.592366</td>\n",
       "    </tr>\n",
       "    <tr>\n",
       "      <th>[1.10, 1.60]</th>\n",
       "      <td>13290.0</td>\n",
       "      <td>87.033190</td>\n",
       "      <td>37.012328</td>\n",
       "    </tr>\n",
       "    <tr>\n",
       "      <th>Total</th>\n",
       "      <td>40054.0</td>\n",
       "      <td>55.049363</td>\n",
       "      <td>21.974569</td>\n",
       "    </tr>\n",
       "  </tbody>\n",
       "</table>\n",
       "</div>"
      ],
      "text/plain": [
       "              Number (Short)  Mean IV (Short)  Std. dev. (Short)\n",
       "[0.80, 0.90]          5349.0        65.943526          25.132856\n",
       "[0.90, 0.97]          5872.0        41.189284          16.590449\n",
       "[0.97, 1.03]          9991.0        34.256009          15.544844\n",
       "[1.03, 1.10]          5552.0        46.824807          15.592366\n",
       "[1.10, 1.60]         13290.0        87.033190          37.012328\n",
       "Total                40054.0        55.049363          21.974569"
      ]
     },
     "execution_count": 123,
     "metadata": {},
     "output_type": "execute_result"
    }
   ],
   "source": [
    "summary_pivot"
   ]
  },
  {
   "cell_type": "code",
   "execution_count": 124,
   "metadata": {},
   "outputs": [],
   "source": [
    "# summary_dict"
   ]
  },
  {
   "cell_type": "code",
   "execution_count": 125,
   "metadata": {},
   "outputs": [],
   "source": [
    "# tsla"
   ]
  },
  {
   "cell_type": "code",
   "execution_count": 126,
   "metadata": {},
   "outputs": [],
   "source": [
    "# summary_pivot"
   ]
  },
  {
   "cell_type": "code",
   "execution_count": 127,
   "metadata": {},
   "outputs": [],
   "source": [
    "# summary_pivot"
   ]
  },
  {
   "cell_type": "code",
   "execution_count": 42,
   "metadata": {},
   "outputs": [
    {
     "data": {
      "text/html": [
       "<div>\n",
       "<style scoped>\n",
       "    .dataframe tbody tr th:only-of-type {\n",
       "        vertical-align: middle;\n",
       "    }\n",
       "\n",
       "    .dataframe tbody tr th {\n",
       "        vertical-align: top;\n",
       "    }\n",
       "\n",
       "    .dataframe thead th {\n",
       "        text-align: right;\n",
       "    }\n",
       "</style>\n",
       "<table border=\"1\" class=\"dataframe\">\n",
       "  <thead>\n",
       "    <tr style=\"text-align: right;\">\n",
       "      <th></th>\n",
       "      <th>date</th>\n",
       "      <th>exdate</th>\n",
       "      <th>cp_flag</th>\n",
       "      <th>strike_price</th>\n",
       "      <th>best_bid</th>\n",
       "      <th>best_offer</th>\n",
       "      <th>volume</th>\n",
       "      <th>open_interest</th>\n",
       "      <th>impl_volatility</th>\n",
       "      <th>delta</th>\n",
       "      <th>...</th>\n",
       "      <th>BIDLO</th>\n",
       "      <th>ASKHI</th>\n",
       "      <th>Year</th>\n",
       "      <th>Annual_Dividend_Yield</th>\n",
       "      <th>T</th>\n",
       "      <th>DATE</th>\n",
       "      <th>2Y_bond</th>\n",
       "      <th>Forward_Price</th>\n",
       "      <th>moneyness</th>\n",
       "      <th>trading_day</th>\n",
       "    </tr>\n",
       "  </thead>\n",
       "  <tbody>\n",
       "    <tr>\n",
       "      <th>0</th>\n",
       "      <td>2018-12-31</td>\n",
       "      <td>2019-01-04</td>\n",
       "      <td>C</td>\n",
       "      <td>1432500</td>\n",
       "      <td>68.60</td>\n",
       "      <td>71.20</td>\n",
       "      <td>7</td>\n",
       "      <td>24</td>\n",
       "      <td>0.178184</td>\n",
       "      <td>0.994818</td>\n",
       "      <td>...</td>\n",
       "      <td>1449.00</td>\n",
       "      <td>1513.46997</td>\n",
       "      <td>2018</td>\n",
       "      <td>0.0</td>\n",
       "      <td>0.011905</td>\n",
       "      <td>2018-12-31</td>\n",
       "      <td>2.5442</td>\n",
       "      <td>1478.467752</td>\n",
       "      <td>1.031777</td>\n",
       "      <td>1</td>\n",
       "    </tr>\n",
       "    <tr>\n",
       "      <th>4468</th>\n",
       "      <td>2018-12-31</td>\n",
       "      <td>2019-01-25</td>\n",
       "      <td>P</td>\n",
       "      <td>122000</td>\n",
       "      <td>3.40</td>\n",
       "      <td>3.65</td>\n",
       "      <td>1</td>\n",
       "      <td>0</td>\n",
       "      <td>0.585733</td>\n",
       "      <td>-0.261992</td>\n",
       "      <td>...</td>\n",
       "      <td>130.31</td>\n",
       "      <td>137.39000</td>\n",
       "      <td>2018</td>\n",
       "      <td>0.0</td>\n",
       "      <td>0.067460</td>\n",
       "      <td>2018-12-31</td>\n",
       "      <td>2.5442</td>\n",
       "      <td>133.879574</td>\n",
       "      <td>1.095492</td>\n",
       "      <td>1</td>\n",
       "    </tr>\n",
       "    <tr>\n",
       "      <th>4467</th>\n",
       "      <td>2018-12-31</td>\n",
       "      <td>2019-01-25</td>\n",
       "      <td>P</td>\n",
       "      <td>120000</td>\n",
       "      <td>2.91</td>\n",
       "      <td>3.10</td>\n",
       "      <td>25</td>\n",
       "      <td>370</td>\n",
       "      <td>0.592713</td>\n",
       "      <td>-0.230312</td>\n",
       "      <td>...</td>\n",
       "      <td>130.31</td>\n",
       "      <td>137.39000</td>\n",
       "      <td>2018</td>\n",
       "      <td>0.0</td>\n",
       "      <td>0.067460</td>\n",
       "      <td>2018-12-31</td>\n",
       "      <td>2.5442</td>\n",
       "      <td>133.879574</td>\n",
       "      <td>1.113750</td>\n",
       "      <td>1</td>\n",
       "    </tr>\n",
       "    <tr>\n",
       "      <th>4466</th>\n",
       "      <td>2018-12-31</td>\n",
       "      <td>2019-01-25</td>\n",
       "      <td>P</td>\n",
       "      <td>119000</td>\n",
       "      <td>2.69</td>\n",
       "      <td>2.85</td>\n",
       "      <td>15</td>\n",
       "      <td>1</td>\n",
       "      <td>0.596356</td>\n",
       "      <td>-0.215425</td>\n",
       "      <td>...</td>\n",
       "      <td>130.31</td>\n",
       "      <td>137.39000</td>\n",
       "      <td>2018</td>\n",
       "      <td>0.0</td>\n",
       "      <td>0.067460</td>\n",
       "      <td>2018-12-31</td>\n",
       "      <td>2.5442</td>\n",
       "      <td>133.879574</td>\n",
       "      <td>1.123109</td>\n",
       "      <td>1</td>\n",
       "    </tr>\n",
       "    <tr>\n",
       "      <th>4465</th>\n",
       "      <td>2018-12-31</td>\n",
       "      <td>2019-01-25</td>\n",
       "      <td>P</td>\n",
       "      <td>118000</td>\n",
       "      <td>2.49</td>\n",
       "      <td>2.65</td>\n",
       "      <td>1</td>\n",
       "      <td>0</td>\n",
       "      <td>0.602069</td>\n",
       "      <td>-0.201803</td>\n",
       "      <td>...</td>\n",
       "      <td>130.31</td>\n",
       "      <td>137.39000</td>\n",
       "      <td>2018</td>\n",
       "      <td>0.0</td>\n",
       "      <td>0.067460</td>\n",
       "      <td>2018-12-31</td>\n",
       "      <td>2.5442</td>\n",
       "      <td>133.879574</td>\n",
       "      <td>1.132627</td>\n",
       "      <td>1</td>\n",
       "    </tr>\n",
       "    <tr>\n",
       "      <th>...</th>\n",
       "      <td>...</td>\n",
       "      <td>...</td>\n",
       "      <td>...</td>\n",
       "      <td>...</td>\n",
       "      <td>...</td>\n",
       "      <td>...</td>\n",
       "      <td>...</td>\n",
       "      <td>...</td>\n",
       "      <td>...</td>\n",
       "      <td>...</td>\n",
       "      <td>...</td>\n",
       "      <td>...</td>\n",
       "      <td>...</td>\n",
       "      <td>...</td>\n",
       "      <td>...</td>\n",
       "      <td>...</td>\n",
       "      <td>...</td>\n",
       "      <td>...</td>\n",
       "      <td>...</td>\n",
       "      <td>...</td>\n",
       "      <td>...</td>\n",
       "    </tr>\n",
       "    <tr>\n",
       "      <th>5850931</th>\n",
       "      <td>2022-01-06</td>\n",
       "      <td>2022-01-07</td>\n",
       "      <td>C</td>\n",
       "      <td>317500</td>\n",
       "      <td>0.91</td>\n",
       "      <td>0.97</td>\n",
       "      <td>19097</td>\n",
       "      <td>775</td>\n",
       "      <td>0.350718</td>\n",
       "      <td>0.269449</td>\n",
       "      <td>...</td>\n",
       "      <td>NaN</td>\n",
       "      <td>NaN</td>\n",
       "      <td>2022</td>\n",
       "      <td>0.0</td>\n",
       "      <td>0.003968</td>\n",
       "      <td>2022-01-06</td>\n",
       "      <td>NaN</td>\n",
       "      <td>NaN</td>\n",
       "      <td>0.988535</td>\n",
       "      <td>762</td>\n",
       "    </tr>\n",
       "    <tr>\n",
       "      <th>5850932</th>\n",
       "      <td>2022-01-06</td>\n",
       "      <td>2022-01-07</td>\n",
       "      <td>C</td>\n",
       "      <td>320000</td>\n",
       "      <td>0.44</td>\n",
       "      <td>0.46</td>\n",
       "      <td>46482</td>\n",
       "      <td>2919</td>\n",
       "      <td>0.353525</td>\n",
       "      <td>0.150725</td>\n",
       "      <td>...</td>\n",
       "      <td>NaN</td>\n",
       "      <td>NaN</td>\n",
       "      <td>2022</td>\n",
       "      <td>0.0</td>\n",
       "      <td>0.003968</td>\n",
       "      <td>2022-01-06</td>\n",
       "      <td>NaN</td>\n",
       "      <td>NaN</td>\n",
       "      <td>0.980813</td>\n",
       "      <td>762</td>\n",
       "    </tr>\n",
       "    <tr>\n",
       "      <th>5850933</th>\n",
       "      <td>2022-01-06</td>\n",
       "      <td>2022-01-07</td>\n",
       "      <td>C</td>\n",
       "      <td>322500</td>\n",
       "      <td>0.22</td>\n",
       "      <td>0.23</td>\n",
       "      <td>10100</td>\n",
       "      <td>3451</td>\n",
       "      <td>0.369277</td>\n",
       "      <td>0.082080</td>\n",
       "      <td>...</td>\n",
       "      <td>NaN</td>\n",
       "      <td>NaN</td>\n",
       "      <td>2022</td>\n",
       "      <td>0.0</td>\n",
       "      <td>0.003968</td>\n",
       "      <td>2022-01-06</td>\n",
       "      <td>NaN</td>\n",
       "      <td>NaN</td>\n",
       "      <td>0.973209</td>\n",
       "      <td>762</td>\n",
       "    </tr>\n",
       "    <tr>\n",
       "      <th>5850967</th>\n",
       "      <td>2022-01-06</td>\n",
       "      <td>2022-01-07</td>\n",
       "      <td>P</td>\n",
       "      <td>312500</td>\n",
       "      <td>1.48</td>\n",
       "      <td>1.52</td>\n",
       "      <td>8085</td>\n",
       "      <td>2087</td>\n",
       "      <td>0.324247</td>\n",
       "      <td>-0.394087</td>\n",
       "      <td>...</td>\n",
       "      <td>NaN</td>\n",
       "      <td>NaN</td>\n",
       "      <td>2022</td>\n",
       "      <td>0.0</td>\n",
       "      <td>0.003968</td>\n",
       "      <td>2022-01-06</td>\n",
       "      <td>NaN</td>\n",
       "      <td>NaN</td>\n",
       "      <td>1.004352</td>\n",
       "      <td>762</td>\n",
       "    </tr>\n",
       "    <tr>\n",
       "      <th>5852791</th>\n",
       "      <td>2022-01-06</td>\n",
       "      <td>2022-01-07</td>\n",
       "      <td>P</td>\n",
       "      <td>480000</td>\n",
       "      <td>147.40</td>\n",
       "      <td>147.75</td>\n",
       "      <td>13</td>\n",
       "      <td>0</td>\n",
       "      <td>2.496856</td>\n",
       "      <td>-0.997028</td>\n",
       "      <td>...</td>\n",
       "      <td>NaN</td>\n",
       "      <td>NaN</td>\n",
       "      <td>2022</td>\n",
       "      <td>0.0</td>\n",
       "      <td>0.003968</td>\n",
       "      <td>2022-01-06</td>\n",
       "      <td>NaN</td>\n",
       "      <td>NaN</td>\n",
       "      <td>0.692750</td>\n",
       "      <td>762</td>\n",
       "    </tr>\n",
       "  </tbody>\n",
       "</table>\n",
       "<p>5852792 rows × 28 columns</p>\n",
       "</div>"
      ],
      "text/plain": [
       "              date     exdate cp_flag  strike_price  best_bid  best_offer  \\\n",
       "0       2018-12-31 2019-01-04       C       1432500     68.60       71.20   \n",
       "4468    2018-12-31 2019-01-25       P        122000      3.40        3.65   \n",
       "4467    2018-12-31 2019-01-25       P        120000      2.91        3.10   \n",
       "4466    2018-12-31 2019-01-25       P        119000      2.69        2.85   \n",
       "4465    2018-12-31 2019-01-25       P        118000      2.49        2.65   \n",
       "...            ...        ...     ...           ...       ...         ...   \n",
       "5850931 2022-01-06 2022-01-07       C        317500      0.91        0.97   \n",
       "5850932 2022-01-06 2022-01-07       C        320000      0.44        0.46   \n",
       "5850933 2022-01-06 2022-01-07       C        322500      0.22        0.23   \n",
       "5850967 2022-01-06 2022-01-07       P        312500      1.48        1.52   \n",
       "5852791 2022-01-06 2022-01-07       P        480000    147.40      147.75   \n",
       "\n",
       "         volume  open_interest  impl_volatility     delta  ...    BIDLO  \\\n",
       "0             7             24         0.178184  0.994818  ...  1449.00   \n",
       "4468          1              0         0.585733 -0.261992  ...   130.31   \n",
       "4467         25            370         0.592713 -0.230312  ...   130.31   \n",
       "4466         15              1         0.596356 -0.215425  ...   130.31   \n",
       "4465          1              0         0.602069 -0.201803  ...   130.31   \n",
       "...         ...            ...              ...       ...  ...      ...   \n",
       "5850931   19097            775         0.350718  0.269449  ...      NaN   \n",
       "5850932   46482           2919         0.353525  0.150725  ...      NaN   \n",
       "5850933   10100           3451         0.369277  0.082080  ...      NaN   \n",
       "5850967    8085           2087         0.324247 -0.394087  ...      NaN   \n",
       "5852791      13              0         2.496856 -0.997028  ...      NaN   \n",
       "\n",
       "              ASKHI  Year Annual_Dividend_Yield         T       DATE  2Y_bond  \\\n",
       "0        1513.46997  2018                   0.0  0.011905 2018-12-31   2.5442   \n",
       "4468      137.39000  2018                   0.0  0.067460 2018-12-31   2.5442   \n",
       "4467      137.39000  2018                   0.0  0.067460 2018-12-31   2.5442   \n",
       "4466      137.39000  2018                   0.0  0.067460 2018-12-31   2.5442   \n",
       "4465      137.39000  2018                   0.0  0.067460 2018-12-31   2.5442   \n",
       "...             ...   ...                   ...       ...        ...      ...   \n",
       "5850931         NaN  2022                   0.0  0.003968 2022-01-06      NaN   \n",
       "5850932         NaN  2022                   0.0  0.003968 2022-01-06      NaN   \n",
       "5850933         NaN  2022                   0.0  0.003968 2022-01-06      NaN   \n",
       "5850967         NaN  2022                   0.0  0.003968 2022-01-06      NaN   \n",
       "5852791         NaN  2022                   0.0  0.003968 2022-01-06      NaN   \n",
       "\n",
       "         Forward_Price  moneyness  trading_day  \n",
       "0          1478.467752   1.031777            1  \n",
       "4468        133.879574   1.095492            1  \n",
       "4467        133.879574   1.113750            1  \n",
       "4466        133.879574   1.123109            1  \n",
       "4465        133.879574   1.132627            1  \n",
       "...                ...        ...          ...  \n",
       "5850931            NaN   0.988535          762  \n",
       "5850932            NaN   0.980813          762  \n",
       "5850933            NaN   0.973209          762  \n",
       "5850967            NaN   1.004352          762  \n",
       "5852791            NaN   0.692750          762  \n",
       "\n",
       "[5852792 rows x 28 columns]"
      ]
     },
     "execution_count": 42,
     "metadata": {},
     "output_type": "execute_result"
    }
   ],
   "source": [
    "df"
   ]
  },
  {
   "cell_type": "code",
   "execution_count": null,
   "metadata": {},
   "outputs": [],
   "source": []
  },
  {
   "cell_type": "markdown",
   "metadata": {},
   "source": [
    "# Save the newest file"
   ]
  },
  {
   "cell_type": "code",
   "execution_count": 41,
   "metadata": {},
   "outputs": [],
   "source": [
    "# Saving file \n",
    "data_set = Path.cwd().parent.parent / \"Data/Modeling/total_dataset.parquet\"\n",
    "\n",
    "save_parquet = False\n",
    "if save_parquet or not os.path.exists(data_set):\n",
    "    df_final.to_parquet(data_set)"
   ]
  },
  {
   "cell_type": "code",
   "execution_count": null,
   "metadata": {},
   "outputs": [],
   "source": []
  }
 ],
 "metadata": {
  "kernelspec": {
   "display_name": "Python 3",
   "language": "python",
   "name": "python3"
  },
  "language_info": {
   "codemirror_mode": {
    "name": "ipython",
    "version": 3
   },
   "file_extension": ".py",
   "mimetype": "text/x-python",
   "name": "python",
   "nbconvert_exporter": "python",
   "pygments_lexer": "ipython3",
   "version": "3.11.9"
  }
 },
 "nbformat": 4,
 "nbformat_minor": 2
}
