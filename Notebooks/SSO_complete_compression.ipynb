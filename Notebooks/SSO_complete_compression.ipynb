{
 "cells": [
  {
   "cell_type": "code",
   "execution_count": 54,
   "metadata": {},
   "outputs": [],
   "source": [
    "import polars as pl\n",
    "import os\n",
    "from pathlib import Path\n",
    "import pandas as pd\n",
    "import hvplot.polars\n",
    "import datetime\n",
    "import matplotlib.pyplot as plt\n",
    "\n",
    "\n",
    "sso_data = Path.cwd().parent / \"Data/Option_data/SSO_complete.csv\"\n",
    "parquet_file = (Path.cwd().parent / \"Data/Option_data/SSO_complete\")\n",
    "\n",
    "data_path = Path.cwd().parent / \"Data\"\n",
    "\n",
    "#Restrictions\n",
    "timeperiod = [datetime.datetime(2019, 1, 1), datetime.datetime(2021, 12, 31)]\n",
    "volume_r = 0\n",
    "open_interest_r = 0\n",
    "delta_r = 0\n",
    "vega_r = 0\n",
    "theta_r = 0\n",
    "gamma_r = 0\n",
    "midprice_r = 0.3\n",
    "bid_price_r = 0.0\n",
    "days_till_exp_r = 14\n",
    "moneyness_min = 0.65\n",
    "moneyness_max = 1.35\n",
    "\n"
   ]
  },
  {
   "cell_type": "code",
   "execution_count": 55,
   "metadata": {},
   "outputs": [],
   "source": [
    "# pl.read_csv(sso_data, separator = \",\").estimated_size(\"mb\")"
   ]
  },
  {
   "cell_type": "code",
   "execution_count": 56,
   "metadata": {},
   "outputs": [
    {
     "data": {
      "text/html": [
       "<div><style>\n",
       ".dataframe > thead > tr,\n",
       ".dataframe > tbody > tr {\n",
       "  text-align: right;\n",
       "  white-space: pre-wrap;\n",
       "}\n",
       "</style>\n",
       "<small>shape: (1_000, 19)</small><table border=\"1\" class=\"dataframe\"><thead><tr><th>date</th><th>exdate</th><th>cp_flag</th><th>strike_price</th><th>best_bid</th><th>best_offer</th><th>volume</th><th>open_interest</th><th>impl_volatility</th><th>delta</th><th>gamma</th><th>vega</th><th>theta</th><th>optionid</th><th>ticker</th><th>index_flag</th><th>issuer</th><th>div_convention</th><th>exercise_style</th></tr><tr><td>str</td><td>str</td><td>str</td><td>i64</td><td>f64</td><td>f64</td><td>i64</td><td>i64</td><td>f64</td><td>f64</td><td>f64</td><td>f64</td><td>f64</td><td>i64</td><td>str</td><td>i64</td><td>str</td><td>str</td><td>str</td></tr></thead><tbody><tr><td>&quot;2016-01-04&quot;</td><td>&quot;2016-01-08&quot;</td><td>&quot;C&quot;</td><td>1000000</td><td>0.0</td><td>0.49</td><td>0</td><td>0</td><td>1.692439</td><td>0.006994</td><td>0.000173</td><td>1.300576</td><td>-100.3955</td><td>109965553</td><td>&quot;AMZN&quot;</td><td>0</td><td>&quot;AMAZON.COM INC…</td><td>null</td><td>&quot;A&quot;</td></tr><tr><td>&quot;2016-01-04&quot;</td><td>&quot;2016-01-08&quot;</td><td>&quot;C&quot;</td><td>400000</td><td>234.75</td><td>238.15</td><td>0</td><td>0</td><td>null</td><td>null</td><td>null</td><td>null</td><td>null</td><td>109965554</td><td>&quot;AMZN&quot;</td><td>0</td><td>&quot;AMAZON.COM INC…</td><td>null</td><td>&quot;A&quot;</td></tr><tr><td>&quot;2016-01-04&quot;</td><td>&quot;2016-01-08&quot;</td><td>&quot;C&quot;</td><td>410000</td><td>224.5</td><td>228.2</td><td>0</td><td>0</td><td>null</td><td>null</td><td>null</td><td>null</td><td>null</td><td>109965555</td><td>&quot;AMZN&quot;</td><td>0</td><td>&quot;AMAZON.COM INC…</td><td>null</td><td>&quot;A&quot;</td></tr><tr><td>&quot;2016-01-04&quot;</td><td>&quot;2016-01-08&quot;</td><td>&quot;C&quot;</td><td>420000</td><td>214.75</td><td>218.3</td><td>0</td><td>0</td><td>null</td><td>null</td><td>null</td><td>null</td><td>null</td><td>109965556</td><td>&quot;AMZN&quot;</td><td>0</td><td>&quot;AMAZON.COM INC…</td><td>null</td><td>&quot;A&quot;</td></tr><tr><td>&quot;2016-01-04&quot;</td><td>&quot;2016-01-08&quot;</td><td>&quot;C&quot;</td><td>430000</td><td>204.35</td><td>208.3</td><td>0</td><td>0</td><td>null</td><td>null</td><td>null</td><td>null</td><td>null</td><td>109965557</td><td>&quot;AMZN&quot;</td><td>0</td><td>&quot;AMAZON.COM INC…</td><td>null</td><td>&quot;A&quot;</td></tr><tr><td>&hellip;</td><td>&hellip;</td><td>&hellip;</td><td>&hellip;</td><td>&hellip;</td><td>&hellip;</td><td>&hellip;</td><td>&hellip;</td><td>&hellip;</td><td>&hellip;</td><td>&hellip;</td><td>&hellip;</td><td>&hellip;</td><td>&hellip;</td><td>&hellip;</td><td>&hellip;</td><td>&hellip;</td><td>&hellip;</td><td>&hellip;</td></tr><tr><td>&quot;2016-01-04&quot;</td><td>&quot;2016-02-05&quot;</td><td>&quot;C&quot;</td><td>702500</td><td>11.8</td><td>12.45</td><td>2</td><td>3</td><td>0.451222</td><td>0.253848</td><td>0.003764</td><td>60.37361</td><td>-156.1969</td><td>110256313</td><td>&quot;AMZN&quot;</td><td>0</td><td>&quot;AMAZON.COM INC…</td><td>null</td><td>&quot;A&quot;</td></tr><tr><td>&quot;2016-01-04&quot;</td><td>&quot;2016-02-05&quot;</td><td>&quot;C&quot;</td><td>705000</td><td>11.25</td><td>12.0</td><td>20</td><td>10</td><td>0.45159</td><td>0.245625</td><td>0.003696</td><td>59.31837</td><td>-153.6006</td><td>110256314</td><td>&quot;AMZN&quot;</td><td>0</td><td>&quot;AMAZON.COM INC…</td><td>null</td><td>&quot;A&quot;</td></tr><tr><td>&quot;2016-01-04&quot;</td><td>&quot;2016-02-05&quot;</td><td>&quot;C&quot;</td><td>710000</td><td>10.15</td><td>10.75</td><td>71</td><td>62</td><td>0.448326</td><td>0.227372</td><td>0.003567</td><td>56.89643</td><td>-146.123</td><td>110256315</td><td>&quot;AMZN&quot;</td><td>0</td><td>&quot;AMAZON.COM INC…</td><td>null</td><td>&quot;A&quot;</td></tr><tr><td>&quot;2016-01-04&quot;</td><td>&quot;2016-02-05&quot;</td><td>&quot;C&quot;</td><td>715000</td><td>9.15</td><td>9.8</td><td>17</td><td>24</td><td>0.447162</td><td>0.211026</td><td>0.003427</td><td>54.54174</td><td>-139.6136</td><td>110256316</td><td>&quot;AMZN&quot;</td><td>0</td><td>&quot;AMAZON.COM INC…</td><td>null</td><td>&quot;A&quot;</td></tr><tr><td>&quot;2016-01-04&quot;</td><td>&quot;2016-02-05&quot;</td><td>&quot;C&quot;</td><td>720000</td><td>8.15</td><td>8.8</td><td>2</td><td>68</td><td>0.4441</td><td>0.194252</td><td>0.003284</td><td>51.86873</td><td>-131.9554</td><td>110256317</td><td>&quot;AMZN&quot;</td><td>0</td><td>&quot;AMAZON.COM INC…</td><td>null</td><td>&quot;A&quot;</td></tr></tbody></table></div>"
      ],
      "text/plain": [
       "shape: (1_000, 19)\n",
       "┌────────────┬───────────┬─────────┬───────────┬───┬───────────┬───────────┬───────────┬───────────┐\n",
       "│ date       ┆ exdate    ┆ cp_flag ┆ strike_pr ┆ … ┆ index_fla ┆ issuer    ┆ div_conve ┆ exercise_ │\n",
       "│ ---        ┆ ---       ┆ ---     ┆ ice       ┆   ┆ g         ┆ ---       ┆ ntion     ┆ style     │\n",
       "│ str        ┆ str       ┆ str     ┆ ---       ┆   ┆ ---       ┆ str       ┆ ---       ┆ ---       │\n",
       "│            ┆           ┆         ┆ i64       ┆   ┆ i64       ┆           ┆ str       ┆ str       │\n",
       "╞════════════╪═══════════╪═════════╪═══════════╪═══╪═══════════╪═══════════╪═══════════╪═══════════╡\n",
       "│ 2016-01-04 ┆ 2016-01-0 ┆ C       ┆ 1000000   ┆ … ┆ 0         ┆ AMAZON.CO ┆ null      ┆ A         │\n",
       "│            ┆ 8         ┆         ┆           ┆   ┆           ┆ M INC.    ┆           ┆           │\n",
       "│ 2016-01-04 ┆ 2016-01-0 ┆ C       ┆ 400000    ┆ … ┆ 0         ┆ AMAZON.CO ┆ null      ┆ A         │\n",
       "│            ┆ 8         ┆         ┆           ┆   ┆           ┆ M INC.    ┆           ┆           │\n",
       "│ 2016-01-04 ┆ 2016-01-0 ┆ C       ┆ 410000    ┆ … ┆ 0         ┆ AMAZON.CO ┆ null      ┆ A         │\n",
       "│            ┆ 8         ┆         ┆           ┆   ┆           ┆ M INC.    ┆           ┆           │\n",
       "│ 2016-01-04 ┆ 2016-01-0 ┆ C       ┆ 420000    ┆ … ┆ 0         ┆ AMAZON.CO ┆ null      ┆ A         │\n",
       "│            ┆ 8         ┆         ┆           ┆   ┆           ┆ M INC.    ┆           ┆           │\n",
       "│ 2016-01-04 ┆ 2016-01-0 ┆ C       ┆ 430000    ┆ … ┆ 0         ┆ AMAZON.CO ┆ null      ┆ A         │\n",
       "│            ┆ 8         ┆         ┆           ┆   ┆           ┆ M INC.    ┆           ┆           │\n",
       "│ …          ┆ …         ┆ …       ┆ …         ┆ … ┆ …         ┆ …         ┆ …         ┆ …         │\n",
       "│ 2016-01-04 ┆ 2016-02-0 ┆ C       ┆ 702500    ┆ … ┆ 0         ┆ AMAZON.CO ┆ null      ┆ A         │\n",
       "│            ┆ 5         ┆         ┆           ┆   ┆           ┆ M INC.    ┆           ┆           │\n",
       "│ 2016-01-04 ┆ 2016-02-0 ┆ C       ┆ 705000    ┆ … ┆ 0         ┆ AMAZON.CO ┆ null      ┆ A         │\n",
       "│            ┆ 5         ┆         ┆           ┆   ┆           ┆ M INC.    ┆           ┆           │\n",
       "│ 2016-01-04 ┆ 2016-02-0 ┆ C       ┆ 710000    ┆ … ┆ 0         ┆ AMAZON.CO ┆ null      ┆ A         │\n",
       "│            ┆ 5         ┆         ┆           ┆   ┆           ┆ M INC.    ┆           ┆           │\n",
       "│ 2016-01-04 ┆ 2016-02-0 ┆ C       ┆ 715000    ┆ … ┆ 0         ┆ AMAZON.CO ┆ null      ┆ A         │\n",
       "│            ┆ 5         ┆         ┆           ┆   ┆           ┆ M INC.    ┆           ┆           │\n",
       "│ 2016-01-04 ┆ 2016-02-0 ┆ C       ┆ 720000    ┆ … ┆ 0         ┆ AMAZON.CO ┆ null      ┆ A         │\n",
       "│            ┆ 5         ┆         ┆           ┆   ┆           ┆ M INC.    ┆           ┆           │\n",
       "└────────────┴───────────┴─────────┴───────────┴───┴───────────┴───────────┴───────────┴───────────┘"
      ]
     },
     "execution_count": 56,
     "metadata": {},
     "output_type": "execute_result"
    }
   ],
   "source": [
    "df = pl.scan_csv(sso_data, separator=\",\")\n",
    "df.schema\n",
    "df.fetch(1000)"
   ]
  },
  {
   "cell_type": "markdown",
   "metadata": {},
   "source": [
    "# Lower the data by use of efficiency and formatting"
   ]
  },
  {
   "cell_type": "code",
   "execution_count": 57,
   "metadata": {},
   "outputs": [
    {
     "name": "stderr",
     "output_type": "stream",
     "text": [
      "/var/folders/b4/wn87d6495j1_vytb8m33q3mm0000gn/T/ipykernel_22931/3377993439.py:1: DeprecationWarning:\n",
      "\n",
      "`approx_n_unique` is deprecated. Use `select(pl.all().approx_n_unique())` instead.\n",
      "\n"
     ]
    },
    {
     "data": {
      "text/html": [
       "<div><style>\n",
       ".dataframe > thead > tr,\n",
       ".dataframe > tbody > tr {\n",
       "  text-align: right;\n",
       "  white-space: pre-wrap;\n",
       "}\n",
       "</style>\n",
       "<small>shape: (1, 19)</small><table border=\"1\" class=\"dataframe\"><thead><tr><th>date</th><th>exdate</th><th>cp_flag</th><th>strike_price</th><th>best_bid</th><th>best_offer</th><th>volume</th><th>open_interest</th><th>impl_volatility</th><th>delta</th><th>gamma</th><th>vega</th><th>theta</th><th>optionid</th><th>ticker</th><th>index_flag</th><th>issuer</th><th>div_convention</th><th>exercise_style</th></tr><tr><td>u32</td><td>u32</td><td>u32</td><td>u32</td><td>u32</td><td>u32</td><td>u32</td><td>u32</td><td>u32</td><td>u32</td><td>u32</td><td>u32</td><td>u32</td><td>u32</td><td>u32</td><td>u32</td><td>u32</td><td>u32</td><td>u32</td></tr></thead><tbody><tr><td>1518</td><td>331</td><td>2</td><td>1974</td><td>50437</td><td>50415</td><td>25143</td><td>45370</td><td>1850090</td><td>2010581</td><td>179275</td><td>15500674</td><td>14812822</td><td>670224</td><td>10</td><td>1</td><td>11</td><td>1</td><td>1</td></tr></tbody></table></div>"
      ],
      "text/plain": [
       "shape: (1, 19)\n",
       "┌──────┬────────┬─────────┬──────────────┬───┬────────────┬────────┬───────────────┬───────────────┐\n",
       "│ date ┆ exdate ┆ cp_flag ┆ strike_price ┆ … ┆ index_flag ┆ issuer ┆ div_conventio ┆ exercise_styl │\n",
       "│ ---  ┆ ---    ┆ ---     ┆ ---          ┆   ┆ ---        ┆ ---    ┆ n             ┆ e             │\n",
       "│ u32  ┆ u32    ┆ u32     ┆ u32          ┆   ┆ u32        ┆ u32    ┆ ---           ┆ ---           │\n",
       "│      ┆        ┆         ┆              ┆   ┆            ┆        ┆ u32           ┆ u32           │\n",
       "╞══════╪════════╪═════════╪══════════════╪═══╪════════════╪════════╪═══════════════╪═══════════════╡\n",
       "│ 1518 ┆ 331    ┆ 2       ┆ 1974         ┆ … ┆ 1          ┆ 11     ┆ 1             ┆ 1             │\n",
       "└──────┴────────┴─────────┴──────────────┴───┴────────────┴────────┴───────────────┴───────────────┘"
      ]
     },
     "execution_count": 57,
     "metadata": {},
     "output_type": "execute_result"
    }
   ],
   "source": [
    "df.collect().approx_n_unique()"
   ]
  },
  {
   "cell_type": "code",
   "execution_count": 58,
   "metadata": {},
   "outputs": [],
   "source": [
    "#Desired data types for the columns\n",
    "int_cols = [\"strike_price\", \"volume\", \"open_interest\"]\n",
    "float_cols = [\"best_bid\", \"best_offer\", \"impl_volatility\", \"delta\", \"gamma\", \"vega\", \"theta\"]\n",
    "datetime_cols = [\"date\",\"exdate\"]\n",
    "str_cols = [\"cp_flag\", \"ticker\", \"exercise_style\"]\n",
    "drop_cols = [\"optionid\", \"index_flag\", \"issuer\", \"div_convention\", \"exercise_style\"]"
   ]
  },
  {
   "cell_type": "code",
   "execution_count": 59,
   "metadata": {},
   "outputs": [],
   "source": [
    "#one line to do all the above\n",
    "df = df.with_columns(\n",
    "    [ pl.col(int_cols).cast(pl.Int64),\n",
    "      pl.col(float_cols).cast(pl.Float64),\n",
    "      pl.col(datetime_cols).cast(pl.Date),\n",
    "      pl.col(str_cols).cast(pl.String),\n",
    "    ]\n",
    ").drop(drop_cols)"
   ]
  },
  {
   "cell_type": "code",
   "execution_count": 60,
   "metadata": {},
   "outputs": [
    {
     "data": {
      "text/html": [
       "<div><style>\n",
       ".dataframe > thead > tr,\n",
       ".dataframe > tbody > tr {\n",
       "  text-align: right;\n",
       "  white-space: pre-wrap;\n",
       "}\n",
       "</style>\n",
       "<small>shape: (5, 14)</small><table border=\"1\" class=\"dataframe\"><thead><tr><th>date</th><th>exdate</th><th>cp_flag</th><th>strike_price</th><th>best_bid</th><th>best_offer</th><th>volume</th><th>open_interest</th><th>impl_volatility</th><th>delta</th><th>gamma</th><th>vega</th><th>theta</th><th>ticker</th></tr><tr><td>date</td><td>date</td><td>str</td><td>i64</td><td>f64</td><td>f64</td><td>i64</td><td>i64</td><td>f64</td><td>f64</td><td>f64</td><td>f64</td><td>f64</td><td>str</td></tr></thead><tbody><tr><td>2016-01-04</td><td>2016-01-08</td><td>&quot;C&quot;</td><td>1000000</td><td>0.0</td><td>0.49</td><td>0</td><td>0</td><td>1.692439</td><td>0.006994</td><td>0.000173</td><td>1.300576</td><td>-100.3955</td><td>&quot;AMZN&quot;</td></tr><tr><td>2016-01-04</td><td>2016-01-08</td><td>&quot;C&quot;</td><td>400000</td><td>234.75</td><td>238.15</td><td>0</td><td>0</td><td>null</td><td>null</td><td>null</td><td>null</td><td>null</td><td>&quot;AMZN&quot;</td></tr><tr><td>2016-01-04</td><td>2016-01-08</td><td>&quot;C&quot;</td><td>410000</td><td>224.5</td><td>228.2</td><td>0</td><td>0</td><td>null</td><td>null</td><td>null</td><td>null</td><td>null</td><td>&quot;AMZN&quot;</td></tr><tr><td>2016-01-04</td><td>2016-01-08</td><td>&quot;C&quot;</td><td>420000</td><td>214.75</td><td>218.3</td><td>0</td><td>0</td><td>null</td><td>null</td><td>null</td><td>null</td><td>null</td><td>&quot;AMZN&quot;</td></tr><tr><td>2016-01-04</td><td>2016-01-08</td><td>&quot;C&quot;</td><td>430000</td><td>204.35</td><td>208.3</td><td>0</td><td>0</td><td>null</td><td>null</td><td>null</td><td>null</td><td>null</td><td>&quot;AMZN&quot;</td></tr></tbody></table></div>"
      ],
      "text/plain": [
       "shape: (5, 14)\n",
       "┌────────────┬────────────┬─────────┬──────────────┬───┬──────────┬──────────┬───────────┬────────┐\n",
       "│ date       ┆ exdate     ┆ cp_flag ┆ strike_price ┆ … ┆ gamma    ┆ vega     ┆ theta     ┆ ticker │\n",
       "│ ---        ┆ ---        ┆ ---     ┆ ---          ┆   ┆ ---      ┆ ---      ┆ ---       ┆ ---    │\n",
       "│ date       ┆ date       ┆ str     ┆ i64          ┆   ┆ f64      ┆ f64      ┆ f64       ┆ str    │\n",
       "╞════════════╪════════════╪═════════╪══════════════╪═══╪══════════╪══════════╪═══════════╪════════╡\n",
       "│ 2016-01-04 ┆ 2016-01-08 ┆ C       ┆ 1000000      ┆ … ┆ 0.000173 ┆ 1.300576 ┆ -100.3955 ┆ AMZN   │\n",
       "│ 2016-01-04 ┆ 2016-01-08 ┆ C       ┆ 400000       ┆ … ┆ null     ┆ null     ┆ null      ┆ AMZN   │\n",
       "│ 2016-01-04 ┆ 2016-01-08 ┆ C       ┆ 410000       ┆ … ┆ null     ┆ null     ┆ null      ┆ AMZN   │\n",
       "│ 2016-01-04 ┆ 2016-01-08 ┆ C       ┆ 420000       ┆ … ┆ null     ┆ null     ┆ null      ┆ AMZN   │\n",
       "│ 2016-01-04 ┆ 2016-01-08 ┆ C       ┆ 430000       ┆ … ┆ null     ┆ null     ┆ null      ┆ AMZN   │\n",
       "└────────────┴────────────┴─────────┴──────────────┴───┴──────────┴──────────┴───────────┴────────┘"
      ]
     },
     "execution_count": 60,
     "metadata": {},
     "output_type": "execute_result"
    }
   ],
   "source": [
    "df.fetch(5)"
   ]
  },
  {
   "cell_type": "markdown",
   "metadata": {},
   "source": [
    "## Apply filter for volume and open interest"
   ]
  },
  {
   "cell_type": "code",
   "execution_count": 61,
   "metadata": {},
   "outputs": [
    {
     "data": {
      "text/html": [
       "<div><style>\n",
       ".dataframe > thead > tr,\n",
       ".dataframe > tbody > tr {\n",
       "  text-align: right;\n",
       "  white-space: pre-wrap;\n",
       "}\n",
       "</style>\n",
       "<small>shape: (10_670_268, 14)</small><table border=\"1\" class=\"dataframe\"><thead><tr><th>date</th><th>exdate</th><th>cp_flag</th><th>strike_price</th><th>best_bid</th><th>best_offer</th><th>volume</th><th>open_interest</th><th>impl_volatility</th><th>delta</th><th>gamma</th><th>vega</th><th>theta</th><th>ticker</th></tr><tr><td>date</td><td>date</td><td>str</td><td>i64</td><td>f64</td><td>f64</td><td>i64</td><td>i64</td><td>f64</td><td>f64</td><td>f64</td><td>f64</td><td>f64</td><td>str</td></tr></thead><tbody><tr><td>2016-01-04</td><td>2016-01-08</td><td>&quot;C&quot;</td><td>570000</td><td>66.7</td><td>67.25</td><td>24</td><td>7</td><td>null</td><td>null</td><td>null</td><td>null</td><td>null</td><td>&quot;AMZN&quot;</td></tr><tr><td>2016-01-04</td><td>2016-01-08</td><td>&quot;C&quot;</td><td>600000</td><td>38.25</td><td>38.8</td><td>83</td><td>8</td><td>0.458482</td><td>0.898159</td><td>0.005818</td><td>11.86455</td><td>-250.212</td><td>&quot;AMZN&quot;</td></tr><tr><td>2016-01-04</td><td>2016-01-08</td><td>&quot;C&quot;</td><td>610000</td><td>29.45</td><td>30.05</td><td>155</td><td>1</td><td>0.443603</td><td>0.830513</td><td>0.008538</td><td>16.8376</td><td>-342.8177</td><td>&quot;AMZN&quot;</td></tr><tr><td>2016-01-04</td><td>2016-01-08</td><td>&quot;C&quot;</td><td>620000</td><td>21.45</td><td>22.1</td><td>186</td><td>40</td><td>0.429967</td><td>0.733626</td><td>0.011452</td><td>21.89659</td><td>-431.2656</td><td>&quot;AMZN&quot;</td></tr><tr><td>2016-01-04</td><td>2016-01-08</td><td>&quot;C&quot;</td><td>625000</td><td>17.9</td><td>18.4</td><td>240</td><td>46</td><td>0.422165</td><td>0.67466</td><td>0.012787</td><td>24.01541</td><td>-463.9468</td><td>&quot;AMZN&quot;</td></tr><tr><td>&hellip;</td><td>&hellip;</td><td>&hellip;</td><td>&hellip;</td><td>&hellip;</td><td>&hellip;</td><td>&hellip;</td><td>&hellip;</td><td>&hellip;</td><td>&hellip;</td><td>&hellip;</td><td>&hellip;</td><td>&hellip;</td><td>&hellip;</td></tr><tr><td>2021-12-31</td><td>2024-01-19</td><td>&quot;P&quot;</td><td>325000</td><td>53.2</td><td>57.5</td><td>26</td><td>342</td><td>0.342074</td><td>-0.365889</td><td>0.002325</td><td>180.8254</td><td>-13.624</td><td>&quot;META&quot;</td></tr><tr><td>2021-12-31</td><td>2024-01-19</td><td>&quot;P&quot;</td><td>335000</td><td>58.3</td><td>62.5</td><td>6</td><td>90</td><td>0.33902</td><td>-0.390563</td><td>0.002399</td><td>184.4266</td><td>-13.70043</td><td>&quot;META&quot;</td></tr><tr><td>2021-12-31</td><td>2024-01-19</td><td>&quot;P&quot;</td><td>340000</td><td>61.05</td><td>65.0</td><td>6</td><td>512</td><td>0.337588</td><td>-0.402981</td><td>0.002433</td><td>185.9174</td><td>-13.71956</td><td>&quot;META&quot;</td></tr><tr><td>2021-12-31</td><td>2024-01-19</td><td>&quot;P&quot;</td><td>450000</td><td>134.65</td><td>139.0</td><td>4</td><td>2078</td><td>0.322366</td><td>-0.655114</td><td>0.00256</td><td>175.7115</td><td>-11.51508</td><td>&quot;META&quot;</td></tr><tr><td>2021-12-31</td><td>2024-01-19</td><td>&quot;P&quot;</td><td>650000</td><td>314.1</td><td>318.55</td><td>2</td><td>1354</td><td>0.332395</td><td>-0.906963</td><td>0.001666</td><td>74.16985</td><td>-4.265754</td><td>&quot;META&quot;</td></tr></tbody></table></div>"
      ],
      "text/plain": [
       "shape: (10_670_268, 14)\n",
       "┌────────────┬────────────┬─────────┬──────────────┬───┬──────────┬──────────┬───────────┬────────┐\n",
       "│ date       ┆ exdate     ┆ cp_flag ┆ strike_price ┆ … ┆ gamma    ┆ vega     ┆ theta     ┆ ticker │\n",
       "│ ---        ┆ ---        ┆ ---     ┆ ---          ┆   ┆ ---      ┆ ---      ┆ ---       ┆ ---    │\n",
       "│ date       ┆ date       ┆ str     ┆ i64          ┆   ┆ f64      ┆ f64      ┆ f64       ┆ str    │\n",
       "╞════════════╪════════════╪═════════╪══════════════╪═══╪══════════╪══════════╪═══════════╪════════╡\n",
       "│ 2016-01-04 ┆ 2016-01-08 ┆ C       ┆ 570000       ┆ … ┆ null     ┆ null     ┆ null      ┆ AMZN   │\n",
       "│ 2016-01-04 ┆ 2016-01-08 ┆ C       ┆ 600000       ┆ … ┆ 0.005818 ┆ 11.86455 ┆ -250.212  ┆ AMZN   │\n",
       "│ 2016-01-04 ┆ 2016-01-08 ┆ C       ┆ 610000       ┆ … ┆ 0.008538 ┆ 16.8376  ┆ -342.8177 ┆ AMZN   │\n",
       "│ 2016-01-04 ┆ 2016-01-08 ┆ C       ┆ 620000       ┆ … ┆ 0.011452 ┆ 21.89659 ┆ -431.2656 ┆ AMZN   │\n",
       "│ 2016-01-04 ┆ 2016-01-08 ┆ C       ┆ 625000       ┆ … ┆ 0.012787 ┆ 24.01541 ┆ -463.9468 ┆ AMZN   │\n",
       "│ …          ┆ …          ┆ …       ┆ …            ┆ … ┆ …        ┆ …        ┆ …         ┆ …      │\n",
       "│ 2021-12-31 ┆ 2024-01-19 ┆ P       ┆ 325000       ┆ … ┆ 0.002325 ┆ 180.8254 ┆ -13.624   ┆ META   │\n",
       "│ 2021-12-31 ┆ 2024-01-19 ┆ P       ┆ 335000       ┆ … ┆ 0.002399 ┆ 184.4266 ┆ -13.70043 ┆ META   │\n",
       "│ 2021-12-31 ┆ 2024-01-19 ┆ P       ┆ 340000       ┆ … ┆ 0.002433 ┆ 185.9174 ┆ -13.71956 ┆ META   │\n",
       "│ 2021-12-31 ┆ 2024-01-19 ┆ P       ┆ 450000       ┆ … ┆ 0.00256  ┆ 175.7115 ┆ -11.51508 ┆ META   │\n",
       "│ 2021-12-31 ┆ 2024-01-19 ┆ P       ┆ 650000       ┆ … ┆ 0.001666 ┆ 74.16985 ┆ -4.265754 ┆ META   │\n",
       "└────────────┴────────────┴─────────┴──────────────┴───┴──────────┴──────────┴───────────┴────────┘"
      ]
     },
     "execution_count": 61,
     "metadata": {},
     "output_type": "execute_result"
    }
   ],
   "source": [
    "df.filter((pl.col(\"volume\") > 0) & (pl.col(\"open_interest\") > 0)).collect()"
   ]
  },
  {
   "cell_type": "code",
   "execution_count": 62,
   "metadata": {},
   "outputs": [],
   "source": [
    "# Saving file\n",
    "data_path_parq = Path.cwd().parent / \"Data/Option_data/sso_complete.parquet\"\n",
    "\n",
    "save_parquet = False\n",
    "if save_parquet or not os.path.exists(data_path_parq):\n",
    "    df.sink_parquet(data_path_parq)"
   ]
  },
  {
   "cell_type": "markdown",
   "metadata": {},
   "source": [
    "# Applying the different filters \n",
    "- Time period from 2019 - 2022\n",
    "- 0 to 7 days experiy\n",
    "- moneyness from 0.8 to 1.2"
   ]
  },
  {
   "cell_type": "code",
   "execution_count": 63,
   "metadata": {},
   "outputs": [],
   "source": [
    "df = pl.read_parquet(data_path_parq)\n",
    "\n",
    "# Creating the date filter period\n",
    "df = df.filter(\n",
    "    pl.col(\"exdate\").is_between(timeperiod[0], timeperiod[1]),\n",
    ")\n",
    "df = df.filter(\n",
    "    pl.col(\"date\").is_between(timeperiod[0], timeperiod[1]),\n",
    ")\n",
    "\n",
    "# Creating the days_till_experire collumn and filter time to maturity\n",
    "df = df.with_columns(\n",
    "    days_till_exp = pl.col(\"exdate\").sub(pl.col(\"date\").cast(pl.Int64)) \n",
    ").sort(\"cp_flag\").sort(\"date\")\n",
    "\n",
    "df = df.filter(pl.col(\"days_till_exp\") < days_till_exp_r)\n",
    "\n",
    "#Creating a filter for the volume and open_interest\n",
    "df = df.filter((pl.col(\"volume\") > volume_r) & (pl.col(\"open_interest\") > open_interest_r))\n",
    "\n",
    "#Creating a filter for missing greeks\n",
    "df = df.filter((pl.col(\"delta\") > delta_r) | (pl.col(\"gamma\") > gamma_r) | (pl.col(\"vega\") > vega_r) | (pl.col(\"theta\") > theta_r))\n",
    "\n",
    "#Create filter for bid higher than ask price\n",
    "df = df.filter(pl.col(\"best_bid\") <= pl.col(\"best_offer\"))\n",
    "df = df.filter(pl.col(\"best_bid\") >= bid_price_r)\n",
    "\n",
    "\n",
    "\n",
    "\n",
    "#Creating a midprices column\n",
    "df = df.with_columns(\n",
    "    bid_diff = pl.col(\"best_offer\").sub(pl.col(\"best_bid\").cast(pl.Float64)) \n",
    ").sort(\"cp_flag\").sort(\"date\")\n",
    "\n",
    "#Filter for the midprice\n",
    "df = df.filter(pl.col(\"bid_diff\") <= midprice_r)\n",
    "\n"
   ]
  },
  {
   "cell_type": "code",
   "execution_count": 64,
   "metadata": {},
   "outputs": [
    {
     "data": {
      "text/html": [
       "<div><style>\n",
       ".dataframe > thead > tr,\n",
       ".dataframe > tbody > tr {\n",
       "  text-align: right;\n",
       "  white-space: pre-wrap;\n",
       "}\n",
       "</style>\n",
       "<small>shape: (643_572, 16)</small><table border=\"1\" class=\"dataframe\"><thead><tr><th>date</th><th>exdate</th><th>cp_flag</th><th>strike_price</th><th>best_bid</th><th>best_offer</th><th>volume</th><th>open_interest</th><th>impl_volatility</th><th>delta</th><th>gamma</th><th>vega</th><th>theta</th><th>ticker</th><th>days_till_exp</th><th>bid_diff</th></tr><tr><td>date</td><td>date</td><td>str</td><td>i64</td><td>f64</td><td>f64</td><td>i64</td><td>i64</td><td>f64</td><td>f64</td><td>f64</td><td>f64</td><td>f64</td><td>str</td><td>i64</td><td>f64</td></tr></thead><tbody><tr><td>2019-01-02</td><td>2019-01-04</td><td>&quot;C&quot;</td><td>1582500</td><td>5.65</td><td>5.95</td><td>179</td><td>143</td><td>0.44622</td><td>0.205993</td><td>0.005604</td><td>32.474</td><td>-1329.294</td><td>&quot;AMZN&quot;</td><td>2</td><td>0.3</td></tr><tr><td>2019-01-02</td><td>2019-01-04</td><td>&quot;C&quot;</td><td>1590000</td><td>4.5</td><td>4.7</td><td>591</td><td>382</td><td>0.450833</td><td>0.170195</td><td>0.00493</td><td>28.83866</td><td>-1193.232</td><td>&quot;AMZN&quot;</td><td>2</td><td>0.2</td></tr><tr><td>2019-01-02</td><td>2019-01-04</td><td>&quot;C&quot;</td><td>1595000</td><td>3.7</td><td>4.0</td><td>332</td><td>138</td><td>0.450963</td><td>0.147503</td><td>0.004488</td><td>26.27567</td><td>-1086.498</td><td>&quot;AMZN&quot;</td><td>2</td><td>0.3</td></tr><tr><td>2019-01-02</td><td>2019-01-04</td><td>&quot;C&quot;</td><td>1600000</td><td>3.1</td><td>3.4</td><td>8173</td><td>4835</td><td>0.453011</td><td>0.128055</td><td>0.004057</td><td>23.81642</td><td>-990.8325</td><td>&quot;AMZN&quot;</td><td>2</td><td>0.3</td></tr><tr><td>2019-01-02</td><td>2019-01-04</td><td>&quot;C&quot;</td><td>1602500</td><td>2.89</td><td>3.15</td><td>168</td><td>49</td><td>0.455694</td><td>0.119995</td><td>0.003853</td><td>22.76705</td><td>-952.2318</td><td>&quot;AMZN&quot;</td><td>2</td><td>0.26</td></tr><tr><td>&hellip;</td><td>&hellip;</td><td>&hellip;</td><td>&hellip;</td><td>&hellip;</td><td>&hellip;</td><td>&hellip;</td><td>&hellip;</td><td>&hellip;</td><td>&hellip;</td><td>&hellip;</td><td>&hellip;</td><td>&hellip;</td><td>&hellip;</td><td>&hellip;</td><td>&hellip;</td></tr><tr><td>2021-12-30</td><td>2021-12-31</td><td>&quot;P&quot;</td><td>340000</td><td>0.5</td><td>0.54</td><td>14792</td><td>4633</td><td>0.277624</td><td>-0.188135</td><td>0.053898</td><td>4.863976</td><td>-245.9593</td><td>&quot;META&quot;</td><td>1</td><td>0.04</td></tr><tr><td>2021-12-30</td><td>2021-12-31</td><td>&quot;P&quot;</td><td>342500</td><td>1.17</td><td>1.23</td><td>7652</td><td>2223</td><td>0.278218</td><td>-0.352016</td><td>0.074</td><td>6.688096</td><td>-338.9688</td><td>&quot;META&quot;</td><td>1</td><td>0.06</td></tr><tr><td>2021-12-30</td><td>2021-12-31</td><td>&quot;P&quot;</td><td>345000</td><td>2.38</td><td>2.48</td><td>11159</td><td>3165</td><td>0.291361</td><td>-0.545093</td><td>0.075473</td><td>7.144706</td><td>-378.8639</td><td>&quot;META&quot;</td><td>1</td><td>0.1</td></tr><tr><td>2021-12-30</td><td>2021-12-31</td><td>&quot;P&quot;</td><td>347500</td><td>4.1</td><td>4.3</td><td>1341</td><td>1995</td><td>0.318453</td><td>-0.703802</td><td>0.060234</td><td>6.229296</td><td>-360.8611</td><td>&quot;META&quot;</td><td>1</td><td>0.2</td></tr><tr><td>2021-12-30</td><td>2021-12-31</td><td>&quot;P&quot;</td><td>350000</td><td>6.2</td><td>6.45</td><td>1468</td><td>2080</td><td>0.356932</td><td>-0.804971</td><td>0.042882</td><td>4.972382</td><td>-322.4008</td><td>&quot;META&quot;</td><td>1</td><td>0.25</td></tr></tbody></table></div>"
      ],
      "text/plain": [
       "shape: (643_572, 16)\n",
       "┌────────────┬────────────┬─────────┬─────────────┬───┬───────────┬────────┬────────────┬──────────┐\n",
       "│ date       ┆ exdate     ┆ cp_flag ┆ strike_pric ┆ … ┆ theta     ┆ ticker ┆ days_till_ ┆ bid_diff │\n",
       "│ ---        ┆ ---        ┆ ---     ┆ e           ┆   ┆ ---       ┆ ---    ┆ exp        ┆ ---      │\n",
       "│ date       ┆ date       ┆ str     ┆ ---         ┆   ┆ f64       ┆ str    ┆ ---        ┆ f64      │\n",
       "│            ┆            ┆         ┆ i64         ┆   ┆           ┆        ┆ i64        ┆          │\n",
       "╞════════════╪════════════╪═════════╪═════════════╪═══╪═══════════╪════════╪════════════╪══════════╡\n",
       "│ 2019-01-02 ┆ 2019-01-04 ┆ C       ┆ 1582500     ┆ … ┆ -1329.294 ┆ AMZN   ┆ 2          ┆ 0.3      │\n",
       "│ 2019-01-02 ┆ 2019-01-04 ┆ C       ┆ 1590000     ┆ … ┆ -1193.232 ┆ AMZN   ┆ 2          ┆ 0.2      │\n",
       "│ 2019-01-02 ┆ 2019-01-04 ┆ C       ┆ 1595000     ┆ … ┆ -1086.498 ┆ AMZN   ┆ 2          ┆ 0.3      │\n",
       "│ 2019-01-02 ┆ 2019-01-04 ┆ C       ┆ 1600000     ┆ … ┆ -990.8325 ┆ AMZN   ┆ 2          ┆ 0.3      │\n",
       "│ 2019-01-02 ┆ 2019-01-04 ┆ C       ┆ 1602500     ┆ … ┆ -952.2318 ┆ AMZN   ┆ 2          ┆ 0.26     │\n",
       "│ …          ┆ …          ┆ …       ┆ …           ┆ … ┆ …         ┆ …      ┆ …          ┆ …        │\n",
       "│ 2021-12-30 ┆ 2021-12-31 ┆ P       ┆ 340000      ┆ … ┆ -245.9593 ┆ META   ┆ 1          ┆ 0.04     │\n",
       "│ 2021-12-30 ┆ 2021-12-31 ┆ P       ┆ 342500      ┆ … ┆ -338.9688 ┆ META   ┆ 1          ┆ 0.06     │\n",
       "│ 2021-12-30 ┆ 2021-12-31 ┆ P       ┆ 345000      ┆ … ┆ -378.8639 ┆ META   ┆ 1          ┆ 0.1      │\n",
       "│ 2021-12-30 ┆ 2021-12-31 ┆ P       ┆ 347500      ┆ … ┆ -360.8611 ┆ META   ┆ 1          ┆ 0.2      │\n",
       "│ 2021-12-30 ┆ 2021-12-31 ┆ P       ┆ 350000      ┆ … ┆ -322.4008 ┆ META   ┆ 1          ┆ 0.25     │\n",
       "└────────────┴────────────┴─────────┴─────────────┴───┴───────────┴────────┴────────────┴──────────┘"
      ]
     },
     "execution_count": 64,
     "metadata": {},
     "output_type": "execute_result"
    }
   ],
   "source": [
    "df"
   ]
  },
  {
   "cell_type": "code",
   "execution_count": 65,
   "metadata": {},
   "outputs": [
    {
     "name": "stderr",
     "output_type": "stream",
     "text": [
      "/var/folders/b4/wn87d6495j1_vytb8m33q3mm0000gn/T/ipykernel_22931/3764980090.py:1: DeprecationWarning:\n",
      "\n",
      "`approx_n_unique` is deprecated. Use `select(pl.all().approx_n_unique())` instead.\n",
      "\n"
     ]
    },
    {
     "data": {
      "text/html": [
       "<div><style>\n",
       ".dataframe > thead > tr,\n",
       ".dataframe > tbody > tr {\n",
       "  text-align: right;\n",
       "  white-space: pre-wrap;\n",
       "}\n",
       "</style>\n",
       "<small>shape: (1, 16)</small><table border=\"1\" class=\"dataframe\"><thead><tr><th>date</th><th>exdate</th><th>cp_flag</th><th>strike_price</th><th>best_bid</th><th>best_offer</th><th>volume</th><th>open_interest</th><th>impl_volatility</th><th>delta</th><th>gamma</th><th>vega</th><th>theta</th><th>ticker</th><th>days_till_exp</th><th>bid_diff</th></tr><tr><td>u32</td><td>u32</td><td>u32</td><td>u32</td><td>u32</td><td>u32</td><td>u32</td><td>u32</td><td>u32</td><td>u32</td><td>u32</td><td>u32</td><td>u32</td><td>u32</td><td>u32</td><td>u32</td></tr></thead><tbody><tr><td>760</td><td>157</td><td>2</td><td>1744</td><td>2202</td><td>2198</td><td>19371</td><td>20136</td><td>487207</td><td>323404</td><td>84323</td><td>617898</td><td>622729</td><td>10</td><td>11</td><td>263</td></tr></tbody></table></div>"
      ],
      "text/plain": [
       "shape: (1, 16)\n",
       "┌──────┬────────┬─────────┬──────────────┬───┬────────┬────────┬───────────────┬──────────┐\n",
       "│ date ┆ exdate ┆ cp_flag ┆ strike_price ┆ … ┆ theta  ┆ ticker ┆ days_till_exp ┆ bid_diff │\n",
       "│ ---  ┆ ---    ┆ ---     ┆ ---          ┆   ┆ ---    ┆ ---    ┆ ---           ┆ ---      │\n",
       "│ u32  ┆ u32    ┆ u32     ┆ u32          ┆   ┆ u32    ┆ u32    ┆ u32           ┆ u32      │\n",
       "╞══════╪════════╪═════════╪══════════════╪═══╪════════╪════════╪═══════════════╪══════════╡\n",
       "│ 760  ┆ 157    ┆ 2       ┆ 1744         ┆ … ┆ 622729 ┆ 10     ┆ 11            ┆ 263      │\n",
       "└──────┴────────┴─────────┴──────────────┴───┴────────┴────────┴───────────────┴──────────┘"
      ]
     },
     "execution_count": 65,
     "metadata": {},
     "output_type": "execute_result"
    }
   ],
   "source": [
    "df.approx_n_unique()"
   ]
  },
  {
   "cell_type": "markdown",
   "metadata": {},
   "source": [
    "# Merging the stock prices with the options"
   ]
  },
  {
   "cell_type": "code",
   "execution_count": 66,
   "metadata": {},
   "outputs": [],
   "source": [
    "stock_path_parq = Path.cwd().parent / \"Data/Stock_data/stock_data.parquet\"\n",
    "df_stock = pl.read_parquet(stock_path_parq)\n",
    "\n",
    "# Convert Polars dataframes to pandas\n",
    "df = df.to_pandas()\n",
    "df_stock = df_stock.to_pandas()\n",
    "\n",
    "# Ensure that 'date' is a datetime object in both dataframes\n",
    "df['date'] = pd.to_datetime(df['date'])\n",
    "df_stock['date'] = pd.to_datetime(df_stock['date'])\n",
    "\n",
    "# Rename the 'TICKER' column in df_stock to 'ticker' to match df\n",
    "df_stock = df_stock.rename(columns={'TICKER': 'ticker'})\n",
    "\n",
    "# Merge 'RET' column from df_stock into df\n",
    "merged_df = pd.merge(df, df_stock[['ticker', 'date', 'PRC']], on=['ticker', 'date'], how='left')\n"
   ]
  },
  {
   "cell_type": "markdown",
   "metadata": {},
   "source": [
    "## Create the moneyness column"
   ]
  },
  {
   "cell_type": "code",
   "execution_count": 67,
   "metadata": {},
   "outputs": [
    {
     "data": {
      "text/html": [
       "<div>\n",
       "<style scoped>\n",
       "    .dataframe tbody tr th:only-of-type {\n",
       "        vertical-align: middle;\n",
       "    }\n",
       "\n",
       "    .dataframe tbody tr th {\n",
       "        vertical-align: top;\n",
       "    }\n",
       "\n",
       "    .dataframe thead th {\n",
       "        text-align: right;\n",
       "    }\n",
       "</style>\n",
       "<table border=\"1\" class=\"dataframe\">\n",
       "  <thead>\n",
       "    <tr style=\"text-align: right;\">\n",
       "      <th></th>\n",
       "      <th>date</th>\n",
       "      <th>exdate</th>\n",
       "      <th>cp_flag</th>\n",
       "      <th>strike_price</th>\n",
       "      <th>best_bid</th>\n",
       "      <th>best_offer</th>\n",
       "      <th>volume</th>\n",
       "      <th>open_interest</th>\n",
       "      <th>impl_volatility</th>\n",
       "      <th>delta</th>\n",
       "      <th>gamma</th>\n",
       "      <th>vega</th>\n",
       "      <th>theta</th>\n",
       "      <th>ticker</th>\n",
       "      <th>days_till_exp</th>\n",
       "      <th>bid_diff</th>\n",
       "      <th>PRC</th>\n",
       "      <th>moneyness</th>\n",
       "    </tr>\n",
       "  </thead>\n",
       "  <tbody>\n",
       "    <tr>\n",
       "      <th>0</th>\n",
       "      <td>2019-01-02</td>\n",
       "      <td>2019-01-04</td>\n",
       "      <td>C</td>\n",
       "      <td>1582500</td>\n",
       "      <td>5.65</td>\n",
       "      <td>5.95</td>\n",
       "      <td>179</td>\n",
       "      <td>143</td>\n",
       "      <td>0.446220</td>\n",
       "      <td>0.205993</td>\n",
       "      <td>0.005604</td>\n",
       "      <td>32.474000</td>\n",
       "      <td>-1329.2940</td>\n",
       "      <td>AMZN</td>\n",
       "      <td>2</td>\n",
       "      <td>0.30</td>\n",
       "      <td>1539.13000</td>\n",
       "      <td>0.972594</td>\n",
       "    </tr>\n",
       "    <tr>\n",
       "      <th>1</th>\n",
       "      <td>2019-01-02</td>\n",
       "      <td>2019-01-04</td>\n",
       "      <td>C</td>\n",
       "      <td>1590000</td>\n",
       "      <td>4.50</td>\n",
       "      <td>4.70</td>\n",
       "      <td>591</td>\n",
       "      <td>382</td>\n",
       "      <td>0.450833</td>\n",
       "      <td>0.170195</td>\n",
       "      <td>0.004930</td>\n",
       "      <td>28.838660</td>\n",
       "      <td>-1193.2320</td>\n",
       "      <td>AMZN</td>\n",
       "      <td>2</td>\n",
       "      <td>0.20</td>\n",
       "      <td>1539.13000</td>\n",
       "      <td>0.968006</td>\n",
       "    </tr>\n",
       "    <tr>\n",
       "      <th>2</th>\n",
       "      <td>2019-01-02</td>\n",
       "      <td>2019-01-04</td>\n",
       "      <td>C</td>\n",
       "      <td>1595000</td>\n",
       "      <td>3.70</td>\n",
       "      <td>4.00</td>\n",
       "      <td>332</td>\n",
       "      <td>138</td>\n",
       "      <td>0.450963</td>\n",
       "      <td>0.147503</td>\n",
       "      <td>0.004488</td>\n",
       "      <td>26.275670</td>\n",
       "      <td>-1086.4980</td>\n",
       "      <td>AMZN</td>\n",
       "      <td>2</td>\n",
       "      <td>0.30</td>\n",
       "      <td>1539.13000</td>\n",
       "      <td>0.964972</td>\n",
       "    </tr>\n",
       "    <tr>\n",
       "      <th>3</th>\n",
       "      <td>2019-01-02</td>\n",
       "      <td>2019-01-04</td>\n",
       "      <td>C</td>\n",
       "      <td>1600000</td>\n",
       "      <td>3.10</td>\n",
       "      <td>3.40</td>\n",
       "      <td>8173</td>\n",
       "      <td>4835</td>\n",
       "      <td>0.453011</td>\n",
       "      <td>0.128055</td>\n",
       "      <td>0.004057</td>\n",
       "      <td>23.816420</td>\n",
       "      <td>-990.8325</td>\n",
       "      <td>AMZN</td>\n",
       "      <td>2</td>\n",
       "      <td>0.30</td>\n",
       "      <td>1539.13000</td>\n",
       "      <td>0.961956</td>\n",
       "    </tr>\n",
       "    <tr>\n",
       "      <th>4</th>\n",
       "      <td>2019-01-02</td>\n",
       "      <td>2019-01-04</td>\n",
       "      <td>C</td>\n",
       "      <td>1602500</td>\n",
       "      <td>2.89</td>\n",
       "      <td>3.15</td>\n",
       "      <td>168</td>\n",
       "      <td>49</td>\n",
       "      <td>0.455694</td>\n",
       "      <td>0.119995</td>\n",
       "      <td>0.003853</td>\n",
       "      <td>22.767050</td>\n",
       "      <td>-952.2318</td>\n",
       "      <td>AMZN</td>\n",
       "      <td>2</td>\n",
       "      <td>0.26</td>\n",
       "      <td>1539.13000</td>\n",
       "      <td>0.960456</td>\n",
       "    </tr>\n",
       "    <tr>\n",
       "      <th>...</th>\n",
       "      <td>...</td>\n",
       "      <td>...</td>\n",
       "      <td>...</td>\n",
       "      <td>...</td>\n",
       "      <td>...</td>\n",
       "      <td>...</td>\n",
       "      <td>...</td>\n",
       "      <td>...</td>\n",
       "      <td>...</td>\n",
       "      <td>...</td>\n",
       "      <td>...</td>\n",
       "      <td>...</td>\n",
       "      <td>...</td>\n",
       "      <td>...</td>\n",
       "      <td>...</td>\n",
       "      <td>...</td>\n",
       "      <td>...</td>\n",
       "      <td>...</td>\n",
       "    </tr>\n",
       "    <tr>\n",
       "      <th>643567</th>\n",
       "      <td>2021-12-30</td>\n",
       "      <td>2021-12-31</td>\n",
       "      <td>P</td>\n",
       "      <td>340000</td>\n",
       "      <td>0.50</td>\n",
       "      <td>0.54</td>\n",
       "      <td>14792</td>\n",
       "      <td>4633</td>\n",
       "      <td>0.277624</td>\n",
       "      <td>-0.188135</td>\n",
       "      <td>0.053898</td>\n",
       "      <td>4.863976</td>\n",
       "      <td>-245.9593</td>\n",
       "      <td>META</td>\n",
       "      <td>1</td>\n",
       "      <td>0.04</td>\n",
       "      <td>344.35999</td>\n",
       "      <td>1.012823</td>\n",
       "    </tr>\n",
       "    <tr>\n",
       "      <th>643568</th>\n",
       "      <td>2021-12-30</td>\n",
       "      <td>2021-12-31</td>\n",
       "      <td>P</td>\n",
       "      <td>342500</td>\n",
       "      <td>1.17</td>\n",
       "      <td>1.23</td>\n",
       "      <td>7652</td>\n",
       "      <td>2223</td>\n",
       "      <td>0.278218</td>\n",
       "      <td>-0.352016</td>\n",
       "      <td>0.074000</td>\n",
       "      <td>6.688096</td>\n",
       "      <td>-338.9688</td>\n",
       "      <td>META</td>\n",
       "      <td>1</td>\n",
       "      <td>0.06</td>\n",
       "      <td>344.35999</td>\n",
       "      <td>1.005431</td>\n",
       "    </tr>\n",
       "    <tr>\n",
       "      <th>643569</th>\n",
       "      <td>2021-12-30</td>\n",
       "      <td>2021-12-31</td>\n",
       "      <td>P</td>\n",
       "      <td>345000</td>\n",
       "      <td>2.38</td>\n",
       "      <td>2.48</td>\n",
       "      <td>11159</td>\n",
       "      <td>3165</td>\n",
       "      <td>0.291361</td>\n",
       "      <td>-0.545093</td>\n",
       "      <td>0.075473</td>\n",
       "      <td>7.144706</td>\n",
       "      <td>-378.8639</td>\n",
       "      <td>META</td>\n",
       "      <td>1</td>\n",
       "      <td>0.10</td>\n",
       "      <td>344.35999</td>\n",
       "      <td>0.998145</td>\n",
       "    </tr>\n",
       "    <tr>\n",
       "      <th>643570</th>\n",
       "      <td>2021-12-30</td>\n",
       "      <td>2021-12-31</td>\n",
       "      <td>P</td>\n",
       "      <td>347500</td>\n",
       "      <td>4.10</td>\n",
       "      <td>4.30</td>\n",
       "      <td>1341</td>\n",
       "      <td>1995</td>\n",
       "      <td>0.318453</td>\n",
       "      <td>-0.703802</td>\n",
       "      <td>0.060234</td>\n",
       "      <td>6.229296</td>\n",
       "      <td>-360.8611</td>\n",
       "      <td>META</td>\n",
       "      <td>1</td>\n",
       "      <td>0.20</td>\n",
       "      <td>344.35999</td>\n",
       "      <td>0.990964</td>\n",
       "    </tr>\n",
       "    <tr>\n",
       "      <th>643571</th>\n",
       "      <td>2021-12-30</td>\n",
       "      <td>2021-12-31</td>\n",
       "      <td>P</td>\n",
       "      <td>350000</td>\n",
       "      <td>6.20</td>\n",
       "      <td>6.45</td>\n",
       "      <td>1468</td>\n",
       "      <td>2080</td>\n",
       "      <td>0.356932</td>\n",
       "      <td>-0.804971</td>\n",
       "      <td>0.042882</td>\n",
       "      <td>4.972382</td>\n",
       "      <td>-322.4008</td>\n",
       "      <td>META</td>\n",
       "      <td>1</td>\n",
       "      <td>0.25</td>\n",
       "      <td>344.35999</td>\n",
       "      <td>0.983886</td>\n",
       "    </tr>\n",
       "  </tbody>\n",
       "</table>\n",
       "<p>643572 rows × 18 columns</p>\n",
       "</div>"
      ],
      "text/plain": [
       "             date     exdate cp_flag  strike_price  best_bid  best_offer  \\\n",
       "0      2019-01-02 2019-01-04       C       1582500      5.65        5.95   \n",
       "1      2019-01-02 2019-01-04       C       1590000      4.50        4.70   \n",
       "2      2019-01-02 2019-01-04       C       1595000      3.70        4.00   \n",
       "3      2019-01-02 2019-01-04       C       1600000      3.10        3.40   \n",
       "4      2019-01-02 2019-01-04       C       1602500      2.89        3.15   \n",
       "...           ...        ...     ...           ...       ...         ...   \n",
       "643567 2021-12-30 2021-12-31       P        340000      0.50        0.54   \n",
       "643568 2021-12-30 2021-12-31       P        342500      1.17        1.23   \n",
       "643569 2021-12-30 2021-12-31       P        345000      2.38        2.48   \n",
       "643570 2021-12-30 2021-12-31       P        347500      4.10        4.30   \n",
       "643571 2021-12-30 2021-12-31       P        350000      6.20        6.45   \n",
       "\n",
       "        volume  open_interest  impl_volatility     delta     gamma       vega  \\\n",
       "0          179            143         0.446220  0.205993  0.005604  32.474000   \n",
       "1          591            382         0.450833  0.170195  0.004930  28.838660   \n",
       "2          332            138         0.450963  0.147503  0.004488  26.275670   \n",
       "3         8173           4835         0.453011  0.128055  0.004057  23.816420   \n",
       "4          168             49         0.455694  0.119995  0.003853  22.767050   \n",
       "...        ...            ...              ...       ...       ...        ...   \n",
       "643567   14792           4633         0.277624 -0.188135  0.053898   4.863976   \n",
       "643568    7652           2223         0.278218 -0.352016  0.074000   6.688096   \n",
       "643569   11159           3165         0.291361 -0.545093  0.075473   7.144706   \n",
       "643570    1341           1995         0.318453 -0.703802  0.060234   6.229296   \n",
       "643571    1468           2080         0.356932 -0.804971  0.042882   4.972382   \n",
       "\n",
       "            theta ticker  days_till_exp  bid_diff         PRC  moneyness  \n",
       "0      -1329.2940   AMZN              2      0.30  1539.13000   0.972594  \n",
       "1      -1193.2320   AMZN              2      0.20  1539.13000   0.968006  \n",
       "2      -1086.4980   AMZN              2      0.30  1539.13000   0.964972  \n",
       "3       -990.8325   AMZN              2      0.30  1539.13000   0.961956  \n",
       "4       -952.2318   AMZN              2      0.26  1539.13000   0.960456  \n",
       "...           ...    ...            ...       ...         ...        ...  \n",
       "643567  -245.9593   META              1      0.04   344.35999   1.012823  \n",
       "643568  -338.9688   META              1      0.06   344.35999   1.005431  \n",
       "643569  -378.8639   META              1      0.10   344.35999   0.998145  \n",
       "643570  -360.8611   META              1      0.20   344.35999   0.990964  \n",
       "643571  -322.4008   META              1      0.25   344.35999   0.983886  \n",
       "\n",
       "[643572 rows x 18 columns]"
      ]
     },
     "execution_count": 67,
     "metadata": {},
     "output_type": "execute_result"
    }
   ],
   "source": [
    "# Create 'moneyness' column\n",
    "merged_df['moneyness'] = merged_df['PRC'] / (merged_df['strike_price'] / 1000)\n",
    "\n",
    "merged_df"
   ]
  },
  {
   "cell_type": "markdown",
   "metadata": {},
   "source": [
    "# Create a few filters for the dataframe"
   ]
  },
  {
   "cell_type": "code",
   "execution_count": 68,
   "metadata": {},
   "outputs": [],
   "source": [
    "#Create moneyness filter\n",
    "pl_merged = pl.from_pandas(merged_df)\n",
    "\n",
    "pl_merged = pl_merged.filter((pl.col(\"moneyness\") >= moneyness_min) & (pl.col(\"moneyness\") <= moneyness_max))\n",
    "\n",
    "pd_merged = pl_merged.to_pandas()\n"
   ]
  },
  {
   "cell_type": "code",
   "execution_count": 81,
   "metadata": {},
   "outputs": [
    {
     "data": {
      "text/plain": [
       "ticker\n",
       "AMZN    137014\n",
       "BKNG      6039\n",
       "COHR       558\n",
       "COST     36996\n",
       "EXPE     25500\n",
       "META     69579\n",
       "MSFT     59484\n",
       "NVDA     81404\n",
       "TSLA    101199\n",
       "WMT      51327\n",
       "dtype: int64"
      ]
     },
     "execution_count": 81,
     "metadata": {},
     "output_type": "execute_result"
    }
   ],
   "source": [
    "# Amount of observations for the given filters\n",
    "ticker_counts = pd_merged.groupby('ticker').size()\n",
    "ticker_counts"
   ]
  },
  {
   "cell_type": "code",
   "execution_count": 70,
   "metadata": {},
   "outputs": [
    {
     "data": {
      "application/vnd.plotly.v1+json": {
       "config": {
        "plotlyServerURL": "https://plot.ly"
       },
       "data": [
        {
         "marker": {
          "color": [
           0.262926,
           0.263481,
           0.263194,
           0.263702,
           0.265246,
           0.265472,
           0.265293,
           0.266904,
           0.266047,
           0.267169,
           0.268745,
           0.269586,
           0.269897,
           0.271112,
           0.272839,
           0.273738,
           0.276898,
           0.276951,
           0.279759,
           0.281026,
           0.283673,
           0.284148,
           0.286187,
           0.288809,
           0.290415,
           0.293353,
           0.296582,
           0.298784,
           0.30129,
           0.304597,
           0.307213,
           0.309478,
           0.313232,
           0.316287,
           0.319587,
           0.321551,
           0.324305,
           0.3249,
           0.328965,
           0.332207,
           0.335247,
           0.3396,
           0.34386,
           0.346384,
           0.348656,
           0.354304,
           0.358108,
           0.365382,
           0.367677,
           0.381878,
           0.398409,
           0.402164,
           0.398048,
           0.414637,
           0.42125,
           0.429877,
           0.429372,
           0.462891,
           0.451676,
           0.459816,
           0.499873,
           0.477137,
           0.541883,
           0.563106,
           0.560383,
           0.606057,
           0.680126,
           0.73767,
           0.236264,
           0.236838,
           0.236795,
           0.237411,
           0.237102,
           0.237844,
           0.238344,
           0.238222,
           0.238928,
           0.239389,
           0.240354,
           0.241762,
           0.242098,
           0.243112,
           0.24344,
           0.244517,
           0.245816,
           0.246943,
           0.246881,
           0.248299,
           0.248836,
           0.250537,
           0.25093,
           0.252319,
           0.253279,
           0.254505,
           0.255735,
           0.256819,
           0.258241,
           0.260715,
           0.260157,
           0.261143,
           0.26274,
           0.264032,
           0.265199,
           0.266447,
           0.268238,
           0.269487,
           0.270375,
           0.27111,
           0.272463,
           0.273977,
           0.276135,
           0.281589,
           0.284444,
           0.288096,
           0.335289,
           0.354378,
           0.372732,
           0.88784,
           0.860171,
           0.790937,
           0.781678,
           0.797924,
           0.678061,
           0.752008,
           0.671132,
           0.686317,
           0.68774,
           0.672118,
           0.653071,
           0.665396,
           0.649284,
           0.636737,
           0.626744,
           0.625294,
           0.625029,
           0.602384,
           0.57898,
           0.587217,
           0.59158,
           0.578136,
           0.553974,
           0.568802,
           0.565698,
           0.560844,
           0.55594,
           0.545979,
           0.542358,
           0.535827,
           0.52549,
           0.521552,
           0.517491,
           0.513313,
           0.506688,
           0.497965,
           0.485669,
           0.486762,
           0.488091,
           0.465849,
           0.459244,
           0.46588,
           0.457227,
           0.456012,
           0.450964,
           0.449962,
           0.434747,
           0.43696,
           0.430054,
           0.425402,
           0.419193,
           0.41006,
           0.409449,
           0.400403,
           0.396732,
           0.394101,
           0.387603,
           0.383994,
           0.378506,
           0.370751,
           0.369854,
           0.36502,
           0.360511,
           0.356277,
           0.351844,
           0.347224,
           0.342425,
           0.339695,
           0.335178,
           0.333446,
           0.327758,
           0.323155,
           0.32149,
           0.317406,
           0.315065,
           0.311749,
           0.308491,
           0.305686,
           0.30343,
           0.29968,
           0.297879,
           0.294788,
           0.292841,
           0.290591,
           0.289037,
           0.285831,
           0.28471,
           0.282853,
           0.280301,
           0.278803,
           0.27766,
           0.276267,
           0.274588,
           0.273098,
           0.27222,
           0.270954,
           0.270162,
           0.268941,
           0.268979,
           0.267688,
           0.266096,
           0.608063,
           0.536177,
           0.501248,
           0.498662,
           0.487953,
           0.475188,
           0.450712,
           0.438823,
           0.432186,
           0.41883,
           0.404527,
           0.377629,
           0.36747,
           0.361938,
           0.356558,
           0.353949,
           0.351289,
           0.348575,
           0.346378,
           0.341218,
           0.338289,
           0.336081,
           0.331428,
           0.328759,
           0.326484,
           0.324129,
           0.321908,
           0.318977,
           0.317603,
           0.315308,
           0.313112,
           0.311002,
           0.308969,
           0.306828,
           0.304588,
           0.302251,
           0.300599,
           0.298506,
           0.296587,
           0.2951,
           0.293317,
           0.291,
           0.289209,
           0.287766,
           0.286159,
           0.284166,
           0.283031,
           0.280631,
           0.279147,
           0.277986,
           0.276144,
           0.274616,
           0.272913,
           0.271921,
           0.270708,
           0.269284,
           0.268056,
           0.266614,
           0.265346,
           0.264232,
           0.262896,
           0.262028,
           0.260581,
           0.259886,
           0.258621,
           0.258051,
           0.256925,
           0.256141,
           0.255095,
           0.254348,
           0.253329,
           0.252588,
           0.25108,
           0.249718,
           0.247513
          ],
          "colorscale": [
           [
            0,
            "#440154"
           ],
           [
            0.1111111111111111,
            "#482878"
           ],
           [
            0.2222222222222222,
            "#3e4989"
           ],
           [
            0.3333333333333333,
            "#31688e"
           ],
           [
            0.4444444444444444,
            "#26828e"
           ],
           [
            0.5555555555555556,
            "#1f9e89"
           ],
           [
            0.6666666666666666,
            "#35b779"
           ],
           [
            0.7777777777777778,
            "#6ece58"
           ],
           [
            0.8888888888888888,
            "#b5de2b"
           ],
           [
            1,
            "#fde725"
           ]
          ],
          "opacity": 0.8,
          "size": 3
         },
         "mode": "markers",
         "type": "scatter3d",
         "x": [
          0.991195488045007,
          0.9898033595505618,
          0.9870308011204482,
          0.9856503384615385,
          0.9842737318435754,
          0.9829009651324965,
          0.9815320222841225,
          0.9801668873435326,
          0.9788055444444445,
          0.9774479778085992,
          0.9760941717451523,
          0.9747441106500692,
          0.9733977790055248,
          0.9720551613793104,
          0.9707162424242424,
          0.9693810068775791,
          0.9680494395604395,
          0.9667215253772291,
          0.9653972493150684,
          0.9640765964432284,
          0.9627595519125682,
          0.9614461009549795,
          0.9601362288828338,
          0.9588299210884353,
          0.9575271630434783,
          0.9562279402985074,
          0.9549322384823848,
          0.9536400433017591,
          0.9523513405405405,
          0.9510661160593792,
          0.9497843557951482,
          0.9485060457604306,
          0.9472311720430108,
          0.945959720805369,
          0.9446916782841823,
          0.9434270307898259,
          0.9421657647058823,
          0.9409078664886515,
          0.9396533226666667,
          0.938402119840213,
          0.9371542446808511,
          0.9359096839309429,
          0.934668424403183,
          0.9334304529801324,
          0.9321957566137566,
          0.930964322324967,
          0.9297361372031662,
          0.9272894631578947,
          0.9248556325459317,
          0.9224345445026177,
          0.9176301979166667,
          0.9152467428571428,
          0.9128756373056994,
          0.9116946856403622,
          0.9105167855297157,
          0.9081700927835051,
          0.9035128102564103,
          0.8989030510204081,
          0.8943400913705584,
          0.8898232222222222,
          0.8853517487437186,
          0.88092499,
          0.8765422786069652,
          0.8552669805825243,
          0.8511352560386474,
          0.8389761809523809,
          0.8194651069767441,
          0.804497707762557,
          0.9733977790055248,
          0.9667215253772291,
          0.9653972493150684,
          0.9640765964432284,
          0.9627595519125682,
          0.9614461009549795,
          0.9601362288828338,
          0.9588299210884353,
          0.9575271630434783,
          0.9562279402985074,
          0.9536400433017591,
          0.9523513405405405,
          0.9510661160593792,
          0.9497843557951482,
          0.9485060457604306,
          0.9472311720430108,
          0.945959720805369,
          0.9446916782841823,
          0.9434270307898259,
          0.9421657647058823,
          0.9409078664886515,
          0.9396533226666667,
          0.938402119840213,
          0.9371542446808511,
          0.9359096839309429,
          0.934668424403183,
          0.9334304529801324,
          0.9321957566137566,
          0.930964322324967,
          0.9297361372031662,
          0.928511188405797,
          0.9272894631578947,
          0.9260709487516425,
          0.9248556325459317,
          0.9236435019659239,
          0.9224345445026177,
          0.9212287477124182,
          0.9200260992167102,
          0.9188265867014341,
          0.9176301979166667,
          0.9164369206762029,
          0.9152467428571428,
          0.9128756373056994,
          0.9081700927835051,
          0.9058354652956297,
          0.9035128102564103,
          0.86790639408867,
          0.8470432596153846,
          0.8389761809523809,
          1.3050740592592591,
          1.2860218832116788,
          1.2584642714285714,
          1.2495389929078013,
          1.2235069305555555,
          1.215068951724138,
          1.2067465616438355,
          1.198537401360544,
          1.1904391756756756,
          1.1824496510067113,
          1.176527532554257,
          1.1745666533333332,
          1.172612299500832,
          1.1667880662251655,
          1.1629372805280527,
          1.1591118289473683,
          1.1572085254515598,
          1.151535934640523,
          1.147785003257329,
          1.1440584285714286,
          1.1422042009724473,
          1.1403559741100324,
          1.138513718901454,
          1.136677406451613,
          1.1348470080515298,
          1.1330224951768488,
          1.1312038394863564,
          1.1293910128205127,
          1.125782734824281,
          1.1239872280701755,
          1.122197439490446,
          1.1186349079365079,
          1.1168621109350239,
          1.115094924050633,
          1.1133333206951026,
          1.1115772744479495,
          1.108081748427673,
          1.1063422166405024,
          1.1046081379310344,
          1.1028794866979656,
          1.1011562375,
          1.0994383650546022,
          1.0977258442367601,
          1.0960186500777604,
          1.0943167577639752,
          1.092620142635659,
          1.0909287801857586,
          1.0892426460587326,
          1.0875617160493827,
          1.0858859661016949,
          1.0842153723076924,
          1.082549910906298,
          1.0808895582822087,
          1.0792342909647779,
          1.0775840856269112,
          1.0759389190839694,
          1.074298768292683,
          1.0726636103500762,
          1.0710334224924012,
          1.069408182094082,
          1.0677878666666667,
          1.0661724538577912,
          1.064561921450151,
          1.0629562473604826,
          1.0613554096385542,
          1.0597593864661654,
          1.0581681561561562,
          1.0565816971514244,
          1.054999988023952,
          1.0534230074738415,
          1.0518507343283583,
          1.0502831475409835,
          1.0487202261904762,
          1.0471619494799405,
          1.045608296735905,
          1.0440592474074073,
          1.0425147810650888,
          1.0409748774002954,
          1.0394395162241887,
          1.037908677466863,
          1.0363823411764705,
          1.0348604875183554,
          1.0333430967741934,
          1.031830149341142,
          1.0303216257309942,
          1.028817506569343,
          1.0273177725947522,
          1.025822404657933,
          1.0243313837209302,
          1.0228446908563136,
          1.0213623072463769,
          1.0198842141823443,
          1.0184103930635837,
          1.0169408253968253,
          1.015475492795389,
          1.0140143769784173,
          1.012557459770115,
          1.0111047230989956,
          1.0096561489971347,
          1.0082117195994278,
          1.0067714171428572,
          1.0024750953058321,
          1.3148134179104478,
          1.2584642714285714,
          1.2320629230769231,
          1.2235069305555555,
          1.215068951724138,
          1.2067465616438355,
          1.1904391756756756,
          1.1824496510067113,
          1.1745666533333332,
          1.1667880662251655,
          1.155311462295082,
          1.136677406451613,
          1.1293910128205127,
          1.125782734824281,
          1.122197439490446,
          1.1204133418124007,
          1.1186349079365079,
          1.1168621109350239,
          1.115094924050633,
          1.1115772744479495,
          1.109826759055118,
          1.108081748427673,
          1.1046081379310344,
          1.1028794866979656,
          1.1011562375,
          1.0994383650546022,
          1.0977258442367601,
          1.0960186500777604,
          1.0943167577639752,
          1.092620142635659,
          1.0909287801857586,
          1.0892426460587326,
          1.0875617160493827,
          1.0858859661016949,
          1.0842153723076924,
          1.082549910906298,
          1.0808895582822087,
          1.0792342909647779,
          1.0775840856269112,
          1.0759389190839694,
          1.074298768292683,
          1.0726636103500762,
          1.0710334224924012,
          1.069408182094082,
          1.0677878666666667,
          1.0661724538577912,
          1.064561921450151,
          1.0629562473604826,
          1.0613554096385542,
          1.0597593864661654,
          1.0581681561561562,
          1.0565816971514244,
          1.054999988023952,
          1.0534230074738415,
          1.0518507343283583,
          1.0502831475409835,
          1.0487202261904762,
          1.0471619494799405,
          1.045608296735905,
          1.0440592474074073,
          1.0425147810650888,
          1.0409748774002954,
          1.0394395162241887,
          1.037908677466863,
          1.0363823411764705,
          1.0348604875183554,
          1.0333430967741934,
          1.031830149341142,
          1.0303216257309942,
          1.028817506569343,
          1.0273177725947522,
          1.025822404657933,
          1.0228446908563136,
          1.0198842141823443,
          1.015475492795389
         ],
         "y": [
          3,
          3,
          3,
          3,
          3,
          3,
          3,
          3,
          3,
          3,
          3,
          3,
          3,
          3,
          3,
          3,
          3,
          3,
          3,
          3,
          3,
          3,
          3,
          3,
          3,
          3,
          3,
          3,
          3,
          3,
          3,
          3,
          3,
          3,
          3,
          3,
          3,
          3,
          3,
          3,
          3,
          3,
          3,
          3,
          3,
          3,
          3,
          3,
          3,
          3,
          3,
          3,
          3,
          3,
          3,
          3,
          3,
          3,
          3,
          3,
          3,
          3,
          3,
          3,
          3,
          3,
          3,
          3,
          10,
          10,
          10,
          10,
          10,
          10,
          10,
          10,
          10,
          10,
          10,
          10,
          10,
          10,
          10,
          10,
          10,
          10,
          10,
          10,
          10,
          10,
          10,
          10,
          10,
          10,
          10,
          10,
          10,
          10,
          10,
          10,
          10,
          10,
          10,
          10,
          10,
          10,
          10,
          10,
          10,
          10,
          10,
          10,
          10,
          10,
          10,
          10,
          10,
          3,
          3,
          3,
          3,
          3,
          3,
          3,
          3,
          3,
          3,
          3,
          3,
          3,
          3,
          3,
          3,
          3,
          3,
          3,
          3,
          3,
          3,
          3,
          3,
          3,
          3,
          3,
          3,
          3,
          3,
          3,
          3,
          3,
          3,
          3,
          3,
          3,
          3,
          3,
          3,
          3,
          3,
          3,
          3,
          3,
          3,
          3,
          3,
          3,
          3,
          3,
          3,
          3,
          3,
          3,
          3,
          3,
          3,
          3,
          3,
          3,
          3,
          3,
          3,
          3,
          3,
          3,
          3,
          3,
          3,
          3,
          3,
          3,
          3,
          3,
          3,
          3,
          3,
          3,
          3,
          3,
          3,
          3,
          3,
          3,
          3,
          3,
          3,
          3,
          3,
          3,
          3,
          3,
          3,
          3,
          3,
          3,
          3,
          3,
          3,
          3,
          3,
          10,
          10,
          10,
          10,
          10,
          10,
          10,
          10,
          10,
          10,
          10,
          10,
          10,
          10,
          10,
          10,
          10,
          10,
          10,
          10,
          10,
          10,
          10,
          10,
          10,
          10,
          10,
          10,
          10,
          10,
          10,
          10,
          10,
          10,
          10,
          10,
          10,
          10,
          10,
          10,
          10,
          10,
          10,
          10,
          10,
          10,
          10,
          10,
          10,
          10,
          10,
          10,
          10,
          10,
          10,
          10,
          10,
          10,
          10,
          10,
          10,
          10,
          10,
          10,
          10,
          10,
          10,
          10,
          10,
          10,
          10,
          10,
          10,
          10,
          10
         ],
         "z": [
          0.262926,
          0.263481,
          0.263194,
          0.263702,
          0.265246,
          0.265472,
          0.265293,
          0.266904,
          0.266047,
          0.267169,
          0.268745,
          0.269586,
          0.269897,
          0.271112,
          0.272839,
          0.273738,
          0.276898,
          0.276951,
          0.279759,
          0.281026,
          0.283673,
          0.284148,
          0.286187,
          0.288809,
          0.290415,
          0.293353,
          0.296582,
          0.298784,
          0.30129,
          0.304597,
          0.307213,
          0.309478,
          0.313232,
          0.316287,
          0.319587,
          0.321551,
          0.324305,
          0.3249,
          0.328965,
          0.332207,
          0.335247,
          0.3396,
          0.34386,
          0.346384,
          0.348656,
          0.354304,
          0.358108,
          0.365382,
          0.367677,
          0.381878,
          0.398409,
          0.402164,
          0.398048,
          0.414637,
          0.42125,
          0.429877,
          0.429372,
          0.462891,
          0.451676,
          0.459816,
          0.499873,
          0.477137,
          0.541883,
          0.563106,
          0.560383,
          0.606057,
          0.680126,
          0.73767,
          0.236264,
          0.236838,
          0.236795,
          0.237411,
          0.237102,
          0.237844,
          0.238344,
          0.238222,
          0.238928,
          0.239389,
          0.240354,
          0.241762,
          0.242098,
          0.243112,
          0.24344,
          0.244517,
          0.245816,
          0.246943,
          0.246881,
          0.248299,
          0.248836,
          0.250537,
          0.25093,
          0.252319,
          0.253279,
          0.254505,
          0.255735,
          0.256819,
          0.258241,
          0.260715,
          0.260157,
          0.261143,
          0.26274,
          0.264032,
          0.265199,
          0.266447,
          0.268238,
          0.269487,
          0.270375,
          0.27111,
          0.272463,
          0.273977,
          0.276135,
          0.281589,
          0.284444,
          0.288096,
          0.335289,
          0.354378,
          0.372732,
          0.88784,
          0.860171,
          0.790937,
          0.781678,
          0.797924,
          0.678061,
          0.752008,
          0.671132,
          0.686317,
          0.68774,
          0.672118,
          0.653071,
          0.665396,
          0.649284,
          0.636737,
          0.626744,
          0.625294,
          0.625029,
          0.602384,
          0.57898,
          0.587217,
          0.59158,
          0.578136,
          0.553974,
          0.568802,
          0.565698,
          0.560844,
          0.55594,
          0.545979,
          0.542358,
          0.535827,
          0.52549,
          0.521552,
          0.517491,
          0.513313,
          0.506688,
          0.497965,
          0.485669,
          0.486762,
          0.488091,
          0.465849,
          0.459244,
          0.46588,
          0.457227,
          0.456012,
          0.450964,
          0.449962,
          0.434747,
          0.43696,
          0.430054,
          0.425402,
          0.419193,
          0.41006,
          0.409449,
          0.400403,
          0.396732,
          0.394101,
          0.387603,
          0.383994,
          0.378506,
          0.370751,
          0.369854,
          0.36502,
          0.360511,
          0.356277,
          0.351844,
          0.347224,
          0.342425,
          0.339695,
          0.335178,
          0.333446,
          0.327758,
          0.323155,
          0.32149,
          0.317406,
          0.315065,
          0.311749,
          0.308491,
          0.305686,
          0.30343,
          0.29968,
          0.297879,
          0.294788,
          0.292841,
          0.290591,
          0.289037,
          0.285831,
          0.28471,
          0.282853,
          0.280301,
          0.278803,
          0.27766,
          0.276267,
          0.274588,
          0.273098,
          0.27222,
          0.270954,
          0.270162,
          0.268941,
          0.268979,
          0.267688,
          0.266096,
          0.608063,
          0.536177,
          0.501248,
          0.498662,
          0.487953,
          0.475188,
          0.450712,
          0.438823,
          0.432186,
          0.41883,
          0.404527,
          0.377629,
          0.36747,
          0.361938,
          0.356558,
          0.353949,
          0.351289,
          0.348575,
          0.346378,
          0.341218,
          0.338289,
          0.336081,
          0.331428,
          0.328759,
          0.326484,
          0.324129,
          0.321908,
          0.318977,
          0.317603,
          0.315308,
          0.313112,
          0.311002,
          0.308969,
          0.306828,
          0.304588,
          0.302251,
          0.300599,
          0.298506,
          0.296587,
          0.2951,
          0.293317,
          0.291,
          0.289209,
          0.287766,
          0.286159,
          0.284166,
          0.283031,
          0.280631,
          0.279147,
          0.277986,
          0.276144,
          0.274616,
          0.272913,
          0.271921,
          0.270708,
          0.269284,
          0.268056,
          0.266614,
          0.265346,
          0.264232,
          0.262896,
          0.262028,
          0.260581,
          0.259886,
          0.258621,
          0.258051,
          0.256925,
          0.256141,
          0.255095,
          0.254348,
          0.253329,
          0.252588,
          0.25108,
          0.249718,
          0.247513
         ]
        }
       ],
       "layout": {
        "margin": {
         "b": 10,
         "l": 10,
         "r": 20,
         "t": 10
        },
        "scene": {
         "xaxis": {
          "title": {
           "text": "Moneyness"
          }
         },
         "yaxis": {
          "title": {
           "text": "Days till Expiry"
          }
         },
         "zaxis": {
          "title": {
           "text": "Implied Volatility"
          }
         }
        },
        "template": {
         "data": {
          "bar": [
           {
            "error_x": {
             "color": "#2a3f5f"
            },
            "error_y": {
             "color": "#2a3f5f"
            },
            "marker": {
             "line": {
              "color": "#E5ECF6",
              "width": 0.5
             },
             "pattern": {
              "fillmode": "overlay",
              "size": 10,
              "solidity": 0.2
             }
            },
            "type": "bar"
           }
          ],
          "barpolar": [
           {
            "marker": {
             "line": {
              "color": "#E5ECF6",
              "width": 0.5
             },
             "pattern": {
              "fillmode": "overlay",
              "size": 10,
              "solidity": 0.2
             }
            },
            "type": "barpolar"
           }
          ],
          "carpet": [
           {
            "aaxis": {
             "endlinecolor": "#2a3f5f",
             "gridcolor": "white",
             "linecolor": "white",
             "minorgridcolor": "white",
             "startlinecolor": "#2a3f5f"
            },
            "baxis": {
             "endlinecolor": "#2a3f5f",
             "gridcolor": "white",
             "linecolor": "white",
             "minorgridcolor": "white",
             "startlinecolor": "#2a3f5f"
            },
            "type": "carpet"
           }
          ],
          "choropleth": [
           {
            "colorbar": {
             "outlinewidth": 0,
             "ticks": ""
            },
            "type": "choropleth"
           }
          ],
          "contour": [
           {
            "colorbar": {
             "outlinewidth": 0,
             "ticks": ""
            },
            "colorscale": [
             [
              0,
              "#0d0887"
             ],
             [
              0.1111111111111111,
              "#46039f"
             ],
             [
              0.2222222222222222,
              "#7201a8"
             ],
             [
              0.3333333333333333,
              "#9c179e"
             ],
             [
              0.4444444444444444,
              "#bd3786"
             ],
             [
              0.5555555555555556,
              "#d8576b"
             ],
             [
              0.6666666666666666,
              "#ed7953"
             ],
             [
              0.7777777777777778,
              "#fb9f3a"
             ],
             [
              0.8888888888888888,
              "#fdca26"
             ],
             [
              1,
              "#f0f921"
             ]
            ],
            "type": "contour"
           }
          ],
          "contourcarpet": [
           {
            "colorbar": {
             "outlinewidth": 0,
             "ticks": ""
            },
            "type": "contourcarpet"
           }
          ],
          "heatmap": [
           {
            "colorbar": {
             "outlinewidth": 0,
             "ticks": ""
            },
            "colorscale": [
             [
              0,
              "#0d0887"
             ],
             [
              0.1111111111111111,
              "#46039f"
             ],
             [
              0.2222222222222222,
              "#7201a8"
             ],
             [
              0.3333333333333333,
              "#9c179e"
             ],
             [
              0.4444444444444444,
              "#bd3786"
             ],
             [
              0.5555555555555556,
              "#d8576b"
             ],
             [
              0.6666666666666666,
              "#ed7953"
             ],
             [
              0.7777777777777778,
              "#fb9f3a"
             ],
             [
              0.8888888888888888,
              "#fdca26"
             ],
             [
              1,
              "#f0f921"
             ]
            ],
            "type": "heatmap"
           }
          ],
          "heatmapgl": [
           {
            "colorbar": {
             "outlinewidth": 0,
             "ticks": ""
            },
            "colorscale": [
             [
              0,
              "#0d0887"
             ],
             [
              0.1111111111111111,
              "#46039f"
             ],
             [
              0.2222222222222222,
              "#7201a8"
             ],
             [
              0.3333333333333333,
              "#9c179e"
             ],
             [
              0.4444444444444444,
              "#bd3786"
             ],
             [
              0.5555555555555556,
              "#d8576b"
             ],
             [
              0.6666666666666666,
              "#ed7953"
             ],
             [
              0.7777777777777778,
              "#fb9f3a"
             ],
             [
              0.8888888888888888,
              "#fdca26"
             ],
             [
              1,
              "#f0f921"
             ]
            ],
            "type": "heatmapgl"
           }
          ],
          "histogram": [
           {
            "marker": {
             "pattern": {
              "fillmode": "overlay",
              "size": 10,
              "solidity": 0.2
             }
            },
            "type": "histogram"
           }
          ],
          "histogram2d": [
           {
            "colorbar": {
             "outlinewidth": 0,
             "ticks": ""
            },
            "colorscale": [
             [
              0,
              "#0d0887"
             ],
             [
              0.1111111111111111,
              "#46039f"
             ],
             [
              0.2222222222222222,
              "#7201a8"
             ],
             [
              0.3333333333333333,
              "#9c179e"
             ],
             [
              0.4444444444444444,
              "#bd3786"
             ],
             [
              0.5555555555555556,
              "#d8576b"
             ],
             [
              0.6666666666666666,
              "#ed7953"
             ],
             [
              0.7777777777777778,
              "#fb9f3a"
             ],
             [
              0.8888888888888888,
              "#fdca26"
             ],
             [
              1,
              "#f0f921"
             ]
            ],
            "type": "histogram2d"
           }
          ],
          "histogram2dcontour": [
           {
            "colorbar": {
             "outlinewidth": 0,
             "ticks": ""
            },
            "colorscale": [
             [
              0,
              "#0d0887"
             ],
             [
              0.1111111111111111,
              "#46039f"
             ],
             [
              0.2222222222222222,
              "#7201a8"
             ],
             [
              0.3333333333333333,
              "#9c179e"
             ],
             [
              0.4444444444444444,
              "#bd3786"
             ],
             [
              0.5555555555555556,
              "#d8576b"
             ],
             [
              0.6666666666666666,
              "#ed7953"
             ],
             [
              0.7777777777777778,
              "#fb9f3a"
             ],
             [
              0.8888888888888888,
              "#fdca26"
             ],
             [
              1,
              "#f0f921"
             ]
            ],
            "type": "histogram2dcontour"
           }
          ],
          "mesh3d": [
           {
            "colorbar": {
             "outlinewidth": 0,
             "ticks": ""
            },
            "type": "mesh3d"
           }
          ],
          "parcoords": [
           {
            "line": {
             "colorbar": {
              "outlinewidth": 0,
              "ticks": ""
             }
            },
            "type": "parcoords"
           }
          ],
          "pie": [
           {
            "automargin": true,
            "type": "pie"
           }
          ],
          "scatter": [
           {
            "fillpattern": {
             "fillmode": "overlay",
             "size": 10,
             "solidity": 0.2
            },
            "type": "scatter"
           }
          ],
          "scatter3d": [
           {
            "line": {
             "colorbar": {
              "outlinewidth": 0,
              "ticks": ""
             }
            },
            "marker": {
             "colorbar": {
              "outlinewidth": 0,
              "ticks": ""
             }
            },
            "type": "scatter3d"
           }
          ],
          "scattercarpet": [
           {
            "marker": {
             "colorbar": {
              "outlinewidth": 0,
              "ticks": ""
             }
            },
            "type": "scattercarpet"
           }
          ],
          "scattergeo": [
           {
            "marker": {
             "colorbar": {
              "outlinewidth": 0,
              "ticks": ""
             }
            },
            "type": "scattergeo"
           }
          ],
          "scattergl": [
           {
            "marker": {
             "colorbar": {
              "outlinewidth": 0,
              "ticks": ""
             }
            },
            "type": "scattergl"
           }
          ],
          "scattermapbox": [
           {
            "marker": {
             "colorbar": {
              "outlinewidth": 0,
              "ticks": ""
             }
            },
            "type": "scattermapbox"
           }
          ],
          "scatterpolar": [
           {
            "marker": {
             "colorbar": {
              "outlinewidth": 0,
              "ticks": ""
             }
            },
            "type": "scatterpolar"
           }
          ],
          "scatterpolargl": [
           {
            "marker": {
             "colorbar": {
              "outlinewidth": 0,
              "ticks": ""
             }
            },
            "type": "scatterpolargl"
           }
          ],
          "scatterternary": [
           {
            "marker": {
             "colorbar": {
              "outlinewidth": 0,
              "ticks": ""
             }
            },
            "type": "scatterternary"
           }
          ],
          "surface": [
           {
            "colorbar": {
             "outlinewidth": 0,
             "ticks": ""
            },
            "colorscale": [
             [
              0,
              "#0d0887"
             ],
             [
              0.1111111111111111,
              "#46039f"
             ],
             [
              0.2222222222222222,
              "#7201a8"
             ],
             [
              0.3333333333333333,
              "#9c179e"
             ],
             [
              0.4444444444444444,
              "#bd3786"
             ],
             [
              0.5555555555555556,
              "#d8576b"
             ],
             [
              0.6666666666666666,
              "#ed7953"
             ],
             [
              0.7777777777777778,
              "#fb9f3a"
             ],
             [
              0.8888888888888888,
              "#fdca26"
             ],
             [
              1,
              "#f0f921"
             ]
            ],
            "type": "surface"
           }
          ],
          "table": [
           {
            "cells": {
             "fill": {
              "color": "#EBF0F8"
             },
             "line": {
              "color": "white"
             }
            },
            "header": {
             "fill": {
              "color": "#C8D4E3"
             },
             "line": {
              "color": "white"
             }
            },
            "type": "table"
           }
          ]
         },
         "layout": {
          "annotationdefaults": {
           "arrowcolor": "#2a3f5f",
           "arrowhead": 0,
           "arrowwidth": 1
          },
          "autotypenumbers": "strict",
          "coloraxis": {
           "colorbar": {
            "outlinewidth": 0,
            "ticks": ""
           }
          },
          "colorscale": {
           "diverging": [
            [
             0,
             "#8e0152"
            ],
            [
             0.1,
             "#c51b7d"
            ],
            [
             0.2,
             "#de77ae"
            ],
            [
             0.3,
             "#f1b6da"
            ],
            [
             0.4,
             "#fde0ef"
            ],
            [
             0.5,
             "#f7f7f7"
            ],
            [
             0.6,
             "#e6f5d0"
            ],
            [
             0.7,
             "#b8e186"
            ],
            [
             0.8,
             "#7fbc41"
            ],
            [
             0.9,
             "#4d9221"
            ],
            [
             1,
             "#276419"
            ]
           ],
           "sequential": [
            [
             0,
             "#0d0887"
            ],
            [
             0.1111111111111111,
             "#46039f"
            ],
            [
             0.2222222222222222,
             "#7201a8"
            ],
            [
             0.3333333333333333,
             "#9c179e"
            ],
            [
             0.4444444444444444,
             "#bd3786"
            ],
            [
             0.5555555555555556,
             "#d8576b"
            ],
            [
             0.6666666666666666,
             "#ed7953"
            ],
            [
             0.7777777777777778,
             "#fb9f3a"
            ],
            [
             0.8888888888888888,
             "#fdca26"
            ],
            [
             1,
             "#f0f921"
            ]
           ],
           "sequentialminus": [
            [
             0,
             "#0d0887"
            ],
            [
             0.1111111111111111,
             "#46039f"
            ],
            [
             0.2222222222222222,
             "#7201a8"
            ],
            [
             0.3333333333333333,
             "#9c179e"
            ],
            [
             0.4444444444444444,
             "#bd3786"
            ],
            [
             0.5555555555555556,
             "#d8576b"
            ],
            [
             0.6666666666666666,
             "#ed7953"
            ],
            [
             0.7777777777777778,
             "#fb9f3a"
            ],
            [
             0.8888888888888888,
             "#fdca26"
            ],
            [
             1,
             "#f0f921"
            ]
           ]
          },
          "colorway": [
           "#636efa",
           "#EF553B",
           "#00cc96",
           "#ab63fa",
           "#FFA15A",
           "#19d3f3",
           "#FF6692",
           "#B6E880",
           "#FF97FF",
           "#FECB52"
          ],
          "font": {
           "color": "#2a3f5f"
          },
          "geo": {
           "bgcolor": "white",
           "lakecolor": "white",
           "landcolor": "#E5ECF6",
           "showlakes": true,
           "showland": true,
           "subunitcolor": "white"
          },
          "hoverlabel": {
           "align": "left"
          },
          "hovermode": "closest",
          "mapbox": {
           "style": "light"
          },
          "paper_bgcolor": "white",
          "plot_bgcolor": "#E5ECF6",
          "polar": {
           "angularaxis": {
            "gridcolor": "white",
            "linecolor": "white",
            "ticks": ""
           },
           "bgcolor": "#E5ECF6",
           "radialaxis": {
            "gridcolor": "white",
            "linecolor": "white",
            "ticks": ""
           }
          },
          "scene": {
           "xaxis": {
            "backgroundcolor": "#E5ECF6",
            "gridcolor": "white",
            "gridwidth": 2,
            "linecolor": "white",
            "showbackground": true,
            "ticks": "",
            "zerolinecolor": "white"
           },
           "yaxis": {
            "backgroundcolor": "#E5ECF6",
            "gridcolor": "white",
            "gridwidth": 2,
            "linecolor": "white",
            "showbackground": true,
            "ticks": "",
            "zerolinecolor": "white"
           },
           "zaxis": {
            "backgroundcolor": "#E5ECF6",
            "gridcolor": "white",
            "gridwidth": 2,
            "linecolor": "white",
            "showbackground": true,
            "ticks": "",
            "zerolinecolor": "white"
           }
          },
          "shapedefaults": {
           "line": {
            "color": "#2a3f5f"
           }
          },
          "ternary": {
           "aaxis": {
            "gridcolor": "white",
            "linecolor": "white",
            "ticks": ""
           },
           "baxis": {
            "gridcolor": "white",
            "linecolor": "white",
            "ticks": ""
           },
           "bgcolor": "#E5ECF6",
           "caxis": {
            "gridcolor": "white",
            "linecolor": "white",
            "ticks": ""
           }
          },
          "title": {
           "x": 0.05
          },
          "xaxis": {
           "automargin": true,
           "gridcolor": "white",
           "linecolor": "white",
           "ticks": "",
           "title": {
            "standoff": 15
           },
           "zerolinecolor": "white",
           "zerolinewidth": 2
          },
          "yaxis": {
           "automargin": true,
           "gridcolor": "white",
           "linecolor": "white",
           "ticks": "",
           "title": {
            "standoff": 15
           },
           "zerolinecolor": "white",
           "zerolinewidth": 2
          }
         }
        },
        "width": 700
       }
      }
     },
     "metadata": {},
     "output_type": "display_data"
    }
   ],
   "source": [
    "import pandas as pd\n",
    "import plotly.graph_objects as go\n",
    "\n",
    "# Convert the string to a pandas Timestamp\n",
    "date = pd.Timestamp('2019-03-19')\n",
    "\n",
    "# Filter the DataFrame for the 'NVDA' ticker and the specific date\n",
    "df_nvda = pd_merged[(pd_merged['ticker'] == 'AMZN') & (pd_merged['date'] == date)]\n",
    "# df_nvda = pd_merged[pd_merged['ticker'] == 'TSLA']\n",
    "# Create a 3D scatter plot\n",
    "fig = go.Figure(data=[go.Scatter3d(\n",
    "    x=df_nvda['moneyness'],\n",
    "    y=df_nvda['days_till_exp'],\n",
    "    z=df_nvda['impl_volatility'],\n",
    "    mode='markers',\n",
    "    marker=dict(\n",
    "        size=3,\n",
    "        color=df_nvda['impl_volatility'],  # set color to an array/list of desired values\n",
    "        colorscale='Viridis',   # choose a colorscale\n",
    "        opacity=0.8\n",
    "    )\n",
    ")])\n",
    "\n",
    "# Set labels\n",
    "fig.update_layout(scene = dict(\n",
    "                    xaxis_title='Moneyness',\n",
    "                    yaxis_title='Days till Expiry',\n",
    "                    zaxis_title='Implied Volatility'),\n",
    "                    width=700,\n",
    "                    margin=dict(r=20, b=10, l=10, t=10))\n",
    "\n",
    "fig.show()"
   ]
  },
  {
   "cell_type": "code",
   "execution_count": 82,
   "metadata": {},
   "outputs": [
    {
     "data": {
      "application/vnd.plotly.v1+json": {
       "config": {
        "plotlyServerURL": "https://plot.ly"
       },
       "data": [
        {
         "colorscale": [
          [
           0,
           "#440154"
          ],
          [
           0.1111111111111111,
           "#482878"
          ],
          [
           0.2222222222222222,
           "#3e4989"
          ],
          [
           0.3333333333333333,
           "#31688e"
          ],
          [
           0.4444444444444444,
           "#26828e"
          ],
          [
           0.5555555555555556,
           "#1f9e89"
          ],
          [
           0.6666666666666666,
           "#35b779"
          ],
          [
           0.7777777777777778,
           "#6ece58"
          ],
          [
           0.8888888888888888,
           "#b5de2b"
          ],
          [
           1,
           "#fde725"
          ]
         ],
         "type": "surface",
         "x": [
          [
           0.804497707762557,
           0.807271162709013,
           0.8100446176554689,
           0.8128180726019248,
           0.8155915275483807,
           0.8183649824948367,
           0.8211384374412926,
           0.8239118923877485,
           0.8266853473342044,
           0.8294588022806604,
           0.8322322572271164,
           0.8350057121735722,
           0.8377791671200282,
           0.8405526220664841,
           0.84332607701294,
           0.8460995319593959,
           0.8488729869058519,
           0.8516464418523078,
           0.8544198967987637,
           0.8571933517452197,
           0.8599668066916756,
           0.8627402616381316,
           0.8655137165845874,
           0.8682871715310434,
           0.8710606264774993,
           0.8738340814239552,
           0.8766075363704111,
           0.8793809913168671,
           0.8821544462633231,
           0.8849279012097789,
           0.8877013561562349,
           0.8904748111026908,
           0.8932482660491468,
           0.8960217209956026,
           0.8987951759420586,
           0.9015686308885145,
           0.9043420858349704,
           0.9071155407814264,
           0.9098889957278823,
           0.9126624506743383,
           0.9154359056207941,
           0.9182093605672501,
           0.920982815513706,
           0.923756270460162,
           0.9265297254066178,
           0.9293031803530738,
           0.9320766352995298,
           0.9348500902459856,
           0.9376235451924415,
           0.9403970001388975,
           0.9431704550853535,
           0.9459439100318093,
           0.9487173649782653,
           0.9514908199247212,
           0.9542642748711772,
           0.9570377298176331,
           0.959811184764089,
           0.9625846397105449,
           0.9653580946570008,
           0.9681315496034568,
           0.9709050045499127,
           0.9736784594963687,
           0.9764519144428245,
           0.9792253693892805,
           0.9819988243357365,
           0.9847722792821924,
           0.9875457342286482,
           0.9903191891751042,
           0.9930926441215602,
           0.995866099068016,
           0.998639554014472,
           1.0014130089609279,
           1.0041864639073839,
           1.0069599188538398,
           1.0097333738002958,
           1.0125068287467516,
           1.0152802836932076,
           1.0180537386396635,
           1.0208271935861195,
           1.0236006485325753,
           1.0263741034790312,
           1.0291475584254872,
           1.0319210133719432,
           1.0346944683183992,
           1.037467923264855,
           1.040241378211311,
           1.0430148331577669,
           1.0457882881042229,
           1.0485617430506786,
           1.0513351979971346,
           1.0541086529435906,
           1.0568821078900466,
           1.0596555628365025,
           1.0624290177829583,
           1.0652024727294143,
           1.0679759276758702,
           1.070749382622326,
           1.073522837568782,
           1.076296292515238,
           1.079069747461694,
           1.08184320240815,
           1.0846166573546059,
           1.0873901123010616,
           1.0901635672475176,
           1.0929370221939736,
           1.0957104771404294,
           1.0984839320868853,
           1.1012573870333413,
           1.1040308419797973,
           1.1068042969262533,
           1.1095777518727092,
           1.112351206819165,
           1.115124661765621,
           1.117898116712077,
           1.1206715716585327,
           1.1234450266049887,
           1.1262184815514447,
           1.1289919364979006,
           1.1317653914443566,
           1.1345388463908126,
           1.1373123013372683,
           1.1400857562837243,
           1.1428592112301803,
           1.145632666176636,
           1.148406121123092,
           1.151179576069548,
           1.153953031016004,
           1.15672648596246,
           1.159499940908916,
           1.1622733958553717,
           1.1650468508018277,
           1.1678203057482837,
           1.1705937606947394,
           1.1733672156411954,
           1.1761406705876514,
           1.1789141255341073,
           1.1816875804805633,
           1.1844610354270193,
           1.187234490373475,
           1.190007945319931,
           1.192781400266387,
           1.1955548552128428,
           1.1983283101592987,
           1.2011017651057547,
           1.2038752200522107,
           1.2066486749986667,
           1.2094221299451227,
           1.2121955848915784,
           1.2149690398380344,
           1.2177424947844904,
           1.2205159497309461,
           1.223289404677402,
           1.226062859623858,
           1.228836314570314,
           1.23160976951677,
           1.234383224463226,
           1.2371566794096818,
           1.2399301343561377,
           1.2427035893025937,
           1.2454770442490495,
           1.2482504991955055,
           1.2510239541419614,
           1.2537974090884174,
           1.2565708640348734,
           1.2593443189813294,
           1.2621177739277851,
           1.264891228874241,
           1.267664683820697,
           1.2704381387671528,
           1.2732115937136088,
           1.2759850486600648,
           1.2787585036065208,
           1.2815319585529767,
           1.2843054134994327,
           1.2870788684458885,
           1.2898523233923445,
           1.2926257783388004,
           1.2953992332852562,
           1.2981726882317122,
           1.3009461431781681,
           1.3037195981246241,
           1.30649305307108,
           1.309266508017536,
           1.312039962963992,
           1.3148134179104478
          ],
          [
           0.804497707762557,
           0.807271162709013,
           0.8100446176554689,
           0.8128180726019248,
           0.8155915275483807,
           0.8183649824948367,
           0.8211384374412926,
           0.8239118923877485,
           0.8266853473342044,
           0.8294588022806604,
           0.8322322572271164,
           0.8350057121735722,
           0.8377791671200282,
           0.8405526220664841,
           0.84332607701294,
           0.8460995319593959,
           0.8488729869058519,
           0.8516464418523078,
           0.8544198967987637,
           0.8571933517452197,
           0.8599668066916756,
           0.8627402616381316,
           0.8655137165845874,
           0.8682871715310434,
           0.8710606264774993,
           0.8738340814239552,
           0.8766075363704111,
           0.8793809913168671,
           0.8821544462633231,
           0.8849279012097789,
           0.8877013561562349,
           0.8904748111026908,
           0.8932482660491468,
           0.8960217209956026,
           0.8987951759420586,
           0.9015686308885145,
           0.9043420858349704,
           0.9071155407814264,
           0.9098889957278823,
           0.9126624506743383,
           0.9154359056207941,
           0.9182093605672501,
           0.920982815513706,
           0.923756270460162,
           0.9265297254066178,
           0.9293031803530738,
           0.9320766352995298,
           0.9348500902459856,
           0.9376235451924415,
           0.9403970001388975,
           0.9431704550853535,
           0.9459439100318093,
           0.9487173649782653,
           0.9514908199247212,
           0.9542642748711772,
           0.9570377298176331,
           0.959811184764089,
           0.9625846397105449,
           0.9653580946570008,
           0.9681315496034568,
           0.9709050045499127,
           0.9736784594963687,
           0.9764519144428245,
           0.9792253693892805,
           0.9819988243357365,
           0.9847722792821924,
           0.9875457342286482,
           0.9903191891751042,
           0.9930926441215602,
           0.995866099068016,
           0.998639554014472,
           1.0014130089609279,
           1.0041864639073839,
           1.0069599188538398,
           1.0097333738002958,
           1.0125068287467516,
           1.0152802836932076,
           1.0180537386396635,
           1.0208271935861195,
           1.0236006485325753,
           1.0263741034790312,
           1.0291475584254872,
           1.0319210133719432,
           1.0346944683183992,
           1.037467923264855,
           1.040241378211311,
           1.0430148331577669,
           1.0457882881042229,
           1.0485617430506786,
           1.0513351979971346,
           1.0541086529435906,
           1.0568821078900466,
           1.0596555628365025,
           1.0624290177829583,
           1.0652024727294143,
           1.0679759276758702,
           1.070749382622326,
           1.073522837568782,
           1.076296292515238,
           1.079069747461694,
           1.08184320240815,
           1.0846166573546059,
           1.0873901123010616,
           1.0901635672475176,
           1.0929370221939736,
           1.0957104771404294,
           1.0984839320868853,
           1.1012573870333413,
           1.1040308419797973,
           1.1068042969262533,
           1.1095777518727092,
           1.112351206819165,
           1.115124661765621,
           1.117898116712077,
           1.1206715716585327,
           1.1234450266049887,
           1.1262184815514447,
           1.1289919364979006,
           1.1317653914443566,
           1.1345388463908126,
           1.1373123013372683,
           1.1400857562837243,
           1.1428592112301803,
           1.145632666176636,
           1.148406121123092,
           1.151179576069548,
           1.153953031016004,
           1.15672648596246,
           1.159499940908916,
           1.1622733958553717,
           1.1650468508018277,
           1.1678203057482837,
           1.1705937606947394,
           1.1733672156411954,
           1.1761406705876514,
           1.1789141255341073,
           1.1816875804805633,
           1.1844610354270193,
           1.187234490373475,
           1.190007945319931,
           1.192781400266387,
           1.1955548552128428,
           1.1983283101592987,
           1.2011017651057547,
           1.2038752200522107,
           1.2066486749986667,
           1.2094221299451227,
           1.2121955848915784,
           1.2149690398380344,
           1.2177424947844904,
           1.2205159497309461,
           1.223289404677402,
           1.226062859623858,
           1.228836314570314,
           1.23160976951677,
           1.234383224463226,
           1.2371566794096818,
           1.2399301343561377,
           1.2427035893025937,
           1.2454770442490495,
           1.2482504991955055,
           1.2510239541419614,
           1.2537974090884174,
           1.2565708640348734,
           1.2593443189813294,
           1.2621177739277851,
           1.264891228874241,
           1.267664683820697,
           1.2704381387671528,
           1.2732115937136088,
           1.2759850486600648,
           1.2787585036065208,
           1.2815319585529767,
           1.2843054134994327,
           1.2870788684458885,
           1.2898523233923445,
           1.2926257783388004,
           1.2953992332852562,
           1.2981726882317122,
           1.3009461431781681,
           1.3037195981246241,
           1.30649305307108,
           1.309266508017536,
           1.312039962963992,
           1.3148134179104478
          ]
         ],
         "y": [
          [
           3,
           3,
           3,
           3,
           3,
           3,
           3,
           3,
           3,
           3,
           3,
           3,
           3,
           3,
           3,
           3,
           3,
           3,
           3,
           3,
           3,
           3,
           3,
           3,
           3,
           3,
           3,
           3,
           3,
           3,
           3,
           3,
           3,
           3,
           3,
           3,
           3,
           3,
           3,
           3,
           3,
           3,
           3,
           3,
           3,
           3,
           3,
           3,
           3,
           3,
           3,
           3,
           3,
           3,
           3,
           3,
           3,
           3,
           3,
           3,
           3,
           3,
           3,
           3,
           3,
           3,
           3,
           3,
           3,
           3,
           3,
           3,
           3,
           3,
           3,
           3,
           3,
           3,
           3,
           3,
           3,
           3,
           3,
           3,
           3,
           3,
           3,
           3,
           3,
           3,
           3,
           3,
           3,
           3,
           3,
           3,
           3,
           3,
           3,
           3,
           3,
           3,
           3,
           3,
           3,
           3,
           3,
           3,
           3,
           3,
           3,
           3,
           3,
           3,
           3,
           3,
           3,
           3,
           3,
           3,
           3,
           3,
           3,
           3,
           3,
           3,
           3,
           3,
           3,
           3,
           3,
           3,
           3,
           3,
           3,
           3,
           3,
           3,
           3,
           3,
           3,
           3,
           3,
           3,
           3,
           3,
           3,
           3,
           3,
           3,
           3,
           3,
           3,
           3,
           3,
           3,
           3,
           3,
           3,
           3,
           3,
           3,
           3,
           3,
           3,
           3,
           3,
           3,
           3,
           3,
           3,
           3,
           3,
           3,
           3,
           3,
           3,
           3,
           3,
           3,
           3,
           3,
           3,
           3,
           3
          ],
          [
           10,
           10,
           10,
           10,
           10,
           10,
           10,
           10,
           10,
           10,
           10,
           10,
           10,
           10,
           10,
           10,
           10,
           10,
           10,
           10,
           10,
           10,
           10,
           10,
           10,
           10,
           10,
           10,
           10,
           10,
           10,
           10,
           10,
           10,
           10,
           10,
           10,
           10,
           10,
           10,
           10,
           10,
           10,
           10,
           10,
           10,
           10,
           10,
           10,
           10,
           10,
           10,
           10,
           10,
           10,
           10,
           10,
           10,
           10,
           10,
           10,
           10,
           10,
           10,
           10,
           10,
           10,
           10,
           10,
           10,
           10,
           10,
           10,
           10,
           10,
           10,
           10,
           10,
           10,
           10,
           10,
           10,
           10,
           10,
           10,
           10,
           10,
           10,
           10,
           10,
           10,
           10,
           10,
           10,
           10,
           10,
           10,
           10,
           10,
           10,
           10,
           10,
           10,
           10,
           10,
           10,
           10,
           10,
           10,
           10,
           10,
           10,
           10,
           10,
           10,
           10,
           10,
           10,
           10,
           10,
           10,
           10,
           10,
           10,
           10,
           10,
           10,
           10,
           10,
           10,
           10,
           10,
           10,
           10,
           10,
           10,
           10,
           10,
           10,
           10,
           10,
           10,
           10,
           10,
           10,
           10,
           10,
           10,
           10,
           10,
           10,
           10,
           10,
           10,
           10,
           10,
           10,
           10,
           10,
           10,
           10,
           10,
           10,
           10,
           10,
           10,
           10,
           10,
           10,
           10,
           10,
           10,
           10,
           10,
           10,
           10,
           10,
           10,
           10,
           10,
           10,
           10,
           10,
           10,
           10
          ]
         ],
         "z": [
          [
           0.73767,
           0.726683968322277,
           0.7157668766500812,
           0.7049876649889385,
           0.6944152733443761,
           0.6841186417219203,
           0.6741560044172412,
           0.6644275051966043,
           0.6547126539023523,
           0.6447879181203857,
           0.6344297654366055,
           0.6234146634369129,
           0.611519079707208,
           0.5985752528298995,
           0.5853640248703558,
           0.5734596210870829,
           0.5644606826338638,
           0.5599650545159103,
           0.5613625529629614,
           0.5693028777678851,
           0.5816832036476804,
           0.594794250416748,
           0.6049050525170724,
           0.6082846443906399,
           0.6012020604794358,
           0.579926335225445,
           0.5407266414059166,
           0.4912583714338844,
           0.4795139921109775,
           0.4991230003961993,
           0.4836981791235713,
           0.4547545234923189,
           0.44879933304474756,
           0.45889841397706166,
           0.46323781603267566,
           0.44323758944318703,
           0.4273499608345019,
           0.43020371278160996,
           0.4236761979009828,
           0.4005424558563919,
           0.4027051215685691,
           0.39654947023747644,
           0.38859990581464665,
           0.3732740984682771,
           0.36586642965169175,
           0.3594961422712824,
           0.3490961596295763,
           0.34332322316317493,
           0.3339773370443461,
           0.326252012802067,
           0.32213580647091333,
           0.3163278551235117,
           0.3090010973195322,
           0.3035064240896382,
           0.2977916858412975,
           0.29134862562859115,
           0.2868972165151087,
           0.2838496377579571,
           0.27982356986716306,
           0.2767912744239206,
           0.27268382450259165,
           0.26979931375035027,
           0.26838376440956174,
           0.26631529563145445,
           0.26513485141975085,
           0.2647218862420222,
           0.263245400948403,
           0.26331281263942813,
           0.2625820687045732,
           0.26322308651348514,
           0.26454630885680575,
           0.26579592547969955,
           0.26637363463300356,
           0.26788411787883704,
           0.2689711173282585,
           0.270920674678196,
           0.2729647372890081,
           0.2758769163332528,
           0.27839601059803915,
           0.28155009826223887,
           0.2850034930766301,
           0.2895079489018596,
           0.292961271274822,
           0.2976046883582643,
           0.3023604458441588,
           0.3070391412544696,
           0.3129133404216234,
           0.3178398340940131,
           0.3229354677156732,
           0.33197872807280515,
           0.3369876480803325,
           0.34315132108406743,
           0.35155642826830336,
           0.3591493560653972,
           0.36731574949160073,
           0.3713051646791207,
           0.3833441560987324,
           0.3910709980774055,
           0.3970662281165982,
           0.408924856003037,
           0.414689560730625,
           0.4262670587567206,
           0.4368485813605566,
           0.4428661406156735,
           0.4515094731223815,
           0.4564251705977075,
           0.4638841137970455,
           0.4670629713121005,
           0.48903116803660923,
           0.48827109708903493,
           0.503523202558413,
           0.5094486427708312,
           0.5175530683920857,
           0.5238541548914246,
           0.530726925844225,
           0.5406136971864149,
           0.5468973316673974,
           0.5547224987419984,
           0.5620217591524586,
           0.5700907620486692,
           0.5590094867788769,
           0.5910239219429066,
           0.5835987823075274,
           0.5840518826988158,
           0.6075980201741035,
           0.6238910765287538,
           0.6274660634278337,
           0.6254377290943525,
           0.6274551040255885,
           0.6348794647230289,
           0.6423315943114687,
           0.6553709572002049,
           0.6695797625960922,
           0.6589664824832946,
           0.6674312827805999,
           0.6876596688198436,
           0.6882679797406095,
           0.6881970217409165,
           0.6900857948445857,
           0.687532352477921,
           0.676173508866656,
           0.6653382228424284,
           0.6697657848785943,
           0.6988345169621023,
           0.7349498755597246,
           0.7520733987028657,
           0.7327427854942306,
           0.6976477737785481,
           0.6780798637391391,
           0.6973812785973211,
           0.743463405921753,
           0.7943705402210693,
           0.8313851930669132,
           0.8521946863135312,
           0.8596682219983873,
           0.8566769985620748,
           0.8460922144451877,
           0.8307850680883181,
           0.8136267579320594,
           0.7974884824170065,
           0.7852414399837501,
           0.7796202782478929,
           0.7806855702415868,
           0.7860599039773918,
           0.7932894039887313,
           0.8007809821952603,
           0.8083342459208742,
           0.8158757092770285,
           0.8233318863751792,
           0.8306292913267839,
           0.8376944382432978,
           0.8444538412361775,
           0.850834014416879,
           0.856761471896859,
           0.8621641735116082,
           0.8670331012101341,
           0.8714452843142438,
           0.8754839433728365,
           0.8792322989348128,
           0.8827735715490724,
           0.8861909817645149,
           null,
           null,
           null,
           null
          ],
          [
           null,
           null,
           null,
           null,
           null,
           null,
           null,
           null,
           null,
           null,
           null,
           null,
           null,
           0.36882096663553215,
           0.36217525308271314,
           0.3561894651115268,
           0.3512539923413187,
           0.3473970974663089,
           0.34440904715241605,
           0.34207594062839586,
           0.34018387712300435,
           0.33851895586499703,
           0.3368672760831298,
           0.33501504128956006,
           0.3328073138520503,
           0.33024609510580616,
           0.3273592595200723,
           0.3241746815640931,
           0.32072023570711367,
           0.3170237964183787,
           0.31311323816713266,
           0.30901643542262053,
           0.30476126265408676,
           0.3003755943307763,
           0.2958873049219337,
           0.29132426889680385,
           0.28672444248787954,
           0.28282591405970564,
           0.27947792882005074,
           0.2763339936938294,
           0.27375536534119344,
           0.2707174542145861,
           0.26854957256465706,
           0.26509485167621344,
           0.2621642353959672,
           0.2607131115817221,
           0.2569122752123314,
           0.25431242346540334,
           0.2517464463811006,
           0.24950989098304036,
           0.2470909269008231,
           0.24583388831904812,
           0.2433679731177794,
           0.2419774485818375,
           0.23985865005635698,
           0.23916532444564548,
           0.23831210135570735,
           0.23713128448615478,
           0.23680954105522278,
           0.23697048393237735,
           0.23671587108352135,
           0.23621753292630593,
           0.23588134166983726,
           0.23575891186778772,
           0.2358366012566535,
           0.23610076757293075,
           0.2365377685531157,
           0.23713396193370467,
           0.23787570545119363,
           0.23874935684207896,
           0.2397412738428568,
           0.24083781419002323,
           0.24202533562007464,
           0.24329019586950718,
           0.24461875267481697,
           0.24599736377250023,
           0.24741238689905326,
           0.24883278605893971,
           0.2501460191358921,
           0.25146451725882746,
           0.25283710706316326,
           0.25452216250604,
           0.2561932435039236,
           0.2579561546243683,
           0.25954403161938927,
           0.2613205230977489,
           0.26328428798415554,
           0.26547622830933804,
           0.26791941874687564,
           0.27023341044724053,
           0.2723080417689516,
           0.2749153884674322,
           0.2778814296318426,
           0.2800022306970198,
           0.2835453505296198,
           0.2863836790818373,
           0.28894515553970435,
           0.29221980336299475,
           0.2954197631637999,
           0.29829360783074527,
           0.30152161732927524,
           0.30515300716662036,
           0.30875584364810155,
           0.3121506234725194,
           0.31577419708343085,
           0.3186439989879733,
           0.322978840021772,
           0.3266194745272702,
           0.3305221429532207,
           0.334508740602766,
           0.3379321167336435,
           0.3424981974062524,
           0.3464145561264138,
           0.35012748705230295,
           0.35432624127506807,
           0.3584031395697428,
           0.36260973370688954,
           0.3668741501243721,
           0.3708673686523602,
           0.37466856880107136,
           0.3785315501637259,
           0.38260239894763787,
           0.38680475844110424,
           0.3910348692019063,
           0.39518897178782597,
           0.39916330675664446,
           0.40285411466614296,
           0.4061680814466466,
           0.4092410069563089,
           0.4124317872907571,
           0.41610856011280917,
           0.4206270514135333,
           0.42577063363865897,
           0.43052256415810575,
           0.4338759960145575,
           0.4360099637054912,
           0.43809760989794816,
           0.4412273987883612,
           0.44539568779429906,
           0.44999711532615155,
           0.4544882038240136,
           0.4587630005076595,
           0.462888436698561,
           0.46693186910128404,
           0.4709606544203948,
           0.47504214936045924,
           0.47922721775100086,
           0.48349337789600083,
           0.4877977667057152,
           0.4920284631762828,
           0.49576576715491893,
           0.49850426542396,
           0.4999087965723254,
           0.5005066026558022,
           0.5010973379628998,
           0.5023915991746978,
           0.504513302748617,
           0.5073492554982078,
           0.5107856000568434,
           0.5147084790578963,
           0.5190040351347405,
           0.5235584109207487,
           0.5282577490492942,
           0.5329881921537503,
           0.5376365311940275,
           0.5421333516750274,
           0.5464800956850662,
           0.5506846619861336,
           0.5547549493402196,
           0.5586988565093144,
           0.5625242822554082,
           0.5662391253404905,
           0.5698512845265518,
           0.5733686585755818,
           0.5767991462495704,
           0.5801506463105081,
           0.5834310575203846,
           0.5866482786411897,
           0.5898102084349143,
           0.5929247456635478,
           0.5959997890890801,
           0.5990432374735016,
           0.602062989578802,
           0.6050669441669716,
           0.608063
          ]
         ]
        }
       ],
       "layout": {
        "margin": {
         "b": 10,
         "l": 10,
         "r": 20,
         "t": 10
        },
        "scene": {
         "xaxis": {
          "title": {
           "text": "Moneyness"
          }
         },
         "yaxis": {
          "title": {
           "text": "Days till Expiry"
          }
         },
         "zaxis": {
          "title": {
           "text": "Implied Volatility"
          }
         }
        },
        "template": {
         "data": {
          "bar": [
           {
            "error_x": {
             "color": "#2a3f5f"
            },
            "error_y": {
             "color": "#2a3f5f"
            },
            "marker": {
             "line": {
              "color": "#E5ECF6",
              "width": 0.5
             },
             "pattern": {
              "fillmode": "overlay",
              "size": 10,
              "solidity": 0.2
             }
            },
            "type": "bar"
           }
          ],
          "barpolar": [
           {
            "marker": {
             "line": {
              "color": "#E5ECF6",
              "width": 0.5
             },
             "pattern": {
              "fillmode": "overlay",
              "size": 10,
              "solidity": 0.2
             }
            },
            "type": "barpolar"
           }
          ],
          "carpet": [
           {
            "aaxis": {
             "endlinecolor": "#2a3f5f",
             "gridcolor": "white",
             "linecolor": "white",
             "minorgridcolor": "white",
             "startlinecolor": "#2a3f5f"
            },
            "baxis": {
             "endlinecolor": "#2a3f5f",
             "gridcolor": "white",
             "linecolor": "white",
             "minorgridcolor": "white",
             "startlinecolor": "#2a3f5f"
            },
            "type": "carpet"
           }
          ],
          "choropleth": [
           {
            "colorbar": {
             "outlinewidth": 0,
             "ticks": ""
            },
            "type": "choropleth"
           }
          ],
          "contour": [
           {
            "colorbar": {
             "outlinewidth": 0,
             "ticks": ""
            },
            "colorscale": [
             [
              0,
              "#0d0887"
             ],
             [
              0.1111111111111111,
              "#46039f"
             ],
             [
              0.2222222222222222,
              "#7201a8"
             ],
             [
              0.3333333333333333,
              "#9c179e"
             ],
             [
              0.4444444444444444,
              "#bd3786"
             ],
             [
              0.5555555555555556,
              "#d8576b"
             ],
             [
              0.6666666666666666,
              "#ed7953"
             ],
             [
              0.7777777777777778,
              "#fb9f3a"
             ],
             [
              0.8888888888888888,
              "#fdca26"
             ],
             [
              1,
              "#f0f921"
             ]
            ],
            "type": "contour"
           }
          ],
          "contourcarpet": [
           {
            "colorbar": {
             "outlinewidth": 0,
             "ticks": ""
            },
            "type": "contourcarpet"
           }
          ],
          "heatmap": [
           {
            "colorbar": {
             "outlinewidth": 0,
             "ticks": ""
            },
            "colorscale": [
             [
              0,
              "#0d0887"
             ],
             [
              0.1111111111111111,
              "#46039f"
             ],
             [
              0.2222222222222222,
              "#7201a8"
             ],
             [
              0.3333333333333333,
              "#9c179e"
             ],
             [
              0.4444444444444444,
              "#bd3786"
             ],
             [
              0.5555555555555556,
              "#d8576b"
             ],
             [
              0.6666666666666666,
              "#ed7953"
             ],
             [
              0.7777777777777778,
              "#fb9f3a"
             ],
             [
              0.8888888888888888,
              "#fdca26"
             ],
             [
              1,
              "#f0f921"
             ]
            ],
            "type": "heatmap"
           }
          ],
          "heatmapgl": [
           {
            "colorbar": {
             "outlinewidth": 0,
             "ticks": ""
            },
            "colorscale": [
             [
              0,
              "#0d0887"
             ],
             [
              0.1111111111111111,
              "#46039f"
             ],
             [
              0.2222222222222222,
              "#7201a8"
             ],
             [
              0.3333333333333333,
              "#9c179e"
             ],
             [
              0.4444444444444444,
              "#bd3786"
             ],
             [
              0.5555555555555556,
              "#d8576b"
             ],
             [
              0.6666666666666666,
              "#ed7953"
             ],
             [
              0.7777777777777778,
              "#fb9f3a"
             ],
             [
              0.8888888888888888,
              "#fdca26"
             ],
             [
              1,
              "#f0f921"
             ]
            ],
            "type": "heatmapgl"
           }
          ],
          "histogram": [
           {
            "marker": {
             "pattern": {
              "fillmode": "overlay",
              "size": 10,
              "solidity": 0.2
             }
            },
            "type": "histogram"
           }
          ],
          "histogram2d": [
           {
            "colorbar": {
             "outlinewidth": 0,
             "ticks": ""
            },
            "colorscale": [
             [
              0,
              "#0d0887"
             ],
             [
              0.1111111111111111,
              "#46039f"
             ],
             [
              0.2222222222222222,
              "#7201a8"
             ],
             [
              0.3333333333333333,
              "#9c179e"
             ],
             [
              0.4444444444444444,
              "#bd3786"
             ],
             [
              0.5555555555555556,
              "#d8576b"
             ],
             [
              0.6666666666666666,
              "#ed7953"
             ],
             [
              0.7777777777777778,
              "#fb9f3a"
             ],
             [
              0.8888888888888888,
              "#fdca26"
             ],
             [
              1,
              "#f0f921"
             ]
            ],
            "type": "histogram2d"
           }
          ],
          "histogram2dcontour": [
           {
            "colorbar": {
             "outlinewidth": 0,
             "ticks": ""
            },
            "colorscale": [
             [
              0,
              "#0d0887"
             ],
             [
              0.1111111111111111,
              "#46039f"
             ],
             [
              0.2222222222222222,
              "#7201a8"
             ],
             [
              0.3333333333333333,
              "#9c179e"
             ],
             [
              0.4444444444444444,
              "#bd3786"
             ],
             [
              0.5555555555555556,
              "#d8576b"
             ],
             [
              0.6666666666666666,
              "#ed7953"
             ],
             [
              0.7777777777777778,
              "#fb9f3a"
             ],
             [
              0.8888888888888888,
              "#fdca26"
             ],
             [
              1,
              "#f0f921"
             ]
            ],
            "type": "histogram2dcontour"
           }
          ],
          "mesh3d": [
           {
            "colorbar": {
             "outlinewidth": 0,
             "ticks": ""
            },
            "type": "mesh3d"
           }
          ],
          "parcoords": [
           {
            "line": {
             "colorbar": {
              "outlinewidth": 0,
              "ticks": ""
             }
            },
            "type": "parcoords"
           }
          ],
          "pie": [
           {
            "automargin": true,
            "type": "pie"
           }
          ],
          "scatter": [
           {
            "fillpattern": {
             "fillmode": "overlay",
             "size": 10,
             "solidity": 0.2
            },
            "type": "scatter"
           }
          ],
          "scatter3d": [
           {
            "line": {
             "colorbar": {
              "outlinewidth": 0,
              "ticks": ""
             }
            },
            "marker": {
             "colorbar": {
              "outlinewidth": 0,
              "ticks": ""
             }
            },
            "type": "scatter3d"
           }
          ],
          "scattercarpet": [
           {
            "marker": {
             "colorbar": {
              "outlinewidth": 0,
              "ticks": ""
             }
            },
            "type": "scattercarpet"
           }
          ],
          "scattergeo": [
           {
            "marker": {
             "colorbar": {
              "outlinewidth": 0,
              "ticks": ""
             }
            },
            "type": "scattergeo"
           }
          ],
          "scattergl": [
           {
            "marker": {
             "colorbar": {
              "outlinewidth": 0,
              "ticks": ""
             }
            },
            "type": "scattergl"
           }
          ],
          "scattermapbox": [
           {
            "marker": {
             "colorbar": {
              "outlinewidth": 0,
              "ticks": ""
             }
            },
            "type": "scattermapbox"
           }
          ],
          "scatterpolar": [
           {
            "marker": {
             "colorbar": {
              "outlinewidth": 0,
              "ticks": ""
             }
            },
            "type": "scatterpolar"
           }
          ],
          "scatterpolargl": [
           {
            "marker": {
             "colorbar": {
              "outlinewidth": 0,
              "ticks": ""
             }
            },
            "type": "scatterpolargl"
           }
          ],
          "scatterternary": [
           {
            "marker": {
             "colorbar": {
              "outlinewidth": 0,
              "ticks": ""
             }
            },
            "type": "scatterternary"
           }
          ],
          "surface": [
           {
            "colorbar": {
             "outlinewidth": 0,
             "ticks": ""
            },
            "colorscale": [
             [
              0,
              "#0d0887"
             ],
             [
              0.1111111111111111,
              "#46039f"
             ],
             [
              0.2222222222222222,
              "#7201a8"
             ],
             [
              0.3333333333333333,
              "#9c179e"
             ],
             [
              0.4444444444444444,
              "#bd3786"
             ],
             [
              0.5555555555555556,
              "#d8576b"
             ],
             [
              0.6666666666666666,
              "#ed7953"
             ],
             [
              0.7777777777777778,
              "#fb9f3a"
             ],
             [
              0.8888888888888888,
              "#fdca26"
             ],
             [
              1,
              "#f0f921"
             ]
            ],
            "type": "surface"
           }
          ],
          "table": [
           {
            "cells": {
             "fill": {
              "color": "#EBF0F8"
             },
             "line": {
              "color": "white"
             }
            },
            "header": {
             "fill": {
              "color": "#C8D4E3"
             },
             "line": {
              "color": "white"
             }
            },
            "type": "table"
           }
          ]
         },
         "layout": {
          "annotationdefaults": {
           "arrowcolor": "#2a3f5f",
           "arrowhead": 0,
           "arrowwidth": 1
          },
          "autotypenumbers": "strict",
          "coloraxis": {
           "colorbar": {
            "outlinewidth": 0,
            "ticks": ""
           }
          },
          "colorscale": {
           "diverging": [
            [
             0,
             "#8e0152"
            ],
            [
             0.1,
             "#c51b7d"
            ],
            [
             0.2,
             "#de77ae"
            ],
            [
             0.3,
             "#f1b6da"
            ],
            [
             0.4,
             "#fde0ef"
            ],
            [
             0.5,
             "#f7f7f7"
            ],
            [
             0.6,
             "#e6f5d0"
            ],
            [
             0.7,
             "#b8e186"
            ],
            [
             0.8,
             "#7fbc41"
            ],
            [
             0.9,
             "#4d9221"
            ],
            [
             1,
             "#276419"
            ]
           ],
           "sequential": [
            [
             0,
             "#0d0887"
            ],
            [
             0.1111111111111111,
             "#46039f"
            ],
            [
             0.2222222222222222,
             "#7201a8"
            ],
            [
             0.3333333333333333,
             "#9c179e"
            ],
            [
             0.4444444444444444,
             "#bd3786"
            ],
            [
             0.5555555555555556,
             "#d8576b"
            ],
            [
             0.6666666666666666,
             "#ed7953"
            ],
            [
             0.7777777777777778,
             "#fb9f3a"
            ],
            [
             0.8888888888888888,
             "#fdca26"
            ],
            [
             1,
             "#f0f921"
            ]
           ],
           "sequentialminus": [
            [
             0,
             "#0d0887"
            ],
            [
             0.1111111111111111,
             "#46039f"
            ],
            [
             0.2222222222222222,
             "#7201a8"
            ],
            [
             0.3333333333333333,
             "#9c179e"
            ],
            [
             0.4444444444444444,
             "#bd3786"
            ],
            [
             0.5555555555555556,
             "#d8576b"
            ],
            [
             0.6666666666666666,
             "#ed7953"
            ],
            [
             0.7777777777777778,
             "#fb9f3a"
            ],
            [
             0.8888888888888888,
             "#fdca26"
            ],
            [
             1,
             "#f0f921"
            ]
           ]
          },
          "colorway": [
           "#636efa",
           "#EF553B",
           "#00cc96",
           "#ab63fa",
           "#FFA15A",
           "#19d3f3",
           "#FF6692",
           "#B6E880",
           "#FF97FF",
           "#FECB52"
          ],
          "font": {
           "color": "#2a3f5f"
          },
          "geo": {
           "bgcolor": "white",
           "lakecolor": "white",
           "landcolor": "#E5ECF6",
           "showlakes": true,
           "showland": true,
           "subunitcolor": "white"
          },
          "hoverlabel": {
           "align": "left"
          },
          "hovermode": "closest",
          "mapbox": {
           "style": "light"
          },
          "paper_bgcolor": "white",
          "plot_bgcolor": "#E5ECF6",
          "polar": {
           "angularaxis": {
            "gridcolor": "white",
            "linecolor": "white",
            "ticks": ""
           },
           "bgcolor": "#E5ECF6",
           "radialaxis": {
            "gridcolor": "white",
            "linecolor": "white",
            "ticks": ""
           }
          },
          "scene": {
           "xaxis": {
            "backgroundcolor": "#E5ECF6",
            "gridcolor": "white",
            "gridwidth": 2,
            "linecolor": "white",
            "showbackground": true,
            "ticks": "",
            "zerolinecolor": "white"
           },
           "yaxis": {
            "backgroundcolor": "#E5ECF6",
            "gridcolor": "white",
            "gridwidth": 2,
            "linecolor": "white",
            "showbackground": true,
            "ticks": "",
            "zerolinecolor": "white"
           },
           "zaxis": {
            "backgroundcolor": "#E5ECF6",
            "gridcolor": "white",
            "gridwidth": 2,
            "linecolor": "white",
            "showbackground": true,
            "ticks": "",
            "zerolinecolor": "white"
           }
          },
          "shapedefaults": {
           "line": {
            "color": "#2a3f5f"
           }
          },
          "ternary": {
           "aaxis": {
            "gridcolor": "white",
            "linecolor": "white",
            "ticks": ""
           },
           "baxis": {
            "gridcolor": "white",
            "linecolor": "white",
            "ticks": ""
           },
           "bgcolor": "#E5ECF6",
           "caxis": {
            "gridcolor": "white",
            "linecolor": "white",
            "ticks": ""
           }
          },
          "title": {
           "x": 0.05
          },
          "xaxis": {
           "automargin": true,
           "gridcolor": "white",
           "linecolor": "white",
           "ticks": "",
           "title": {
            "standoff": 15
           },
           "zerolinecolor": "white",
           "zerolinewidth": 2
          },
          "yaxis": {
           "automargin": true,
           "gridcolor": "white",
           "linecolor": "white",
           "ticks": "",
           "title": {
            "standoff": 15
           },
           "zerolinecolor": "white",
           "zerolinewidth": 2
          }
         }
        },
        "width": 700
       }
      }
     },
     "metadata": {},
     "output_type": "display_data"
    }
   ],
   "source": [
    "import pandas as pd\n",
    "import numpy as np\n",
    "from scipy.interpolate import griddata\n",
    "import plotly.graph_objects as go\n",
    "\n",
    "# Convert the string to a pandas Timestamp\n",
    "date = pd.Timestamp('2019-03-19')\n",
    "\n",
    "# Filter the DataFrame for the 'NVDA' ticker and the specific date\n",
    "df__nvda = pd_merged[(pd_merged['ticker'] == 'AMZN') & (pd_merged['date'] == date)]\n",
    "# df_nvda = pd_merged[pd_merged['ticker'] == 'TSLA']\n",
    "\n",
    "# Create a grid of x and y values\n",
    "x = np.linspace(df__nvda['moneyness'].min(), df__nvda['moneyness'].max(), len(df__nvda['moneyness'].unique()))\n",
    "y = np.linspace(df__nvda['days_till_exp'].min(), df__nvda['days_till_exp'].max(), len(df__nvda['days_till_exp'].unique()))\n",
    "x_grid, y_grid = np.meshgrid(x, y)\n",
    "\n",
    "# Interpolate z values\n",
    "z_grid = griddata((df__nvda['moneyness'], df__nvda['days_till_exp']), df__nvda['impl_volatility'], (x_grid, y_grid), method='cubic')\n",
    "\n",
    "# Create a 3D surface plot\n",
    "fig = go.Figure(data=[go.Surface(x=x_grid, y=y_grid, z=z_grid, colorscale='Viridis')])\n",
    "\n",
    "# Set labels\n",
    "fig.update_layout(scene = dict(\n",
    "                    xaxis_title='Moneyness',\n",
    "                    yaxis_title='Days till Expiry',\n",
    "                    zaxis_title='Implied Volatility'),\n",
    "                    width=700,\n",
    "                    margin=dict(r=20, b=10, l=10, t=10))\n",
    "\n",
    "fig.show()"
   ]
  },
  {
   "cell_type": "markdown",
   "metadata": {},
   "source": [
    "## Plots of the data"
   ]
  },
  {
   "cell_type": "code",
   "execution_count": 83,
   "metadata": {},
   "outputs": [
    {
     "data": {
      "image/png": "[encoded data removed]",
      "text/plain": [
       "<Figure size 640x480 with 1 Axes>"
      ]
     },
     "metadata": {},
     "output_type": "display_data"
    },
    {
     "data": {
      "image/png": "[encoded data removed]",
      "text/plain": [
       "<Figure size 640x480 with 1 Axes>"
      ]
     },
     "metadata": {},
     "output_type": "display_data"
    },
    {
     "data": {
      "image/png": "[encoded data removed]",
      "text/plain": [
       "<Figure size 640x480 with 1 Axes>"
      ]
     },
     "metadata": {},
     "output_type": "display_data"
    },
    {
     "data": {
      "image/png": "[encoded data removed]",
      "text/plain": [
       "<Figure size 640x480 with 1 Axes>"
      ]
     },
     "metadata": {},
     "output_type": "display_data"
    },
    {
     "data": {
      "image/png": "[encoded data removed]",
      "text/plain": [
       "<Figure size 640x480 with 1 Axes>"
      ]
     },
     "metadata": {},
     "output_type": "display_data"
    },
    {
     "data": {
      "image/png": "[encoded data removed]",
      "text/plain": [
       "<Figure size 640x480 with 1 Axes>"
      ]
     },
     "metadata": {},
     "output_type": "display_data"
    },
    {
     "data": {
      "image/png": "[encoded data removed]",
      "text/plain": [
       "<Figure size 640x480 with 1 Axes>"
      ]
     },
     "metadata": {},
     "output_type": "display_data"
    },
    {
     "data": {
      "image/png": "[encoded data removed]",
      "text/plain": [
       "<Figure size 640x480 with 1 Axes>"
      ]
     },
     "metadata": {},
     "output_type": "display_data"
    },
    {
     "data": {
      "image/png": "[encoded data removed]",
      "text/plain": [
       "<Figure size 640x480 with 1 Axes>"
      ]
     },
     "metadata": {},
     "output_type": "display_data"
    },
    {
     "data": {
      "image/png": "[encoded data removed]",
      "text/plain": [
       "<Figure size 640x480 with 1 Axes>"
      ]
     },
     "metadata": {},
     "output_type": "display_data"
    }
   ],
   "source": [
    "# Group the DataFrame by the 'ticker' column\n",
    "grouped = merged_df.groupby('ticker')\n",
    "\n",
    "# Create a separate histogram for each group\n",
    "for name, group in grouped:\n",
    "    plt.figure()  # Create a new figure\n",
    "    plt.hist(group['cp_flag'], bins=500, edgecolor='black')  # Create a histogram of the 'strike_price' column\n",
    "    plt.title(f'Histogram of Strike Prices for {name}')  # Set the title\n",
    "    plt.xlabel('Strike Price')  # Set the x-label\n",
    "    plt.ylabel('Count')  # Set the y-label\n",
    "    # plt.xlim(0, 2)  # Set the x-limits\n",
    "    plt.show()  # Show the plot"
   ]
  },
  {
   "cell_type": "code",
   "execution_count": 84,
   "metadata": {},
   "outputs": [
    {
     "data": {
      "image/png": "[encoded data removed]",
      "text/plain": [
       "<Figure size 640x480 with 1 Axes>"
      ]
     },
     "metadata": {},
     "output_type": "display_data"
    }
   ],
   "source": [
    "# Group the DataFrame by the 'ticker' column\n",
    "grouped = merged_df.groupby('ticker')\n",
    "\n",
    "# Create a list of data for each group\n",
    "data = [group['moneyness'] for name, group in grouped]\n",
    "\n",
    "# Create a list of labels for each group\n",
    "labels = [name for name, group in grouped]\n",
    "\n",
    "# Create a stacked histogram\n",
    "plt.hist(data, bins=500, stacked=True, edgecolor='black', label=labels)\n",
    "\n",
    "# Set the title and labels\n",
    "plt.title('Stacked Histogram of Moneyness')\n",
    "plt.xlabel('Moneyness')\n",
    "plt.ylabel('Count')\n",
    "\n",
    "# Set the x-limits\n",
    "# plt.xlim(0, 2)\n",
    "\n",
    "# Add a legend\n",
    "plt.legend()\n",
    "\n",
    "# Show the plot\n",
    "plt.show()"
   ]
  },
  {
   "cell_type": "code",
   "execution_count": 85,
   "metadata": {},
   "outputs": [
    {
     "data": {
      "image/png": "[encoded data removed]",
      "text/plain": [
       "<Figure size 640x480 with 1 Axes>"
      ]
     },
     "metadata": {},
     "output_type": "display_data"
    }
   ],
   "source": [
    "# Group the DataFrame by the 'ticker' column\n",
    "grouped = merged_df.groupby('ticker')\n",
    "\n",
    "# Create a list of data for each group\n",
    "data = [group['bid_diff'] for name, group in grouped]\n",
    "\n",
    "# Create a list of labels for each group\n",
    "labels = [name for name, group in grouped]\n",
    "\n",
    "# Create a stacked histogram\n",
    "plt.hist(data, bins=500, stacked=True, edgecolor='black', label=labels)\n",
    "\n",
    "# Set the title and labels\n",
    "plt.title('Stacked Histogram of mid-price')\n",
    "plt.xlabel('mid-price')\n",
    "plt.ylabel('Count')\n",
    "\n",
    "# Set the x-limits\n",
    "plt.xlim(0, 0.35)\n",
    "\n",
    "# Add a legend\n",
    "plt.legend()\n",
    "\n",
    "# Show the plot\n",
    "plt.show()"
   ]
  },
  {
   "cell_type": "code",
   "execution_count": 86,
   "metadata": {},
   "outputs": [],
   "source": [
    "# print(type(merged_df))\n",
    "# sso_info = merged_df[merged_df['ticker'] == 'AMZN']\n",
    "\n",
    "# sso_info"
   ]
  },
  {
   "cell_type": "markdown",
   "metadata": {},
   "source": [
    "# Create implied volatility surface"
   ]
  },
  {
   "cell_type": "code",
   "execution_count": 88,
   "metadata": {},
   "outputs": [
    {
     "data": {
      "image/png": "[encoded data removed]",
      "text/plain": [
       "<Figure size 1000x700 with 1 Axes>"
      ]
     },
     "metadata": {},
     "output_type": "display_data"
    }
   ],
   "source": [
    "import matplotlib.pyplot as plt\n",
    "from mpl_toolkits.mplot3d import Axes3D\n",
    "import numpy as np\n",
    "import pandas as pd\n",
    "import matplotlib.pyplot as plt\n",
    "from mpl_toolkits.mplot3d import Axes3D\n",
    "from scipy.interpolate import griddata\n",
    "\n",
    "# Convert the string to a pandas Timestamp\n",
    "date = pd.Timestamp('2020-03-23')\n",
    "\n",
    "# Filter the DataFrame for the 'NVDA' ticker and the specific date\n",
    "df_nvda = merged_df[(merged_df['ticker'] == 'AMZN') & (merged_df['date'] == date)]\n",
    "\n",
    "fig = plt.figure(figsize=(10, 7))\n",
    "ax = fig.add_subplot(111, projection='3d')\n",
    "\n",
    "# Plot the data\n",
    "ax.scatter(df_nvda['moneyness'], df_nvda['days_till_exp'], df_nvda['impl_volatility'])\n",
    "\n",
    "ax.set_xlabel('Moneyness')\n",
    "ax.set_ylabel('Days till Expiry')\n",
    "ax.set_zlabel('Implied Volatility')\n",
    "\n",
    "plt.show()"
   ]
  }
 ],
 "metadata": {
  "kernelspec": {
   "display_name": "Python 3",
   "language": "python",
   "name": "python3"
  },
  "language_info": {
   "codemirror_mode": {
    "name": "ipython",
    "version": 3
   },
   "file_extension": ".py",
   "mimetype": "text/x-python",
   "name": "python",
   "nbconvert_exporter": "python",
   "pygments_lexer": "ipython3",
   "version": "3.11.9"
  }
 },
 "nbformat": 4,
 "nbformat_minor": 2
}
