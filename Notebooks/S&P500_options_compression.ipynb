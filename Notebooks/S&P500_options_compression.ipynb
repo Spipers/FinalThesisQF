{
 "cells": [
  {
   "cell_type": "code",
   "execution_count": 1,
   "metadata": {},
   "outputs": [
    {
     "data": {
      "application/javascript": "(function(root) {\n  function now() {\n    return new Date();\n  }\n\n  var force = true;\n  var py_version = '3.3.3'.replace('rc', '-rc.').replace('.dev', '-dev.');\n  var reloading = false;\n  var Bokeh = root.Bokeh;\n\n  if (typeof (root._bokeh_timeout) === \"undefined\" || force) {\n    root._bokeh_timeout = Date.now() + 5000;\n    root._bokeh_failed_load = false;\n  }\n\n  function run_callbacks() {\n    try {\n      root._bokeh_onload_callbacks.forEach(function(callback) {\n        if (callback != null)\n          callback();\n      });\n    } finally {\n      delete root._bokeh_onload_callbacks;\n    }\n    console.debug(\"Bokeh: all callbacks have finished\");\n  }\n\n  function load_libs(css_urls, js_urls, js_modules, js_exports, callback) {\n    if (css_urls == null) css_urls = [];\n    if (js_urls == null) js_urls = [];\n    if (js_modules == null) js_modules = [];\n    if (js_exports == null) js_exports = {};\n\n    root._bokeh_onload_callbacks.push(callback);\n\n    if (root._bokeh_is_loading > 0) {\n      console.debug(\"Bokeh: BokehJS is being loaded, scheduling callback at\", now());\n      return null;\n    }\n    if (js_urls.length === 0 && js_modules.length === 0 && Object.keys(js_exports).length === 0) {\n      run_callbacks();\n      return null;\n    }\n    if (!reloading) {\n      console.debug(\"Bokeh: BokehJS not loaded, scheduling load and callback at\", now());\n    }\n\n    function on_load() {\n      root._bokeh_is_loading--;\n      if (root._bokeh_is_loading === 0) {\n        console.debug(\"Bokeh: all BokehJS libraries/stylesheets loaded\");\n        run_callbacks()\n      }\n    }\n    window._bokeh_on_load = on_load\n\n    function on_error() {\n      console.error(\"failed to load \" + url);\n    }\n\n    var skip = [];\n    if (window.requirejs) {\n      window.requirejs.config({'packages': {}, 'paths': {'jspanel': 'https://cdn.jsdelivr.net/npm/jspanel4@4.12.0/dist/jspanel', 'jspanel-modal': 'https://cdn.jsdelivr.net/npm/jspanel4@4.12.0/dist/extensions/modal/jspanel.modal', 'jspanel-tooltip': 'https://cdn.jsdelivr.net/npm/jspanel4@4.12.0/dist/extensions/tooltip/jspanel.tooltip', 'jspanel-hint': 'https://cdn.jsdelivr.net/npm/jspanel4@4.12.0/dist/extensions/hint/jspanel.hint', 'jspanel-layout': 'https://cdn.jsdelivr.net/npm/jspanel4@4.12.0/dist/extensions/layout/jspanel.layout', 'jspanel-contextmenu': 'https://cdn.jsdelivr.net/npm/jspanel4@4.12.0/dist/extensions/contextmenu/jspanel.contextmenu', 'jspanel-dock': 'https://cdn.jsdelivr.net/npm/jspanel4@4.12.0/dist/extensions/dock/jspanel.dock', 'gridstack': 'https://cdn.jsdelivr.net/npm/gridstack@7.2.3/dist/gridstack-all', 'notyf': 'https://cdn.jsdelivr.net/npm/notyf@3/notyf.min'}, 'shim': {'jspanel': {'exports': 'jsPanel'}, 'gridstack': {'exports': 'GridStack'}}});\n      require([\"jspanel\"], function(jsPanel) {\n\twindow.jsPanel = jsPanel\n\ton_load()\n      })\n      require([\"jspanel-modal\"], function() {\n\ton_load()\n      })\n      require([\"jspanel-tooltip\"], function() {\n\ton_load()\n      })\n      require([\"jspanel-hint\"], function() {\n\ton_load()\n      })\n      require([\"jspanel-layout\"], function() {\n\ton_load()\n      })\n      require([\"jspanel-contextmenu\"], function() {\n\ton_load()\n      })\n      require([\"jspanel-dock\"], function() {\n\ton_load()\n      })\n      require([\"gridstack\"], function(GridStack) {\n\twindow.GridStack = GridStack\n\ton_load()\n      })\n      require([\"notyf\"], function() {\n\ton_load()\n      })\n      root._bokeh_is_loading = css_urls.length + 9;\n    } else {\n      root._bokeh_is_loading = css_urls.length + js_urls.length + js_modules.length + Object.keys(js_exports).length;\n    }\n\n    var existing_stylesheets = []\n    var links = document.getElementsByTagName('link')\n    for (var i = 0; i < links.length; i++) {\n      var link = links[i]\n      if (link.href != null) {\n\texisting_stylesheets.push(link.href)\n      }\n    }\n    for (var i = 0; i < css_urls.length; i++) {\n      var url = css_urls[i];\n      if (existing_stylesheets.indexOf(url) !== -1) {\n\ton_load()\n\tcontinue;\n      }\n      const element = document.createElement(\"link\");\n      element.onload = on_load;\n      element.onerror = on_error;\n      element.rel = \"stylesheet\";\n      element.type = \"text/css\";\n      element.href = url;\n      console.debug(\"Bokeh: injecting link tag for BokehJS stylesheet: \", url);\n      document.body.appendChild(element);\n    }    if (((window['jsPanel'] !== undefined) && (!(window['jsPanel'] instanceof HTMLElement))) || window.requirejs) {\n      var urls = ['https://cdn.holoviz.org/panel/1.3.6/dist/bundled/floatpanel/jspanel4@4.12.0/dist/jspanel.js', 'https://cdn.holoviz.org/panel/1.3.6/dist/bundled/floatpanel/jspanel4@4.12.0/dist/extensions/modal/jspanel.modal.js', 'https://cdn.holoviz.org/panel/1.3.6/dist/bundled/floatpanel/jspanel4@4.12.0/dist/extensions/tooltip/jspanel.tooltip.js', 'https://cdn.holoviz.org/panel/1.3.6/dist/bundled/floatpanel/jspanel4@4.12.0/dist/extensions/hint/jspanel.hint.js', 'https://cdn.holoviz.org/panel/1.3.6/dist/bundled/floatpanel/jspanel4@4.12.0/dist/extensions/layout/jspanel.layout.js', 'https://cdn.holoviz.org/panel/1.3.6/dist/bundled/floatpanel/jspanel4@4.12.0/dist/extensions/contextmenu/jspanel.contextmenu.js', 'https://cdn.holoviz.org/panel/1.3.6/dist/bundled/floatpanel/jspanel4@4.12.0/dist/extensions/dock/jspanel.dock.js'];\n      for (var i = 0; i < urls.length; i++) {\n        skip.push(urls[i])\n      }\n    }    if (((window['GridStack'] !== undefined) && (!(window['GridStack'] instanceof HTMLElement))) || window.requirejs) {\n      var urls = ['https://cdn.holoviz.org/panel/1.3.6/dist/bundled/gridstack/gridstack@7.2.3/dist/gridstack-all.js'];\n      for (var i = 0; i < urls.length; i++) {\n        skip.push(urls[i])\n      }\n    }    if (((window['Notyf'] !== undefined) && (!(window['Notyf'] instanceof HTMLElement))) || window.requirejs) {\n      var urls = ['https://cdn.holoviz.org/panel/1.3.6/dist/bundled/notificationarea/notyf@3/notyf.min.js'];\n      for (var i = 0; i < urls.length; i++) {\n        skip.push(urls[i])\n      }\n    }    var existing_scripts = []\n    var scripts = document.getElementsByTagName('script')\n    for (var i = 0; i < scripts.length; i++) {\n      var script = scripts[i]\n      if (script.src != null) {\n\texisting_scripts.push(script.src)\n      }\n    }\n    for (var i = 0; i < js_urls.length; i++) {\n      var url = js_urls[i];\n      if (skip.indexOf(url) !== -1 || existing_scripts.indexOf(url) !== -1) {\n\tif (!window.requirejs) {\n\t  on_load();\n\t}\n\tcontinue;\n      }\n      var element = document.createElement('script');\n      element.onload = on_load;\n      element.onerror = on_error;\n      element.async = false;\n      element.src = url;\n      console.debug(\"Bokeh: injecting script tag for BokehJS library: \", url);\n      document.head.appendChild(element);\n    }\n    for (var i = 0; i < js_modules.length; i++) {\n      var url = js_modules[i];\n      if (skip.indexOf(url) !== -1 || existing_scripts.indexOf(url) !== -1) {\n\tif (!window.requirejs) {\n\t  on_load();\n\t}\n\tcontinue;\n      }\n      var element = document.createElement('script');\n      element.onload = on_load;\n      element.onerror = on_error;\n      element.async = false;\n      element.src = url;\n      element.type = \"module\";\n      console.debug(\"Bokeh: injecting script tag for BokehJS library: \", url);\n      document.head.appendChild(element);\n    }\n    for (const name in js_exports) {\n      var url = js_exports[name];\n      if (skip.indexOf(url) >= 0 || root[name] != null) {\n\tif (!window.requirejs) {\n\t  on_load();\n\t}\n\tcontinue;\n      }\n      var element = document.createElement('script');\n      element.onerror = on_error;\n      element.async = false;\n      element.type = \"module\";\n      console.debug(\"Bokeh: injecting script tag for BokehJS library: \", url);\n      element.textContent = `\n      import ${name} from \"${url}\"\n      window.${name} = ${name}\n      window._bokeh_on_load()\n      `\n      document.head.appendChild(element);\n    }\n    if (!js_urls.length && !js_modules.length) {\n      on_load()\n    }\n  };\n\n  function inject_raw_css(css) {\n    const element = document.createElement(\"style\");\n    element.appendChild(document.createTextNode(css));\n    document.body.appendChild(element);\n  }\n\n  var js_urls = [\"https://cdn.bokeh.org/bokeh/release/bokeh-3.3.3.min.js\", \"https://cdn.bokeh.org/bokeh/release/bokeh-gl-3.3.3.min.js\", \"https://cdn.bokeh.org/bokeh/release/bokeh-widgets-3.3.3.min.js\", \"https://cdn.bokeh.org/bokeh/release/bokeh-tables-3.3.3.min.js\", \"https://cdn.holoviz.org/panel/1.3.6/dist/panel.min.js\"];\n  var js_modules = [];\n  var js_exports = {};\n  var css_urls = [];\n  var inline_js = [    function(Bokeh) {\n      Bokeh.set_log_level(\"info\");\n    },\nfunction(Bokeh) {} // ensure no trailing comma for IE\n  ];\n\n  function run_inline_js() {\n    if ((root.Bokeh !== undefined) || (force === true)) {\n      for (var i = 0; i < inline_js.length; i++) {\n\ttry {\n          inline_js[i].call(root, root.Bokeh);\n\t} catch(e) {\n\t  if (!reloading) {\n\t    throw e;\n\t  }\n\t}\n      }\n      // Cache old bokeh versions\n      if (Bokeh != undefined && !reloading) {\n\tvar NewBokeh = root.Bokeh;\n\tif (Bokeh.versions === undefined) {\n\t  Bokeh.versions = new Map();\n\t}\n\tif (NewBokeh.version !== Bokeh.version) {\n\t  Bokeh.versions.set(NewBokeh.version, NewBokeh)\n\t}\n\troot.Bokeh = Bokeh;\n      }} else if (Date.now() < root._bokeh_timeout) {\n      setTimeout(run_inline_js, 100);\n    } else if (!root._bokeh_failed_load) {\n      console.log(\"Bokeh: BokehJS failed to load within specified timeout.\");\n      root._bokeh_failed_load = true;\n    }\n    root._bokeh_is_initializing = false\n  }\n\n  function load_or_wait() {\n    // Implement a backoff loop that tries to ensure we do not load multiple\n    // versions of Bokeh and its dependencies at the same time.\n    // In recent versions we use the root._bokeh_is_initializing flag\n    // to determine whether there is an ongoing attempt to initialize\n    // bokeh, however for backward compatibility we also try to ensure\n    // that we do not start loading a newer (Panel>=1.0 and Bokeh>3) version\n    // before older versions are fully initialized.\n    if (root._bokeh_is_initializing && Date.now() > root._bokeh_timeout) {\n      root._bokeh_is_initializing = false;\n      root._bokeh_onload_callbacks = undefined;\n      console.log(\"Bokeh: BokehJS was loaded multiple times but one version failed to initialize.\");\n      load_or_wait();\n    } else if (root._bokeh_is_initializing || (typeof root._bokeh_is_initializing === \"undefined\" && root._bokeh_onload_callbacks !== undefined)) {\n      setTimeout(load_or_wait, 100);\n    } else {\n      root._bokeh_is_initializing = true\n      root._bokeh_onload_callbacks = []\n      var bokeh_loaded = Bokeh != null && (Bokeh.version === py_version || (Bokeh.versions !== undefined && Bokeh.versions.has(py_version)));\n      if (!reloading && !bokeh_loaded) {\n\troot.Bokeh = undefined;\n      }\n      load_libs(css_urls, js_urls, js_modules, js_exports, function() {\n\tconsole.debug(\"Bokeh: BokehJS plotting callback run at\", now());\n\trun_inline_js();\n      });\n    }\n  }\n  // Give older versions of the autoload script a head-start to ensure\n  // they initialize before we start loading newer version.\n  setTimeout(load_or_wait, 100)\n}(window));",
      "application/vnd.holoviews_load.v0+json": ""
     },
     "metadata": {},
     "output_type": "display_data"
    },
    {
     "data": {
      "application/javascript": "\nif ((window.PyViz === undefined) || (window.PyViz instanceof HTMLElement)) {\n  window.PyViz = {comms: {}, comm_status:{}, kernels:{}, receivers: {}, plot_index: []}\n}\n\n\n    function JupyterCommManager() {\n    }\n\n    JupyterCommManager.prototype.register_target = function(plot_id, comm_id, msg_handler) {\n      if (window.comm_manager || ((window.Jupyter !== undefined) && (Jupyter.notebook.kernel != null))) {\n        var comm_manager = window.comm_manager || Jupyter.notebook.kernel.comm_manager;\n        comm_manager.register_target(comm_id, function(comm) {\n          comm.on_msg(msg_handler);\n        });\n      } else if ((plot_id in window.PyViz.kernels) && (window.PyViz.kernels[plot_id])) {\n        window.PyViz.kernels[plot_id].registerCommTarget(comm_id, function(comm) {\n          comm.onMsg = msg_handler;\n        });\n      } else if (typeof google != 'undefined' && google.colab.kernel != null) {\n        google.colab.kernel.comms.registerTarget(comm_id, (comm) => {\n          var messages = comm.messages[Symbol.asyncIterator]();\n          function processIteratorResult(result) {\n            var message = result.value;\n            console.log(message)\n            var content = {data: message.data, comm_id};\n            var buffers = []\n            for (var buffer of message.buffers || []) {\n              buffers.push(new DataView(buffer))\n            }\n            var metadata = message.metadata || {};\n            var msg = {content, buffers, metadata}\n            msg_handler(msg);\n            return messages.next().then(processIteratorResult);\n          }\n          return messages.next().then(processIteratorResult);\n        })\n      }\n    }\n\n    JupyterCommManager.prototype.get_client_comm = function(plot_id, comm_id, msg_handler) {\n      if (comm_id in window.PyViz.comms) {\n        return window.PyViz.comms[comm_id];\n      } else if (window.comm_manager || ((window.Jupyter !== undefined) && (Jupyter.notebook.kernel != null))) {\n        var comm_manager = window.comm_manager || Jupyter.notebook.kernel.comm_manager;\n        var comm = comm_manager.new_comm(comm_id, {}, {}, {}, comm_id);\n        if (msg_handler) {\n          comm.on_msg(msg_handler);\n        }\n      } else if ((plot_id in window.PyViz.kernels) && (window.PyViz.kernels[plot_id])) {\n        var comm = window.PyViz.kernels[plot_id].connectToComm(comm_id);\n        comm.open();\n        if (msg_handler) {\n          comm.onMsg = msg_handler;\n        }\n      } else if (typeof google != 'undefined' && google.colab.kernel != null) {\n        var comm_promise = google.colab.kernel.comms.open(comm_id)\n        comm_promise.then((comm) => {\n          window.PyViz.comms[comm_id] = comm;\n          if (msg_handler) {\n            var messages = comm.messages[Symbol.asyncIterator]();\n            function processIteratorResult(result) {\n              var message = result.value;\n              var content = {data: message.data};\n              var metadata = message.metadata || {comm_id};\n              var msg = {content, metadata}\n              msg_handler(msg);\n              return messages.next().then(processIteratorResult);\n            }\n            return messages.next().then(processIteratorResult);\n          }\n        }) \n        var sendClosure = (data, metadata, buffers, disposeOnDone) => {\n          return comm_promise.then((comm) => {\n            comm.send(data, metadata, buffers, disposeOnDone);\n          });\n        };\n        var comm = {\n          send: sendClosure\n        };\n      }\n      window.PyViz.comms[comm_id] = comm;\n      return comm;\n    }\n    window.PyViz.comm_manager = new JupyterCommManager();\n    \n\n\nvar JS_MIME_TYPE = 'application/javascript';\nvar HTML_MIME_TYPE = 'text/html';\nvar EXEC_MIME_TYPE = 'application/vnd.holoviews_exec.v0+json';\nvar CLASS_NAME = 'output';\n\n/**\n * Render data to the DOM node\n */\nfunction render(props, node) {\n  var div = document.createElement(\"div\");\n  var script = document.createElement(\"script\");\n  node.appendChild(div);\n  node.appendChild(script);\n}\n\n/**\n * Handle when a new output is added\n */\nfunction handle_add_output(event, handle) {\n  var output_area = handle.output_area;\n  var output = handle.output;\n  if ((output.data == undefined) || (!output.data.hasOwnProperty(EXEC_MIME_TYPE))) {\n    return\n  }\n  var id = output.metadata[EXEC_MIME_TYPE][\"id\"];\n  var toinsert = output_area.element.find(\".\" + CLASS_NAME.split(' ')[0]);\n  if (id !== undefined) {\n    var nchildren = toinsert.length;\n    var html_node = toinsert[nchildren-1].children[0];\n    html_node.innerHTML = output.data[HTML_MIME_TYPE];\n    var scripts = [];\n    var nodelist = html_node.querySelectorAll(\"script\");\n    for (var i in nodelist) {\n      if (nodelist.hasOwnProperty(i)) {\n        scripts.push(nodelist[i])\n      }\n    }\n\n    scripts.forEach( function (oldScript) {\n      var newScript = document.createElement(\"script\");\n      var attrs = [];\n      var nodemap = oldScript.attributes;\n      for (var j in nodemap) {\n        if (nodemap.hasOwnProperty(j)) {\n          attrs.push(nodemap[j])\n        }\n      }\n      attrs.forEach(function(attr) { newScript.setAttribute(attr.name, attr.value) });\n      newScript.appendChild(document.createTextNode(oldScript.innerHTML));\n      oldScript.parentNode.replaceChild(newScript, oldScript);\n    });\n    if (JS_MIME_TYPE in output.data) {\n      toinsert[nchildren-1].children[1].textContent = output.data[JS_MIME_TYPE];\n    }\n    output_area._hv_plot_id = id;\n    if ((window.Bokeh !== undefined) && (id in Bokeh.index)) {\n      window.PyViz.plot_index[id] = Bokeh.index[id];\n    } else {\n      window.PyViz.plot_index[id] = null;\n    }\n  } else if (output.metadata[EXEC_MIME_TYPE][\"server_id\"] !== undefined) {\n    var bk_div = document.createElement(\"div\");\n    bk_div.innerHTML = output.data[HTML_MIME_TYPE];\n    var script_attrs = bk_div.children[0].attributes;\n    for (var i = 0; i < script_attrs.length; i++) {\n      toinsert[toinsert.length - 1].childNodes[1].setAttribute(script_attrs[i].name, script_attrs[i].value);\n    }\n    // store reference to server id on output_area\n    output_area._bokeh_server_id = output.metadata[EXEC_MIME_TYPE][\"server_id\"];\n  }\n}\n\n/**\n * Handle when an output is cleared or removed\n */\nfunction handle_clear_output(event, handle) {\n  var id = handle.cell.output_area._hv_plot_id;\n  var server_id = handle.cell.output_area._bokeh_server_id;\n  if (((id === undefined) || !(id in PyViz.plot_index)) && (server_id !== undefined)) { return; }\n  var comm = window.PyViz.comm_manager.get_client_comm(\"hv-extension-comm\", \"hv-extension-comm\", function () {});\n  if (server_id !== null) {\n    comm.send({event_type: 'server_delete', 'id': server_id});\n    return;\n  } else if (comm !== null) {\n    comm.send({event_type: 'delete', 'id': id});\n  }\n  delete PyViz.plot_index[id];\n  if ((window.Bokeh !== undefined) & (id in window.Bokeh.index)) {\n    var doc = window.Bokeh.index[id].model.document\n    doc.clear();\n    const i = window.Bokeh.documents.indexOf(doc);\n    if (i > -1) {\n      window.Bokeh.documents.splice(i, 1);\n    }\n  }\n}\n\n/**\n * Handle kernel restart event\n */\nfunction handle_kernel_cleanup(event, handle) {\n  delete PyViz.comms[\"hv-extension-comm\"];\n  window.PyViz.plot_index = {}\n}\n\n/**\n * Handle update_display_data messages\n */\nfunction handle_update_output(event, handle) {\n  handle_clear_output(event, {cell: {output_area: handle.output_area}})\n  handle_add_output(event, handle)\n}\n\nfunction register_renderer(events, OutputArea) {\n  function append_mime(data, metadata, element) {\n    // create a DOM node to render to\n    var toinsert = this.create_output_subarea(\n    metadata,\n    CLASS_NAME,\n    EXEC_MIME_TYPE\n    );\n    this.keyboard_manager.register_events(toinsert);\n    // Render to node\n    var props = {data: data, metadata: metadata[EXEC_MIME_TYPE]};\n    render(props, toinsert[0]);\n    element.append(toinsert);\n    return toinsert\n  }\n\n  events.on('output_added.OutputArea', handle_add_output);\n  events.on('output_updated.OutputArea', handle_update_output);\n  events.on('clear_output.CodeCell', handle_clear_output);\n  events.on('delete.Cell', handle_clear_output);\n  events.on('kernel_ready.Kernel', handle_kernel_cleanup);\n\n  OutputArea.prototype.register_mime_type(EXEC_MIME_TYPE, append_mime, {\n    safe: true,\n    index: 0\n  });\n}\n\nif (window.Jupyter !== undefined) {\n  try {\n    var events = require('base/js/events');\n    var OutputArea = require('notebook/js/outputarea').OutputArea;\n    if (OutputArea.prototype.mime_types().indexOf(EXEC_MIME_TYPE) == -1) {\n      register_renderer(events, OutputArea);\n    }\n  } catch(err) {\n  }\n}\n",
      "application/vnd.holoviews_load.v0+json": ""
     },
     "metadata": {},
     "output_type": "display_data"
    },
    {
     "data": {
      "text/html": [
       "<style>*[data-root-id],\n",
       "*[data-root-id] > * {\n",
       "  box-sizing: border-box;\n",
       "  font-family: var(--jp-ui-font-family);\n",
       "  font-size: var(--jp-ui-font-size1);\n",
       "  color: var(--vscode-editor-foreground, var(--jp-ui-font-color1));\n",
       "}\n",
       "\n",
       "/* Override VSCode background color */\n",
       ".cell-output-ipywidget-background:has(\n",
       "    > .cell-output-ipywidget-background > .lm-Widget > *[data-root-id]\n",
       "  ),\n",
       ".cell-output-ipywidget-background:has(> .lm-Widget > *[data-root-id]) {\n",
       "  background-color: transparent !important;\n",
       "}\n",
       "</style>"
      ]
     },
     "metadata": {},
     "output_type": "display_data"
    },
    {
     "data": {
      "application/vnd.holoviews_exec.v0+json": "",
      "text/html": [
       "<div id='p1002'>\n",
       "  <div id=\"e0423402-da55-4237-a54a-877a66f974e7\" data-root-id=\"p1002\" style=\"display: contents;\"></div>\n",
       "</div>\n",
       "<script type=\"application/javascript\">(function(root) {\n",
       "  var docs_json = {\"66238daf-dbee-4011-8f17-d370a2b48fc0\":{\"version\":\"3.3.3\",\"title\":\"Bokeh Application\",\"roots\":[{\"type\":\"object\",\"name\":\"panel.models.browser.BrowserInfo\",\"id\":\"p1002\"},{\"type\":\"object\",\"name\":\"panel.models.comm_manager.CommManager\",\"id\":\"p1003\",\"attributes\":{\"plot_id\":\"p1002\",\"comm_id\":\"eefdc269259a4952bf2c17344f5da3e4\",\"client_comm_id\":\"b355a9e9eee34d8682f1bf64a15aa072\"}}],\"defs\":[{\"type\":\"model\",\"name\":\"ReactiveHTML1\"},{\"type\":\"model\",\"name\":\"FlexBox1\",\"properties\":[{\"name\":\"align_content\",\"kind\":\"Any\",\"default\":\"flex-start\"},{\"name\":\"align_items\",\"kind\":\"Any\",\"default\":\"flex-start\"},{\"name\":\"flex_direction\",\"kind\":\"Any\",\"default\":\"row\"},{\"name\":\"flex_wrap\",\"kind\":\"Any\",\"default\":\"wrap\"},{\"name\":\"justify_content\",\"kind\":\"Any\",\"default\":\"flex-start\"}]},{\"type\":\"model\",\"name\":\"FloatPanel1\",\"properties\":[{\"name\":\"config\",\"kind\":\"Any\",\"default\":{\"type\":\"map\"}},{\"name\":\"contained\",\"kind\":\"Any\",\"default\":true},{\"name\":\"position\",\"kind\":\"Any\",\"default\":\"right-top\"},{\"name\":\"offsetx\",\"kind\":\"Any\",\"default\":null},{\"name\":\"offsety\",\"kind\":\"Any\",\"default\":null},{\"name\":\"theme\",\"kind\":\"Any\",\"default\":\"primary\"},{\"name\":\"status\",\"kind\":\"Any\",\"default\":\"normalized\"}]},{\"type\":\"model\",\"name\":\"GridStack1\",\"properties\":[{\"name\":\"mode\",\"kind\":\"Any\",\"default\":\"warn\"},{\"name\":\"ncols\",\"kind\":\"Any\",\"default\":null},{\"name\":\"nrows\",\"kind\":\"Any\",\"default\":null},{\"name\":\"allow_resize\",\"kind\":\"Any\",\"default\":true},{\"name\":\"allow_drag\",\"kind\":\"Any\",\"default\":true},{\"name\":\"state\",\"kind\":\"Any\",\"default\":[]}]},{\"type\":\"model\",\"name\":\"drag1\",\"properties\":[{\"name\":\"slider_width\",\"kind\":\"Any\",\"default\":5},{\"name\":\"slider_color\",\"kind\":\"Any\",\"default\":\"black\"},{\"name\":\"value\",\"kind\":\"Any\",\"default\":50}]},{\"type\":\"model\",\"name\":\"click1\",\"properties\":[{\"name\":\"terminal_output\",\"kind\":\"Any\",\"default\":\"\"},{\"name\":\"debug_name\",\"kind\":\"Any\",\"default\":\"\"},{\"name\":\"clears\",\"kind\":\"Any\",\"default\":0}]},{\"type\":\"model\",\"name\":\"copy_to_clipboard1\",\"properties\":[{\"name\":\"fill\",\"kind\":\"Any\",\"default\":\"none\"},{\"name\":\"value\",\"kind\":\"Any\",\"default\":null}]},{\"type\":\"model\",\"name\":\"FastWrapper1\",\"properties\":[{\"name\":\"object\",\"kind\":\"Any\",\"default\":null},{\"name\":\"style\",\"kind\":\"Any\",\"default\":null}]},{\"type\":\"model\",\"name\":\"NotificationAreaBase1\",\"properties\":[{\"name\":\"js_events\",\"kind\":\"Any\",\"default\":{\"type\":\"map\"}},{\"name\":\"position\",\"kind\":\"Any\",\"default\":\"bottom-right\"},{\"name\":\"_clear\",\"kind\":\"Any\",\"default\":0}]},{\"type\":\"model\",\"name\":\"NotificationArea1\",\"properties\":[{\"name\":\"js_events\",\"kind\":\"Any\",\"default\":{\"type\":\"map\"}},{\"name\":\"notifications\",\"kind\":\"Any\",\"default\":[]},{\"name\":\"position\",\"kind\":\"Any\",\"default\":\"bottom-right\"},{\"name\":\"_clear\",\"kind\":\"Any\",\"default\":0},{\"name\":\"types\",\"kind\":\"Any\",\"default\":[{\"type\":\"map\",\"entries\":[[\"type\",\"warning\"],[\"background\",\"#ffc107\"],[\"icon\",{\"type\":\"map\",\"entries\":[[\"className\",\"fas fa-exclamation-triangle\"],[\"tagName\",\"i\"],[\"color\",\"white\"]]}]]},{\"type\":\"map\",\"entries\":[[\"type\",\"info\"],[\"background\",\"#007bff\"],[\"icon\",{\"type\":\"map\",\"entries\":[[\"className\",\"fas fa-info-circle\"],[\"tagName\",\"i\"],[\"color\",\"white\"]]}]]}]}]},{\"type\":\"model\",\"name\":\"Notification\",\"properties\":[{\"name\":\"background\",\"kind\":\"Any\",\"default\":null},{\"name\":\"duration\",\"kind\":\"Any\",\"default\":3000},{\"name\":\"icon\",\"kind\":\"Any\",\"default\":null},{\"name\":\"message\",\"kind\":\"Any\",\"default\":\"\"},{\"name\":\"notification_type\",\"kind\":\"Any\",\"default\":null},{\"name\":\"_destroyed\",\"kind\":\"Any\",\"default\":false}]},{\"type\":\"model\",\"name\":\"TemplateActions1\",\"properties\":[{\"name\":\"open_modal\",\"kind\":\"Any\",\"default\":0},{\"name\":\"close_modal\",\"kind\":\"Any\",\"default\":0}]},{\"type\":\"model\",\"name\":\"BootstrapTemplateActions1\",\"properties\":[{\"name\":\"open_modal\",\"kind\":\"Any\",\"default\":0},{\"name\":\"close_modal\",\"kind\":\"Any\",\"default\":0}]},{\"type\":\"model\",\"name\":\"MaterialTemplateActions1\",\"properties\":[{\"name\":\"open_modal\",\"kind\":\"Any\",\"default\":0},{\"name\":\"close_modal\",\"kind\":\"Any\",\"default\":0}]}]}};\n",
       "  var render_items = [{\"docid\":\"66238daf-dbee-4011-8f17-d370a2b48fc0\",\"roots\":{\"p1002\":\"e0423402-da55-4237-a54a-877a66f974e7\"},\"root_ids\":[\"p1002\"]}];\n",
       "  var docs = Object.values(docs_json)\n",
       "  if (!docs) {\n",
       "    return\n",
       "  }\n",
       "  const py_version = docs[0].version.replace('rc', '-rc.').replace('.dev', '-dev.')\n",
       "  function embed_document(root) {\n",
       "    var Bokeh = get_bokeh(root)\n",
       "    Bokeh.embed.embed_items_notebook(docs_json, render_items);\n",
       "    for (const render_item of render_items) {\n",
       "      for (const root_id of render_item.root_ids) {\n",
       "\tconst id_el = document.getElementById(root_id)\n",
       "\tif (id_el.children.length && (id_el.children[0].className === 'bk-root')) {\n",
       "\t  const root_el = id_el.children[0]\n",
       "\t  root_el.id = root_el.id + '-rendered'\n",
       "\t}\n",
       "      }\n",
       "    }\n",
       "  }\n",
       "  function get_bokeh(root) {\n",
       "    if (root.Bokeh === undefined) {\n",
       "      return null\n",
       "    } else if (root.Bokeh.version !== py_version) {\n",
       "      if (root.Bokeh.versions === undefined || !root.Bokeh.versions.has(py_version)) {\n",
       "\treturn null\n",
       "      }\n",
       "      return root.Bokeh.versions.get(py_version);\n",
       "    } else if (root.Bokeh.version === py_version) {\n",
       "      return root.Bokeh\n",
       "    }\n",
       "    return null\n",
       "  }\n",
       "  function is_loaded(root) {\n",
       "    var Bokeh = get_bokeh(root)\n",
       "    return (Bokeh != null && Bokeh.Panel !== undefined)\n",
       "  }\n",
       "  if (is_loaded(root)) {\n",
       "    embed_document(root);\n",
       "  } else {\n",
       "    var attempts = 0;\n",
       "    var timer = setInterval(function(root) {\n",
       "      if (is_loaded(root)) {\n",
       "        clearInterval(timer);\n",
       "        embed_document(root);\n",
       "      } else if (document.readyState == \"complete\") {\n",
       "        attempts++;\n",
       "        if (attempts > 200) {\n",
       "          clearInterval(timer);\n",
       "\t  var Bokeh = get_bokeh(root)\n",
       "\t  if (Bokeh == null || Bokeh.Panel == null) {\n",
       "            console.warn(\"Panel: ERROR: Unable to run Panel code because Bokeh or Panel library is missing\");\n",
       "\t  } else {\n",
       "\t    console.warn(\"Panel: WARNING: Attempting to render but not all required libraries could be resolved.\")\n",
       "\t    embed_document(root)\n",
       "\t  }\n",
       "        }\n",
       "      }\n",
       "    }, 25, root)\n",
       "  }\n",
       "})(window);</script>"
      ]
     },
     "metadata": {
      "application/vnd.holoviews_exec.v0+json": {
       "id": "p1002"
      }
     },
     "output_type": "display_data"
    }
   ],
   "source": [
    "import polars as pl\n",
    "import os\n",
    "from pathlib import Path\n",
    "import pandas as pd\n",
    "import hvplot.polars\n",
    "\n",
    "csv_options_data = Path.cwd().parent / \"Data/S&P500_optiondata.csv\"\n",
    "parquet_file = (Path.cwd().parent / \"Data/S&P500_optiondata\")\n",
    "\n",
    "data_path = Path.cwd().parent / \"Data\""
   ]
  },
  {
   "cell_type": "code",
   "execution_count": 126,
   "metadata": {},
   "outputs": [
    {
     "data": {
      "text/plain": [
       "3053.2674922943115"
      ]
     },
     "execution_count": 126,
     "metadata": {},
     "output_type": "execute_result"
    }
   ],
   "source": [
    "pl.read_csv(csv_options_data, separator = \",\").estimated_size(\"mb\")"
   ]
  },
  {
   "cell_type": "code",
   "execution_count": 127,
   "metadata": {},
   "outputs": [
    {
     "data": {
      "text/html": [
       "<div><style>\n",
       ".dataframe > thead > tr,\n",
       ".dataframe > tbody > tr {\n",
       "  text-align: right;\n",
       "  white-space: pre-wrap;\n",
       "}\n",
       "</style>\n",
       "<small>shape: (1_000, 12)</small><table border=\"1\" class=\"dataframe\"><thead><tr><th>secid</th><th>date</th><th>exdate</th><th>cp_flag</th><th>strike_price</th><th>impl_volatility</th><th>delta</th><th>optionid</th><th>ticker</th><th>index_flag</th><th>issuer</th><th>exercise_style</th></tr><tr><td>i64</td><td>str</td><td>str</td><td>str</td><td>i64</td><td>str</td><td>str</td><td>i64</td><td>str</td><td>i64</td><td>str</td><td>str</td></tr></thead><tbody><tr><td>108105</td><td>&quot;2019-01-02&quot;</td><td>&quot;2019-01-18&quot;</td><td>&quot;C&quot;</td><td>1000000</td><td>null</td><td>null</td><td>121564922</td><td>&quot;SPX&quot;</td><td>1</td><td>&quot;CBOE S&amp;P 500 I…</td><td>&quot;E&quot;</td></tr><tr><td>108105</td><td>&quot;2019-01-02&quot;</td><td>&quot;2019-01-18&quot;</td><td>&quot;C&quot;</td><td>1025000</td><td>null</td><td>null</td><td>127117395</td><td>&quot;SPX&quot;</td><td>1</td><td>&quot;CBOE S&amp;P 500 I…</td><td>&quot;E&quot;</td></tr><tr><td>108105</td><td>&quot;2019-01-02&quot;</td><td>&quot;2019-01-18&quot;</td><td>&quot;C&quot;</td><td>1050000</td><td>null</td><td>null</td><td>127111810</td><td>&quot;SPX&quot;</td><td>1</td><td>&quot;CBOE S&amp;P 500 I…</td><td>&quot;E&quot;</td></tr><tr><td>108105</td><td>&quot;2019-01-02&quot;</td><td>&quot;2019-01-18&quot;</td><td>&quot;C&quot;</td><td>1075000</td><td>null</td><td>null</td><td>127117396</td><td>&quot;SPX&quot;</td><td>1</td><td>&quot;CBOE S&amp;P 500 I…</td><td>&quot;E&quot;</td></tr><tr><td>108105</td><td>&quot;2019-01-02&quot;</td><td>&quot;2019-01-18&quot;</td><td>&quot;C&quot;</td><td>1100000</td><td>null</td><td>null</td><td>117411005</td><td>&quot;SPX&quot;</td><td>1</td><td>&quot;CBOE S&amp;P 500 I…</td><td>&quot;E&quot;</td></tr><tr><td>108105</td><td>&quot;2019-01-02&quot;</td><td>&quot;2019-01-18&quot;</td><td>&quot;C&quot;</td><td>1125000</td><td>null</td><td>null</td><td>127117397</td><td>&quot;SPX&quot;</td><td>1</td><td>&quot;CBOE S&amp;P 500 I…</td><td>&quot;E&quot;</td></tr><tr><td>108105</td><td>&quot;2019-01-02&quot;</td><td>&quot;2019-01-18&quot;</td><td>&quot;C&quot;</td><td>1150000</td><td>null</td><td>null</td><td>117411006</td><td>&quot;SPX&quot;</td><td>1</td><td>&quot;CBOE S&amp;P 500 I…</td><td>&quot;E&quot;</td></tr><tr><td>108105</td><td>&quot;2019-01-02&quot;</td><td>&quot;2019-01-18&quot;</td><td>&quot;C&quot;</td><td>1175000</td><td>null</td><td>null</td><td>127117398</td><td>&quot;SPX&quot;</td><td>1</td><td>&quot;CBOE S&amp;P 500 I…</td><td>&quot;E&quot;</td></tr><tr><td>108105</td><td>&quot;2019-01-02&quot;</td><td>&quot;2019-01-18&quot;</td><td>&quot;C&quot;</td><td>1200000</td><td>null</td><td>null</td><td>117411007</td><td>&quot;SPX&quot;</td><td>1</td><td>&quot;CBOE S&amp;P 500 I…</td><td>&quot;E&quot;</td></tr><tr><td>108105</td><td>&quot;2019-01-02&quot;</td><td>&quot;2019-01-18&quot;</td><td>&quot;C&quot;</td><td>1225000</td><td>null</td><td>null</td><td>127117399</td><td>&quot;SPX&quot;</td><td>1</td><td>&quot;CBOE S&amp;P 500 I…</td><td>&quot;E&quot;</td></tr><tr><td>108105</td><td>&quot;2019-01-02&quot;</td><td>&quot;2019-01-18&quot;</td><td>&quot;C&quot;</td><td>1250000</td><td>null</td><td>null</td><td>117411008</td><td>&quot;SPX&quot;</td><td>1</td><td>&quot;CBOE S&amp;P 500 I…</td><td>&quot;E&quot;</td></tr><tr><td>108105</td><td>&quot;2019-01-02&quot;</td><td>&quot;2019-01-18&quot;</td><td>&quot;C&quot;</td><td>1275000</td><td>null</td><td>null</td><td>117411009</td><td>&quot;SPX&quot;</td><td>1</td><td>&quot;CBOE S&amp;P 500 I…</td><td>&quot;E&quot;</td></tr><tr><td>&hellip;</td><td>&hellip;</td><td>&hellip;</td><td>&hellip;</td><td>&hellip;</td><td>&hellip;</td><td>&hellip;</td><td>&hellip;</td><td>&hellip;</td><td>&hellip;</td><td>&hellip;</td><td>&hellip;</td></tr><tr><td>108105</td><td>&quot;2019-01-02&quot;</td><td>&quot;2019-02-15&quot;</td><td>&quot;P&quot;</td><td>1660000</td><td>&quot;0.487624&quot;</td><td>&quot;-0.005173&quot;</td><td>127294185</td><td>&quot;SPX&quot;</td><td>1</td><td>&quot;CBOE S&amp;P 500 I…</td><td>&quot;E&quot;</td></tr><tr><td>108105</td><td>&quot;2019-01-02&quot;</td><td>&quot;2019-02-15&quot;</td><td>&quot;P&quot;</td><td>1670000</td><td>&quot;0.484968&quot;</td><td>&quot;-0.005526&quot;</td><td>127294186</td><td>&quot;SPX&quot;</td><td>1</td><td>&quot;CBOE S&amp;P 500 I…</td><td>&quot;E&quot;</td></tr><tr><td>108105</td><td>&quot;2019-01-02&quot;</td><td>&quot;2019-02-15&quot;</td><td>&quot;P&quot;</td><td>1675000</td><td>&quot;0.481752&quot;</td><td>&quot;-0.005561&quot;</td><td>124459716</td><td>&quot;SPX&quot;</td><td>1</td><td>&quot;CBOE S&amp;P 500 I…</td><td>&quot;E&quot;</td></tr><tr><td>108105</td><td>&quot;2019-01-02&quot;</td><td>&quot;2019-02-15&quot;</td><td>&quot;P&quot;</td><td>1680000</td><td>&quot;0.478544&quot;</td><td>&quot;-0.005597&quot;</td><td>127294187</td><td>&quot;SPX&quot;</td><td>1</td><td>&quot;CBOE S&amp;P 500 I…</td><td>&quot;E&quot;</td></tr><tr><td>108105</td><td>&quot;2019-01-02&quot;</td><td>&quot;2019-02-15&quot;</td><td>&quot;P&quot;</td><td>1690000</td><td>&quot;0.475664&quot;</td><td>&quot;-0.005958&quot;</td><td>127294188</td><td>&quot;SPX&quot;</td><td>1</td><td>&quot;CBOE S&amp;P 500 I…</td><td>&quot;E&quot;</td></tr><tr><td>108105</td><td>&quot;2019-01-02&quot;</td><td>&quot;2019-02-15&quot;</td><td>&quot;P&quot;</td><td>1700000</td><td>&quot;0.472591&quot;</td><td>&quot;-0.006324&quot;</td><td>124459717</td><td>&quot;SPX&quot;</td><td>1</td><td>&quot;CBOE S&amp;P 500 I…</td><td>&quot;E&quot;</td></tr><tr><td>108105</td><td>&quot;2019-01-02&quot;</td><td>&quot;2019-02-15&quot;</td><td>&quot;P&quot;</td><td>1710000</td><td>&quot;0.466186&quot;</td><td>&quot;-0.006407&quot;</td><td>127261848</td><td>&quot;SPX&quot;</td><td>1</td><td>&quot;CBOE S&amp;P 500 I…</td><td>&quot;E&quot;</td></tr><tr><td>108105</td><td>&quot;2019-01-02&quot;</td><td>&quot;2019-02-15&quot;</td><td>&quot;P&quot;</td><td>1720000</td><td>&quot;0.462937&quot;</td><td>&quot;-0.006783&quot;</td><td>127261849</td><td>&quot;SPX&quot;</td><td>1</td><td>&quot;CBOE S&amp;P 500 I…</td><td>&quot;E&quot;</td></tr><tr><td>108105</td><td>&quot;2019-01-02&quot;</td><td>&quot;2019-02-15&quot;</td><td>&quot;P&quot;</td><td>1725000</td><td>&quot;0.461253&quot;</td><td>&quot;-0.006973&quot;</td><td>124459718</td><td>&quot;SPX&quot;</td><td>1</td><td>&quot;CBOE S&amp;P 500 I…</td><td>&quot;E&quot;</td></tr><tr><td>108105</td><td>&quot;2019-01-02&quot;</td><td>&quot;2019-02-15&quot;</td><td>&quot;P&quot;</td><td>1730000</td><td>&quot;0.459532&quot;</td><td>&quot;-0.007164&quot;</td><td>127164652</td><td>&quot;SPX&quot;</td><td>1</td><td>&quot;CBOE S&amp;P 500 I…</td><td>&quot;E&quot;</td></tr><tr><td>108105</td><td>&quot;2019-01-02&quot;</td><td>&quot;2019-02-15&quot;</td><td>&quot;P&quot;</td><td>1740000</td><td>&quot;0.455986&quot;</td><td>&quot;-0.007551&quot;</td><td>127164653</td><td>&quot;SPX&quot;</td><td>1</td><td>&quot;CBOE S&amp;P 500 I…</td><td>&quot;E&quot;</td></tr><tr><td>108105</td><td>&quot;2019-01-02&quot;</td><td>&quot;2019-02-15&quot;</td><td>&quot;P&quot;</td><td>1750000</td><td>&quot;0.450968&quot;</td><td>&quot;-0.007799&quot;</td><td>124459719</td><td>&quot;SPX&quot;</td><td>1</td><td>&quot;CBOE S&amp;P 500 I…</td><td>&quot;E&quot;</td></tr></tbody></table></div>"
      ],
      "text/plain": [
       "shape: (1_000, 12)\n",
       "┌────────┬────────────┬────────────┬─────────┬───┬────────┬────────────┬─────────────┬─────────────┐\n",
       "│ secid  ┆ date       ┆ exdate     ┆ cp_flag ┆ … ┆ ticker ┆ index_flag ┆ issuer      ┆ exercise_st │\n",
       "│ ---    ┆ ---        ┆ ---        ┆ ---     ┆   ┆ ---    ┆ ---        ┆ ---         ┆ yle         │\n",
       "│ i64    ┆ str        ┆ str        ┆ str     ┆   ┆ str    ┆ i64        ┆ str         ┆ ---         │\n",
       "│        ┆            ┆            ┆         ┆   ┆        ┆            ┆             ┆ str         │\n",
       "╞════════╪════════════╪════════════╪═════════╪═══╪════════╪════════════╪═════════════╪═════════════╡\n",
       "│ 108105 ┆ 2019-01-02 ┆ 2019-01-18 ┆ C       ┆ … ┆ SPX    ┆ 1          ┆ CBOE S&P    ┆ E           │\n",
       "│        ┆            ┆            ┆         ┆   ┆        ┆            ┆ 500 INDEX   ┆             │\n",
       "│ 108105 ┆ 2019-01-02 ┆ 2019-01-18 ┆ C       ┆ … ┆ SPX    ┆ 1          ┆ CBOE S&P    ┆ E           │\n",
       "│        ┆            ┆            ┆         ┆   ┆        ┆            ┆ 500 INDEX   ┆             │\n",
       "│ 108105 ┆ 2019-01-02 ┆ 2019-01-18 ┆ C       ┆ … ┆ SPX    ┆ 1          ┆ CBOE S&P    ┆ E           │\n",
       "│        ┆            ┆            ┆         ┆   ┆        ┆            ┆ 500 INDEX   ┆             │\n",
       "│ 108105 ┆ 2019-01-02 ┆ 2019-01-18 ┆ C       ┆ … ┆ SPX    ┆ 1          ┆ CBOE S&P    ┆ E           │\n",
       "│        ┆            ┆            ┆         ┆   ┆        ┆            ┆ 500 INDEX   ┆             │\n",
       "│ 108105 ┆ 2019-01-02 ┆ 2019-01-18 ┆ C       ┆ … ┆ SPX    ┆ 1          ┆ CBOE S&P    ┆ E           │\n",
       "│        ┆            ┆            ┆         ┆   ┆        ┆            ┆ 500 INDEX   ┆             │\n",
       "│ …      ┆ …          ┆ …          ┆ …       ┆ … ┆ …      ┆ …          ┆ …           ┆ …           │\n",
       "│ 108105 ┆ 2019-01-02 ┆ 2019-02-15 ┆ P       ┆ … ┆ SPX    ┆ 1          ┆ CBOE S&P    ┆ E           │\n",
       "│        ┆            ┆            ┆         ┆   ┆        ┆            ┆ 500 INDEX   ┆             │\n",
       "│ 108105 ┆ 2019-01-02 ┆ 2019-02-15 ┆ P       ┆ … ┆ SPX    ┆ 1          ┆ CBOE S&P    ┆ E           │\n",
       "│        ┆            ┆            ┆         ┆   ┆        ┆            ┆ 500 INDEX   ┆             │\n",
       "│ 108105 ┆ 2019-01-02 ┆ 2019-02-15 ┆ P       ┆ … ┆ SPX    ┆ 1          ┆ CBOE S&P    ┆ E           │\n",
       "│        ┆            ┆            ┆         ┆   ┆        ┆            ┆ 500 INDEX   ┆             │\n",
       "│ 108105 ┆ 2019-01-02 ┆ 2019-02-15 ┆ P       ┆ … ┆ SPX    ┆ 1          ┆ CBOE S&P    ┆ E           │\n",
       "│        ┆            ┆            ┆         ┆   ┆        ┆            ┆ 500 INDEX   ┆             │\n",
       "│ 108105 ┆ 2019-01-02 ┆ 2019-02-15 ┆ P       ┆ … ┆ SPX    ┆ 1          ┆ CBOE S&P    ┆ E           │\n",
       "│        ┆            ┆            ┆         ┆   ┆        ┆            ┆ 500 INDEX   ┆             │\n",
       "└────────┴────────────┴────────────┴─────────┴───┴────────┴────────────┴─────────────┴─────────────┘"
      ]
     },
     "execution_count": 127,
     "metadata": {},
     "output_type": "execute_result"
    }
   ],
   "source": [
    "df = pl.scan_csv(csv_options_data, separator=\",\")\n",
    "df.schema\n",
    "df.fetch(1000)"
   ]
  },
  {
   "cell_type": "markdown",
   "metadata": {},
   "source": [
    "# Lower the data by use off more efficient data types for storage\n"
   ]
  },
  {
   "cell_type": "code",
   "execution_count": 128,
   "metadata": {},
   "outputs": [
    {
     "data": {
      "text/html": [
       "<div><style>\n",
       ".dataframe > thead > tr,\n",
       ".dataframe > tbody > tr {\n",
       "  text-align: right;\n",
       "  white-space: pre-wrap;\n",
       "}\n",
       "</style>\n",
       "<small>shape: (1, 12)</small><table border=\"1\" class=\"dataframe\"><thead><tr><th>secid</th><th>date</th><th>exdate</th><th>cp_flag</th><th>strike_price</th><th>impl_volatility</th><th>delta</th><th>optionid</th><th>ticker</th><th>index_flag</th><th>issuer</th><th>exercise_style</th></tr><tr><td>u32</td><td>u32</td><td>u32</td><td>u32</td><td>u32</td><td>u32</td><td>u32</td><td>u32</td><td>u32</td><td>u32</td><td>u32</td><td>u32</td></tr></thead><tbody><tr><td>1</td><td>1020</td><td>751</td><td>2</td><td>787</td><td>1218445</td><td>1957718</td><td>362779</td><td>1</td><td>1</td><td>1</td><td>1</td></tr></tbody></table></div>"
      ],
      "text/plain": [
       "shape: (1, 12)\n",
       "┌───────┬──────┬────────┬─────────┬───┬────────┬────────────┬────────┬────────────────┐\n",
       "│ secid ┆ date ┆ exdate ┆ cp_flag ┆ … ┆ ticker ┆ index_flag ┆ issuer ┆ exercise_style │\n",
       "│ ---   ┆ ---  ┆ ---    ┆ ---     ┆   ┆ ---    ┆ ---        ┆ ---    ┆ ---            │\n",
       "│ u32   ┆ u32  ┆ u32    ┆ u32     ┆   ┆ u32    ┆ u32        ┆ u32    ┆ u32            │\n",
       "╞═══════╪══════╪════════╪═════════╪═══╪════════╪════════════╪════════╪════════════════╡\n",
       "│ 1     ┆ 1020 ┆ 751    ┆ 2       ┆ … ┆ 1      ┆ 1          ┆ 1      ┆ 1              │\n",
       "└───────┴──────┴────────┴─────────┴───┴────────┴────────────┴────────┴────────────────┘"
      ]
     },
     "execution_count": 128,
     "metadata": {},
     "output_type": "execute_result"
    }
   ],
   "source": [
    "df.collect().approx_n_unique()"
   ]
  },
  {
   "cell_type": "code",
   "execution_count": 129,
   "metadata": {},
   "outputs": [
    {
     "name": "stderr",
     "output_type": "stream",
     "text": [
      "/var/folders/b4/wn87d6495j1_vytb8m33q3mm0000gn/T/ipykernel_2915/2534429492.py:1: DeprecationWarning: `count` is deprecated. It has been renamed to `len`.\n",
      "  df.group_by(\"strike_price\").count().collect().head(5)\n"
     ]
    },
    {
     "data": {
      "text/html": [
       "<div><style>\n",
       ".dataframe > thead > tr,\n",
       ".dataframe > tbody > tr {\n",
       "  text-align: right;\n",
       "  white-space: pre-wrap;\n",
       "}\n",
       "</style>\n",
       "<small>shape: (5, 2)</small><table border=\"1\" class=\"dataframe\"><thead><tr><th>strike_price</th><th>count</th></tr><tr><td>i64</td><td>u32</td></tr></thead><tbody><tr><td>4430000</td><td>20752</td></tr><tr><td>3290000</td><td>28612</td></tr><tr><td>2425000</td><td>41317</td></tr><tr><td>3775000</td><td>53611</td></tr><tr><td>3225000</td><td>65129</td></tr></tbody></table></div>"
      ],
      "text/plain": [
       "shape: (5, 2)\n",
       "┌──────────────┬───────┐\n",
       "│ strike_price ┆ count │\n",
       "│ ---          ┆ ---   │\n",
       "│ i64          ┆ u32   │\n",
       "╞══════════════╪═══════╡\n",
       "│ 4430000      ┆ 20752 │\n",
       "│ 3290000      ┆ 28612 │\n",
       "│ 2425000      ┆ 41317 │\n",
       "│ 3775000      ┆ 53611 │\n",
       "│ 3225000      ┆ 65129 │\n",
       "└──────────────┴───────┘"
      ]
     },
     "execution_count": 129,
     "metadata": {},
     "output_type": "execute_result"
    }
   ],
   "source": [
    "df.group_by(\"strike_price\").count().collect().head(5)"
   ]
  },
  {
   "cell_type": "code",
   "execution_count": 130,
   "metadata": {},
   "outputs": [
    {
     "name": "stderr",
     "output_type": "stream",
     "text": [
      "/var/folders/b4/wn87d6495j1_vytb8m33q3mm0000gn/T/ipykernel_2915/289431764.py:1: DeprecationWarning: `count` is deprecated. It has been renamed to `len`.\n",
      "  df.group_by(\"date\").count().collect().head()\n"
     ]
    },
    {
     "data": {
      "text/html": [
       "<div><style>\n",
       ".dataframe > thead > tr,\n",
       ".dataframe > tbody > tr {\n",
       "  text-align: right;\n",
       "  white-space: pre-wrap;\n",
       "}\n",
       "</style>\n",
       "<small>shape: (5, 2)</small><table border=\"1\" class=\"dataframe\"><thead><tr><th>date</th><th>count</th></tr><tr><td>str</td><td>u32</td></tr></thead><tbody><tr><td>&quot;2021-09-03&quot;</td><td>21762</td></tr><tr><td>&quot;2022-04-19&quot;</td><td>18260</td></tr><tr><td>&quot;2020-07-22&quot;</td><td>15854</td></tr><tr><td>&quot;2022-06-29&quot;</td><td>20216</td></tr><tr><td>&quot;2019-07-10&quot;</td><td>14172</td></tr></tbody></table></div>"
      ],
      "text/plain": [
       "shape: (5, 2)\n",
       "┌────────────┬───────┐\n",
       "│ date       ┆ count │\n",
       "│ ---        ┆ ---   │\n",
       "│ str        ┆ u32   │\n",
       "╞════════════╪═══════╡\n",
       "│ 2021-09-03 ┆ 21762 │\n",
       "│ 2022-04-19 ┆ 18260 │\n",
       "│ 2020-07-22 ┆ 15854 │\n",
       "│ 2022-06-29 ┆ 20216 │\n",
       "│ 2019-07-10 ┆ 14172 │\n",
       "└────────────┴───────┘"
      ]
     },
     "execution_count": 130,
     "metadata": {},
     "output_type": "execute_result"
    }
   ],
   "source": [
    "df.group_by(\"date\").count().collect().head()"
   ]
  },
  {
   "cell_type": "code",
   "execution_count": 131,
   "metadata": {},
   "outputs": [],
   "source": [
    "#Desired data types for the columns\n",
    "int_cols = [\"secid\", \"strike_price\",]\n",
    "float_cols = [\"impl_volatility\", \"delta\"]\n",
    "datetime_cols = [\"date\",\"exdate\"]\n",
    "str_cols = [\"cp_flag\", \"ticker\", \"exercise_style\"]\n",
    "drop_cols = [\"optionid\", \"index_flag\", \"issuer\"]"
   ]
  },
  {
   "cell_type": "code",
   "execution_count": 132,
   "metadata": {},
   "outputs": [],
   "source": [
    "#one line to do all the above\n",
    "df = df.with_columns(\n",
    "    [ pl.col(int_cols).cast(pl.Int64),\n",
    "      pl.col(float_cols).cast(pl.Float64),\n",
    "      pl.col(datetime_cols).cast(pl.Date),\n",
    "      pl.col(str_cols).cast(pl.String),\n",
    "    ]\n",
    ").drop(drop_cols)\n",
    "\n"
   ]
  },
  {
   "cell_type": "code",
   "execution_count": 133,
   "metadata": {},
   "outputs": [
    {
     "data": {
      "text/html": [
       "<i>naive plan: (run <b>LazyFrame.explain(optimized=True)</b> to see the optimized plan)</i>\n",
       "    <p></p>\n",
       "    <div> SELECT [col(\"secid\"), col(\"date\"), col(\"exdate\"), col(\"cp_flag\"), col(\"strike_price\"), col(\"impl_volatility\"), col(\"delta\"), col(\"ticker\"), col(\"exercise_style\")] FROM<p></p>   WITH_COLUMNS:<p></p>   [col(\"secid\").strict_cast(Int64), col(\"strike_price\").strict_cast(Int64), col(\"impl_volatility\").strict_cast(Float64), col(\"delta\").strict_cast(Float64), col(\"date\").strict_cast(Date), col(\"exdate\").strict_cast(Date), col(\"cp_flag\").strict_cast(String), col(\"ticker\").strict_cast(String), col(\"exercise_style\").strict_cast(String)]<p></p><p></p>      Csv SCAN /Users/sbjpipers/Desktop/Final Thesis QF/FinalThesisQF/Data/S&P500_optiondata.csv<p></p>      PROJECT */12 COLUMNS</div>"
      ],
      "text/plain": [
       "<LazyFrame [9 cols, {\"secid\": Int64 … \"exercise_style\": String}] at 0x13962E210>"
      ]
     },
     "execution_count": 133,
     "metadata": {},
     "output_type": "execute_result"
    }
   ],
   "source": [
    "df"
   ]
  },
  {
   "cell_type": "code",
   "execution_count": 134,
   "metadata": {},
   "outputs": [],
   "source": [
    "# Saving file\n",
    "data_path_parq = Path.cwd().parent / \"Data/option_data.parquet\"\n",
    "\n",
    "save_parquet = True\n",
    "if save_parquet or not os.path.exists(data_path_parq):\n",
    "    df.sink_parquet(data_path_parq)"
   ]
  },
  {
   "cell_type": "code",
   "execution_count": 135,
   "metadata": {},
   "outputs": [
    {
     "data": {
      "text/plain": [
       "1511.6457557678223"
      ]
     },
     "execution_count": 135,
     "metadata": {},
     "output_type": "execute_result"
    }
   ],
   "source": [
    "df = pl.read_parquet(data_path_parq)\n",
    "df.estimated_size(\"mb\")"
   ]
  },
  {
   "cell_type": "code",
   "execution_count": 136,
   "metadata": {},
   "outputs": [],
   "source": [
    "#Filter data that is not available for IV and delta\n",
    "df = df.with_columns(\n",
    "    days_till_exp = pl.col(\"exdate\").sub(pl.col(\"date\").cast(pl.Int64)) \n",
    ").sort(\"cp_flag\").sort(\"date\")\n",
    "\n",
    "# df = df.filter(pl.col(\"impl_volatility\").is_not_null() & pl.col(\"delta\").is_not_null())\n",
    "\n"
   ]
  },
  {
   "cell_type": "code",
   "execution_count": 137,
   "metadata": {},
   "outputs": [
    {
     "data": {
      "text/html": [
       "<div><style>\n",
       ".dataframe > thead > tr,\n",
       ".dataframe > tbody > tr {\n",
       "  text-align: right;\n",
       "  white-space: pre-wrap;\n",
       "}\n",
       "</style>\n",
       "<small>shape: (17_961_195, 10)</small><table border=\"1\" class=\"dataframe\"><thead><tr><th>secid</th><th>date</th><th>exdate</th><th>cp_flag</th><th>strike_price</th><th>impl_volatility</th><th>delta</th><th>ticker</th><th>exercise_style</th><th>days_till_exp</th></tr><tr><td>i64</td><td>date</td><td>date</td><td>str</td><td>i64</td><td>f64</td><td>f64</td><td>str</td><td>str</td><td>i64</td></tr></thead><tbody><tr><td>108105</td><td>2019-01-02</td><td>2019-01-02</td><td>&quot;C&quot;</td><td>1500000</td><td>null</td><td>null</td><td>&quot;SPX&quot;</td><td>&quot;E&quot;</td><td>0</td></tr><tr><td>108105</td><td>2019-01-02</td><td>2019-01-02</td><td>&quot;C&quot;</td><td>1550000</td><td>null</td><td>null</td><td>&quot;SPX&quot;</td><td>&quot;E&quot;</td><td>0</td></tr><tr><td>108105</td><td>2019-01-02</td><td>2019-01-02</td><td>&quot;C&quot;</td><td>1600000</td><td>null</td><td>null</td><td>&quot;SPX&quot;</td><td>&quot;E&quot;</td><td>0</td></tr><tr><td>108105</td><td>2019-01-02</td><td>2019-01-02</td><td>&quot;C&quot;</td><td>1650000</td><td>null</td><td>null</td><td>&quot;SPX&quot;</td><td>&quot;E&quot;</td><td>0</td></tr><tr><td>108105</td><td>2019-01-02</td><td>2019-01-02</td><td>&quot;C&quot;</td><td>1700000</td><td>null</td><td>null</td><td>&quot;SPX&quot;</td><td>&quot;E&quot;</td><td>0</td></tr><tr><td>108105</td><td>2019-01-02</td><td>2019-01-02</td><td>&quot;C&quot;</td><td>1750000</td><td>null</td><td>null</td><td>&quot;SPX&quot;</td><td>&quot;E&quot;</td><td>0</td></tr><tr><td>108105</td><td>2019-01-02</td><td>2019-01-02</td><td>&quot;C&quot;</td><td>1800000</td><td>null</td><td>null</td><td>&quot;SPX&quot;</td><td>&quot;E&quot;</td><td>0</td></tr><tr><td>108105</td><td>2019-01-02</td><td>2019-01-02</td><td>&quot;C&quot;</td><td>1850000</td><td>null</td><td>null</td><td>&quot;SPX&quot;</td><td>&quot;E&quot;</td><td>0</td></tr><tr><td>108105</td><td>2019-01-02</td><td>2019-01-02</td><td>&quot;C&quot;</td><td>1900000</td><td>null</td><td>null</td><td>&quot;SPX&quot;</td><td>&quot;E&quot;</td><td>0</td></tr><tr><td>108105</td><td>2019-01-02</td><td>2019-01-02</td><td>&quot;C&quot;</td><td>1925000</td><td>null</td><td>null</td><td>&quot;SPX&quot;</td><td>&quot;E&quot;</td><td>0</td></tr><tr><td>108105</td><td>2019-01-02</td><td>2019-01-02</td><td>&quot;C&quot;</td><td>1950000</td><td>null</td><td>null</td><td>&quot;SPX&quot;</td><td>&quot;E&quot;</td><td>0</td></tr><tr><td>108105</td><td>2019-01-02</td><td>2019-01-02</td><td>&quot;C&quot;</td><td>1975000</td><td>null</td><td>null</td><td>&quot;SPX&quot;</td><td>&quot;E&quot;</td><td>0</td></tr><tr><td>&hellip;</td><td>&hellip;</td><td>&hellip;</td><td>&hellip;</td><td>&hellip;</td><td>&hellip;</td><td>&hellip;</td><td>&hellip;</td><td>&hellip;</td><td>&hellip;</td></tr><tr><td>108105</td><td>2022-07-01</td><td>2027-12-17</td><td>&quot;P&quot;</td><td>5400000</td><td>0.189978</td><td>-0.569889</td><td>&quot;SPX&quot;</td><td>&quot;E&quot;</td><td>1995</td></tr><tr><td>108105</td><td>2022-07-01</td><td>2027-12-17</td><td>&quot;P&quot;</td><td>5600000</td><td>0.198288</td><td>-0.587026</td><td>&quot;SPX&quot;</td><td>&quot;E&quot;</td><td>1995</td></tr><tr><td>108105</td><td>2022-07-01</td><td>2027-12-17</td><td>&quot;P&quot;</td><td>5800000</td><td>0.207265</td><td>-0.600403</td><td>&quot;SPX&quot;</td><td>&quot;E&quot;</td><td>1995</td></tr><tr><td>108105</td><td>2022-07-01</td><td>2027-12-17</td><td>&quot;P&quot;</td><td>6000000</td><td>0.215522</td><td>-0.612429</td><td>&quot;SPX&quot;</td><td>&quot;E&quot;</td><td>1995</td></tr><tr><td>108105</td><td>2022-07-01</td><td>2027-12-17</td><td>&quot;P&quot;</td><td>6200000</td><td>0.223145</td><td>-0.623372</td><td>&quot;SPX&quot;</td><td>&quot;E&quot;</td><td>1995</td></tr><tr><td>108105</td><td>2022-07-01</td><td>2027-12-17</td><td>&quot;P&quot;</td><td>6400000</td><td>0.23017</td><td>-0.633479</td><td>&quot;SPX&quot;</td><td>&quot;E&quot;</td><td>1995</td></tr><tr><td>108105</td><td>2022-07-01</td><td>2027-12-17</td><td>&quot;P&quot;</td><td>6600000</td><td>0.236686</td><td>-0.642857</td><td>&quot;SPX&quot;</td><td>&quot;E&quot;</td><td>1995</td></tr><tr><td>108105</td><td>2022-07-01</td><td>2027-12-17</td><td>&quot;P&quot;</td><td>6800000</td><td>0.232873</td><td>-0.66628</td><td>&quot;SPX&quot;</td><td>&quot;E&quot;</td><td>1995</td></tr><tr><td>108105</td><td>2022-07-01</td><td>2027-12-17</td><td>&quot;P&quot;</td><td>7200000</td><td>0.253554</td><td>-0.667778</td><td>&quot;SPX&quot;</td><td>&quot;E&quot;</td><td>1995</td></tr><tr><td>108105</td><td>2022-07-01</td><td>2027-12-17</td><td>&quot;P&quot;</td><td>7600000</td><td>0.26358</td><td>-0.681472</td><td>&quot;SPX&quot;</td><td>&quot;E&quot;</td><td>1995</td></tr><tr><td>108105</td><td>2022-07-01</td><td>2027-12-17</td><td>&quot;P&quot;</td><td>800000</td><td>0.480869</td><td>-0.018248</td><td>&quot;SPX&quot;</td><td>&quot;E&quot;</td><td>1995</td></tr><tr><td>108105</td><td>2022-07-01</td><td>2027-12-17</td><td>&quot;P&quot;</td><td>8000000</td><td>0.279874</td><td>-0.683408</td><td>&quot;SPX&quot;</td><td>&quot;E&quot;</td><td>1995</td></tr></tbody></table></div>"
      ],
      "text/plain": [
       "shape: (17_961_195, 10)\n",
       "┌────────┬────────────┬────────────┬─────────┬───┬───────────┬────────┬──────────────┬─────────────┐\n",
       "│ secid  ┆ date       ┆ exdate     ┆ cp_flag ┆ … ┆ delta     ┆ ticker ┆ exercise_sty ┆ days_till_e │\n",
       "│ ---    ┆ ---        ┆ ---        ┆ ---     ┆   ┆ ---       ┆ ---    ┆ le           ┆ xp          │\n",
       "│ i64    ┆ date       ┆ date       ┆ str     ┆   ┆ f64       ┆ str    ┆ ---          ┆ ---         │\n",
       "│        ┆            ┆            ┆         ┆   ┆           ┆        ┆ str          ┆ i64         │\n",
       "╞════════╪════════════╪════════════╪═════════╪═══╪═══════════╪════════╪══════════════╪═════════════╡\n",
       "│ 108105 ┆ 2019-01-02 ┆ 2019-01-02 ┆ C       ┆ … ┆ null      ┆ SPX    ┆ E            ┆ 0           │\n",
       "│ 108105 ┆ 2019-01-02 ┆ 2019-01-02 ┆ C       ┆ … ┆ null      ┆ SPX    ┆ E            ┆ 0           │\n",
       "│ 108105 ┆ 2019-01-02 ┆ 2019-01-02 ┆ C       ┆ … ┆ null      ┆ SPX    ┆ E            ┆ 0           │\n",
       "│ 108105 ┆ 2019-01-02 ┆ 2019-01-02 ┆ C       ┆ … ┆ null      ┆ SPX    ┆ E            ┆ 0           │\n",
       "│ 108105 ┆ 2019-01-02 ┆ 2019-01-02 ┆ C       ┆ … ┆ null      ┆ SPX    ┆ E            ┆ 0           │\n",
       "│ …      ┆ …          ┆ …          ┆ …       ┆ … ┆ …         ┆ …      ┆ …            ┆ …           │\n",
       "│ 108105 ┆ 2022-07-01 ┆ 2027-12-17 ┆ P       ┆ … ┆ -0.66628  ┆ SPX    ┆ E            ┆ 1995        │\n",
       "│ 108105 ┆ 2022-07-01 ┆ 2027-12-17 ┆ P       ┆ … ┆ -0.667778 ┆ SPX    ┆ E            ┆ 1995        │\n",
       "│ 108105 ┆ 2022-07-01 ┆ 2027-12-17 ┆ P       ┆ … ┆ -0.681472 ┆ SPX    ┆ E            ┆ 1995        │\n",
       "│ 108105 ┆ 2022-07-01 ┆ 2027-12-17 ┆ P       ┆ … ┆ -0.018248 ┆ SPX    ┆ E            ┆ 1995        │\n",
       "│ 108105 ┆ 2022-07-01 ┆ 2027-12-17 ┆ P       ┆ … ┆ -0.683408 ┆ SPX    ┆ E            ┆ 1995        │\n",
       "└────────┴────────────┴────────────┴─────────┴───┴───────────┴────────┴──────────────┴─────────────┘"
      ]
     },
     "execution_count": 137,
     "metadata": {},
     "output_type": "execute_result"
    }
   ],
   "source": [
    "df.sort(\"days_till_exp\")"
   ]
  },
  {
   "cell_type": "markdown",
   "metadata": {},
   "source": [
    "# Days till experie graphical information #"
   ]
  },
  {
   "cell_type": "code",
   "execution_count": 162,
   "metadata": {},
   "outputs": [
    {
     "name": "stderr",
     "output_type": "stream",
     "text": [
      "/var/folders/b4/wn87d6495j1_vytb8m33q3mm0000gn/T/ipykernel_2915/366311473.py:4: DeprecationWarning: `count` is deprecated. It has been renamed to `len`.\n",
      "  dataseries = df.group_by(\"days_till_exp\").count().sort(\"days_till_exp\")\n"
     ]
    },
    {
     "data": {
      "image/png": "[encoded data removed]",
      "text/plain": [
       "<Figure size 640x480 with 1 Axes>"
      ]
     },
     "metadata": {},
     "output_type": "display_data"
    }
   ],
   "source": [
    "import matplotlib.pyplot as plt\n",
    "\n",
    "# Now perform the groupby and aggregation\n",
    "dataseries = df.group_by(\"days_till_exp\").count().sort(\"days_till_exp\")\n",
    "\n",
    "# Create filter for less days\n",
    "dataseries = dataseries.filter(pl.col(\"days_till_exp\") < 30)\n",
    "\n",
    "\n",
    "# Create a figure and a set of subplots\n",
    "fig, ax = plt.subplots()\n",
    "\n",
    "# Plot a histogram of 'days_till_exp'\n",
    "ax.bar(dataseries['days_till_exp'], dataseries['count'], width=0.5)\n",
    "\n",
    "# # Add labels and title\n",
    "ax.set_xlabel('Days Till Expiration')\n",
    "ax.set_ylabel('Count')\n",
    "ax.set_title('Count of Days Till Expiration')\n",
    "\n",
    "# # Show the plot\n",
    "plt.show()"
   ]
  },
  {
   "cell_type": "code",
   "execution_count": 175,
   "metadata": {},
   "outputs": [
    {
     "name": "stderr",
     "output_type": "stream",
     "text": [
      "/var/folders/b4/wn87d6495j1_vytb8m33q3mm0000gn/T/ipykernel_2915/3115069955.py:12: DeprecationWarning: `count` is deprecated. It has been renamed to `len`.\n",
      "  daily_amount_contracts = df_filter.group_by([\"date\",\"cp_flag\"]).count().sort(\"date\").sort(\"cp_flag\")\n",
      "/var/folders/b4/wn87d6495j1_vytb8m33q3mm0000gn/T/ipykernel_2915/3115069955.py:13: DeprecationWarning: `count` is deprecated. It has been renamed to `len`.\n",
      "  exdate_amount_contract = df_filter.group_by([\"exdate\",\"cp_flag\"]).count().sort(\"exdate\").sort(\"cp_flag\")\n"
     ]
    }
   ],
   "source": [
    "import datetime\n",
    "\n",
    "#Filter by date range\n",
    "df_filter = df.filter(\n",
    "    pl.col(\"exdate\").is_between(datetime.datetime(2022, 11, 1), datetime.datetime(2022, 11, 30)),\n",
    ")\n",
    "\n",
    "#Filter data that is not available for days till experire\n",
    "df_till_exp = df_filter.filter(pl.col(\"days_till_exp\") < 8)\n",
    "\n",
    "#Counts the amount of option contracts per day for put and call seperately\n",
    "daily_amount_contracts = df_filter.group_by([\"date\",\"cp_flag\"]).count().sort(\"date\").sort(\"cp_flag\")\n",
    "exdate_amount_contract = df_filter.group_by([\"exdate\",\"cp_flag\"]).count().sort(\"exdate\").sort(\"cp_flag\")\n"
   ]
  },
  {
   "cell_type": "code",
   "execution_count": 176,
   "metadata": {},
   "outputs": [
    {
     "data": {
      "text/html": [
       "<div><style>\n",
       ".dataframe > thead > tr,\n",
       ".dataframe > tbody > tr {\n",
       "  text-align: right;\n",
       "  white-space: pre-wrap;\n",
       "}\n",
       "</style>\n",
       "<small>shape: (42, 3)</small><table border=\"1\" class=\"dataframe\"><thead><tr><th>exdate</th><th>cp_flag</th><th>count</th></tr><tr><td>date</td><td>str</td><td>u32</td></tr></thead><tbody><tr><td>2022-11-01</td><td>&quot;C&quot;</td><td>2592</td></tr><tr><td>2022-11-01</td><td>&quot;P&quot;</td><td>2592</td></tr><tr><td>2022-11-02</td><td>&quot;C&quot;</td><td>2831</td></tr><tr><td>2022-11-02</td><td>&quot;P&quot;</td><td>2831</td></tr><tr><td>2022-11-03</td><td>&quot;C&quot;</td><td>2634</td></tr><tr><td>2022-11-03</td><td>&quot;P&quot;</td><td>2634</td></tr><tr><td>2022-11-04</td><td>&quot;C&quot;</td><td>7638</td></tr><tr><td>2022-11-04</td><td>&quot;P&quot;</td><td>7638</td></tr><tr><td>2022-11-07</td><td>&quot;C&quot;</td><td>2852</td></tr><tr><td>2022-11-07</td><td>&quot;P&quot;</td><td>2852</td></tr><tr><td>2022-11-08</td><td>&quot;C&quot;</td><td>2523</td></tr><tr><td>2022-11-08</td><td>&quot;P&quot;</td><td>2523</td></tr><tr><td>&hellip;</td><td>&hellip;</td><td>&hellip;</td></tr><tr><td>2022-11-22</td><td>&quot;C&quot;</td><td>2700</td></tr><tr><td>2022-11-22</td><td>&quot;P&quot;</td><td>2700</td></tr><tr><td>2022-11-23</td><td>&quot;C&quot;</td><td>2812</td></tr><tr><td>2022-11-23</td><td>&quot;P&quot;</td><td>2812</td></tr><tr><td>2022-11-25</td><td>&quot;C&quot;</td><td>6502</td></tr><tr><td>2022-11-25</td><td>&quot;P&quot;</td><td>6502</td></tr><tr><td>2022-11-28</td><td>&quot;C&quot;</td><td>2719</td></tr><tr><td>2022-11-28</td><td>&quot;P&quot;</td><td>2719</td></tr><tr><td>2022-11-29</td><td>&quot;C&quot;</td><td>2516</td></tr><tr><td>2022-11-29</td><td>&quot;P&quot;</td><td>2516</td></tr><tr><td>2022-11-30</td><td>&quot;C&quot;</td><td>32011</td></tr><tr><td>2022-11-30</td><td>&quot;P&quot;</td><td>32011</td></tr></tbody></table></div>"
      ],
      "text/plain": [
       "shape: (42, 3)\n",
       "┌────────────┬─────────┬───────┐\n",
       "│ exdate     ┆ cp_flag ┆ count │\n",
       "│ ---        ┆ ---     ┆ ---   │\n",
       "│ date       ┆ str     ┆ u32   │\n",
       "╞════════════╪═════════╪═══════╡\n",
       "│ 2022-11-01 ┆ C       ┆ 2592  │\n",
       "│ 2022-11-01 ┆ P       ┆ 2592  │\n",
       "│ 2022-11-02 ┆ C       ┆ 2831  │\n",
       "│ 2022-11-02 ┆ P       ┆ 2831  │\n",
       "│ 2022-11-03 ┆ C       ┆ 2634  │\n",
       "│ …          ┆ …       ┆ …     │\n",
       "│ 2022-11-28 ┆ P       ┆ 2719  │\n",
       "│ 2022-11-29 ┆ C       ┆ 2516  │\n",
       "│ 2022-11-29 ┆ P       ┆ 2516  │\n",
       "│ 2022-11-30 ┆ C       ┆ 32011 │\n",
       "│ 2022-11-30 ┆ P       ┆ 32011 │\n",
       "└────────────┴─────────┴───────┘"
      ]
     },
     "execution_count": 176,
     "metadata": {},
     "output_type": "execute_result"
    }
   ],
   "source": [
    "# daily_amount_contracts.sort(\"cp_flag\")\n",
    "exdate_amount_contract.sort(\"exdate\")"
   ]
  },
  {
   "cell_type": "code",
   "execution_count": 171,
   "metadata": {},
   "outputs": [
    {
     "data": {},
     "metadata": {},
     "output_type": "display_data"
    },
    {
     "data": {
      "application/vnd.holoviews_exec.v0+json": "",
      "text/html": [
       "<div id='p1406'>\n",
       "  <div id=\"a12b46d4-ed98-45fd-b6ff-385d80ecd4d7\" data-root-id=\"p1406\" style=\"display: contents;\"></div>\n",
       "</div>\n",
       "<script type=\"application/javascript\">(function(root) {\n",
       "  var docs_json = {\"7119d1fa-700a-4c5c-b0c6-712bf943adbc\":{\"version\":\"3.3.3\",\"title\":\"Bokeh Application\",\"roots\":[{\"type\":\"object\",\"name\":\"Row\",\"id\":\"p1406\",\"attributes\":{\"name\":\"Row02428\",\"tags\":[\"embedded\"],\"stylesheets\":[\"\\n:host(.pn-loading.pn-arc):before, .pn-loading.pn-arc:before {\\n  background-image: url(\\\"data:image/svg+xml;base64,PHN2ZyB4bWxucz0iaHR0cDovL3d3dy53My5vcmcvMjAwMC9zdmciIHN0eWxlPSJtYXJnaW46IGF1dG87IGJhY2tncm91bmQ6IG5vbmU7IGRpc3BsYXk6IGJsb2NrOyBzaGFwZS1yZW5kZXJpbmc6IGF1dG87IiB2aWV3Qm94PSIwIDAgMTAwIDEwMCIgcHJlc2VydmVBc3BlY3RSYXRpbz0ieE1pZFlNaWQiPiAgPGNpcmNsZSBjeD0iNTAiIGN5PSI1MCIgZmlsbD0ibm9uZSIgc3Ryb2tlPSIjYzNjM2MzIiBzdHJva2Utd2lkdGg9IjEwIiByPSIzNSIgc3Ryb2tlLWRhc2hhcnJheT0iMTY0LjkzMzYxNDMxMzQ2NDE1IDU2Ljk3Nzg3MTQzNzgyMTM4Ij4gICAgPGFuaW1hdGVUcmFuc2Zvcm0gYXR0cmlidXRlTmFtZT0idHJhbnNmb3JtIiB0eXBlPSJyb3RhdGUiIHJlcGVhdENvdW50PSJpbmRlZmluaXRlIiBkdXI9IjFzIiB2YWx1ZXM9IjAgNTAgNTA7MzYwIDUwIDUwIiBrZXlUaW1lcz0iMDsxIj48L2FuaW1hdGVUcmFuc2Zvcm0+ICA8L2NpcmNsZT48L3N2Zz4=\\\");\\n  background-size: auto calc(min(50%, 400px));\\n}\",{\"type\":\"object\",\"name\":\"ImportedStyleSheet\",\"id\":\"p1409\",\"attributes\":{\"url\":\"https://cdn.holoviz.org/panel/1.3.6/dist/css/loading.css\"}},{\"type\":\"object\",\"name\":\"ImportedStyleSheet\",\"id\":\"p1468\",\"attributes\":{\"url\":\"https://cdn.holoviz.org/panel/1.3.6/dist/css/listpanel.css\"}},{\"type\":\"object\",\"name\":\"ImportedStyleSheet\",\"id\":\"p1407\",\"attributes\":{\"url\":\"https://cdn.holoviz.org/panel/1.3.6/dist/bundled/theme/default.css\"}},{\"type\":\"object\",\"name\":\"ImportedStyleSheet\",\"id\":\"p1408\",\"attributes\":{\"url\":\"https://cdn.holoviz.org/panel/1.3.6/dist/bundled/theme/native.css\"}}],\"min_width\":700,\"margin\":0,\"sizing_mode\":\"stretch_width\",\"align\":\"start\",\"children\":[{\"type\":\"object\",\"name\":\"Spacer\",\"id\":\"p1410\",\"attributes\":{\"name\":\"HSpacer02435\",\"stylesheets\":[\"\\n:host(.pn-loading.pn-arc):before, .pn-loading.pn-arc:before {\\n  background-image: url(\\\"data:image/svg+xml;base64,PHN2ZyB4bWxucz0iaHR0cDovL3d3dy53My5vcmcvMjAwMC9zdmciIHN0eWxlPSJtYXJnaW46IGF1dG87IGJhY2tncm91bmQ6IG5vbmU7IGRpc3BsYXk6IGJsb2NrOyBzaGFwZS1yZW5kZXJpbmc6IGF1dG87IiB2aWV3Qm94PSIwIDAgMTAwIDEwMCIgcHJlc2VydmVBc3BlY3RSYXRpbz0ieE1pZFlNaWQiPiAgPGNpcmNsZSBjeD0iNTAiIGN5PSI1MCIgZmlsbD0ibm9uZSIgc3Ryb2tlPSIjYzNjM2MzIiBzdHJva2Utd2lkdGg9IjEwIiByPSIzNSIgc3Ryb2tlLWRhc2hhcnJheT0iMTY0LjkzMzYxNDMxMzQ2NDE1IDU2Ljk3Nzg3MTQzNzgyMTM4Ij4gICAgPGFuaW1hdGVUcmFuc2Zvcm0gYXR0cmlidXRlTmFtZT0idHJhbnNmb3JtIiB0eXBlPSJyb3RhdGUiIHJlcGVhdENvdW50PSJpbmRlZmluaXRlIiBkdXI9IjFzIiB2YWx1ZXM9IjAgNTAgNTA7MzYwIDUwIDUwIiBrZXlUaW1lcz0iMDsxIj48L2FuaW1hdGVUcmFuc2Zvcm0+ICA8L2NpcmNsZT48L3N2Zz4=\\\");\\n  background-size: auto calc(min(50%, 400px));\\n}\",{\"id\":\"p1409\"},{\"id\":\"p1407\"},{\"id\":\"p1408\"}],\"margin\":0,\"sizing_mode\":\"stretch_width\",\"align\":\"start\"}},{\"type\":\"object\",\"name\":\"Figure\",\"id\":\"p1418\",\"attributes\":{\"width\":700,\"height\":300,\"margin\":[5,10],\"sizing_mode\":\"fixed\",\"align\":\"start\",\"x_range\":{\"type\":\"object\",\"name\":\"FactorRange\",\"id\":\"p1411\",\"attributes\":{\"tags\":[[[\"exdate\",\"exdate\",null]],[]],\"factors\":[\"2022-12-01 00:00:00\",\"2022-12-02 00:00:00\",\"2022-12-05 00:00:00\",\"2022-12-06 00:00:00\",\"2022-12-07 00:00:00\",\"2022-12-08 00:00:00\",\"2022-12-09 00:00:00\",\"2022-12-12 00:00:00\",\"2022-12-13 00:00:00\",\"2022-12-14 00:00:00\",\"2022-12-15 00:00:00\",\"2022-12-16 00:00:00\",\"2022-12-19 00:00:00\",\"2022-12-20 00:00:00\",\"2022-12-21 00:00:00\",\"2022-12-22 00:00:00\",\"2022-12-23 00:00:00\",\"2022-12-27 00:00:00\",\"2022-12-28 00:00:00\",\"2022-12-29 00:00:00\",\"2022-12-30 00:00:00\",\"2023-01-03 00:00:00\",\"2023-01-04 00:00:00\",\"2023-01-05 00:00:00\",\"2023-01-06 00:00:00\",\"2023-01-09 00:00:00\",\"2023-01-10 00:00:00\",\"2023-01-11 00:00:00\",\"2023-01-12 00:00:00\",\"2023-01-13 00:00:00\",\"2023-01-17 00:00:00\",\"2023-01-18 00:00:00\",\"2023-01-19 00:00:00\",\"2023-01-20 00:00:00\",\"2023-01-23 00:00:00\",\"2023-01-24 00:00:00\",\"2023-01-25 00:00:00\",\"2023-01-26 00:00:00\",\"2023-01-27 00:00:00\",\"2023-01-30 00:00:00\",\"2023-01-31 00:00:00\",\"2023-02-01 00:00:00\",\"2023-02-03 00:00:00\",\"2023-02-06 00:00:00\",\"2023-02-10 00:00:00\",\"2023-02-17 00:00:00\",\"2023-02-24 00:00:00\",\"2023-02-28 00:00:00\",\"2023-03-17 00:00:00\",\"2023-03-31 00:00:00\",\"2023-04-21 00:00:00\",\"2023-04-28 00:00:00\",\"2023-05-19 00:00:00\",\"2023-05-31 00:00:00\",\"2023-06-16 00:00:00\",\"2023-06-30 00:00:00\",\"2023-07-21 00:00:00\",\"2023-08-18 00:00:00\",\"2023-09-15 00:00:00\",\"2023-09-29 00:00:00\",\"2023-10-20 00:00:00\",\"2023-11-17 00:00:00\",\"2023-12-15 00:00:00\",\"2023-12-29 00:00:00\",\"2024-01-19 00:00:00\",\"2024-03-15 00:00:00\",\"2024-06-21 00:00:00\",\"2024-12-20 00:00:00\",\"2025-12-19 00:00:00\",\"2026-12-18 00:00:00\",\"2027-12-17 00:00:00\"]}},\"y_range\":{\"type\":\"object\",\"name\":\"Range1d\",\"id\":\"p1412\",\"attributes\":{\"tags\":[[[\"count\",\"count\",null]],{\"type\":\"map\",\"entries\":[[\"invert_yaxis\",false],[\"autorange\",false]]}],\"end\":30983.2,\"reset_start\":0.0,\"reset_end\":30983.2}},\"x_scale\":{\"type\":\"object\",\"name\":\"CategoricalScale\",\"id\":\"p1428\"},\"y_scale\":{\"type\":\"object\",\"name\":\"LinearScale\",\"id\":\"p1429\"},\"title\":{\"type\":\"object\",\"name\":\"Title\",\"id\":\"p1421\",\"attributes\":{\"text_color\":\"black\",\"text_font_size\":\"12pt\"}},\"renderers\":[{\"type\":\"object\",\"name\":\"GlyphRenderer\",\"id\":\"p1459\",\"attributes\":{\"data_source\":{\"type\":\"object\",\"name\":\"ColumnDataSource\",\"id\":\"p1450\",\"attributes\":{\"selected\":{\"type\":\"object\",\"name\":\"Selection\",\"id\":\"p1451\",\"attributes\":{\"indices\":[],\"line_indices\":[]}},\"selection_policy\":{\"type\":\"object\",\"name\":\"UnionRenderers\",\"id\":\"p1452\"},\"data\":{\"type\":\"map\",\"entries\":[[\"bottom\",{\"type\":\"ndarray\",\"array\":{\"type\":\"bytes\",\"data\":\"AAAAAAAAAAAAAAAAAAAAAAAAAAAAAAAAAAAAAAAAAAAAAAAAAAAAAAAAAAAAAAAAAAAAAAAAAAAAAAAAAAAAAAAAAAAAAAAAAAAAAAAAAAAAAAAAAAAAAAAAAAAAAAAAAAAAAAAAAAAAAAAAAAAAAAAAAAAAAAAAAAAAAAAAAAAAAAAAAAAAAAAAAAAAAAAAAAAAAAAAAAAAAAAAAAAAAAAAAAAAAAAAAAAAAAAAAAAAAAAAAAAAAAAAAAAAAAAAAAAAAAAAAAAAAAAAAAAAAAAAAAAAAAAAAAAAAAAAAAAAAAAAAAAAAAAAAAAAAAAAAAAAAAAAAAAAAAAAAAAAAAAAAAAAAAAAAAAAAAAAAAAAAAAAAAAAAAAAAAAAAAAAAAAAAAAAAAAAAAAAAAAAAAAAAAAAAAAAAAAAAAAAAAAAAAAAAAAAAAAAAAAAAAAAAAAAAAAAAAAAAAAAAAAAAAAAAAAAAAAAAAAAAAAAAAAAAAAAAAAAAAAAAAAAAAAAAAAAAAAAAAAAAAAAAAAAAAAAAAAAAAAAAAAAAAAAAAAAAAAAAAAAAAAAAAAAAAAAAAAAAAAAAAAAAAAAAAAAAAAAAAAAAAAAAAAAAAAAAAAAAAAAAAAAAAAAAAAAAAAAAAAAAAAAAAAAAAAAAAAAAAAAAAAAAAAAAAAAAAAAAAAAAAAAAAAAAAAAAAAAAAAAAAAAAAAAAAAAAAAAAAAAAAAAAAAAAAAAAAAAAAAAAAAAAAAAAAAAAAAAAAAAsJNAAAAAAAA0vUAAAAAAAN6iQAAAAAAAqqJAAAAAAIDXx0AAAAAAABSgQAAAAAAAYrhAAAAAAAB6pkAAAAAAAFiUQAAAAAAAvqpAAAAAAAAApUAAAAAAAKahQAAAAAAABJRAAAAAAAC+qkAAAAAAAO+8QAAAAAAAZKFAAAAAAACYk0AAAAAAAGShQAAAAAAA8IJAAAAAAACspEAAAAAAACStQAAAAAAA8cJAAAAAAAA2okAAAAAAAPB0QAAAAAAARctAAAAAAACeo0AAAAAAAESjQAAAAAAAZKJAAAAAAABOqkAAAAAAAI6gQAAAAAAA4J5AAAAAAAConUAAAAAAAFiaQAAAAAAAx8JAAAAAAAA6wUAAAAAAAICYQAAAAAAAlJNAAAAAAAC4kUAAAAAAAGiXQAAAAAAAcI5AAAAAAAAYiUAAAAAAACCEQAAAAAAAMH5AAAAAAADge0AAAAAAAMBlQAAAAAAAIJRAAAAAAACAbEAAAAAAAJahQAAAAAAAXJ1AAAAAAAAgg0AAAAAAAPSQQAAAAAAAUJtAAAAAAACAT0AAAAAAAF64QAAAAAAAOJxAAAAAAADkp0AAAAAAACBxQAAAAAAAEHNAAAAAAACwoUAAAAAAANKiQAAAAAAAiINAAAAAAAAIiUAAAAAAAECJQAAAAAAAcKxAAAAAAABUlEAAAAAAAPCXQAAAAAAA/JhAAAAAAABCpkAAAAAAAHKvQAAAAACAhMtAAAAAAAAQkUA=\"},\"shape\":[142],\"dtype\":\"float64\",\"order\":\"little\"}],[\"top\",{\"type\":\"ndarray\",\"array\":{\"type\":\"bytes\",\"data\":\"AAAAAADAZUAAAAAAAAiJQAAAAAAAQIlAAAAAAAAkrUAAAAAAAHCsQAAAAAAAVJRAAAAAAACmoUAAAAAAAPCXQAAAAAAAiINAAAAAAABkoUAAAAAAAAClQAAAAAAAQqZAAAAAAAByr0AAAAAAAGK4QAAAAAAAeqZAAAAAAACwoUAAAAAAAJahQAAAAAAA/JhAAAAAAACspEAAAAAAgITLQAAAAAAA77xAAAAAAABFy0AAAAAAACCDQAAAAACA18dAAAAAAAD0kEAAAAAAADS9QAAAAAAAUJtAAAAAAACAT0AAAAAAAF64QAAAAAAAOJxAAAAAAADxwkAAAAAAAOSnQAAAAAAAvqpAAAAAAAAgcUAAAAAAABBzQAAAAAAA8HRAAAAAAAAQkUAAAAAAANKiQAAAAAAAFKBAAAAAAAA6wUAAAAAAAFydQAAAAAAAmJNAAAAAAACAmEAAAAAAAKqiQAAAAAAAnqNAAAAAAAAglEAAAAAAAJSTQAAAAAAAuJFAAAAAAABkoUAAAAAAAMfCQAAAAAAAaJdAAAAAAAAElEAAAAAAABiJQAAAAAAAIIRAAAAAAACwk0AAAAAAADB+QAAAAAAA4HtAAAAAAABYlEAAAAAAAHCOQAAAAAAA8IJAAAAAAACAbEAAAAAAAE6qQAAAAAAAWJpAAAAAAABEo0AAAAAAAKidQAAAAAAAvqpAAAAAAADeokAAAAAAAOCeQAAAAAAANqJAAAAAAABkokAAAAAAAI6gQAAAAAAAsKNAAAAAAAA0zUAAAAAAAN6yQAAAAAAAqrJAAAAAAIDX10AAAAAAABSwQAAAAAAAYshAAAAAAAB6tkAAAAAAAFikQAAAAAAAvrpAAAAAAAAAtUAAAAAAAKaxQAAAAAAABKRAAAAAAAC+ukAAAAAAAO/MQAAAAAAAZLFAAAAAAACYo0AAAAAAAGSxQAAAAAAA8JJAAAAAAACstEAAAAAAACS9QAAAAAAA8dJAAAAAAAA2skAAAAAAAPCEQAAAAAAARdtAAAAAAACes0AAAAAAAESzQAAAAAAAZLJAAAAAAABOukAAAAAAAI6wQAAAAAAA4K5AAAAAAACorUAAAAAAAFiqQAAAAAAAx9JAAAAAAAA60UAAAAAAAICoQAAAAAAAlKNAAAAAAAC4oUAAAAAAAGinQAAAAAAAcJ5AAAAAAAAYmUAAAAAAACCUQAAAAAAAMI5AAAAAAADgi0AAAAAAAMB1QAAAAAAAIKRAAAAAAACAfEAAAAAAAJaxQAAAAAAAXK1AAAAAAAAgk0AAAAAAAPSgQAAAAAAAUKtAAAAAAACAX0AAAAAAAF7IQAAAAAAAOKxAAAAAAADkt0AAAAAAACCBQAAAAAAAEINAAAAAAACwsUAAAAAAANKyQAAAAAAAiJNAAAAAAAAImUAAAAAAAECZQAAAAAAAcLxAAAAAAABUpEAAAAAAAPCnQAAAAAAA/KhAAAAAAABCtkAAAAAAAHK/QAAAAACAhNtAAAAAAAAQoUA=\"},\"shape\":[142],\"dtype\":\"float64\",\"order\":\"little\"}],[\"exdate\",[\"2022-12-01 00:00:00\",\"2023-01-18 00:00:00\",\"2023-01-17 00:00:00\",\"2023-06-16 00:00:00\",\"2023-01-13 00:00:00\",\"2023-01-12 00:00:00\",\"2023-06-30 00:00:00\",\"2023-01-11 00:00:00\",\"2023-01-19 00:00:00\",\"2023-07-21 00:00:00\",\"2023-08-18 00:00:00\",\"2023-01-09 00:00:00\",\"2023-01-06 00:00:00\",\"2023-02-28 00:00:00\",\"2023-09-15 00:00:00\",\"2023-01-04 00:00:00\",\"2023-01-03 00:00:00\",\"2023-01-10 00:00:00\",\"2023-05-31 00:00:00\",\"2023-01-20 00:00:00\",\"2023-05-19 00:00:00\",\"2023-02-17 00:00:00\",\"2023-02-10 00:00:00\",\"2023-03-17 00:00:00\",\"2023-02-06 00:00:00\",\"2023-03-31 00:00:00\",\"2023-02-03 00:00:00\",\"2023-02-01 00:00:00\",\"2023-01-31 00:00:00\",\"2023-01-30 00:00:00\",\"2023-04-21 00:00:00\",\"2023-01-27 00:00:00\",\"2023-04-28 00:00:00\",\"2023-01-26 00:00:00\",\"2023-01-25 00:00:00\",\"2023-01-24 00:00:00\",\"2027-12-17 00:00:00\",\"2023-01-23 00:00:00\",\"2023-09-29 00:00:00\",\"2022-12-30 00:00:00\",\"2023-01-05 00:00:00\",\"2024-03-15 00:00:00\",\"2022-12-15 00:00:00\",\"2024-01-19 00:00:00\",\"2022-12-29 00:00:00\",\"2022-12-14 00:00:00\",\"2022-12-13 00:00:00\",\"2022-12-12 00:00:00\",\"2024-06-21 00:00:00\",\"2022-12-16 00:00:00\",\"2022-12-09 00:00:00\",\"2024-12-20 00:00:00\",\"2022-12-07 00:00:00\",\"2022-12-06 00:00:00\",\"2025-12-19 00:00:00\",\"2022-12-05 00:00:00\",\"2022-12-02 00:00:00\",\"2026-12-18 00:00:00\",\"2022-12-08 00:00:00\",\"2023-12-29 00:00:00\",\"2023-02-24 00:00:00\",\"2022-12-23 00:00:00\",\"2022-12-19 00:00:00\",\"2022-12-28 00:00:00\",\"2022-12-20 00:00:00\",\"2023-12-15 00:00:00\",\"2023-11-17 00:00:00\",\"2022-12-21 00:00:00\",\"2023-10-20 00:00:00\",\"2022-12-27 00:00:00\",\"2022-12-22 00:00:00\",\"2025-12-19 00:00:00\",\"2023-03-31 00:00:00\",\"2023-11-17 00:00:00\",\"2024-01-19 00:00:00\",\"2023-03-17 00:00:00\",\"2023-09-29 00:00:00\",\"2023-02-28 00:00:00\",\"2023-09-15 00:00:00\",\"2026-12-18 00:00:00\",\"2023-04-28 00:00:00\",\"2023-08-18 00:00:00\",\"2023-06-30 00:00:00\",\"2024-12-20 00:00:00\",\"2023-12-15 00:00:00\",\"2023-05-19 00:00:00\",\"2024-06-21 00:00:00\",\"2024-03-15 00:00:00\",\"2023-07-21 00:00:00\",\"2023-12-29 00:00:00\",\"2023-05-31 00:00:00\",\"2023-06-16 00:00:00\",\"2023-04-21 00:00:00\",\"2023-10-20 00:00:00\",\"2023-01-24 00:00:00\",\"2023-02-17 00:00:00\",\"2022-12-29 00:00:00\",\"2022-12-28 00:00:00\",\"2022-12-27 00:00:00\",\"2022-12-23 00:00:00\",\"2022-12-22 00:00:00\",\"2022-12-21 00:00:00\",\"2022-12-20 00:00:00\",\"2022-12-19 00:00:00\",\"2022-12-16 00:00:00\",\"2022-12-30 00:00:00\",\"2022-12-15 00:00:00\",\"2022-12-13 00:00:00\",\"2022-12-12 00:00:00\",\"2022-12-09 00:00:00\",\"2022-12-08 00:00:00\",\"2022-12-07 00:00:00\",\"2022-12-06 00:00:00\",\"2022-12-05 00:00:00\",\"2022-12-02 00:00:00\",\"2022-12-01 00:00:00\",\"2022-12-14 00:00:00\",\"2023-02-24 00:00:00\",\"2023-01-03 00:00:00\",\"2023-01-05 00:00:00\",\"2023-02-10 00:00:00\",\"2023-02-06 00:00:00\",\"2023-02-03 00:00:00\",\"2023-02-01 00:00:00\",\"2023-01-31 00:00:00\",\"2023-01-30 00:00:00\",\"2023-01-27 00:00:00\",\"2023-01-26 00:00:00\",\"2023-01-25 00:00:00\",\"2023-01-04 00:00:00\",\"2023-01-23 00:00:00\",\"2023-01-19 00:00:00\",\"2023-01-18 00:00:00\",\"2023-01-17 00:00:00\",\"2023-01-13 00:00:00\",\"2023-01-12 00:00:00\",\"2023-01-11 00:00:00\",\"2023-01-10 00:00:00\",\"2023-01-09 00:00:00\",\"2023-01-06 00:00:00\",\"2023-01-20 00:00:00\",\"2027-12-17 00:00:00\"]],[\"cp_flag\",[\"C\",\"C\",\"C\",\"C\",\"C\",\"C\",\"C\",\"C\",\"C\",\"C\",\"C\",\"C\",\"C\",\"C\",\"C\",\"C\",\"C\",\"C\",\"C\",\"C\",\"C\",\"C\",\"C\",\"C\",\"C\",\"C\",\"C\",\"C\",\"C\",\"C\",\"C\",\"C\",\"C\",\"C\",\"C\",\"C\",\"C\",\"C\",\"C\",\"C\",\"C\",\"C\",\"C\",\"C\",\"C\",\"C\",\"C\",\"C\",\"C\",\"C\",\"C\",\"C\",\"C\",\"C\",\"C\",\"C\",\"C\",\"C\",\"C\",\"C\",\"C\",\"C\",\"C\",\"C\",\"C\",\"C\",\"C\",\"C\",\"C\",\"C\",\"C\",\"P\",\"P\",\"P\",\"P\",\"P\",\"P\",\"P\",\"P\",\"P\",\"P\",\"P\",\"P\",\"P\",\"P\",\"P\",\"P\",\"P\",\"P\",\"P\",\"P\",\"P\",\"P\",\"P\",\"P\",\"P\",\"P\",\"P\",\"P\",\"P\",\"P\",\"P\",\"P\",\"P\",\"P\",\"P\",\"P\",\"P\",\"P\",\"P\",\"P\",\"P\",\"P\",\"P\",\"P\",\"P\",\"P\",\"P\",\"P\",\"P\",\"P\",\"P\",\"P\",\"P\",\"P\",\"P\",\"P\",\"P\",\"P\",\"P\",\"P\",\"P\",\"P\",\"P\",\"P\",\"P\",\"P\",\"P\",\"P\",\"P\",\"P\",\"P\"]],[\"count\",{\"type\":\"ndarray\",\"array\":{\"type\":\"bytes\",\"data\":\"rgAAACEDAAAoAwAAkg4AADgOAAAVBQAA0wgAAPwFAABxAgAAsggAAIAKAAAhCwAAuQ8AAGIYAAA9CwAA2AgAAMsIAAA/BgAAVgoAAAk3AADvHAAAijYAAGQCAACvLwAAPQQAADQdAADUBgAAPwAAAF4YAAAOBwAA4iUAAPILAABfDQAAEgEAADEBAABPAQAARAQAAGkJAAAKCAAAdCIAAFcHAADmBAAAIAYAAFUJAADPCQAACAUAAOUEAABuBAAAsggAAI4lAADaBQAAAQUAACMDAACEAgAA7AQAAOMBAAC+AQAAFgUAAM4DAABeAgAA5AAAACcNAACWBgAAogkAAGoHAABfDQAAbwkAALgHAAAbCQAAMgkAAEcIAADsBAAANB0AAG8JAABVCQAAry8AAAoIAABiGAAAPQsAABYFAABfDQAAgAoAANMIAAABBQAAXw0AAO8cAACyCAAA5gQAALIIAABeAgAAVgoAAJIOAADiJQAAGwkAAE8BAACKNgAAzwkAAKIJAAAyCQAAJw0AAEcIAAC4BwAAagcAAJYGAACOJQAAdCIAACAGAADlBAAAbgQAANoFAADOAwAAIwMAAIQCAADjAQAAvgEAAK4AAAAIBQAA5AAAAMsIAABXBwAAZAIAAD0EAADUBgAAPwAAAF4YAAAOBwAA8gsAABIBAAAxAQAA2AgAAGkJAABxAgAAIQMAACgDAAA4DgAAFQUAAPwFAAA/BgAAIQsAALkPAAAJNwAARAQAAA==\"},\"shape\":[142],\"dtype\":\"uint32\",\"order\":\"little\"}]]}}},\"view\":{\"type\":\"object\",\"name\":\"CDSView\",\"id\":\"p1460\",\"attributes\":{\"filter\":{\"type\":\"object\",\"name\":\"AllIndices\",\"id\":\"p1461\"}}},\"glyph\":{\"type\":\"object\",\"name\":\"VBar\",\"id\":\"p1456\",\"attributes\":{\"tags\":[\"apply_ranges\"],\"x\":{\"type\":\"field\",\"field\":\"exdate\"},\"width\":{\"type\":\"value\",\"value\":0.8},\"bottom\":{\"type\":\"field\",\"field\":\"bottom\"},\"top\":{\"type\":\"field\",\"field\":\"top\"},\"fill_color\":{\"type\":\"field\",\"field\":\"cp_flag\",\"transform\":{\"type\":\"object\",\"name\":\"CategoricalColorMapper\",\"id\":\"p1449\",\"attributes\":{\"palette\":[\"#30a2da\",\"#fc4f30\"],\"factors\":[\"C\",\"P\"]}}},\"hatch_color\":{\"type\":\"field\",\"field\":\"cp_flag\",\"transform\":{\"id\":\"p1449\"}}}},\"selection_glyph\":{\"type\":\"object\",\"name\":\"VBar\",\"id\":\"p1464\",\"attributes\":{\"tags\":[\"apply_ranges\"],\"x\":{\"type\":\"field\",\"field\":\"exdate\"},\"width\":{\"type\":\"value\",\"value\":0.8},\"bottom\":{\"type\":\"field\",\"field\":\"bottom\"},\"top\":{\"type\":\"field\",\"field\":\"top\"},\"line_color\":{\"type\":\"value\",\"value\":\"black\"},\"line_alpha\":{\"type\":\"value\",\"value\":1.0},\"line_width\":{\"type\":\"value\",\"value\":1},\"line_join\":{\"type\":\"value\",\"value\":\"bevel\"},\"line_cap\":{\"type\":\"value\",\"value\":\"butt\"},\"line_dash\":{\"type\":\"value\",\"value\":[]},\"line_dash_offset\":{\"type\":\"value\",\"value\":0},\"fill_color\":{\"type\":\"field\",\"field\":\"cp_flag\",\"transform\":{\"id\":\"p1449\"}},\"fill_alpha\":{\"type\":\"value\",\"value\":1.0},\"hatch_color\":{\"type\":\"field\",\"field\":\"cp_flag\",\"transform\":{\"id\":\"p1449\"}},\"hatch_alpha\":{\"type\":\"value\",\"value\":1.0},\"hatch_scale\":{\"type\":\"value\",\"value\":12.0},\"hatch_pattern\":{\"type\":\"value\",\"value\":null},\"hatch_weight\":{\"type\":\"value\",\"value\":1.0}}},\"nonselection_glyph\":{\"type\":\"object\",\"name\":\"VBar\",\"id\":\"p1457\",\"attributes\":{\"tags\":[\"apply_ranges\"],\"x\":{\"type\":\"field\",\"field\":\"exdate\"},\"width\":{\"type\":\"value\",\"value\":0.8},\"bottom\":{\"type\":\"field\",\"field\":\"bottom\"},\"top\":{\"type\":\"field\",\"field\":\"top\"},\"line_alpha\":{\"type\":\"value\",\"value\":0.1},\"fill_color\":{\"type\":\"field\",\"field\":\"cp_flag\",\"transform\":{\"id\":\"p1449\"}},\"fill_alpha\":{\"type\":\"value\",\"value\":0.1},\"hatch_color\":{\"type\":\"field\",\"field\":\"cp_flag\",\"transform\":{\"id\":\"p1449\"}},\"hatch_alpha\":{\"type\":\"value\",\"value\":0.1}}},\"muted_glyph\":{\"type\":\"object\",\"name\":\"VBar\",\"id\":\"p1458\",\"attributes\":{\"tags\":[\"apply_ranges\"],\"x\":{\"type\":\"field\",\"field\":\"exdate\"},\"width\":{\"type\":\"value\",\"value\":0.8},\"bottom\":{\"type\":\"field\",\"field\":\"bottom\"},\"top\":{\"type\":\"field\",\"field\":\"top\"},\"line_alpha\":{\"type\":\"value\",\"value\":0.2},\"fill_color\":{\"type\":\"field\",\"field\":\"cp_flag\",\"transform\":{\"id\":\"p1449\"}},\"fill_alpha\":{\"type\":\"value\",\"value\":0.2},\"hatch_color\":{\"type\":\"field\",\"field\":\"cp_flag\",\"transform\":{\"id\":\"p1449\"}},\"hatch_alpha\":{\"type\":\"value\",\"value\":0.2}}}}}],\"toolbar\":{\"type\":\"object\",\"name\":\"Toolbar\",\"id\":\"p1427\",\"attributes\":{\"tools\":[{\"type\":\"object\",\"name\":\"WheelZoomTool\",\"id\":\"p1416\",\"attributes\":{\"tags\":[\"hv_created\"],\"renderers\":\"auto\",\"zoom_together\":\"none\"}},{\"type\":\"object\",\"name\":\"HoverTool\",\"id\":\"p1417\",\"attributes\":{\"tags\":[\"hv_created\"],\"renderers\":[{\"id\":\"p1459\"}],\"tooltips\":[[\"exdate\",\"@{exdate}\"],[\"cp_flag\",\"@{cp_flag}\"],[\"count\",\"@{count}\"]]}},{\"type\":\"object\",\"name\":\"SaveTool\",\"id\":\"p1440\"},{\"type\":\"object\",\"name\":\"PanTool\",\"id\":\"p1441\"},{\"type\":\"object\",\"name\":\"BoxZoomTool\",\"id\":\"p1442\",\"attributes\":{\"overlay\":{\"type\":\"object\",\"name\":\"BoxAnnotation\",\"id\":\"p1443\",\"attributes\":{\"syncable\":false,\"level\":\"overlay\",\"visible\":false,\"left\":{\"type\":\"number\",\"value\":\"nan\"},\"right\":{\"type\":\"number\",\"value\":\"nan\"},\"top\":{\"type\":\"number\",\"value\":\"nan\"},\"bottom\":{\"type\":\"number\",\"value\":\"nan\"},\"left_units\":\"canvas\",\"right_units\":\"canvas\",\"top_units\":\"canvas\",\"bottom_units\":\"canvas\",\"line_color\":\"black\",\"line_alpha\":1.0,\"line_width\":2,\"line_dash\":[4,4],\"fill_color\":\"lightgrey\",\"fill_alpha\":0.5}}}},{\"type\":\"object\",\"name\":\"ResetTool\",\"id\":\"p1448\"}],\"active_drag\":{\"id\":\"p1441\"},\"active_scroll\":{\"id\":\"p1416\"}}},\"left\":[{\"type\":\"object\",\"name\":\"LinearAxis\",\"id\":\"p1435\",\"attributes\":{\"ticker\":{\"type\":\"object\",\"name\":\"BasicTicker\",\"id\":\"p1436\",\"attributes\":{\"mantissas\":[1,2,5]}},\"formatter\":{\"type\":\"object\",\"name\":\"BasicTickFormatter\",\"id\":\"p1437\"},\"axis_label\":\"count\",\"major_label_policy\":{\"type\":\"object\",\"name\":\"AllLabels\",\"id\":\"p1438\"}}}],\"right\":[{\"type\":\"object\",\"name\":\"Legend\",\"id\":\"p1462\",\"attributes\":{\"location\":[0,0],\"items\":[{\"type\":\"object\",\"name\":\"LegendItem\",\"id\":\"p1463\",\"attributes\":{\"label\":{\"type\":\"field\",\"field\":\"cp_flag\"},\"renderers\":[{\"id\":\"p1459\"}]}}]}}],\"below\":[{\"type\":\"object\",\"name\":\"CategoricalAxis\",\"id\":\"p1430\",\"attributes\":{\"ticker\":{\"type\":\"object\",\"name\":\"CategoricalTicker\",\"id\":\"p1431\"},\"formatter\":{\"type\":\"object\",\"name\":\"CategoricalTickFormatter\",\"id\":\"p1432\"},\"axis_label\":\"exdate\",\"major_label_policy\":{\"type\":\"object\",\"name\":\"AllLabels\",\"id\":\"p1433\"}}}],\"center\":[{\"type\":\"object\",\"name\":\"Grid\",\"id\":\"p1434\",\"attributes\":{\"axis\":{\"id\":\"p1430\"},\"grid_line_color\":null}},{\"type\":\"object\",\"name\":\"Grid\",\"id\":\"p1439\",\"attributes\":{\"dimension\":1,\"axis\":{\"id\":\"p1435\"},\"grid_line_color\":null}},{\"id\":\"p1462\"}],\"min_border_top\":10,\"min_border_bottom\":10,\"min_border_left\":10,\"min_border_right\":10,\"output_backend\":\"webgl\"}},{\"type\":\"object\",\"name\":\"Spacer\",\"id\":\"p1466\",\"attributes\":{\"name\":\"HSpacer02436\",\"stylesheets\":[\"\\n:host(.pn-loading.pn-arc):before, .pn-loading.pn-arc:before {\\n  background-image: url(\\\"data:image/svg+xml;base64,PHN2ZyB4bWxucz0iaHR0cDovL3d3dy53My5vcmcvMjAwMC9zdmciIHN0eWxlPSJtYXJnaW46IGF1dG87IGJhY2tncm91bmQ6IG5vbmU7IGRpc3BsYXk6IGJsb2NrOyBzaGFwZS1yZW5kZXJpbmc6IGF1dG87IiB2aWV3Qm94PSIwIDAgMTAwIDEwMCIgcHJlc2VydmVBc3BlY3RSYXRpbz0ieE1pZFlNaWQiPiAgPGNpcmNsZSBjeD0iNTAiIGN5PSI1MCIgZmlsbD0ibm9uZSIgc3Ryb2tlPSIjYzNjM2MzIiBzdHJva2Utd2lkdGg9IjEwIiByPSIzNSIgc3Ryb2tlLWRhc2hhcnJheT0iMTY0LjkzMzYxNDMxMzQ2NDE1IDU2Ljk3Nzg3MTQzNzgyMTM4Ij4gICAgPGFuaW1hdGVUcmFuc2Zvcm0gYXR0cmlidXRlTmFtZT0idHJhbnNmb3JtIiB0eXBlPSJyb3RhdGUiIHJlcGVhdENvdW50PSJpbmRlZmluaXRlIiBkdXI9IjFzIiB2YWx1ZXM9IjAgNTAgNTA7MzYwIDUwIDUwIiBrZXlUaW1lcz0iMDsxIj48L2FuaW1hdGVUcmFuc2Zvcm0+ICA8L2NpcmNsZT48L3N2Zz4=\\\");\\n  background-size: auto calc(min(50%, 400px));\\n}\",{\"id\":\"p1409\"},{\"id\":\"p1407\"},{\"id\":\"p1408\"}],\"margin\":0,\"sizing_mode\":\"stretch_width\",\"align\":\"start\"}}]}}],\"defs\":[{\"type\":\"model\",\"name\":\"ReactiveHTML1\"},{\"type\":\"model\",\"name\":\"FlexBox1\",\"properties\":[{\"name\":\"align_content\",\"kind\":\"Any\",\"default\":\"flex-start\"},{\"name\":\"align_items\",\"kind\":\"Any\",\"default\":\"flex-start\"},{\"name\":\"flex_direction\",\"kind\":\"Any\",\"default\":\"row\"},{\"name\":\"flex_wrap\",\"kind\":\"Any\",\"default\":\"wrap\"},{\"name\":\"justify_content\",\"kind\":\"Any\",\"default\":\"flex-start\"}]},{\"type\":\"model\",\"name\":\"FloatPanel1\",\"properties\":[{\"name\":\"config\",\"kind\":\"Any\",\"default\":{\"type\":\"map\"}},{\"name\":\"contained\",\"kind\":\"Any\",\"default\":true},{\"name\":\"position\",\"kind\":\"Any\",\"default\":\"right-top\"},{\"name\":\"offsetx\",\"kind\":\"Any\",\"default\":null},{\"name\":\"offsety\",\"kind\":\"Any\",\"default\":null},{\"name\":\"theme\",\"kind\":\"Any\",\"default\":\"primary\"},{\"name\":\"status\",\"kind\":\"Any\",\"default\":\"normalized\"}]},{\"type\":\"model\",\"name\":\"GridStack1\",\"properties\":[{\"name\":\"mode\",\"kind\":\"Any\",\"default\":\"warn\"},{\"name\":\"ncols\",\"kind\":\"Any\",\"default\":null},{\"name\":\"nrows\",\"kind\":\"Any\",\"default\":null},{\"name\":\"allow_resize\",\"kind\":\"Any\",\"default\":true},{\"name\":\"allow_drag\",\"kind\":\"Any\",\"default\":true},{\"name\":\"state\",\"kind\":\"Any\",\"default\":[]}]},{\"type\":\"model\",\"name\":\"drag1\",\"properties\":[{\"name\":\"slider_width\",\"kind\":\"Any\",\"default\":5},{\"name\":\"slider_color\",\"kind\":\"Any\",\"default\":\"black\"},{\"name\":\"value\",\"kind\":\"Any\",\"default\":50}]},{\"type\":\"model\",\"name\":\"click1\",\"properties\":[{\"name\":\"terminal_output\",\"kind\":\"Any\",\"default\":\"\"},{\"name\":\"debug_name\",\"kind\":\"Any\",\"default\":\"\"},{\"name\":\"clears\",\"kind\":\"Any\",\"default\":0}]},{\"type\":\"model\",\"name\":\"copy_to_clipboard1\",\"properties\":[{\"name\":\"fill\",\"kind\":\"Any\",\"default\":\"none\"},{\"name\":\"value\",\"kind\":\"Any\",\"default\":null}]},{\"type\":\"model\",\"name\":\"FastWrapper1\",\"properties\":[{\"name\":\"object\",\"kind\":\"Any\",\"default\":null},{\"name\":\"style\",\"kind\":\"Any\",\"default\":null}]},{\"type\":\"model\",\"name\":\"NotificationAreaBase1\",\"properties\":[{\"name\":\"js_events\",\"kind\":\"Any\",\"default\":{\"type\":\"map\"}},{\"name\":\"position\",\"kind\":\"Any\",\"default\":\"bottom-right\"},{\"name\":\"_clear\",\"kind\":\"Any\",\"default\":0}]},{\"type\":\"model\",\"name\":\"NotificationArea1\",\"properties\":[{\"name\":\"js_events\",\"kind\":\"Any\",\"default\":{\"type\":\"map\"}},{\"name\":\"notifications\",\"kind\":\"Any\",\"default\":[]},{\"name\":\"position\",\"kind\":\"Any\",\"default\":\"bottom-right\"},{\"name\":\"_clear\",\"kind\":\"Any\",\"default\":0},{\"name\":\"types\",\"kind\":\"Any\",\"default\":[{\"type\":\"map\",\"entries\":[[\"type\",\"warning\"],[\"background\",\"#ffc107\"],[\"icon\",{\"type\":\"map\",\"entries\":[[\"className\",\"fas fa-exclamation-triangle\"],[\"tagName\",\"i\"],[\"color\",\"white\"]]}]]},{\"type\":\"map\",\"entries\":[[\"type\",\"info\"],[\"background\",\"#007bff\"],[\"icon\",{\"type\":\"map\",\"entries\":[[\"className\",\"fas fa-info-circle\"],[\"tagName\",\"i\"],[\"color\",\"white\"]]}]]}]}]},{\"type\":\"model\",\"name\":\"Notification\",\"properties\":[{\"name\":\"background\",\"kind\":\"Any\",\"default\":null},{\"name\":\"duration\",\"kind\":\"Any\",\"default\":3000},{\"name\":\"icon\",\"kind\":\"Any\",\"default\":null},{\"name\":\"message\",\"kind\":\"Any\",\"default\":\"\"},{\"name\":\"notification_type\",\"kind\":\"Any\",\"default\":null},{\"name\":\"_destroyed\",\"kind\":\"Any\",\"default\":false}]},{\"type\":\"model\",\"name\":\"TemplateActions1\",\"properties\":[{\"name\":\"open_modal\",\"kind\":\"Any\",\"default\":0},{\"name\":\"close_modal\",\"kind\":\"Any\",\"default\":0}]},{\"type\":\"model\",\"name\":\"BootstrapTemplateActions1\",\"properties\":[{\"name\":\"open_modal\",\"kind\":\"Any\",\"default\":0},{\"name\":\"close_modal\",\"kind\":\"Any\",\"default\":0}]},{\"type\":\"model\",\"name\":\"MaterialTemplateActions1\",\"properties\":[{\"name\":\"open_modal\",\"kind\":\"Any\",\"default\":0},{\"name\":\"close_modal\",\"kind\":\"Any\",\"default\":0}]}]}};\n",
       "  var render_items = [{\"docid\":\"7119d1fa-700a-4c5c-b0c6-712bf943adbc\",\"roots\":{\"p1406\":\"a12b46d4-ed98-45fd-b6ff-385d80ecd4d7\"},\"root_ids\":[\"p1406\"]}];\n",
       "  var docs = Object.values(docs_json)\n",
       "  if (!docs) {\n",
       "    return\n",
       "  }\n",
       "  const py_version = docs[0].version.replace('rc', '-rc.').replace('.dev', '-dev.')\n",
       "  function embed_document(root) {\n",
       "    var Bokeh = get_bokeh(root)\n",
       "    Bokeh.embed.embed_items_notebook(docs_json, render_items);\n",
       "    for (const render_item of render_items) {\n",
       "      for (const root_id of render_item.root_ids) {\n",
       "\tconst id_el = document.getElementById(root_id)\n",
       "\tif (id_el.children.length && (id_el.children[0].className === 'bk-root')) {\n",
       "\t  const root_el = id_el.children[0]\n",
       "\t  root_el.id = root_el.id + '-rendered'\n",
       "\t}\n",
       "      }\n",
       "    }\n",
       "  }\n",
       "  function get_bokeh(root) {\n",
       "    if (root.Bokeh === undefined) {\n",
       "      return null\n",
       "    } else if (root.Bokeh.version !== py_version) {\n",
       "      if (root.Bokeh.versions === undefined || !root.Bokeh.versions.has(py_version)) {\n",
       "\treturn null\n",
       "      }\n",
       "      return root.Bokeh.versions.get(py_version);\n",
       "    } else if (root.Bokeh.version === py_version) {\n",
       "      return root.Bokeh\n",
       "    }\n",
       "    return null\n",
       "  }\n",
       "  function is_loaded(root) {\n",
       "    var Bokeh = get_bokeh(root)\n",
       "    return (Bokeh != null && Bokeh.Panel !== undefined)\n",
       "  }\n",
       "  if (is_loaded(root)) {\n",
       "    embed_document(root);\n",
       "  } else {\n",
       "    var attempts = 0;\n",
       "    var timer = setInterval(function(root) {\n",
       "      if (is_loaded(root)) {\n",
       "        clearInterval(timer);\n",
       "        embed_document(root);\n",
       "      } else if (document.readyState == \"complete\") {\n",
       "        attempts++;\n",
       "        if (attempts > 200) {\n",
       "          clearInterval(timer);\n",
       "\t  var Bokeh = get_bokeh(root)\n",
       "\t  if (Bokeh == null || Bokeh.Panel == null) {\n",
       "            console.warn(\"Panel: ERROR: Unable to run Panel code because Bokeh or Panel library is missing\");\n",
       "\t  } else {\n",
       "\t    console.warn(\"Panel: WARNING: Attempting to render but not all required libraries could be resolved.\")\n",
       "\t    embed_document(root)\n",
       "\t  }\n",
       "        }\n",
       "      }\n",
       "    }, 25, root)\n",
       "  }\n",
       "})(window);</script>"
      ],
      "text/plain": [
       ":Bars   [exdate,cp_flag]   (count)"
      ]
     },
     "execution_count": 171,
     "metadata": {
      "application/vnd.holoviews_exec.v0+json": {
       "id": "p1406"
      }
     },
     "output_type": "execute_result"
    }
   ],
   "source": [
    "import matplotlib.pyplot as plot\n",
    "import hvplot.pandas\n",
    "%matplotlib inline\n",
    "color_dict = {'P': 'red', 'C': 'green'}\n",
    "# daily_amount_contracts.plot.bar(x='date', y='count', by='cp_flag', stacked = True)\n",
    "exdate_amount_contract.plot.bar(x='exdate', y='count', by='cp_flag', stacked = True)"
   ]
  },
  {
   "cell_type": "code",
   "execution_count": 143,
   "metadata": {},
   "outputs": [],
   "source": [
    "# daily_amount_contracts.drop(\"cp_flag\")\n",
    "daily_amount_contracts_call = daily_amount_contracts.filter(pl.col(\"cp_flag\") == \"C\")\n",
    "daily_amount_contracts_put = daily_amount_contracts.filter(pl.col(\"cp_flag\") == \"P\")"
   ]
  },
  {
   "cell_type": "code",
   "execution_count": 144,
   "metadata": {},
   "outputs": [
    {
     "data": {
      "text/plain": [
       "(21, 3)"
      ]
     },
     "execution_count": 144,
     "metadata": {},
     "output_type": "execute_result"
    }
   ],
   "source": [
    "daily_amount_contracts_put.shape"
   ]
  },
  {
   "cell_type": "markdown",
   "metadata": {},
   "source": [
    "# Monthly count of puts and calls"
   ]
  },
  {
   "cell_type": "code",
   "execution_count": 145,
   "metadata": {},
   "outputs": [
    {
     "data": {
      "image/png": "[encoded data removed]",
      "text/plain": [
       "<Figure size 640x480 with 1 Axes>"
      ]
     },
     "metadata": {},
     "output_type": "display_data"
    }
   ],
   "source": [
    "import matplotlib.pyplot as plt\n",
    "from matplotlib.dates import YearLocator, DateFormatter\n",
    "import matplotlib.dates as mdates\n",
    "\n",
    "dataseries_call = (daily_amount_contracts_call.sort(pl.col(\"date\")).group_by_dynamic(\"date\",  every = \"1mo\").agg(pl.col(\"count\").sum()))\n",
    "dataseries_put = (daily_amount_contracts_put.sort(pl.col(\"date\")).group_by_dynamic(\"date\",  every = \"1mo\").agg(pl.col(\"count\").sum()))\n",
    "\n",
    "# Reset index to make 'date' a column again for plotting\n",
    "dataseries_call = dataseries_call.to_pandas().reset_index()\n",
    "dataseries_put = dataseries_put.to_pandas().reset_index()\n",
    "\n",
    "# Create a figure and a set of subplots\n",
    "fig, ax = plt.subplots()\n",
    "width = 20\n",
    "\n",
    "# Plot the 'count' from dataseries_call\n",
    "ax.bar(dataseries_call['date'], dataseries_call['count'], label='Call', width =width, color = \"green\")\n",
    "\n",
    "# Plot the 'count' from dataseries_put\n",
    "ax.bar(dataseries_put['date'], dataseries_put['count'], bottom=dataseries_call['count'], label='Put', width = width, color = \"red\")\n",
    "\n",
    "# Add labels and title\n",
    "ax.set_xlabel('Date')\n",
    "ax.set_ylabel('Count')\n",
    "ax.set_title('Monthly Count of Call and Put Contracts')\n",
    "\n",
    "# Add a legend\n",
    "ax.legend()\n",
    "\n",
    "# Show the plot\n",
    "plt.tight_layout()\n",
    "plt.xticks(rotation=45)\n",
    "plt.show()"
   ]
  },
  {
   "cell_type": "code",
   "execution_count": null,
   "metadata": {},
   "outputs": [],
   "source": []
  }
 ],
 "metadata": {
  "kernelspec": {
   "display_name": "Python 3",
   "language": "python",
   "name": "python3"
  },
  "language_info": {
   "codemirror_mode": {
    "name": "ipython",
    "version": 3
   },
   "file_extension": ".py",
   "mimetype": "text/x-python",
   "name": "python",
   "nbconvert_exporter": "python",
   "pygments_lexer": "ipython3",
   "version": "3.11.9"
  }
 },
 "nbformat": 4,
 "nbformat_minor": 2
}
